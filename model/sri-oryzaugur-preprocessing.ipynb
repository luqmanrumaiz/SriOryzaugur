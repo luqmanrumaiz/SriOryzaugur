{
 "metadata": {
  "kernelspec": {
   "language": "python",
   "display_name": "Python 3",
   "name": "python3"
  },
  "language_info": {
   "name": "python",
   "version": "3.7.12",
   "mimetype": "text/x-python",
   "codemirror_mode": {
    "name": "ipython",
    "version": 3
   },
   "pygments_lexer": "ipython3",
   "nbconvert_exporter": "python",
   "file_extension": ".py"
  }
 },
 "nbformat_minor": 4,
 "nbformat": 4,
 "cells": [
  {
   "cell_type": "markdown",
   "source": [
    "### <h1> <center><strong>Data Preprocessing Sri Oryzaugur</strong></center> </h1>\n",
    "<p><center style=\"color:#8B8000; font-family: Calibri;\"><b>Mohammed Luqman Farhat Rumaiz - 2018130 - w1761767</b></center></p>\n",
    "\n",
    "---"
   ],
   "metadata": {}
  },
  {
   "cell_type": "markdown",
   "source": [
    "# **Importing Packages**"
   ],
   "metadata": {}
  },
  {
   "cell_type": "code",
   "source": [
    "from datetime import datetime\n",
    "import numpy as np\n",
    "import pandas as pd\n",
    "import matplotlib.pyplot as plt\n",
    "%matplotlib inline\n",
    "import seaborn as sns\n",
    "import plotly.express as px\n",
    "import warnings; \n",
    "warnings.simplefilter('ignore')"
   ],
   "metadata": {
    "execution": {
     "iopub.status.busy": "2023-02-22T15:01:03.845172Z",
     "iopub.execute_input": "2023-02-22T15:01:03.845612Z",
     "iopub.status.idle": "2023-02-22T15:01:03.855442Z",
     "shell.execute_reply.started": "2023-02-22T15:01:03.845579Z",
     "shell.execute_reply": "2023-02-22T15:01:03.854096Z"
    },
    "trusted": true
   },
   "execution_count": 206,
   "outputs": []
  },
  {
   "cell_type": "markdown",
   "source": [
    "# **Data Wrangling**"
   ],
   "metadata": {}
  },
  {
   "cell_type": "markdown",
   "source": [
    "## Nadu Retail Prices\n",
    "\n",
    "This is the main variable in the historial data that we have, the other datasets will be external regressors in our multivariate models. This data ranges from 1996-2022 in a monthly frequency "
   ],
   "metadata": {}
  },
  {
   "cell_type": "code",
   "source": [
    "df = pd.read_csv('dataset/unprocessed/nadu_retail.csv')\n",
    "\n",
    "df.head()"
   ],
   "metadata": {
    "execution": {
     "iopub.status.busy": "2023-02-22T15:01:03.857626Z",
     "iopub.execute_input": "2023-02-22T15:01:03.858098Z",
     "iopub.status.idle": "2023-02-22T15:01:03.897471Z",
     "shell.execute_reply.started": "2023-02-22T15:01:03.858051Z",
     "shell.execute_reply": "2023-02-22T15:01:03.896351Z"
    },
    "trusted": true
   },
   "execution_count": 207,
   "outputs": [
    {
     "data": {
      "text/plain": "   Year    Jan    Feb    Mar    Apr    May    Jun    Jul    Aug    Sep    Oct  \\\n0  1996  18.07  18.70  18.49  18.52  19.02  20.57  21.90  22.34  23.43  22.17   \n1  1997  22.27  20.24  18.71  19.21  20.65  20.50  20.94  21.92  23.23  24.08   \n2  1998  28.75  31.47  29.06  28.24  28.17  27.54  27.32  26.81  26.41  26.75   \n3  1999  28.75  31.47  29.06  28.24  28.17  27.54  27.32  26.81  26.41  26.75   \n4  2000  26.94  25.00  23.09  22.13  21.71  21.20  20.61  21.68  22.56  22.18   \n\n     Nov    Dec  \n0  22.89  22.95  \n1  26.33  26.55  \n2  26.71  27.36  \n3  26.71  27.36  \n4  24.16  25.36  ",
      "text/html": "<div>\n<style scoped>\n    .dataframe tbody tr th:only-of-type {\n        vertical-align: middle;\n    }\n\n    .dataframe tbody tr th {\n        vertical-align: top;\n    }\n\n    .dataframe thead th {\n        text-align: right;\n    }\n</style>\n<table border=\"1\" class=\"dataframe\">\n  <thead>\n    <tr style=\"text-align: right;\">\n      <th></th>\n      <th>Year</th>\n      <th>Jan</th>\n      <th>Feb</th>\n      <th>Mar</th>\n      <th>Apr</th>\n      <th>May</th>\n      <th>Jun</th>\n      <th>Jul</th>\n      <th>Aug</th>\n      <th>Sep</th>\n      <th>Oct</th>\n      <th>Nov</th>\n      <th>Dec</th>\n    </tr>\n  </thead>\n  <tbody>\n    <tr>\n      <th>0</th>\n      <td>1996</td>\n      <td>18.07</td>\n      <td>18.70</td>\n      <td>18.49</td>\n      <td>18.52</td>\n      <td>19.02</td>\n      <td>20.57</td>\n      <td>21.90</td>\n      <td>22.34</td>\n      <td>23.43</td>\n      <td>22.17</td>\n      <td>22.89</td>\n      <td>22.95</td>\n    </tr>\n    <tr>\n      <th>1</th>\n      <td>1997</td>\n      <td>22.27</td>\n      <td>20.24</td>\n      <td>18.71</td>\n      <td>19.21</td>\n      <td>20.65</td>\n      <td>20.50</td>\n      <td>20.94</td>\n      <td>21.92</td>\n      <td>23.23</td>\n      <td>24.08</td>\n      <td>26.33</td>\n      <td>26.55</td>\n    </tr>\n    <tr>\n      <th>2</th>\n      <td>1998</td>\n      <td>28.75</td>\n      <td>31.47</td>\n      <td>29.06</td>\n      <td>28.24</td>\n      <td>28.17</td>\n      <td>27.54</td>\n      <td>27.32</td>\n      <td>26.81</td>\n      <td>26.41</td>\n      <td>26.75</td>\n      <td>26.71</td>\n      <td>27.36</td>\n    </tr>\n    <tr>\n      <th>3</th>\n      <td>1999</td>\n      <td>28.75</td>\n      <td>31.47</td>\n      <td>29.06</td>\n      <td>28.24</td>\n      <td>28.17</td>\n      <td>27.54</td>\n      <td>27.32</td>\n      <td>26.81</td>\n      <td>26.41</td>\n      <td>26.75</td>\n      <td>26.71</td>\n      <td>27.36</td>\n    </tr>\n    <tr>\n      <th>4</th>\n      <td>2000</td>\n      <td>26.94</td>\n      <td>25.00</td>\n      <td>23.09</td>\n      <td>22.13</td>\n      <td>21.71</td>\n      <td>21.20</td>\n      <td>20.61</td>\n      <td>21.68</td>\n      <td>22.56</td>\n      <td>22.18</td>\n      <td>24.16</td>\n      <td>25.36</td>\n    </tr>\n  </tbody>\n</table>\n</div>"
     },
     "execution_count": 207,
     "metadata": {},
     "output_type": "execute_result"
    }
   ]
  },
  {
   "cell_type": "code",
   "source": [
    "months = df.columns.tolist()\n",
    "months = months[1:]\n",
    "\n",
    "df = pd.melt(df, id_vars=['Year'], value_vars=months, var_name=\"Month\", value_name='Price')\n",
    "df"
   ],
   "metadata": {
    "execution": {
     "iopub.status.busy": "2023-02-22T15:01:03.899362Z",
     "iopub.execute_input": "2023-02-22T15:01:03.899722Z",
     "iopub.status.idle": "2023-02-22T15:01:03.924044Z",
     "shell.execute_reply.started": "2023-02-22T15:01:03.899689Z",
     "shell.execute_reply": "2023-02-22T15:01:03.923122Z"
    },
    "trusted": true
   },
   "execution_count": 208,
   "outputs": [
    {
     "data": {
      "text/plain": "     Year Month   Price\n0    1996   Jan   18.07\n1    1997   Jan   22.27\n2    1998   Jan   28.75\n3    1999   Jan   28.75\n4    2000   Jan   26.94\n..    ...   ...     ...\n319  2018   Dec   89.90\n320  2019   Dec  103.29\n321  2020   Dec     NaN\n322  2021   Dec  138.50\n323  2022   Dec     NaN\n\n[324 rows x 3 columns]",
      "text/html": "<div>\n<style scoped>\n    .dataframe tbody tr th:only-of-type {\n        vertical-align: middle;\n    }\n\n    .dataframe tbody tr th {\n        vertical-align: top;\n    }\n\n    .dataframe thead th {\n        text-align: right;\n    }\n</style>\n<table border=\"1\" class=\"dataframe\">\n  <thead>\n    <tr style=\"text-align: right;\">\n      <th></th>\n      <th>Year</th>\n      <th>Month</th>\n      <th>Price</th>\n    </tr>\n  </thead>\n  <tbody>\n    <tr>\n      <th>0</th>\n      <td>1996</td>\n      <td>Jan</td>\n      <td>18.07</td>\n    </tr>\n    <tr>\n      <th>1</th>\n      <td>1997</td>\n      <td>Jan</td>\n      <td>22.27</td>\n    </tr>\n    <tr>\n      <th>2</th>\n      <td>1998</td>\n      <td>Jan</td>\n      <td>28.75</td>\n    </tr>\n    <tr>\n      <th>3</th>\n      <td>1999</td>\n      <td>Jan</td>\n      <td>28.75</td>\n    </tr>\n    <tr>\n      <th>4</th>\n      <td>2000</td>\n      <td>Jan</td>\n      <td>26.94</td>\n    </tr>\n    <tr>\n      <th>...</th>\n      <td>...</td>\n      <td>...</td>\n      <td>...</td>\n    </tr>\n    <tr>\n      <th>319</th>\n      <td>2018</td>\n      <td>Dec</td>\n      <td>89.90</td>\n    </tr>\n    <tr>\n      <th>320</th>\n      <td>2019</td>\n      <td>Dec</td>\n      <td>103.29</td>\n    </tr>\n    <tr>\n      <th>321</th>\n      <td>2020</td>\n      <td>Dec</td>\n      <td>NaN</td>\n    </tr>\n    <tr>\n      <th>322</th>\n      <td>2021</td>\n      <td>Dec</td>\n      <td>138.50</td>\n    </tr>\n    <tr>\n      <th>323</th>\n      <td>2022</td>\n      <td>Dec</td>\n      <td>NaN</td>\n    </tr>\n  </tbody>\n</table>\n<p>324 rows × 3 columns</p>\n</div>"
     },
     "execution_count": 208,
     "metadata": {},
     "output_type": "execute_result"
    }
   ]
  },
  {
   "cell_type": "code",
   "source": [
    "df['Date'] = pd.to_datetime(df['Year'].astype(str) + '-' + df['Month'].astype(str))\n",
    "df['Date'] = pd.to_datetime(df['Date'])\n",
    "\n",
    "df.drop(['Year','Month'], axis=1, inplace=True)\n",
    "df = df.sort_values(by='Date').reset_index(drop=True)\n",
    "df = df.reindex(columns=['Date', 'Price'])\n",
    "\n",
    "df.head()"
   ],
   "metadata": {
    "execution": {
     "iopub.status.busy": "2023-02-22T15:01:03.925500Z",
     "iopub.execute_input": "2023-02-22T15:01:03.925847Z",
     "iopub.status.idle": "2023-02-22T15:01:03.974341Z",
     "shell.execute_reply.started": "2023-02-22T15:01:03.925816Z",
     "shell.execute_reply": "2023-02-22T15:01:03.973107Z"
    },
    "trusted": true
   },
   "execution_count": 209,
   "outputs": [
    {
     "data": {
      "text/plain": "        Date  Price\n0 1996-01-01  18.07\n1 1996-02-01  18.70\n2 1996-03-01  18.49\n3 1996-04-01  18.52\n4 1996-05-01  19.02",
      "text/html": "<div>\n<style scoped>\n    .dataframe tbody tr th:only-of-type {\n        vertical-align: middle;\n    }\n\n    .dataframe tbody tr th {\n        vertical-align: top;\n    }\n\n    .dataframe thead th {\n        text-align: right;\n    }\n</style>\n<table border=\"1\" class=\"dataframe\">\n  <thead>\n    <tr style=\"text-align: right;\">\n      <th></th>\n      <th>Date</th>\n      <th>Price</th>\n    </tr>\n  </thead>\n  <tbody>\n    <tr>\n      <th>0</th>\n      <td>1996-01-01</td>\n      <td>18.07</td>\n    </tr>\n    <tr>\n      <th>1</th>\n      <td>1996-02-01</td>\n      <td>18.70</td>\n    </tr>\n    <tr>\n      <th>2</th>\n      <td>1996-03-01</td>\n      <td>18.49</td>\n    </tr>\n    <tr>\n      <th>3</th>\n      <td>1996-04-01</td>\n      <td>18.52</td>\n    </tr>\n    <tr>\n      <th>4</th>\n      <td>1996-05-01</td>\n      <td>19.02</td>\n    </tr>\n  </tbody>\n</table>\n</div>"
     },
     "execution_count": 209,
     "metadata": {},
     "output_type": "execute_result"
    }
   ]
  },
  {
   "cell_type": "code",
   "source": [
    "# # edit the value at index '2022-11-01' in the 'Price' column\n",
    "# df.loc[df['Date'] == '2022-11-01', 'Price'] = 220.00\n",
    "# df.loc[df['Date'] == '2022-12-01', 'Price'] = 216.50\n",
    "\n",
    "# # display the updated dataframe\n",
    "# df.tail()"
   ],
   "metadata": {
    "execution": {
     "iopub.status.busy": "2023-02-22T15:01:03.976714Z",
     "iopub.execute_input": "2023-02-22T15:01:03.977064Z",
     "iopub.status.idle": "2023-02-22T15:01:03.981863Z",
     "shell.execute_reply.started": "2023-02-22T15:01:03.977034Z",
     "shell.execute_reply": "2023-02-22T15:01:03.980586Z"
    },
    "trusted": true
   },
   "execution_count": 210,
   "outputs": []
  },
  {
   "cell_type": "markdown",
   "source": [
    "## Paddy Producer Prices\n",
    "\n",
    "**We will be taking paddy farmgate prices from 03 of the highest paddy surplus districts in Sri Lanka**\n",
    "\n",
    "*Data from Ampara exists, however there are several years of datapoints that are missing. Therefore it will not be used.*"
   ],
   "metadata": {},
   "attachments": {
    "032d6e06-6c44-4aa7-a949-3824f2985b5b.png": {
     "image/png": "[encoded data removed]"
    }
   }
  },
  {
   "cell_type": "code",
   "source": [
    "anuradhapura_producer_prices = pd.read_csv('dataset/unprocessed/anuradhapura_farm_gate.csv')\n",
    "anuradhapura_producer_prices.head(anuradhapura_producer_prices.shape[0])"
   ],
   "metadata": {
    "execution": {
     "iopub.status.busy": "2023-02-22T15:01:03.983131Z",
     "iopub.execute_input": "2023-02-22T15:01:03.983547Z",
     "iopub.status.idle": "2023-02-22T15:01:04.037109Z",
     "shell.execute_reply.started": "2023-02-22T15:01:03.983517Z",
     "shell.execute_reply": "2023-02-22T15:01:04.035717Z"
    },
    "trusted": true
   },
   "execution_count": 211,
   "outputs": [
    {
     "data": {
      "text/plain": "   Unnamed: 0   1996   1997   1998   1999   2000   2001   2002   2003   2004  \\\n0     January   7.75   9.92  10.25  12.52  12.13  12.25  15.55  13.63  15.54   \n1    February   8.17   9.28   8.12  11.81   9.24  12.60  14.56  11.50  15.44   \n2       March   7.95   8.48   8.41  10.37   8.35  10.81  13.56  11.55  14.23   \n3       April   8.25   8.92   8.43  11.80   8.52  10.10  13.08  11.08  14.63   \n4         May   8.38   9.27   8.78  12.07   8.68  10.31  13.25  11.35  14.75   \n5        June   9.75   8.93   9.01  12.21   8.39  10.83  13.28  12.58  14.94   \n6        July  10.85   9.50   9.10  12.35   8.22  11.76  12.60  11.50  16.63   \n7      August  11.37  10.48   8.87  11.84   9.00  12.36  12.75  10.79  17.48   \n8   September  11.34  11.27   8.46  12.03   9.66  12.06  11.85  11.38  17.94   \n9     October  10.71  12.15   9.09  11.84   9.74  12.54  12.91  11.88  17.00   \n10   November  11.48  12.92  10.12  10.98  11.43  13.50  13.58  13.75    NaN   \n11   December  10.88  11.30  10.93  12.49  12.56  13.78  14.35  15.00    NaN   \n12    AVERAGE   9.74  10.20   9.13  11.86   9.66  11.91  13.44  12.16  15.86   \n\n    ...   2013   2014   2015   2016   2017   2018   2019   2020   2021    2022  \n0   ...  33.25  35.38  42.75  34.05  51.24  39.90  39.03  45.77    NaN   85.72  \n1   ...  28.40  33.63  32.88  26.25  43.99  38.13  32.86  42.19    NaN   86.65  \n2   ...  25.50  33.60  34.70  26.95  41.51  40.31  35.25  44.15    NaN  100.15  \n3   ...  24.50  37.25  33.56  32.15  45.62  40.32  40.09    NaN  54.00  110.70  \n4   ...  28.19  37.50  31.50  33.84  49.28  41.01  41.71    NaN  55.90  111.72  \n5   ...  28.50  39.30  31.13  33.35  50.25  37.80  40.24    NaN  57.00  131.55  \n6   ...  26.10  39.75  25.61  31.63  50.36  36.60  42.46  48.50  51.24  124.15  \n7   ...  25.42  40.50  28.59  32.04  50.61  37.60  43.58  46.46  50.90  112.60  \n8   ...  26.37  40.18  30.05  32.70  50.87  37.94  45.50    NaN  56.00  110.50  \n9   ...  29.42  42.00  32.35  38.80  51.77  41.54  49.98    NaN  65.55     NaN  \n10  ...  30.92  43.75  35.30  43.15  53.00  43.51  52.11    NaN  71.76     NaN  \n11  ...  33.33  45.50  35.00  47.45  54.00  43.84  54.57    NaN  72.00     NaN  \n12  ...  28.32  39.03  32.79  34.36  49.37  39.88  43.11  45.41  59.37  108.19  \n\n[13 rows x 28 columns]",
      "text/html": "<div>\n<style scoped>\n    .dataframe tbody tr th:only-of-type {\n        vertical-align: middle;\n    }\n\n    .dataframe tbody tr th {\n        vertical-align: top;\n    }\n\n    .dataframe thead th {\n        text-align: right;\n    }\n</style>\n<table border=\"1\" class=\"dataframe\">\n  <thead>\n    <tr style=\"text-align: right;\">\n      <th></th>\n      <th>Unnamed: 0</th>\n      <th>1996</th>\n      <th>1997</th>\n      <th>1998</th>\n      <th>1999</th>\n      <th>2000</th>\n      <th>2001</th>\n      <th>2002</th>\n      <th>2003</th>\n      <th>2004</th>\n      <th>...</th>\n      <th>2013</th>\n      <th>2014</th>\n      <th>2015</th>\n      <th>2016</th>\n      <th>2017</th>\n      <th>2018</th>\n      <th>2019</th>\n      <th>2020</th>\n      <th>2021</th>\n      <th>2022</th>\n    </tr>\n  </thead>\n  <tbody>\n    <tr>\n      <th>0</th>\n      <td>January</td>\n      <td>7.75</td>\n      <td>9.92</td>\n      <td>10.25</td>\n      <td>12.52</td>\n      <td>12.13</td>\n      <td>12.25</td>\n      <td>15.55</td>\n      <td>13.63</td>\n      <td>15.54</td>\n      <td>...</td>\n      <td>33.25</td>\n      <td>35.38</td>\n      <td>42.75</td>\n      <td>34.05</td>\n      <td>51.24</td>\n      <td>39.90</td>\n      <td>39.03</td>\n      <td>45.77</td>\n      <td>NaN</td>\n      <td>85.72</td>\n    </tr>\n    <tr>\n      <th>1</th>\n      <td>February</td>\n      <td>8.17</td>\n      <td>9.28</td>\n      <td>8.12</td>\n      <td>11.81</td>\n      <td>9.24</td>\n      <td>12.60</td>\n      <td>14.56</td>\n      <td>11.50</td>\n      <td>15.44</td>\n      <td>...</td>\n      <td>28.40</td>\n      <td>33.63</td>\n      <td>32.88</td>\n      <td>26.25</td>\n      <td>43.99</td>\n      <td>38.13</td>\n      <td>32.86</td>\n      <td>42.19</td>\n      <td>NaN</td>\n      <td>86.65</td>\n    </tr>\n    <tr>\n      <th>2</th>\n      <td>March</td>\n      <td>7.95</td>\n      <td>8.48</td>\n      <td>8.41</td>\n      <td>10.37</td>\n      <td>8.35</td>\n      <td>10.81</td>\n      <td>13.56</td>\n      <td>11.55</td>\n      <td>14.23</td>\n      <td>...</td>\n      <td>25.50</td>\n      <td>33.60</td>\n      <td>34.70</td>\n      <td>26.95</td>\n      <td>41.51</td>\n      <td>40.31</td>\n      <td>35.25</td>\n      <td>44.15</td>\n      <td>NaN</td>\n      <td>100.15</td>\n    </tr>\n    <tr>\n      <th>3</th>\n      <td>April</td>\n      <td>8.25</td>\n      <td>8.92</td>\n      <td>8.43</td>\n      <td>11.80</td>\n      <td>8.52</td>\n      <td>10.10</td>\n      <td>13.08</td>\n      <td>11.08</td>\n      <td>14.63</td>\n      <td>...</td>\n      <td>24.50</td>\n      <td>37.25</td>\n      <td>33.56</td>\n      <td>32.15</td>\n      <td>45.62</td>\n      <td>40.32</td>\n      <td>40.09</td>\n      <td>NaN</td>\n      <td>54.00</td>\n      <td>110.70</td>\n    </tr>\n    <tr>\n      <th>4</th>\n      <td>May</td>\n      <td>8.38</td>\n      <td>9.27</td>\n      <td>8.78</td>\n      <td>12.07</td>\n      <td>8.68</td>\n      <td>10.31</td>\n      <td>13.25</td>\n      <td>11.35</td>\n      <td>14.75</td>\n      <td>...</td>\n      <td>28.19</td>\n      <td>37.50</td>\n      <td>31.50</td>\n      <td>33.84</td>\n      <td>49.28</td>\n      <td>41.01</td>\n      <td>41.71</td>\n      <td>NaN</td>\n      <td>55.90</td>\n      <td>111.72</td>\n    </tr>\n    <tr>\n      <th>5</th>\n      <td>June</td>\n      <td>9.75</td>\n      <td>8.93</td>\n      <td>9.01</td>\n      <td>12.21</td>\n      <td>8.39</td>\n      <td>10.83</td>\n      <td>13.28</td>\n      <td>12.58</td>\n      <td>14.94</td>\n      <td>...</td>\n      <td>28.50</td>\n      <td>39.30</td>\n      <td>31.13</td>\n      <td>33.35</td>\n      <td>50.25</td>\n      <td>37.80</td>\n      <td>40.24</td>\n      <td>NaN</td>\n      <td>57.00</td>\n      <td>131.55</td>\n    </tr>\n    <tr>\n      <th>6</th>\n      <td>July</td>\n      <td>10.85</td>\n      <td>9.50</td>\n      <td>9.10</td>\n      <td>12.35</td>\n      <td>8.22</td>\n      <td>11.76</td>\n      <td>12.60</td>\n      <td>11.50</td>\n      <td>16.63</td>\n      <td>...</td>\n      <td>26.10</td>\n      <td>39.75</td>\n      <td>25.61</td>\n      <td>31.63</td>\n      <td>50.36</td>\n      <td>36.60</td>\n      <td>42.46</td>\n      <td>48.50</td>\n      <td>51.24</td>\n      <td>124.15</td>\n    </tr>\n    <tr>\n      <th>7</th>\n      <td>August</td>\n      <td>11.37</td>\n      <td>10.48</td>\n      <td>8.87</td>\n      <td>11.84</td>\n      <td>9.00</td>\n      <td>12.36</td>\n      <td>12.75</td>\n      <td>10.79</td>\n      <td>17.48</td>\n      <td>...</td>\n      <td>25.42</td>\n      <td>40.50</td>\n      <td>28.59</td>\n      <td>32.04</td>\n      <td>50.61</td>\n      <td>37.60</td>\n      <td>43.58</td>\n      <td>46.46</td>\n      <td>50.90</td>\n      <td>112.60</td>\n    </tr>\n    <tr>\n      <th>8</th>\n      <td>September</td>\n      <td>11.34</td>\n      <td>11.27</td>\n      <td>8.46</td>\n      <td>12.03</td>\n      <td>9.66</td>\n      <td>12.06</td>\n      <td>11.85</td>\n      <td>11.38</td>\n      <td>17.94</td>\n      <td>...</td>\n      <td>26.37</td>\n      <td>40.18</td>\n      <td>30.05</td>\n      <td>32.70</td>\n      <td>50.87</td>\n      <td>37.94</td>\n      <td>45.50</td>\n      <td>NaN</td>\n      <td>56.00</td>\n      <td>110.50</td>\n    </tr>\n    <tr>\n      <th>9</th>\n      <td>October</td>\n      <td>10.71</td>\n      <td>12.15</td>\n      <td>9.09</td>\n      <td>11.84</td>\n      <td>9.74</td>\n      <td>12.54</td>\n      <td>12.91</td>\n      <td>11.88</td>\n      <td>17.00</td>\n      <td>...</td>\n      <td>29.42</td>\n      <td>42.00</td>\n      <td>32.35</td>\n      <td>38.80</td>\n      <td>51.77</td>\n      <td>41.54</td>\n      <td>49.98</td>\n      <td>NaN</td>\n      <td>65.55</td>\n      <td>NaN</td>\n    </tr>\n    <tr>\n      <th>10</th>\n      <td>November</td>\n      <td>11.48</td>\n      <td>12.92</td>\n      <td>10.12</td>\n      <td>10.98</td>\n      <td>11.43</td>\n      <td>13.50</td>\n      <td>13.58</td>\n      <td>13.75</td>\n      <td>NaN</td>\n      <td>...</td>\n      <td>30.92</td>\n      <td>43.75</td>\n      <td>35.30</td>\n      <td>43.15</td>\n      <td>53.00</td>\n      <td>43.51</td>\n      <td>52.11</td>\n      <td>NaN</td>\n      <td>71.76</td>\n      <td>NaN</td>\n    </tr>\n    <tr>\n      <th>11</th>\n      <td>December</td>\n      <td>10.88</td>\n      <td>11.30</td>\n      <td>10.93</td>\n      <td>12.49</td>\n      <td>12.56</td>\n      <td>13.78</td>\n      <td>14.35</td>\n      <td>15.00</td>\n      <td>NaN</td>\n      <td>...</td>\n      <td>33.33</td>\n      <td>45.50</td>\n      <td>35.00</td>\n      <td>47.45</td>\n      <td>54.00</td>\n      <td>43.84</td>\n      <td>54.57</td>\n      <td>NaN</td>\n      <td>72.00</td>\n      <td>NaN</td>\n    </tr>\n    <tr>\n      <th>12</th>\n      <td>AVERAGE</td>\n      <td>9.74</td>\n      <td>10.20</td>\n      <td>9.13</td>\n      <td>11.86</td>\n      <td>9.66</td>\n      <td>11.91</td>\n      <td>13.44</td>\n      <td>12.16</td>\n      <td>15.86</td>\n      <td>...</td>\n      <td>28.32</td>\n      <td>39.03</td>\n      <td>32.79</td>\n      <td>34.36</td>\n      <td>49.37</td>\n      <td>39.88</td>\n      <td>43.11</td>\n      <td>45.41</td>\n      <td>59.37</td>\n      <td>108.19</td>\n    </tr>\n  </tbody>\n</table>\n<p>13 rows × 28 columns</p>\n</div>"
     },
     "execution_count": 211,
     "metadata": {},
     "output_type": "execute_result"
    }
   ]
  },
  {
   "cell_type": "code",
   "source": [
    "def trim_month_rows(df):\n",
    "    return df[df.index <= 11]"
   ],
   "metadata": {
    "execution": {
     "iopub.status.busy": "2023-02-22T15:01:04.038950Z",
     "iopub.execute_input": "2023-02-22T15:01:04.040201Z",
     "iopub.status.idle": "2023-02-22T15:01:04.045912Z",
     "shell.execute_reply.started": "2023-02-22T15:01:04.040127Z",
     "shell.execute_reply": "2023-02-22T15:01:04.044815Z"
    },
    "trusted": true
   },
   "execution_count": 212,
   "outputs": []
  },
  {
   "cell_type": "code",
   "source": [
    "anuradhapura_producer_prices.rename(columns={'Unnamed: 0':'Month'}, inplace=True)\n",
    "\n",
    "# Only keep rows before the 11th index as we don't any unwanted rows after that\n",
    "anuradhapura_producer_prices = trim_month_rows(anuradhapura_producer_prices)\n",
    "\n",
    "anuradhapura_producer_prices.head(anuradhapura_producer_prices.shape[0])"
   ],
   "metadata": {
    "execution": {
     "iopub.status.busy": "2023-02-22T15:01:04.047351Z",
     "iopub.execute_input": "2023-02-22T15:01:04.048145Z",
     "iopub.status.idle": "2023-02-22T15:01:04.098533Z",
     "shell.execute_reply.started": "2023-02-22T15:01:04.048102Z",
     "shell.execute_reply": "2023-02-22T15:01:04.097293Z"
    },
    "trusted": true
   },
   "execution_count": 213,
   "outputs": [
    {
     "data": {
      "text/plain": "        Month   1996   1997   1998   1999   2000   2001   2002   2003   2004  \\\n0     January   7.75   9.92  10.25  12.52  12.13  12.25  15.55  13.63  15.54   \n1    February   8.17   9.28   8.12  11.81   9.24  12.60  14.56  11.50  15.44   \n2       March   7.95   8.48   8.41  10.37   8.35  10.81  13.56  11.55  14.23   \n3       April   8.25   8.92   8.43  11.80   8.52  10.10  13.08  11.08  14.63   \n4         May   8.38   9.27   8.78  12.07   8.68  10.31  13.25  11.35  14.75   \n5        June   9.75   8.93   9.01  12.21   8.39  10.83  13.28  12.58  14.94   \n6        July  10.85   9.50   9.10  12.35   8.22  11.76  12.60  11.50  16.63   \n7      August  11.37  10.48   8.87  11.84   9.00  12.36  12.75  10.79  17.48   \n8   September  11.34  11.27   8.46  12.03   9.66  12.06  11.85  11.38  17.94   \n9     October  10.71  12.15   9.09  11.84   9.74  12.54  12.91  11.88  17.00   \n10   November  11.48  12.92  10.12  10.98  11.43  13.50  13.58  13.75    NaN   \n11   December  10.88  11.30  10.93  12.49  12.56  13.78  14.35  15.00    NaN   \n\n    ...   2013   2014   2015   2016   2017   2018   2019   2020   2021    2022  \n0   ...  33.25  35.38  42.75  34.05  51.24  39.90  39.03  45.77    NaN   85.72  \n1   ...  28.40  33.63  32.88  26.25  43.99  38.13  32.86  42.19    NaN   86.65  \n2   ...  25.50  33.60  34.70  26.95  41.51  40.31  35.25  44.15    NaN  100.15  \n3   ...  24.50  37.25  33.56  32.15  45.62  40.32  40.09    NaN  54.00  110.70  \n4   ...  28.19  37.50  31.50  33.84  49.28  41.01  41.71    NaN  55.90  111.72  \n5   ...  28.50  39.30  31.13  33.35  50.25  37.80  40.24    NaN  57.00  131.55  \n6   ...  26.10  39.75  25.61  31.63  50.36  36.60  42.46  48.50  51.24  124.15  \n7   ...  25.42  40.50  28.59  32.04  50.61  37.60  43.58  46.46  50.90  112.60  \n8   ...  26.37  40.18  30.05  32.70  50.87  37.94  45.50    NaN  56.00  110.50  \n9   ...  29.42  42.00  32.35  38.80  51.77  41.54  49.98    NaN  65.55     NaN  \n10  ...  30.92  43.75  35.30  43.15  53.00  43.51  52.11    NaN  71.76     NaN  \n11  ...  33.33  45.50  35.00  47.45  54.00  43.84  54.57    NaN  72.00     NaN  \n\n[12 rows x 28 columns]",
      "text/html": "<div>\n<style scoped>\n    .dataframe tbody tr th:only-of-type {\n        vertical-align: middle;\n    }\n\n    .dataframe tbody tr th {\n        vertical-align: top;\n    }\n\n    .dataframe thead th {\n        text-align: right;\n    }\n</style>\n<table border=\"1\" class=\"dataframe\">\n  <thead>\n    <tr style=\"text-align: right;\">\n      <th></th>\n      <th>Month</th>\n      <th>1996</th>\n      <th>1997</th>\n      <th>1998</th>\n      <th>1999</th>\n      <th>2000</th>\n      <th>2001</th>\n      <th>2002</th>\n      <th>2003</th>\n      <th>2004</th>\n      <th>...</th>\n      <th>2013</th>\n      <th>2014</th>\n      <th>2015</th>\n      <th>2016</th>\n      <th>2017</th>\n      <th>2018</th>\n      <th>2019</th>\n      <th>2020</th>\n      <th>2021</th>\n      <th>2022</th>\n    </tr>\n  </thead>\n  <tbody>\n    <tr>\n      <th>0</th>\n      <td>January</td>\n      <td>7.75</td>\n      <td>9.92</td>\n      <td>10.25</td>\n      <td>12.52</td>\n      <td>12.13</td>\n      <td>12.25</td>\n      <td>15.55</td>\n      <td>13.63</td>\n      <td>15.54</td>\n      <td>...</td>\n      <td>33.25</td>\n      <td>35.38</td>\n      <td>42.75</td>\n      <td>34.05</td>\n      <td>51.24</td>\n      <td>39.90</td>\n      <td>39.03</td>\n      <td>45.77</td>\n      <td>NaN</td>\n      <td>85.72</td>\n    </tr>\n    <tr>\n      <th>1</th>\n      <td>February</td>\n      <td>8.17</td>\n      <td>9.28</td>\n      <td>8.12</td>\n      <td>11.81</td>\n      <td>9.24</td>\n      <td>12.60</td>\n      <td>14.56</td>\n      <td>11.50</td>\n      <td>15.44</td>\n      <td>...</td>\n      <td>28.40</td>\n      <td>33.63</td>\n      <td>32.88</td>\n      <td>26.25</td>\n      <td>43.99</td>\n      <td>38.13</td>\n      <td>32.86</td>\n      <td>42.19</td>\n      <td>NaN</td>\n      <td>86.65</td>\n    </tr>\n    <tr>\n      <th>2</th>\n      <td>March</td>\n      <td>7.95</td>\n      <td>8.48</td>\n      <td>8.41</td>\n      <td>10.37</td>\n      <td>8.35</td>\n      <td>10.81</td>\n      <td>13.56</td>\n      <td>11.55</td>\n      <td>14.23</td>\n      <td>...</td>\n      <td>25.50</td>\n      <td>33.60</td>\n      <td>34.70</td>\n      <td>26.95</td>\n      <td>41.51</td>\n      <td>40.31</td>\n      <td>35.25</td>\n      <td>44.15</td>\n      <td>NaN</td>\n      <td>100.15</td>\n    </tr>\n    <tr>\n      <th>3</th>\n      <td>April</td>\n      <td>8.25</td>\n      <td>8.92</td>\n      <td>8.43</td>\n      <td>11.80</td>\n      <td>8.52</td>\n      <td>10.10</td>\n      <td>13.08</td>\n      <td>11.08</td>\n      <td>14.63</td>\n      <td>...</td>\n      <td>24.50</td>\n      <td>37.25</td>\n      <td>33.56</td>\n      <td>32.15</td>\n      <td>45.62</td>\n      <td>40.32</td>\n      <td>40.09</td>\n      <td>NaN</td>\n      <td>54.00</td>\n      <td>110.70</td>\n    </tr>\n    <tr>\n      <th>4</th>\n      <td>May</td>\n      <td>8.38</td>\n      <td>9.27</td>\n      <td>8.78</td>\n      <td>12.07</td>\n      <td>8.68</td>\n      <td>10.31</td>\n      <td>13.25</td>\n      <td>11.35</td>\n      <td>14.75</td>\n      <td>...</td>\n      <td>28.19</td>\n      <td>37.50</td>\n      <td>31.50</td>\n      <td>33.84</td>\n      <td>49.28</td>\n      <td>41.01</td>\n      <td>41.71</td>\n      <td>NaN</td>\n      <td>55.90</td>\n      <td>111.72</td>\n    </tr>\n    <tr>\n      <th>5</th>\n      <td>June</td>\n      <td>9.75</td>\n      <td>8.93</td>\n      <td>9.01</td>\n      <td>12.21</td>\n      <td>8.39</td>\n      <td>10.83</td>\n      <td>13.28</td>\n      <td>12.58</td>\n      <td>14.94</td>\n      <td>...</td>\n      <td>28.50</td>\n      <td>39.30</td>\n      <td>31.13</td>\n      <td>33.35</td>\n      <td>50.25</td>\n      <td>37.80</td>\n      <td>40.24</td>\n      <td>NaN</td>\n      <td>57.00</td>\n      <td>131.55</td>\n    </tr>\n    <tr>\n      <th>6</th>\n      <td>July</td>\n      <td>10.85</td>\n      <td>9.50</td>\n      <td>9.10</td>\n      <td>12.35</td>\n      <td>8.22</td>\n      <td>11.76</td>\n      <td>12.60</td>\n      <td>11.50</td>\n      <td>16.63</td>\n      <td>...</td>\n      <td>26.10</td>\n      <td>39.75</td>\n      <td>25.61</td>\n      <td>31.63</td>\n      <td>50.36</td>\n      <td>36.60</td>\n      <td>42.46</td>\n      <td>48.50</td>\n      <td>51.24</td>\n      <td>124.15</td>\n    </tr>\n    <tr>\n      <th>7</th>\n      <td>August</td>\n      <td>11.37</td>\n      <td>10.48</td>\n      <td>8.87</td>\n      <td>11.84</td>\n      <td>9.00</td>\n      <td>12.36</td>\n      <td>12.75</td>\n      <td>10.79</td>\n      <td>17.48</td>\n      <td>...</td>\n      <td>25.42</td>\n      <td>40.50</td>\n      <td>28.59</td>\n      <td>32.04</td>\n      <td>50.61</td>\n      <td>37.60</td>\n      <td>43.58</td>\n      <td>46.46</td>\n      <td>50.90</td>\n      <td>112.60</td>\n    </tr>\n    <tr>\n      <th>8</th>\n      <td>September</td>\n      <td>11.34</td>\n      <td>11.27</td>\n      <td>8.46</td>\n      <td>12.03</td>\n      <td>9.66</td>\n      <td>12.06</td>\n      <td>11.85</td>\n      <td>11.38</td>\n      <td>17.94</td>\n      <td>...</td>\n      <td>26.37</td>\n      <td>40.18</td>\n      <td>30.05</td>\n      <td>32.70</td>\n      <td>50.87</td>\n      <td>37.94</td>\n      <td>45.50</td>\n      <td>NaN</td>\n      <td>56.00</td>\n      <td>110.50</td>\n    </tr>\n    <tr>\n      <th>9</th>\n      <td>October</td>\n      <td>10.71</td>\n      <td>12.15</td>\n      <td>9.09</td>\n      <td>11.84</td>\n      <td>9.74</td>\n      <td>12.54</td>\n      <td>12.91</td>\n      <td>11.88</td>\n      <td>17.00</td>\n      <td>...</td>\n      <td>29.42</td>\n      <td>42.00</td>\n      <td>32.35</td>\n      <td>38.80</td>\n      <td>51.77</td>\n      <td>41.54</td>\n      <td>49.98</td>\n      <td>NaN</td>\n      <td>65.55</td>\n      <td>NaN</td>\n    </tr>\n    <tr>\n      <th>10</th>\n      <td>November</td>\n      <td>11.48</td>\n      <td>12.92</td>\n      <td>10.12</td>\n      <td>10.98</td>\n      <td>11.43</td>\n      <td>13.50</td>\n      <td>13.58</td>\n      <td>13.75</td>\n      <td>NaN</td>\n      <td>...</td>\n      <td>30.92</td>\n      <td>43.75</td>\n      <td>35.30</td>\n      <td>43.15</td>\n      <td>53.00</td>\n      <td>43.51</td>\n      <td>52.11</td>\n      <td>NaN</td>\n      <td>71.76</td>\n      <td>NaN</td>\n    </tr>\n    <tr>\n      <th>11</th>\n      <td>December</td>\n      <td>10.88</td>\n      <td>11.30</td>\n      <td>10.93</td>\n      <td>12.49</td>\n      <td>12.56</td>\n      <td>13.78</td>\n      <td>14.35</td>\n      <td>15.00</td>\n      <td>NaN</td>\n      <td>...</td>\n      <td>33.33</td>\n      <td>45.50</td>\n      <td>35.00</td>\n      <td>47.45</td>\n      <td>54.00</td>\n      <td>43.84</td>\n      <td>54.57</td>\n      <td>NaN</td>\n      <td>72.00</td>\n      <td>NaN</td>\n    </tr>\n  </tbody>\n</table>\n<p>12 rows × 28 columns</p>\n</div>"
     },
     "execution_count": 213,
     "metadata": {},
     "output_type": "execute_result"
    }
   ]
  },
  {
   "cell_type": "code",
   "source": [
    "# Just as we melted in the retail dataframe, the month columns with each year from each row of the\n",
    "# first column. The process is repeated here except that the year is the column in this case and the\n",
    "# month are rows in the first column\n",
    "\n",
    "months = anuradhapura_producer_prices['Month']\n",
    "months\n",
    "\n",
    "years = anuradhapura_producer_prices.columns.tolist()\n",
    "years = years[1:]\n",
    "years\n",
    "\n",
    "anuradhapura_producer_prices = pd.melt(anuradhapura_producer_prices, id_vars=['Month'], value_vars=years, var_name=\"Year\", value_name='Anuradhapura_Producer_Price')\n",
    "anuradhapura_producer_prices['Date'] = pd.to_datetime(anuradhapura_producer_prices['Year'].astype(str) + '-' + anuradhapura_producer_prices['Month'].astype(str))\n",
    "anuradhapura_producer_prices['Date'] = pd.to_datetime(anuradhapura_producer_prices['Date'])\n",
    "\n",
    "anuradhapura_producer_prices.drop(['Year','Month'], axis=1, inplace=True)\n",
    "anuradhapura_producer_prices = anuradhapura_producer_prices.sort_values(by='Date').reset_index(drop=True)\n",
    "anuradhapura_producer_prices = anuradhapura_producer_prices.reindex(columns=['Date', 'Anuradhapura_Producer_Price'])\n",
    "\n",
    "anuradhapura_producer_prices.head()"
   ],
   "metadata": {
    "execution": {
     "iopub.status.busy": "2023-02-22T15:01:04.100365Z",
     "iopub.execute_input": "2023-02-22T15:01:04.100728Z",
     "iopub.status.idle": "2023-02-22T15:01:04.155559Z",
     "shell.execute_reply.started": "2023-02-22T15:01:04.100697Z",
     "shell.execute_reply": "2023-02-22T15:01:04.154369Z"
    },
    "trusted": true
   },
   "execution_count": 214,
   "outputs": [
    {
     "data": {
      "text/plain": "        Date  Anuradhapura_Producer_Price\n0 1996-01-01                         7.75\n1 1996-02-01                         8.17\n2 1996-03-01                         7.95\n3 1996-04-01                         8.25\n4 1996-05-01                         8.38",
      "text/html": "<div>\n<style scoped>\n    .dataframe tbody tr th:only-of-type {\n        vertical-align: middle;\n    }\n\n    .dataframe tbody tr th {\n        vertical-align: top;\n    }\n\n    .dataframe thead th {\n        text-align: right;\n    }\n</style>\n<table border=\"1\" class=\"dataframe\">\n  <thead>\n    <tr style=\"text-align: right;\">\n      <th></th>\n      <th>Date</th>\n      <th>Anuradhapura_Producer_Price</th>\n    </tr>\n  </thead>\n  <tbody>\n    <tr>\n      <th>0</th>\n      <td>1996-01-01</td>\n      <td>7.75</td>\n    </tr>\n    <tr>\n      <th>1</th>\n      <td>1996-02-01</td>\n      <td>8.17</td>\n    </tr>\n    <tr>\n      <th>2</th>\n      <td>1996-03-01</td>\n      <td>7.95</td>\n    </tr>\n    <tr>\n      <th>3</th>\n      <td>1996-04-01</td>\n      <td>8.25</td>\n    </tr>\n    <tr>\n      <th>4</th>\n      <td>1996-05-01</td>\n      <td>8.38</td>\n    </tr>\n  </tbody>\n</table>\n</div>"
     },
     "execution_count": 214,
     "metadata": {},
     "output_type": "execute_result"
    }
   ]
  },
  {
   "cell_type": "code",
   "source": [
    "kurunegala_producer_prices = pd.read_csv('dataset/unprocessed/kurunegala_farm_gate.csv')\n",
    "kurunegala_producer_prices.head(kurunegala_producer_prices.shape[0])"
   ],
   "metadata": {
    "execution": {
     "iopub.status.busy": "2023-02-22T15:01:04.157153Z",
     "iopub.execute_input": "2023-02-22T15:01:04.157573Z",
     "iopub.status.idle": "2023-02-22T15:01:04.204493Z",
     "shell.execute_reply.started": "2023-02-22T15:01:04.157539Z",
     "shell.execute_reply": "2023-02-22T15:01:04.203277Z"
    },
    "trusted": true
   },
   "execution_count": 215,
   "outputs": [
    {
     "data": {
      "text/plain": "   Unnamed: 0   1996   1997   1998   1999   2000   2001   2002   2003   2004  \\\n0     January   7.90  10.05  10.65  13.20  11.59  11.80  14.82  13.02  17.56   \n1    February   8.26   8.14   8.27  12.41   8.86  11.14  15.65  12.00  15.04   \n2       March   7.85   7.86   8.58  10.37   7.81  10.59  11.56  12.03  13.78   \n3       April   8.01   8.68   8.52  11.43   8.35  10.20  11.97  12.08  15.06   \n4         May   8.50   9.13   8.96  12.45   8.42  10.40  12.47  11.40  15.23   \n5        June   9.24   8.78   9.22  12.08   8.21  10.75  12.97  12.09  15.40   \n6        July  10.74   9.41   9.03  12.53   8.06  11.73  12.02  11.74  16.11   \n7      August  11.16   9.91   8.92  11.55   8.63  12.51  11.84  11.21  17.46   \n8   September  11.37  10.35   8.19  11.83   9.18  11.61  11.53  12.03  18.82   \n9     October  10.58  11.69   9.01  11.76   8.74  11.75  12.24  12.28  18.74   \n10   November  11.15  12.70   9.87  11.72  10.71  12.94  13.25  14.86  20.44   \n11   December  11.01  11.69  10.53  12.43  12.33  13.63  13.42  14.89  18.47   \n12        NaN    NaN    NaN    NaN    NaN    NaN    NaN    NaN    NaN    NaN   \n13    AVERAGE   9.65   9.87   9.15  11.98   9.24  11.59  12.81  12.14  16.84   \n14        NaN    NaN    NaN    NaN    NaN    NaN    NaN    NaN    NaN    NaN   \n\n    ...   2013   2014   2015   2016    2017    2018    2019    2020    2021  \\\n0   ...  34.50  35.42  42.48  32.73     NaN  43.917  40.458  48.615  53.250   \n1   ...  30.39  31.84  32.03  27.76     NaN  38.583  30.708  44.250  46.563   \n2   ...  23.55  34.57  33.38  23.20     NaN  42.375  34.042  46.833  48.667   \n3   ...  28.45  37.24  34.56  33.10     NaN  45.500  41.967     NaN  51.917   \n4   ...  32.86  37.33  34.90  35.52     NaN  38.267  44.208  50.411  55.000   \n5   ...  30.53  40.23  35.10  35.30  50.667  39.750  41.858  52.260  55.500   \n6   ...  28.67  40.73  30.60  32.90  50.130  36.467  42.050  48.700  50.917   \n7   ...  26.28  41.42  28.60  31.26  51.000  35.667  43.600  46.340  51.292   \n8   ...  27.45  41.42  31.60  31.55  46.750  33.467     NaN     NaN  49.625   \n9   ...  31.97  42.59  31.90  37.40  50.833  37.907  49.708  51.000  63.692   \n10  ...  34.51  42.63  34.75    NaN  54.000  41.167  51.250  53.000  72.960   \n11  ...  36.44  42.96  33.92    NaN  54.917  46.667  53.450  55.667  77.563   \n12  ...    NaN    NaN    NaN    NaN     NaN     NaN     NaN     NaN     NaN   \n13  ...  30.47  39.03  33.65  32.07  51.190  39.980  43.030  49.710  56.410   \n14  ...    NaN    NaN    NaN    NaN     NaN     NaN     NaN     NaN     NaN   \n\n       2022  \n0    83.380  \n1    79.688  \n2   100.767  \n3   112.988  \n4   115.900  \n5   141.950  \n6   126.988  \n7   113.863  \n8   108.008  \n9       NaN  \n10      NaN  \n11      NaN  \n12      NaN  \n13  109.280  \n14      NaN  \n\n[15 rows x 28 columns]",
      "text/html": "<div>\n<style scoped>\n    .dataframe tbody tr th:only-of-type {\n        vertical-align: middle;\n    }\n\n    .dataframe tbody tr th {\n        vertical-align: top;\n    }\n\n    .dataframe thead th {\n        text-align: right;\n    }\n</style>\n<table border=\"1\" class=\"dataframe\">\n  <thead>\n    <tr style=\"text-align: right;\">\n      <th></th>\n      <th>Unnamed: 0</th>\n      <th>1996</th>\n      <th>1997</th>\n      <th>1998</th>\n      <th>1999</th>\n      <th>2000</th>\n      <th>2001</th>\n      <th>2002</th>\n      <th>2003</th>\n      <th>2004</th>\n      <th>...</th>\n      <th>2013</th>\n      <th>2014</th>\n      <th>2015</th>\n      <th>2016</th>\n      <th>2017</th>\n      <th>2018</th>\n      <th>2019</th>\n      <th>2020</th>\n      <th>2021</th>\n      <th>2022</th>\n    </tr>\n  </thead>\n  <tbody>\n    <tr>\n      <th>0</th>\n      <td>January</td>\n      <td>7.90</td>\n      <td>10.05</td>\n      <td>10.65</td>\n      <td>13.20</td>\n      <td>11.59</td>\n      <td>11.80</td>\n      <td>14.82</td>\n      <td>13.02</td>\n      <td>17.56</td>\n      <td>...</td>\n      <td>34.50</td>\n      <td>35.42</td>\n      <td>42.48</td>\n      <td>32.73</td>\n      <td>NaN</td>\n      <td>43.917</td>\n      <td>40.458</td>\n      <td>48.615</td>\n      <td>53.250</td>\n      <td>83.380</td>\n    </tr>\n    <tr>\n      <th>1</th>\n      <td>February</td>\n      <td>8.26</td>\n      <td>8.14</td>\n      <td>8.27</td>\n      <td>12.41</td>\n      <td>8.86</td>\n      <td>11.14</td>\n      <td>15.65</td>\n      <td>12.00</td>\n      <td>15.04</td>\n      <td>...</td>\n      <td>30.39</td>\n      <td>31.84</td>\n      <td>32.03</td>\n      <td>27.76</td>\n      <td>NaN</td>\n      <td>38.583</td>\n      <td>30.708</td>\n      <td>44.250</td>\n      <td>46.563</td>\n      <td>79.688</td>\n    </tr>\n    <tr>\n      <th>2</th>\n      <td>March</td>\n      <td>7.85</td>\n      <td>7.86</td>\n      <td>8.58</td>\n      <td>10.37</td>\n      <td>7.81</td>\n      <td>10.59</td>\n      <td>11.56</td>\n      <td>12.03</td>\n      <td>13.78</td>\n      <td>...</td>\n      <td>23.55</td>\n      <td>34.57</td>\n      <td>33.38</td>\n      <td>23.20</td>\n      <td>NaN</td>\n      <td>42.375</td>\n      <td>34.042</td>\n      <td>46.833</td>\n      <td>48.667</td>\n      <td>100.767</td>\n    </tr>\n    <tr>\n      <th>3</th>\n      <td>April</td>\n      <td>8.01</td>\n      <td>8.68</td>\n      <td>8.52</td>\n      <td>11.43</td>\n      <td>8.35</td>\n      <td>10.20</td>\n      <td>11.97</td>\n      <td>12.08</td>\n      <td>15.06</td>\n      <td>...</td>\n      <td>28.45</td>\n      <td>37.24</td>\n      <td>34.56</td>\n      <td>33.10</td>\n      <td>NaN</td>\n      <td>45.500</td>\n      <td>41.967</td>\n      <td>NaN</td>\n      <td>51.917</td>\n      <td>112.988</td>\n    </tr>\n    <tr>\n      <th>4</th>\n      <td>May</td>\n      <td>8.50</td>\n      <td>9.13</td>\n      <td>8.96</td>\n      <td>12.45</td>\n      <td>8.42</td>\n      <td>10.40</td>\n      <td>12.47</td>\n      <td>11.40</td>\n      <td>15.23</td>\n      <td>...</td>\n      <td>32.86</td>\n      <td>37.33</td>\n      <td>34.90</td>\n      <td>35.52</td>\n      <td>NaN</td>\n      <td>38.267</td>\n      <td>44.208</td>\n      <td>50.411</td>\n      <td>55.000</td>\n      <td>115.900</td>\n    </tr>\n    <tr>\n      <th>5</th>\n      <td>June</td>\n      <td>9.24</td>\n      <td>8.78</td>\n      <td>9.22</td>\n      <td>12.08</td>\n      <td>8.21</td>\n      <td>10.75</td>\n      <td>12.97</td>\n      <td>12.09</td>\n      <td>15.40</td>\n      <td>...</td>\n      <td>30.53</td>\n      <td>40.23</td>\n      <td>35.10</td>\n      <td>35.30</td>\n      <td>50.667</td>\n      <td>39.750</td>\n      <td>41.858</td>\n      <td>52.260</td>\n      <td>55.500</td>\n      <td>141.950</td>\n    </tr>\n    <tr>\n      <th>6</th>\n      <td>July</td>\n      <td>10.74</td>\n      <td>9.41</td>\n      <td>9.03</td>\n      <td>12.53</td>\n      <td>8.06</td>\n      <td>11.73</td>\n      <td>12.02</td>\n      <td>11.74</td>\n      <td>16.11</td>\n      <td>...</td>\n      <td>28.67</td>\n      <td>40.73</td>\n      <td>30.60</td>\n      <td>32.90</td>\n      <td>50.130</td>\n      <td>36.467</td>\n      <td>42.050</td>\n      <td>48.700</td>\n      <td>50.917</td>\n      <td>126.988</td>\n    </tr>\n    <tr>\n      <th>7</th>\n      <td>August</td>\n      <td>11.16</td>\n      <td>9.91</td>\n      <td>8.92</td>\n      <td>11.55</td>\n      <td>8.63</td>\n      <td>12.51</td>\n      <td>11.84</td>\n      <td>11.21</td>\n      <td>17.46</td>\n      <td>...</td>\n      <td>26.28</td>\n      <td>41.42</td>\n      <td>28.60</td>\n      <td>31.26</td>\n      <td>51.000</td>\n      <td>35.667</td>\n      <td>43.600</td>\n      <td>46.340</td>\n      <td>51.292</td>\n      <td>113.863</td>\n    </tr>\n    <tr>\n      <th>8</th>\n      <td>September</td>\n      <td>11.37</td>\n      <td>10.35</td>\n      <td>8.19</td>\n      <td>11.83</td>\n      <td>9.18</td>\n      <td>11.61</td>\n      <td>11.53</td>\n      <td>12.03</td>\n      <td>18.82</td>\n      <td>...</td>\n      <td>27.45</td>\n      <td>41.42</td>\n      <td>31.60</td>\n      <td>31.55</td>\n      <td>46.750</td>\n      <td>33.467</td>\n      <td>NaN</td>\n      <td>NaN</td>\n      <td>49.625</td>\n      <td>108.008</td>\n    </tr>\n    <tr>\n      <th>9</th>\n      <td>October</td>\n      <td>10.58</td>\n      <td>11.69</td>\n      <td>9.01</td>\n      <td>11.76</td>\n      <td>8.74</td>\n      <td>11.75</td>\n      <td>12.24</td>\n      <td>12.28</td>\n      <td>18.74</td>\n      <td>...</td>\n      <td>31.97</td>\n      <td>42.59</td>\n      <td>31.90</td>\n      <td>37.40</td>\n      <td>50.833</td>\n      <td>37.907</td>\n      <td>49.708</td>\n      <td>51.000</td>\n      <td>63.692</td>\n      <td>NaN</td>\n    </tr>\n    <tr>\n      <th>10</th>\n      <td>November</td>\n      <td>11.15</td>\n      <td>12.70</td>\n      <td>9.87</td>\n      <td>11.72</td>\n      <td>10.71</td>\n      <td>12.94</td>\n      <td>13.25</td>\n      <td>14.86</td>\n      <td>20.44</td>\n      <td>...</td>\n      <td>34.51</td>\n      <td>42.63</td>\n      <td>34.75</td>\n      <td>NaN</td>\n      <td>54.000</td>\n      <td>41.167</td>\n      <td>51.250</td>\n      <td>53.000</td>\n      <td>72.960</td>\n      <td>NaN</td>\n    </tr>\n    <tr>\n      <th>11</th>\n      <td>December</td>\n      <td>11.01</td>\n      <td>11.69</td>\n      <td>10.53</td>\n      <td>12.43</td>\n      <td>12.33</td>\n      <td>13.63</td>\n      <td>13.42</td>\n      <td>14.89</td>\n      <td>18.47</td>\n      <td>...</td>\n      <td>36.44</td>\n      <td>42.96</td>\n      <td>33.92</td>\n      <td>NaN</td>\n      <td>54.917</td>\n      <td>46.667</td>\n      <td>53.450</td>\n      <td>55.667</td>\n      <td>77.563</td>\n      <td>NaN</td>\n    </tr>\n    <tr>\n      <th>12</th>\n      <td>NaN</td>\n      <td>NaN</td>\n      <td>NaN</td>\n      <td>NaN</td>\n      <td>NaN</td>\n      <td>NaN</td>\n      <td>NaN</td>\n      <td>NaN</td>\n      <td>NaN</td>\n      <td>NaN</td>\n      <td>...</td>\n      <td>NaN</td>\n      <td>NaN</td>\n      <td>NaN</td>\n      <td>NaN</td>\n      <td>NaN</td>\n      <td>NaN</td>\n      <td>NaN</td>\n      <td>NaN</td>\n      <td>NaN</td>\n      <td>NaN</td>\n    </tr>\n    <tr>\n      <th>13</th>\n      <td>AVERAGE</td>\n      <td>9.65</td>\n      <td>9.87</td>\n      <td>9.15</td>\n      <td>11.98</td>\n      <td>9.24</td>\n      <td>11.59</td>\n      <td>12.81</td>\n      <td>12.14</td>\n      <td>16.84</td>\n      <td>...</td>\n      <td>30.47</td>\n      <td>39.03</td>\n      <td>33.65</td>\n      <td>32.07</td>\n      <td>51.190</td>\n      <td>39.980</td>\n      <td>43.030</td>\n      <td>49.710</td>\n      <td>56.410</td>\n      <td>109.280</td>\n    </tr>\n    <tr>\n      <th>14</th>\n      <td>NaN</td>\n      <td>NaN</td>\n      <td>NaN</td>\n      <td>NaN</td>\n      <td>NaN</td>\n      <td>NaN</td>\n      <td>NaN</td>\n      <td>NaN</td>\n      <td>NaN</td>\n      <td>NaN</td>\n      <td>...</td>\n      <td>NaN</td>\n      <td>NaN</td>\n      <td>NaN</td>\n      <td>NaN</td>\n      <td>NaN</td>\n      <td>NaN</td>\n      <td>NaN</td>\n      <td>NaN</td>\n      <td>NaN</td>\n      <td>NaN</td>\n    </tr>\n  </tbody>\n</table>\n<p>15 rows × 28 columns</p>\n</div>"
     },
     "execution_count": 215,
     "metadata": {},
     "output_type": "execute_result"
    }
   ]
  },
  {
   "cell_type": "code",
   "source": [
    "kurunegala_producer_prices.rename(columns={'Unnamed: 0':'Month'}, inplace=True)\n",
    "\n",
    "# Only keep rows before the 11th index as we don't any unwanted rows after that\n",
    "kurunegala_producer_prices = trim_month_rows(kurunegala_producer_prices)\n",
    "\n",
    "kurunegala_producer_prices.head(kurunegala_producer_prices.shape[0])"
   ],
   "metadata": {
    "execution": {
     "iopub.status.busy": "2023-02-22T15:01:04.209804Z",
     "iopub.execute_input": "2023-02-22T15:01:04.210978Z",
     "iopub.status.idle": "2023-02-22T15:01:04.253838Z",
     "shell.execute_reply.started": "2023-02-22T15:01:04.210935Z",
     "shell.execute_reply": "2023-02-22T15:01:04.252673Z"
    },
    "trusted": true
   },
   "execution_count": 216,
   "outputs": [
    {
     "data": {
      "text/plain": "        Month   1996   1997   1998   1999   2000   2001   2002   2003   2004  \\\n0     January   7.90  10.05  10.65  13.20  11.59  11.80  14.82  13.02  17.56   \n1    February   8.26   8.14   8.27  12.41   8.86  11.14  15.65  12.00  15.04   \n2       March   7.85   7.86   8.58  10.37   7.81  10.59  11.56  12.03  13.78   \n3       April   8.01   8.68   8.52  11.43   8.35  10.20  11.97  12.08  15.06   \n4         May   8.50   9.13   8.96  12.45   8.42  10.40  12.47  11.40  15.23   \n5        June   9.24   8.78   9.22  12.08   8.21  10.75  12.97  12.09  15.40   \n6        July  10.74   9.41   9.03  12.53   8.06  11.73  12.02  11.74  16.11   \n7      August  11.16   9.91   8.92  11.55   8.63  12.51  11.84  11.21  17.46   \n8   September  11.37  10.35   8.19  11.83   9.18  11.61  11.53  12.03  18.82   \n9     October  10.58  11.69   9.01  11.76   8.74  11.75  12.24  12.28  18.74   \n10   November  11.15  12.70   9.87  11.72  10.71  12.94  13.25  14.86  20.44   \n11   December  11.01  11.69  10.53  12.43  12.33  13.63  13.42  14.89  18.47   \n\n    ...   2013   2014   2015   2016    2017    2018    2019    2020    2021  \\\n0   ...  34.50  35.42  42.48  32.73     NaN  43.917  40.458  48.615  53.250   \n1   ...  30.39  31.84  32.03  27.76     NaN  38.583  30.708  44.250  46.563   \n2   ...  23.55  34.57  33.38  23.20     NaN  42.375  34.042  46.833  48.667   \n3   ...  28.45  37.24  34.56  33.10     NaN  45.500  41.967     NaN  51.917   \n4   ...  32.86  37.33  34.90  35.52     NaN  38.267  44.208  50.411  55.000   \n5   ...  30.53  40.23  35.10  35.30  50.667  39.750  41.858  52.260  55.500   \n6   ...  28.67  40.73  30.60  32.90  50.130  36.467  42.050  48.700  50.917   \n7   ...  26.28  41.42  28.60  31.26  51.000  35.667  43.600  46.340  51.292   \n8   ...  27.45  41.42  31.60  31.55  46.750  33.467     NaN     NaN  49.625   \n9   ...  31.97  42.59  31.90  37.40  50.833  37.907  49.708  51.000  63.692   \n10  ...  34.51  42.63  34.75    NaN  54.000  41.167  51.250  53.000  72.960   \n11  ...  36.44  42.96  33.92    NaN  54.917  46.667  53.450  55.667  77.563   \n\n       2022  \n0    83.380  \n1    79.688  \n2   100.767  \n3   112.988  \n4   115.900  \n5   141.950  \n6   126.988  \n7   113.863  \n8   108.008  \n9       NaN  \n10      NaN  \n11      NaN  \n\n[12 rows x 28 columns]",
      "text/html": "<div>\n<style scoped>\n    .dataframe tbody tr th:only-of-type {\n        vertical-align: middle;\n    }\n\n    .dataframe tbody tr th {\n        vertical-align: top;\n    }\n\n    .dataframe thead th {\n        text-align: right;\n    }\n</style>\n<table border=\"1\" class=\"dataframe\">\n  <thead>\n    <tr style=\"text-align: right;\">\n      <th></th>\n      <th>Month</th>\n      <th>1996</th>\n      <th>1997</th>\n      <th>1998</th>\n      <th>1999</th>\n      <th>2000</th>\n      <th>2001</th>\n      <th>2002</th>\n      <th>2003</th>\n      <th>2004</th>\n      <th>...</th>\n      <th>2013</th>\n      <th>2014</th>\n      <th>2015</th>\n      <th>2016</th>\n      <th>2017</th>\n      <th>2018</th>\n      <th>2019</th>\n      <th>2020</th>\n      <th>2021</th>\n      <th>2022</th>\n    </tr>\n  </thead>\n  <tbody>\n    <tr>\n      <th>0</th>\n      <td>January</td>\n      <td>7.90</td>\n      <td>10.05</td>\n      <td>10.65</td>\n      <td>13.20</td>\n      <td>11.59</td>\n      <td>11.80</td>\n      <td>14.82</td>\n      <td>13.02</td>\n      <td>17.56</td>\n      <td>...</td>\n      <td>34.50</td>\n      <td>35.42</td>\n      <td>42.48</td>\n      <td>32.73</td>\n      <td>NaN</td>\n      <td>43.917</td>\n      <td>40.458</td>\n      <td>48.615</td>\n      <td>53.250</td>\n      <td>83.380</td>\n    </tr>\n    <tr>\n      <th>1</th>\n      <td>February</td>\n      <td>8.26</td>\n      <td>8.14</td>\n      <td>8.27</td>\n      <td>12.41</td>\n      <td>8.86</td>\n      <td>11.14</td>\n      <td>15.65</td>\n      <td>12.00</td>\n      <td>15.04</td>\n      <td>...</td>\n      <td>30.39</td>\n      <td>31.84</td>\n      <td>32.03</td>\n      <td>27.76</td>\n      <td>NaN</td>\n      <td>38.583</td>\n      <td>30.708</td>\n      <td>44.250</td>\n      <td>46.563</td>\n      <td>79.688</td>\n    </tr>\n    <tr>\n      <th>2</th>\n      <td>March</td>\n      <td>7.85</td>\n      <td>7.86</td>\n      <td>8.58</td>\n      <td>10.37</td>\n      <td>7.81</td>\n      <td>10.59</td>\n      <td>11.56</td>\n      <td>12.03</td>\n      <td>13.78</td>\n      <td>...</td>\n      <td>23.55</td>\n      <td>34.57</td>\n      <td>33.38</td>\n      <td>23.20</td>\n      <td>NaN</td>\n      <td>42.375</td>\n      <td>34.042</td>\n      <td>46.833</td>\n      <td>48.667</td>\n      <td>100.767</td>\n    </tr>\n    <tr>\n      <th>3</th>\n      <td>April</td>\n      <td>8.01</td>\n      <td>8.68</td>\n      <td>8.52</td>\n      <td>11.43</td>\n      <td>8.35</td>\n      <td>10.20</td>\n      <td>11.97</td>\n      <td>12.08</td>\n      <td>15.06</td>\n      <td>...</td>\n      <td>28.45</td>\n      <td>37.24</td>\n      <td>34.56</td>\n      <td>33.10</td>\n      <td>NaN</td>\n      <td>45.500</td>\n      <td>41.967</td>\n      <td>NaN</td>\n      <td>51.917</td>\n      <td>112.988</td>\n    </tr>\n    <tr>\n      <th>4</th>\n      <td>May</td>\n      <td>8.50</td>\n      <td>9.13</td>\n      <td>8.96</td>\n      <td>12.45</td>\n      <td>8.42</td>\n      <td>10.40</td>\n      <td>12.47</td>\n      <td>11.40</td>\n      <td>15.23</td>\n      <td>...</td>\n      <td>32.86</td>\n      <td>37.33</td>\n      <td>34.90</td>\n      <td>35.52</td>\n      <td>NaN</td>\n      <td>38.267</td>\n      <td>44.208</td>\n      <td>50.411</td>\n      <td>55.000</td>\n      <td>115.900</td>\n    </tr>\n    <tr>\n      <th>5</th>\n      <td>June</td>\n      <td>9.24</td>\n      <td>8.78</td>\n      <td>9.22</td>\n      <td>12.08</td>\n      <td>8.21</td>\n      <td>10.75</td>\n      <td>12.97</td>\n      <td>12.09</td>\n      <td>15.40</td>\n      <td>...</td>\n      <td>30.53</td>\n      <td>40.23</td>\n      <td>35.10</td>\n      <td>35.30</td>\n      <td>50.667</td>\n      <td>39.750</td>\n      <td>41.858</td>\n      <td>52.260</td>\n      <td>55.500</td>\n      <td>141.950</td>\n    </tr>\n    <tr>\n      <th>6</th>\n      <td>July</td>\n      <td>10.74</td>\n      <td>9.41</td>\n      <td>9.03</td>\n      <td>12.53</td>\n      <td>8.06</td>\n      <td>11.73</td>\n      <td>12.02</td>\n      <td>11.74</td>\n      <td>16.11</td>\n      <td>...</td>\n      <td>28.67</td>\n      <td>40.73</td>\n      <td>30.60</td>\n      <td>32.90</td>\n      <td>50.130</td>\n      <td>36.467</td>\n      <td>42.050</td>\n      <td>48.700</td>\n      <td>50.917</td>\n      <td>126.988</td>\n    </tr>\n    <tr>\n      <th>7</th>\n      <td>August</td>\n      <td>11.16</td>\n      <td>9.91</td>\n      <td>8.92</td>\n      <td>11.55</td>\n      <td>8.63</td>\n      <td>12.51</td>\n      <td>11.84</td>\n      <td>11.21</td>\n      <td>17.46</td>\n      <td>...</td>\n      <td>26.28</td>\n      <td>41.42</td>\n      <td>28.60</td>\n      <td>31.26</td>\n      <td>51.000</td>\n      <td>35.667</td>\n      <td>43.600</td>\n      <td>46.340</td>\n      <td>51.292</td>\n      <td>113.863</td>\n    </tr>\n    <tr>\n      <th>8</th>\n      <td>September</td>\n      <td>11.37</td>\n      <td>10.35</td>\n      <td>8.19</td>\n      <td>11.83</td>\n      <td>9.18</td>\n      <td>11.61</td>\n      <td>11.53</td>\n      <td>12.03</td>\n      <td>18.82</td>\n      <td>...</td>\n      <td>27.45</td>\n      <td>41.42</td>\n      <td>31.60</td>\n      <td>31.55</td>\n      <td>46.750</td>\n      <td>33.467</td>\n      <td>NaN</td>\n      <td>NaN</td>\n      <td>49.625</td>\n      <td>108.008</td>\n    </tr>\n    <tr>\n      <th>9</th>\n      <td>October</td>\n      <td>10.58</td>\n      <td>11.69</td>\n      <td>9.01</td>\n      <td>11.76</td>\n      <td>8.74</td>\n      <td>11.75</td>\n      <td>12.24</td>\n      <td>12.28</td>\n      <td>18.74</td>\n      <td>...</td>\n      <td>31.97</td>\n      <td>42.59</td>\n      <td>31.90</td>\n      <td>37.40</td>\n      <td>50.833</td>\n      <td>37.907</td>\n      <td>49.708</td>\n      <td>51.000</td>\n      <td>63.692</td>\n      <td>NaN</td>\n    </tr>\n    <tr>\n      <th>10</th>\n      <td>November</td>\n      <td>11.15</td>\n      <td>12.70</td>\n      <td>9.87</td>\n      <td>11.72</td>\n      <td>10.71</td>\n      <td>12.94</td>\n      <td>13.25</td>\n      <td>14.86</td>\n      <td>20.44</td>\n      <td>...</td>\n      <td>34.51</td>\n      <td>42.63</td>\n      <td>34.75</td>\n      <td>NaN</td>\n      <td>54.000</td>\n      <td>41.167</td>\n      <td>51.250</td>\n      <td>53.000</td>\n      <td>72.960</td>\n      <td>NaN</td>\n    </tr>\n    <tr>\n      <th>11</th>\n      <td>December</td>\n      <td>11.01</td>\n      <td>11.69</td>\n      <td>10.53</td>\n      <td>12.43</td>\n      <td>12.33</td>\n      <td>13.63</td>\n      <td>13.42</td>\n      <td>14.89</td>\n      <td>18.47</td>\n      <td>...</td>\n      <td>36.44</td>\n      <td>42.96</td>\n      <td>33.92</td>\n      <td>NaN</td>\n      <td>54.917</td>\n      <td>46.667</td>\n      <td>53.450</td>\n      <td>55.667</td>\n      <td>77.563</td>\n      <td>NaN</td>\n    </tr>\n  </tbody>\n</table>\n<p>12 rows × 28 columns</p>\n</div>"
     },
     "execution_count": 216,
     "metadata": {},
     "output_type": "execute_result"
    }
   ]
  },
  {
   "cell_type": "code",
   "source": [
    "# Just as we melted in the retail dataframe, the month columns with each year from each row of the\n",
    "# first column. The process is repeated here except that the year is the column in this case and the\n",
    "# month are rows in the first column\n",
    "\n",
    "months = kurunegala_producer_prices['Month']\n",
    "months\n",
    "\n",
    "years = kurunegala_producer_prices.columns.tolist()\n",
    "years = years[1:]\n",
    "years\n",
    "\n",
    "kurunegala_producer_prices = pd.melt(kurunegala_producer_prices, id_vars=['Month'], value_vars=years, var_name=\"Year\", value_name='Kurunegala_Producer_Price')\n",
    "kurunegala_producer_prices['Date'] = pd.to_datetime(kurunegala_producer_prices['Year'].astype(str) + '-' + kurunegala_producer_prices['Month'].astype(str))\n",
    "kurunegala_producer_prices['Date'] = pd.to_datetime(kurunegala_producer_prices['Date'])\n",
    "\n",
    "kurunegala_producer_prices.drop(['Year','Month'], axis=1, inplace=True)\n",
    "kurunegala_producer_prices = kurunegala_producer_prices.sort_values(by='Date').reset_index(drop=True)\n",
    "kurunegala_producer_prices = kurunegala_producer_prices.reindex(columns=['Date', 'Kurunegala_Producer_Price'])\n",
    "\n",
    "kurunegala_producer_prices.head()"
   ],
   "metadata": {
    "execution": {
     "iopub.status.busy": "2023-02-22T15:01:04.255425Z",
     "iopub.execute_input": "2023-02-22T15:01:04.255848Z",
     "iopub.status.idle": "2023-02-22T15:01:04.310746Z",
     "shell.execute_reply.started": "2023-02-22T15:01:04.255811Z",
     "shell.execute_reply": "2023-02-22T15:01:04.309467Z"
    },
    "trusted": true
   },
   "execution_count": 217,
   "outputs": [
    {
     "data": {
      "text/plain": "        Date  Kurunegala_Producer_Price\n0 1996-01-01                       7.90\n1 1996-02-01                       8.26\n2 1996-03-01                       7.85\n3 1996-04-01                       8.01\n4 1996-05-01                       8.50",
      "text/html": "<div>\n<style scoped>\n    .dataframe tbody tr th:only-of-type {\n        vertical-align: middle;\n    }\n\n    .dataframe tbody tr th {\n        vertical-align: top;\n    }\n\n    .dataframe thead th {\n        text-align: right;\n    }\n</style>\n<table border=\"1\" class=\"dataframe\">\n  <thead>\n    <tr style=\"text-align: right;\">\n      <th></th>\n      <th>Date</th>\n      <th>Kurunegala_Producer_Price</th>\n    </tr>\n  </thead>\n  <tbody>\n    <tr>\n      <th>0</th>\n      <td>1996-01-01</td>\n      <td>7.90</td>\n    </tr>\n    <tr>\n      <th>1</th>\n      <td>1996-02-01</td>\n      <td>8.26</td>\n    </tr>\n    <tr>\n      <th>2</th>\n      <td>1996-03-01</td>\n      <td>7.85</td>\n    </tr>\n    <tr>\n      <th>3</th>\n      <td>1996-04-01</td>\n      <td>8.01</td>\n    </tr>\n    <tr>\n      <th>4</th>\n      <td>1996-05-01</td>\n      <td>8.50</td>\n    </tr>\n  </tbody>\n</table>\n</div>"
     },
     "execution_count": 217,
     "metadata": {},
     "output_type": "execute_result"
    }
   ]
  },
  {
   "cell_type": "code",
   "source": [
    "polonnaruwa_producer_prices = pd.read_csv('dataset/unprocessed/polonnaruwa_farm_gate.csv')\n",
    "polonnaruwa_producer_prices.head(kurunegala_producer_prices.shape[0])"
   ],
   "metadata": {
    "execution": {
     "iopub.status.busy": "2023-02-22T15:01:04.312469Z",
     "iopub.execute_input": "2023-02-22T15:01:04.313015Z",
     "iopub.status.idle": "2023-02-22T15:01:04.361492Z",
     "shell.execute_reply.started": "2023-02-22T15:01:04.312958Z",
     "shell.execute_reply": "2023-02-22T15:01:04.360187Z"
    },
    "trusted": true
   },
   "execution_count": 218,
   "outputs": [
    {
     "data": {
      "text/plain": "   Unnamed: 0   1996   1997   1998   1999   2000   2001   2002   2003   2004  \\\n0     January   8.18  11.17  11.09  14.22  11.53  12.75  17.48  13.27  14.90   \n1    February   8.76   8.69   7.98  11.98   9.88  13.31  17.06  12.67  14.82   \n2       March   7.99   9.80   7.93  10.51   8.19  10.20  12.27  10.99  13.84   \n3       April   8.29   8.37   8.33  11.63   8.09   9.82  12.53  11.21  13.94   \n4         May   8.34   8.80   9.13  12.86   8.04  10.65  12.76  11.47  14.07   \n5        June   9.57   8.88   9.37  12.80   7.87  11.16  12.83  11.34  14.76   \n6        July  10.27   9.67   9.50  13.19   8.08  12.73  12.12  11.13  15.33   \n7      August  11.90  10.81   8.78  11.78   9.32  12.83  12.56  11.08  16.11   \n8   September  10.40  10.67   8.58  11.86   9.36  11.36  11.82  10.94  16.61   \n9     October  10.08  12.39   9.77  12.23   9.88  12.22  12.56  11.80  16.62   \n10   November  11.20  12.61  10.36  11.95  11.98  13.75  12.95  13.17    NaN   \n11   December  11.44  11.29  12.27  12.65  11.57  14.21  14.29  13.77    NaN   \n12        NaN    NaN    NaN    NaN    NaN    NaN    NaN    NaN    NaN    NaN   \n13    AVERAGE   9.70  10.26   9.42  12.31   9.48  12.08  13.43  11.90  15.10   \n\n    ...   2013   2014   2015   2016   2017   2018   2019   2020   2021    2022  \n0   ...  33.60  36.37    NaN  36.83  50.34  45.95    NaN  49.47  55.92   87.75  \n1   ...  26.18  33.99  35.17  29.99  41.22  35.81  30.94  43.30  45.50   91.56  \n2   ...  25.47  34.63  36.99  28.09  40.92  42.56  35.62  45.05  50.07  108.81  \n3   ...  27.00  36.84  31.15  33.38  43.82  41.19  40.13    NaN  60.25  117.50  \n4   ...  29.54  39.10  32.39  35.67  50.34  41.56  43.92  54.00  63.58  117.35  \n5   ...  28.43  41.58  32.56  34.88  52.45    NaN  41.41  53.75  57.25  138.20  \n6   ...  27.14  40.85  31.83  32.58  49.77    NaN  42.74  45.73  47.75  130.50  \n7   ...  26.28  42.01  28.31  32.02  46.72    NaN    NaN  45.52  52.73  122.93  \n8   ...  27.24  44.92  28.06  34.35  48.34  40.00  49.63    NaN  60.40  117.00  \n9   ...  31.00    NaN  30.17  39.79  54.50  42.47  51.31    NaN  70.08     NaN  \n10  ...  33.98    NaN  37.15  43.58  54.67  44.27  51.48    NaN  75.33     NaN  \n11  ...  36.27    NaN  38.37  48.63  54.66    NaN  54.53    NaN  81.23     NaN  \n12  ...    NaN    NaN    NaN    NaN    NaN    NaN    NaN    NaN    NaN     NaN  \n13  ...  29.34  38.92  32.92  35.81  48.98  41.73  44.17  48.12  60.01  114.62  \n\n[14 rows x 28 columns]",
      "text/html": "<div>\n<style scoped>\n    .dataframe tbody tr th:only-of-type {\n        vertical-align: middle;\n    }\n\n    .dataframe tbody tr th {\n        vertical-align: top;\n    }\n\n    .dataframe thead th {\n        text-align: right;\n    }\n</style>\n<table border=\"1\" class=\"dataframe\">\n  <thead>\n    <tr style=\"text-align: right;\">\n      <th></th>\n      <th>Unnamed: 0</th>\n      <th>1996</th>\n      <th>1997</th>\n      <th>1998</th>\n      <th>1999</th>\n      <th>2000</th>\n      <th>2001</th>\n      <th>2002</th>\n      <th>2003</th>\n      <th>2004</th>\n      <th>...</th>\n      <th>2013</th>\n      <th>2014</th>\n      <th>2015</th>\n      <th>2016</th>\n      <th>2017</th>\n      <th>2018</th>\n      <th>2019</th>\n      <th>2020</th>\n      <th>2021</th>\n      <th>2022</th>\n    </tr>\n  </thead>\n  <tbody>\n    <tr>\n      <th>0</th>\n      <td>January</td>\n      <td>8.18</td>\n      <td>11.17</td>\n      <td>11.09</td>\n      <td>14.22</td>\n      <td>11.53</td>\n      <td>12.75</td>\n      <td>17.48</td>\n      <td>13.27</td>\n      <td>14.90</td>\n      <td>...</td>\n      <td>33.60</td>\n      <td>36.37</td>\n      <td>NaN</td>\n      <td>36.83</td>\n      <td>50.34</td>\n      <td>45.95</td>\n      <td>NaN</td>\n      <td>49.47</td>\n      <td>55.92</td>\n      <td>87.75</td>\n    </tr>\n    <tr>\n      <th>1</th>\n      <td>February</td>\n      <td>8.76</td>\n      <td>8.69</td>\n      <td>7.98</td>\n      <td>11.98</td>\n      <td>9.88</td>\n      <td>13.31</td>\n      <td>17.06</td>\n      <td>12.67</td>\n      <td>14.82</td>\n      <td>...</td>\n      <td>26.18</td>\n      <td>33.99</td>\n      <td>35.17</td>\n      <td>29.99</td>\n      <td>41.22</td>\n      <td>35.81</td>\n      <td>30.94</td>\n      <td>43.30</td>\n      <td>45.50</td>\n      <td>91.56</td>\n    </tr>\n    <tr>\n      <th>2</th>\n      <td>March</td>\n      <td>7.99</td>\n      <td>9.80</td>\n      <td>7.93</td>\n      <td>10.51</td>\n      <td>8.19</td>\n      <td>10.20</td>\n      <td>12.27</td>\n      <td>10.99</td>\n      <td>13.84</td>\n      <td>...</td>\n      <td>25.47</td>\n      <td>34.63</td>\n      <td>36.99</td>\n      <td>28.09</td>\n      <td>40.92</td>\n      <td>42.56</td>\n      <td>35.62</td>\n      <td>45.05</td>\n      <td>50.07</td>\n      <td>108.81</td>\n    </tr>\n    <tr>\n      <th>3</th>\n      <td>April</td>\n      <td>8.29</td>\n      <td>8.37</td>\n      <td>8.33</td>\n      <td>11.63</td>\n      <td>8.09</td>\n      <td>9.82</td>\n      <td>12.53</td>\n      <td>11.21</td>\n      <td>13.94</td>\n      <td>...</td>\n      <td>27.00</td>\n      <td>36.84</td>\n      <td>31.15</td>\n      <td>33.38</td>\n      <td>43.82</td>\n      <td>41.19</td>\n      <td>40.13</td>\n      <td>NaN</td>\n      <td>60.25</td>\n      <td>117.50</td>\n    </tr>\n    <tr>\n      <th>4</th>\n      <td>May</td>\n      <td>8.34</td>\n      <td>8.80</td>\n      <td>9.13</td>\n      <td>12.86</td>\n      <td>8.04</td>\n      <td>10.65</td>\n      <td>12.76</td>\n      <td>11.47</td>\n      <td>14.07</td>\n      <td>...</td>\n      <td>29.54</td>\n      <td>39.10</td>\n      <td>32.39</td>\n      <td>35.67</td>\n      <td>50.34</td>\n      <td>41.56</td>\n      <td>43.92</td>\n      <td>54.00</td>\n      <td>63.58</td>\n      <td>117.35</td>\n    </tr>\n    <tr>\n      <th>5</th>\n      <td>June</td>\n      <td>9.57</td>\n      <td>8.88</td>\n      <td>9.37</td>\n      <td>12.80</td>\n      <td>7.87</td>\n      <td>11.16</td>\n      <td>12.83</td>\n      <td>11.34</td>\n      <td>14.76</td>\n      <td>...</td>\n      <td>28.43</td>\n      <td>41.58</td>\n      <td>32.56</td>\n      <td>34.88</td>\n      <td>52.45</td>\n      <td>NaN</td>\n      <td>41.41</td>\n      <td>53.75</td>\n      <td>57.25</td>\n      <td>138.20</td>\n    </tr>\n    <tr>\n      <th>6</th>\n      <td>July</td>\n      <td>10.27</td>\n      <td>9.67</td>\n      <td>9.50</td>\n      <td>13.19</td>\n      <td>8.08</td>\n      <td>12.73</td>\n      <td>12.12</td>\n      <td>11.13</td>\n      <td>15.33</td>\n      <td>...</td>\n      <td>27.14</td>\n      <td>40.85</td>\n      <td>31.83</td>\n      <td>32.58</td>\n      <td>49.77</td>\n      <td>NaN</td>\n      <td>42.74</td>\n      <td>45.73</td>\n      <td>47.75</td>\n      <td>130.50</td>\n    </tr>\n    <tr>\n      <th>7</th>\n      <td>August</td>\n      <td>11.90</td>\n      <td>10.81</td>\n      <td>8.78</td>\n      <td>11.78</td>\n      <td>9.32</td>\n      <td>12.83</td>\n      <td>12.56</td>\n      <td>11.08</td>\n      <td>16.11</td>\n      <td>...</td>\n      <td>26.28</td>\n      <td>42.01</td>\n      <td>28.31</td>\n      <td>32.02</td>\n      <td>46.72</td>\n      <td>NaN</td>\n      <td>NaN</td>\n      <td>45.52</td>\n      <td>52.73</td>\n      <td>122.93</td>\n    </tr>\n    <tr>\n      <th>8</th>\n      <td>September</td>\n      <td>10.40</td>\n      <td>10.67</td>\n      <td>8.58</td>\n      <td>11.86</td>\n      <td>9.36</td>\n      <td>11.36</td>\n      <td>11.82</td>\n      <td>10.94</td>\n      <td>16.61</td>\n      <td>...</td>\n      <td>27.24</td>\n      <td>44.92</td>\n      <td>28.06</td>\n      <td>34.35</td>\n      <td>48.34</td>\n      <td>40.00</td>\n      <td>49.63</td>\n      <td>NaN</td>\n      <td>60.40</td>\n      <td>117.00</td>\n    </tr>\n    <tr>\n      <th>9</th>\n      <td>October</td>\n      <td>10.08</td>\n      <td>12.39</td>\n      <td>9.77</td>\n      <td>12.23</td>\n      <td>9.88</td>\n      <td>12.22</td>\n      <td>12.56</td>\n      <td>11.80</td>\n      <td>16.62</td>\n      <td>...</td>\n      <td>31.00</td>\n      <td>NaN</td>\n      <td>30.17</td>\n      <td>39.79</td>\n      <td>54.50</td>\n      <td>42.47</td>\n      <td>51.31</td>\n      <td>NaN</td>\n      <td>70.08</td>\n      <td>NaN</td>\n    </tr>\n    <tr>\n      <th>10</th>\n      <td>November</td>\n      <td>11.20</td>\n      <td>12.61</td>\n      <td>10.36</td>\n      <td>11.95</td>\n      <td>11.98</td>\n      <td>13.75</td>\n      <td>12.95</td>\n      <td>13.17</td>\n      <td>NaN</td>\n      <td>...</td>\n      <td>33.98</td>\n      <td>NaN</td>\n      <td>37.15</td>\n      <td>43.58</td>\n      <td>54.67</td>\n      <td>44.27</td>\n      <td>51.48</td>\n      <td>NaN</td>\n      <td>75.33</td>\n      <td>NaN</td>\n    </tr>\n    <tr>\n      <th>11</th>\n      <td>December</td>\n      <td>11.44</td>\n      <td>11.29</td>\n      <td>12.27</td>\n      <td>12.65</td>\n      <td>11.57</td>\n      <td>14.21</td>\n      <td>14.29</td>\n      <td>13.77</td>\n      <td>NaN</td>\n      <td>...</td>\n      <td>36.27</td>\n      <td>NaN</td>\n      <td>38.37</td>\n      <td>48.63</td>\n      <td>54.66</td>\n      <td>NaN</td>\n      <td>54.53</td>\n      <td>NaN</td>\n      <td>81.23</td>\n      <td>NaN</td>\n    </tr>\n    <tr>\n      <th>12</th>\n      <td>NaN</td>\n      <td>NaN</td>\n      <td>NaN</td>\n      <td>NaN</td>\n      <td>NaN</td>\n      <td>NaN</td>\n      <td>NaN</td>\n      <td>NaN</td>\n      <td>NaN</td>\n      <td>NaN</td>\n      <td>...</td>\n      <td>NaN</td>\n      <td>NaN</td>\n      <td>NaN</td>\n      <td>NaN</td>\n      <td>NaN</td>\n      <td>NaN</td>\n      <td>NaN</td>\n      <td>NaN</td>\n      <td>NaN</td>\n      <td>NaN</td>\n    </tr>\n    <tr>\n      <th>13</th>\n      <td>AVERAGE</td>\n      <td>9.70</td>\n      <td>10.26</td>\n      <td>9.42</td>\n      <td>12.31</td>\n      <td>9.48</td>\n      <td>12.08</td>\n      <td>13.43</td>\n      <td>11.90</td>\n      <td>15.10</td>\n      <td>...</td>\n      <td>29.34</td>\n      <td>38.92</td>\n      <td>32.92</td>\n      <td>35.81</td>\n      <td>48.98</td>\n      <td>41.73</td>\n      <td>44.17</td>\n      <td>48.12</td>\n      <td>60.01</td>\n      <td>114.62</td>\n    </tr>\n  </tbody>\n</table>\n<p>14 rows × 28 columns</p>\n</div>"
     },
     "execution_count": 218,
     "metadata": {},
     "output_type": "execute_result"
    }
   ]
  },
  {
   "cell_type": "code",
   "source": [
    "polonnaruwa_producer_prices.rename(columns={'Unnamed: 0':'Month'}, inplace=True)\n",
    "\n",
    "# Only keep rows before the 11th index as we don't any unwanted rows after that\n",
    "polonnaruwa_producer_prices = trim_month_rows(polonnaruwa_producer_prices)\n",
    "\n",
    "polonnaruwa_producer_prices.head(polonnaruwa_producer_prices.shape[0])"
   ],
   "metadata": {
    "execution": {
     "iopub.status.busy": "2023-02-22T15:01:04.362989Z",
     "iopub.execute_input": "2023-02-22T15:01:04.363473Z",
     "iopub.status.idle": "2023-02-22T15:01:04.408421Z",
     "shell.execute_reply.started": "2023-02-22T15:01:04.363436Z",
     "shell.execute_reply": "2023-02-22T15:01:04.407254Z"
    },
    "trusted": true
   },
   "execution_count": 219,
   "outputs": [
    {
     "data": {
      "text/plain": "        Month   1996   1997   1998   1999   2000   2001   2002   2003   2004  \\\n0     January   8.18  11.17  11.09  14.22  11.53  12.75  17.48  13.27  14.90   \n1    February   8.76   8.69   7.98  11.98   9.88  13.31  17.06  12.67  14.82   \n2       March   7.99   9.80   7.93  10.51   8.19  10.20  12.27  10.99  13.84   \n3       April   8.29   8.37   8.33  11.63   8.09   9.82  12.53  11.21  13.94   \n4         May   8.34   8.80   9.13  12.86   8.04  10.65  12.76  11.47  14.07   \n5        June   9.57   8.88   9.37  12.80   7.87  11.16  12.83  11.34  14.76   \n6        July  10.27   9.67   9.50  13.19   8.08  12.73  12.12  11.13  15.33   \n7      August  11.90  10.81   8.78  11.78   9.32  12.83  12.56  11.08  16.11   \n8   September  10.40  10.67   8.58  11.86   9.36  11.36  11.82  10.94  16.61   \n9     October  10.08  12.39   9.77  12.23   9.88  12.22  12.56  11.80  16.62   \n10   November  11.20  12.61  10.36  11.95  11.98  13.75  12.95  13.17    NaN   \n11   December  11.44  11.29  12.27  12.65  11.57  14.21  14.29  13.77    NaN   \n\n    ...   2013   2014   2015   2016   2017   2018   2019   2020   2021    2022  \n0   ...  33.60  36.37    NaN  36.83  50.34  45.95    NaN  49.47  55.92   87.75  \n1   ...  26.18  33.99  35.17  29.99  41.22  35.81  30.94  43.30  45.50   91.56  \n2   ...  25.47  34.63  36.99  28.09  40.92  42.56  35.62  45.05  50.07  108.81  \n3   ...  27.00  36.84  31.15  33.38  43.82  41.19  40.13    NaN  60.25  117.50  \n4   ...  29.54  39.10  32.39  35.67  50.34  41.56  43.92  54.00  63.58  117.35  \n5   ...  28.43  41.58  32.56  34.88  52.45    NaN  41.41  53.75  57.25  138.20  \n6   ...  27.14  40.85  31.83  32.58  49.77    NaN  42.74  45.73  47.75  130.50  \n7   ...  26.28  42.01  28.31  32.02  46.72    NaN    NaN  45.52  52.73  122.93  \n8   ...  27.24  44.92  28.06  34.35  48.34  40.00  49.63    NaN  60.40  117.00  \n9   ...  31.00    NaN  30.17  39.79  54.50  42.47  51.31    NaN  70.08     NaN  \n10  ...  33.98    NaN  37.15  43.58  54.67  44.27  51.48    NaN  75.33     NaN  \n11  ...  36.27    NaN  38.37  48.63  54.66    NaN  54.53    NaN  81.23     NaN  \n\n[12 rows x 28 columns]",
      "text/html": "<div>\n<style scoped>\n    .dataframe tbody tr th:only-of-type {\n        vertical-align: middle;\n    }\n\n    .dataframe tbody tr th {\n        vertical-align: top;\n    }\n\n    .dataframe thead th {\n        text-align: right;\n    }\n</style>\n<table border=\"1\" class=\"dataframe\">\n  <thead>\n    <tr style=\"text-align: right;\">\n      <th></th>\n      <th>Month</th>\n      <th>1996</th>\n      <th>1997</th>\n      <th>1998</th>\n      <th>1999</th>\n      <th>2000</th>\n      <th>2001</th>\n      <th>2002</th>\n      <th>2003</th>\n      <th>2004</th>\n      <th>...</th>\n      <th>2013</th>\n      <th>2014</th>\n      <th>2015</th>\n      <th>2016</th>\n      <th>2017</th>\n      <th>2018</th>\n      <th>2019</th>\n      <th>2020</th>\n      <th>2021</th>\n      <th>2022</th>\n    </tr>\n  </thead>\n  <tbody>\n    <tr>\n      <th>0</th>\n      <td>January</td>\n      <td>8.18</td>\n      <td>11.17</td>\n      <td>11.09</td>\n      <td>14.22</td>\n      <td>11.53</td>\n      <td>12.75</td>\n      <td>17.48</td>\n      <td>13.27</td>\n      <td>14.90</td>\n      <td>...</td>\n      <td>33.60</td>\n      <td>36.37</td>\n      <td>NaN</td>\n      <td>36.83</td>\n      <td>50.34</td>\n      <td>45.95</td>\n      <td>NaN</td>\n      <td>49.47</td>\n      <td>55.92</td>\n      <td>87.75</td>\n    </tr>\n    <tr>\n      <th>1</th>\n      <td>February</td>\n      <td>8.76</td>\n      <td>8.69</td>\n      <td>7.98</td>\n      <td>11.98</td>\n      <td>9.88</td>\n      <td>13.31</td>\n      <td>17.06</td>\n      <td>12.67</td>\n      <td>14.82</td>\n      <td>...</td>\n      <td>26.18</td>\n      <td>33.99</td>\n      <td>35.17</td>\n      <td>29.99</td>\n      <td>41.22</td>\n      <td>35.81</td>\n      <td>30.94</td>\n      <td>43.30</td>\n      <td>45.50</td>\n      <td>91.56</td>\n    </tr>\n    <tr>\n      <th>2</th>\n      <td>March</td>\n      <td>7.99</td>\n      <td>9.80</td>\n      <td>7.93</td>\n      <td>10.51</td>\n      <td>8.19</td>\n      <td>10.20</td>\n      <td>12.27</td>\n      <td>10.99</td>\n      <td>13.84</td>\n      <td>...</td>\n      <td>25.47</td>\n      <td>34.63</td>\n      <td>36.99</td>\n      <td>28.09</td>\n      <td>40.92</td>\n      <td>42.56</td>\n      <td>35.62</td>\n      <td>45.05</td>\n      <td>50.07</td>\n      <td>108.81</td>\n    </tr>\n    <tr>\n      <th>3</th>\n      <td>April</td>\n      <td>8.29</td>\n      <td>8.37</td>\n      <td>8.33</td>\n      <td>11.63</td>\n      <td>8.09</td>\n      <td>9.82</td>\n      <td>12.53</td>\n      <td>11.21</td>\n      <td>13.94</td>\n      <td>...</td>\n      <td>27.00</td>\n      <td>36.84</td>\n      <td>31.15</td>\n      <td>33.38</td>\n      <td>43.82</td>\n      <td>41.19</td>\n      <td>40.13</td>\n      <td>NaN</td>\n      <td>60.25</td>\n      <td>117.50</td>\n    </tr>\n    <tr>\n      <th>4</th>\n      <td>May</td>\n      <td>8.34</td>\n      <td>8.80</td>\n      <td>9.13</td>\n      <td>12.86</td>\n      <td>8.04</td>\n      <td>10.65</td>\n      <td>12.76</td>\n      <td>11.47</td>\n      <td>14.07</td>\n      <td>...</td>\n      <td>29.54</td>\n      <td>39.10</td>\n      <td>32.39</td>\n      <td>35.67</td>\n      <td>50.34</td>\n      <td>41.56</td>\n      <td>43.92</td>\n      <td>54.00</td>\n      <td>63.58</td>\n      <td>117.35</td>\n    </tr>\n    <tr>\n      <th>5</th>\n      <td>June</td>\n      <td>9.57</td>\n      <td>8.88</td>\n      <td>9.37</td>\n      <td>12.80</td>\n      <td>7.87</td>\n      <td>11.16</td>\n      <td>12.83</td>\n      <td>11.34</td>\n      <td>14.76</td>\n      <td>...</td>\n      <td>28.43</td>\n      <td>41.58</td>\n      <td>32.56</td>\n      <td>34.88</td>\n      <td>52.45</td>\n      <td>NaN</td>\n      <td>41.41</td>\n      <td>53.75</td>\n      <td>57.25</td>\n      <td>138.20</td>\n    </tr>\n    <tr>\n      <th>6</th>\n      <td>July</td>\n      <td>10.27</td>\n      <td>9.67</td>\n      <td>9.50</td>\n      <td>13.19</td>\n      <td>8.08</td>\n      <td>12.73</td>\n      <td>12.12</td>\n      <td>11.13</td>\n      <td>15.33</td>\n      <td>...</td>\n      <td>27.14</td>\n      <td>40.85</td>\n      <td>31.83</td>\n      <td>32.58</td>\n      <td>49.77</td>\n      <td>NaN</td>\n      <td>42.74</td>\n      <td>45.73</td>\n      <td>47.75</td>\n      <td>130.50</td>\n    </tr>\n    <tr>\n      <th>7</th>\n      <td>August</td>\n      <td>11.90</td>\n      <td>10.81</td>\n      <td>8.78</td>\n      <td>11.78</td>\n      <td>9.32</td>\n      <td>12.83</td>\n      <td>12.56</td>\n      <td>11.08</td>\n      <td>16.11</td>\n      <td>...</td>\n      <td>26.28</td>\n      <td>42.01</td>\n      <td>28.31</td>\n      <td>32.02</td>\n      <td>46.72</td>\n      <td>NaN</td>\n      <td>NaN</td>\n      <td>45.52</td>\n      <td>52.73</td>\n      <td>122.93</td>\n    </tr>\n    <tr>\n      <th>8</th>\n      <td>September</td>\n      <td>10.40</td>\n      <td>10.67</td>\n      <td>8.58</td>\n      <td>11.86</td>\n      <td>9.36</td>\n      <td>11.36</td>\n      <td>11.82</td>\n      <td>10.94</td>\n      <td>16.61</td>\n      <td>...</td>\n      <td>27.24</td>\n      <td>44.92</td>\n      <td>28.06</td>\n      <td>34.35</td>\n      <td>48.34</td>\n      <td>40.00</td>\n      <td>49.63</td>\n      <td>NaN</td>\n      <td>60.40</td>\n      <td>117.00</td>\n    </tr>\n    <tr>\n      <th>9</th>\n      <td>October</td>\n      <td>10.08</td>\n      <td>12.39</td>\n      <td>9.77</td>\n      <td>12.23</td>\n      <td>9.88</td>\n      <td>12.22</td>\n      <td>12.56</td>\n      <td>11.80</td>\n      <td>16.62</td>\n      <td>...</td>\n      <td>31.00</td>\n      <td>NaN</td>\n      <td>30.17</td>\n      <td>39.79</td>\n      <td>54.50</td>\n      <td>42.47</td>\n      <td>51.31</td>\n      <td>NaN</td>\n      <td>70.08</td>\n      <td>NaN</td>\n    </tr>\n    <tr>\n      <th>10</th>\n      <td>November</td>\n      <td>11.20</td>\n      <td>12.61</td>\n      <td>10.36</td>\n      <td>11.95</td>\n      <td>11.98</td>\n      <td>13.75</td>\n      <td>12.95</td>\n      <td>13.17</td>\n      <td>NaN</td>\n      <td>...</td>\n      <td>33.98</td>\n      <td>NaN</td>\n      <td>37.15</td>\n      <td>43.58</td>\n      <td>54.67</td>\n      <td>44.27</td>\n      <td>51.48</td>\n      <td>NaN</td>\n      <td>75.33</td>\n      <td>NaN</td>\n    </tr>\n    <tr>\n      <th>11</th>\n      <td>December</td>\n      <td>11.44</td>\n      <td>11.29</td>\n      <td>12.27</td>\n      <td>12.65</td>\n      <td>11.57</td>\n      <td>14.21</td>\n      <td>14.29</td>\n      <td>13.77</td>\n      <td>NaN</td>\n      <td>...</td>\n      <td>36.27</td>\n      <td>NaN</td>\n      <td>38.37</td>\n      <td>48.63</td>\n      <td>54.66</td>\n      <td>NaN</td>\n      <td>54.53</td>\n      <td>NaN</td>\n      <td>81.23</td>\n      <td>NaN</td>\n    </tr>\n  </tbody>\n</table>\n<p>12 rows × 28 columns</p>\n</div>"
     },
     "execution_count": 219,
     "metadata": {},
     "output_type": "execute_result"
    }
   ]
  },
  {
   "cell_type": "code",
   "source": [
    "# Just as we melted in the retail dataframe, the month columns with each year from each row of the\n",
    "# first column. The process is repeated here except that the year is the column in this case and the\n",
    "# month are rows in the first column\n",
    "\n",
    "months = polonnaruwa_producer_prices['Month']\n",
    "months\n",
    "\n",
    "years = polonnaruwa_producer_prices.columns.tolist()\n",
    "years = years[1:]\n",
    "years\n",
    "\n",
    "polonnaruwa_producer_prices = pd.melt(polonnaruwa_producer_prices, id_vars=['Month'], value_vars=years, var_name=\"Year\", value_name='Polonnaruwa_Producer_Price')\n",
    "polonnaruwa_producer_prices['Date'] = pd.to_datetime(polonnaruwa_producer_prices['Year'].astype(str) + '-' + polonnaruwa_producer_prices['Month'].astype(str))\n",
    "polonnaruwa_producer_prices['Date'] = pd.to_datetime(polonnaruwa_producer_prices['Date'])\n",
    "\n",
    "polonnaruwa_producer_prices.drop(['Year','Month'], axis=1, inplace=True)\n",
    "polonnaruwa_producer_prices = polonnaruwa_producer_prices.sort_values(by='Date').reset_index(drop=True)\n",
    "polonnaruwa_producer_prices = polonnaruwa_producer_prices.reindex(columns=['Date', 'Polonnaruwa_Producer_Price'])\n",
    "\n",
    "polonnaruwa_producer_prices.head()"
   ],
   "metadata": {
    "execution": {
     "iopub.status.busy": "2023-02-22T15:01:04.410063Z",
     "iopub.execute_input": "2023-02-22T15:01:04.410939Z",
     "iopub.status.idle": "2023-02-22T15:01:04.466107Z",
     "shell.execute_reply.started": "2023-02-22T15:01:04.410902Z",
     "shell.execute_reply": "2023-02-22T15:01:04.465023Z"
    },
    "trusted": true
   },
   "execution_count": 220,
   "outputs": [
    {
     "data": {
      "text/plain": "        Date  Polonnaruwa_Producer_Price\n0 1996-01-01                        8.18\n1 1996-02-01                        8.76\n2 1996-03-01                        7.99\n3 1996-04-01                        8.29\n4 1996-05-01                        8.34",
      "text/html": "<div>\n<style scoped>\n    .dataframe tbody tr th:only-of-type {\n        vertical-align: middle;\n    }\n\n    .dataframe tbody tr th {\n        vertical-align: top;\n    }\n\n    .dataframe thead th {\n        text-align: right;\n    }\n</style>\n<table border=\"1\" class=\"dataframe\">\n  <thead>\n    <tr style=\"text-align: right;\">\n      <th></th>\n      <th>Date</th>\n      <th>Polonnaruwa_Producer_Price</th>\n    </tr>\n  </thead>\n  <tbody>\n    <tr>\n      <th>0</th>\n      <td>1996-01-01</td>\n      <td>8.18</td>\n    </tr>\n    <tr>\n      <th>1</th>\n      <td>1996-02-01</td>\n      <td>8.76</td>\n    </tr>\n    <tr>\n      <th>2</th>\n      <td>1996-03-01</td>\n      <td>7.99</td>\n    </tr>\n    <tr>\n      <th>3</th>\n      <td>1996-04-01</td>\n      <td>8.29</td>\n    </tr>\n    <tr>\n      <th>4</th>\n      <td>1996-05-01</td>\n      <td>8.34</td>\n    </tr>\n  </tbody>\n</table>\n</div>"
     },
     "execution_count": 220,
     "metadata": {},
     "output_type": "execute_result"
    }
   ]
  },
  {
   "cell_type": "code",
   "source": [
    "anuradhapura_producer_prices['Producer_Price'] = anuradhapura_producer_prices['Anuradhapura_Producer_Price']\n",
    "kurunegala_producer_prices['Producer_Price'] = kurunegala_producer_prices['Kurunegala_Producer_Price']\n",
    "polonnaruwa_producer_prices['Producer_Price'] = polonnaruwa_producer_prices['Polonnaruwa_Producer_Price']\n",
    "\n",
    "# concatenate the dataframes\n",
    "combined_producer_prices = pd.concat([anuradhapura_producer_prices, kurunegala_producer_prices, polonnaruwa_producer_prices], axis=0)\n",
    "\n",
    "# calculate the row-wise averages for the 'Price' column\n",
    "avg_producer_prices = combined_producer_prices.groupby('Date')['Producer_Price'].mean()\n",
    "\n",
    "# missing_values = combined_producer_prices.groupby('Date')['Producer_Price'].apply(lambda x: x.isna().sum())\n",
    "\n",
    "# create a new dataframe with the row-wise averages for each date\n",
    "combined_producer_prices = pd.DataFrame({\n",
    "    'Date': avg_producer_prices.index,\n",
    "    'Producer_Price': avg_producer_prices.values,\n",
    "})\n",
    "\n",
    "combined_producer_prices['Date'] = pd.to_datetime(combined_producer_prices['Date'])\n",
    "combined_producer_prices"
   ],
   "metadata": {
    "execution": {
     "iopub.status.busy": "2023-02-22T15:01:04.467613Z",
     "iopub.execute_input": "2023-02-22T15:01:04.467996Z",
     "iopub.status.idle": "2023-02-22T15:01:04.495503Z",
     "shell.execute_reply.started": "2023-02-22T15:01:04.467966Z",
     "shell.execute_reply": "2023-02-22T15:01:04.494484Z"
    },
    "trusted": true
   },
   "execution_count": 221,
   "outputs": [
    {
     "data": {
      "text/plain": "          Date  Producer_Price\n0   1996-01-01        7.943333\n1   1996-02-01        8.396667\n2   1996-03-01        7.930000\n3   1996-04-01        8.183333\n4   1996-05-01        8.406667\n..         ...             ...\n319 2022-08-01      116.464333\n320 2022-09-01      111.836000\n321 2022-10-01             NaN\n322 2022-11-01             NaN\n323 2022-12-01             NaN\n\n[324 rows x 2 columns]",
      "text/html": "<div>\n<style scoped>\n    .dataframe tbody tr th:only-of-type {\n        vertical-align: middle;\n    }\n\n    .dataframe tbody tr th {\n        vertical-align: top;\n    }\n\n    .dataframe thead th {\n        text-align: right;\n    }\n</style>\n<table border=\"1\" class=\"dataframe\">\n  <thead>\n    <tr style=\"text-align: right;\">\n      <th></th>\n      <th>Date</th>\n      <th>Producer_Price</th>\n    </tr>\n  </thead>\n  <tbody>\n    <tr>\n      <th>0</th>\n      <td>1996-01-01</td>\n      <td>7.943333</td>\n    </tr>\n    <tr>\n      <th>1</th>\n      <td>1996-02-01</td>\n      <td>8.396667</td>\n    </tr>\n    <tr>\n      <th>2</th>\n      <td>1996-03-01</td>\n      <td>7.930000</td>\n    </tr>\n    <tr>\n      <th>3</th>\n      <td>1996-04-01</td>\n      <td>8.183333</td>\n    </tr>\n    <tr>\n      <th>4</th>\n      <td>1996-05-01</td>\n      <td>8.406667</td>\n    </tr>\n    <tr>\n      <th>...</th>\n      <td>...</td>\n      <td>...</td>\n    </tr>\n    <tr>\n      <th>319</th>\n      <td>2022-08-01</td>\n      <td>116.464333</td>\n    </tr>\n    <tr>\n      <th>320</th>\n      <td>2022-09-01</td>\n      <td>111.836000</td>\n    </tr>\n    <tr>\n      <th>321</th>\n      <td>2022-10-01</td>\n      <td>NaN</td>\n    </tr>\n    <tr>\n      <th>322</th>\n      <td>2022-11-01</td>\n      <td>NaN</td>\n    </tr>\n    <tr>\n      <th>323</th>\n      <td>2022-12-01</td>\n      <td>NaN</td>\n    </tr>\n  </tbody>\n</table>\n<p>324 rows × 2 columns</p>\n</div>"
     },
     "execution_count": 221,
     "metadata": {},
     "output_type": "execute_result"
    }
   ]
  },
  {
   "cell_type": "code",
   "source": [
    "anuradhapura_producer_prices.drop('Producer_Price', axis=1, inplace=True)\n",
    "kurunegala_producer_prices.drop('Producer_Price', axis=1, inplace=True)\n",
    "polonnaruwa_producer_prices.drop('Producer_Price', axis=1, inplace=True)"
   ],
   "metadata": {
    "execution": {
     "iopub.status.busy": "2023-02-22T15:01:04.496485Z",
     "iopub.execute_input": "2023-02-22T15:01:04.496829Z",
     "iopub.status.idle": "2023-02-22T15:01:04.507119Z",
     "shell.execute_reply.started": "2023-02-22T15:01:04.496798Z",
     "shell.execute_reply": "2023-02-22T15:01:04.505835Z"
    },
    "trusted": true
   },
   "execution_count": 222,
   "outputs": []
  },
  {
   "cell_type": "markdown",
   "source": [
    "## Paddy Production (Maha, Yala and Total)\n",
    "\n",
    "**In Sri Lanka, \"Maha\" and \"Yala\" are two major rice cultivation seasons, which are determined by the monsoon rains.**\n",
    "\n",
    "**The Maha season typically runs from October/November to February/March, while the Yala season runs from April/May to September. However, the exact timing of the seasons may vary slightly from year to year depending on the weather conditions.**\n",
    "\n",
    "**During the Maha season, the north and eastern parts of Sri Lanka receive the majority of their rainfall, while during the Yala season, the southwestern monsoon brings rainfall to the rest of the country. These seasonal rains are crucial for the cultivation of rice, which is a staple food in Sri Lanka.**\n"
   ],
   "metadata": {}
  },
  {
   "cell_type": "code",
   "source": [
    "paddy_production = pd.read_csv('dataset/unprocessed/total_paddy_production.csv')\n",
    "paddy_production.rename(columns={'Date': 'Year'}, inplace=True)\n",
    "paddy_production"
   ],
   "metadata": {
    "execution": {
     "iopub.status.busy": "2023-02-22T15:01:04.509120Z",
     "iopub.execute_input": "2023-02-22T15:01:04.509565Z",
     "iopub.status.idle": "2023-02-22T15:01:04.536422Z",
     "shell.execute_reply.started": "2023-02-22T15:01:04.509511Z",
     "shell.execute_reply": "2023-02-22T15:01:04.535233Z"
    },
    "trusted": true
   },
   "execution_count": 223,
   "outputs": [
    {
     "data": {
      "text/plain": "    Year     Maha      Yala     Total\n0   1996  1333.60   731.500  2065.100\n1   1997  1459.60   783.700  2243.300\n2   1998  1784.20   912.800  2697.000\n3   1999  1738.80  1123.300  2862.100\n4   2000  1781.20  1077.600  2858.800\n5   2001  1614.00  1083.000  2696.900\n6   2002  1774.50  1089.100  2863.700\n7   2003  1896.80  1172.200  3069.000\n8   2004  1669.70   958.200  2627.800\n9   2005  2012.70  1233.500  3246.200\n10  2006  2135.60  1206.300  3341.900\n11  2007  1973.10  1158.200  3131.300\n12  2008  2126.00  1750.400  3876.400\n13  2009  2384.00  1267.700  3651.700\n14  2010  2629.60  1671.100  4300.600\n15  2011  1996.20  1898.000  3894.200\n16  2012  2717.00  1129.000  3845.900\n17  2013  2846.30  1774.500  4620.700\n18  2014  2235.90  1144.900  3380.800\n19  2015  2877.00  1942.400  4819.400\n20  2016  2902.69  1517.390  4420.090\n21  2017  1473.83   909.320  2383.150\n22  2018  2396.93  1532.910  3929.830\n23  2019  3072.58  1519.480  4592.060\n24  2020  3196.75  1924.170  5120.920\n25  2021  3061.39  2088.200  5149.600\n26  2022  1931.20  1461.675  3392.875",
      "text/html": "<div>\n<style scoped>\n    .dataframe tbody tr th:only-of-type {\n        vertical-align: middle;\n    }\n\n    .dataframe tbody tr th {\n        vertical-align: top;\n    }\n\n    .dataframe thead th {\n        text-align: right;\n    }\n</style>\n<table border=\"1\" class=\"dataframe\">\n  <thead>\n    <tr style=\"text-align: right;\">\n      <th></th>\n      <th>Year</th>\n      <th>Maha</th>\n      <th>Yala</th>\n      <th>Total</th>\n    </tr>\n  </thead>\n  <tbody>\n    <tr>\n      <th>0</th>\n      <td>1996</td>\n      <td>1333.60</td>\n      <td>731.500</td>\n      <td>2065.100</td>\n    </tr>\n    <tr>\n      <th>1</th>\n      <td>1997</td>\n      <td>1459.60</td>\n      <td>783.700</td>\n      <td>2243.300</td>\n    </tr>\n    <tr>\n      <th>2</th>\n      <td>1998</td>\n      <td>1784.20</td>\n      <td>912.800</td>\n      <td>2697.000</td>\n    </tr>\n    <tr>\n      <th>3</th>\n      <td>1999</td>\n      <td>1738.80</td>\n      <td>1123.300</td>\n      <td>2862.100</td>\n    </tr>\n    <tr>\n      <th>4</th>\n      <td>2000</td>\n      <td>1781.20</td>\n      <td>1077.600</td>\n      <td>2858.800</td>\n    </tr>\n    <tr>\n      <th>5</th>\n      <td>2001</td>\n      <td>1614.00</td>\n      <td>1083.000</td>\n      <td>2696.900</td>\n    </tr>\n    <tr>\n      <th>6</th>\n      <td>2002</td>\n      <td>1774.50</td>\n      <td>1089.100</td>\n      <td>2863.700</td>\n    </tr>\n    <tr>\n      <th>7</th>\n      <td>2003</td>\n      <td>1896.80</td>\n      <td>1172.200</td>\n      <td>3069.000</td>\n    </tr>\n    <tr>\n      <th>8</th>\n      <td>2004</td>\n      <td>1669.70</td>\n      <td>958.200</td>\n      <td>2627.800</td>\n    </tr>\n    <tr>\n      <th>9</th>\n      <td>2005</td>\n      <td>2012.70</td>\n      <td>1233.500</td>\n      <td>3246.200</td>\n    </tr>\n    <tr>\n      <th>10</th>\n      <td>2006</td>\n      <td>2135.60</td>\n      <td>1206.300</td>\n      <td>3341.900</td>\n    </tr>\n    <tr>\n      <th>11</th>\n      <td>2007</td>\n      <td>1973.10</td>\n      <td>1158.200</td>\n      <td>3131.300</td>\n    </tr>\n    <tr>\n      <th>12</th>\n      <td>2008</td>\n      <td>2126.00</td>\n      <td>1750.400</td>\n      <td>3876.400</td>\n    </tr>\n    <tr>\n      <th>13</th>\n      <td>2009</td>\n      <td>2384.00</td>\n      <td>1267.700</td>\n      <td>3651.700</td>\n    </tr>\n    <tr>\n      <th>14</th>\n      <td>2010</td>\n      <td>2629.60</td>\n      <td>1671.100</td>\n      <td>4300.600</td>\n    </tr>\n    <tr>\n      <th>15</th>\n      <td>2011</td>\n      <td>1996.20</td>\n      <td>1898.000</td>\n      <td>3894.200</td>\n    </tr>\n    <tr>\n      <th>16</th>\n      <td>2012</td>\n      <td>2717.00</td>\n      <td>1129.000</td>\n      <td>3845.900</td>\n    </tr>\n    <tr>\n      <th>17</th>\n      <td>2013</td>\n      <td>2846.30</td>\n      <td>1774.500</td>\n      <td>4620.700</td>\n    </tr>\n    <tr>\n      <th>18</th>\n      <td>2014</td>\n      <td>2235.90</td>\n      <td>1144.900</td>\n      <td>3380.800</td>\n    </tr>\n    <tr>\n      <th>19</th>\n      <td>2015</td>\n      <td>2877.00</td>\n      <td>1942.400</td>\n      <td>4819.400</td>\n    </tr>\n    <tr>\n      <th>20</th>\n      <td>2016</td>\n      <td>2902.69</td>\n      <td>1517.390</td>\n      <td>4420.090</td>\n    </tr>\n    <tr>\n      <th>21</th>\n      <td>2017</td>\n      <td>1473.83</td>\n      <td>909.320</td>\n      <td>2383.150</td>\n    </tr>\n    <tr>\n      <th>22</th>\n      <td>2018</td>\n      <td>2396.93</td>\n      <td>1532.910</td>\n      <td>3929.830</td>\n    </tr>\n    <tr>\n      <th>23</th>\n      <td>2019</td>\n      <td>3072.58</td>\n      <td>1519.480</td>\n      <td>4592.060</td>\n    </tr>\n    <tr>\n      <th>24</th>\n      <td>2020</td>\n      <td>3196.75</td>\n      <td>1924.170</td>\n      <td>5120.920</td>\n    </tr>\n    <tr>\n      <th>25</th>\n      <td>2021</td>\n      <td>3061.39</td>\n      <td>2088.200</td>\n      <td>5149.600</td>\n    </tr>\n    <tr>\n      <th>26</th>\n      <td>2022</td>\n      <td>1931.20</td>\n      <td>1461.675</td>\n      <td>3392.875</td>\n    </tr>\n  </tbody>\n</table>\n</div>"
     },
     "execution_count": 223,
     "metadata": {},
     "output_type": "execute_result"
    }
   ]
  },
  {
   "cell_type": "code",
   "source": [
    "# Convert the 'Year' column to datetime format\n",
    "paddy_production['Year'] = pd.to_datetime(paddy_production['Year'], format='%Y')\n",
    "paddy_production\n",
    "\n",
    "# Create a list of monthly dates between January 1996 and December 2022\n",
    "dates = pd.date_range(start='1996-01-01', end='2022-12-31', freq='MS')\n",
    "\n",
    "# Create a new DataFrame with the monthly dates as the index\n",
    "monthly_df = pd.DataFrame(index=dates)\n",
    "\n",
    "# Merge the year and paddy production data with the monthly DataFrame\n",
    "monthly_dates = pd.date_range(start='1996-01-01', end='2022-12-01', freq='MS')\n",
    "monthly_df['Year'] = monthly_df.index.strftime('%Y')\n",
    "monthly_df = monthly_df.reset_index().rename(columns={'index': 'Date'})\n",
    "\n",
    "# Merge the year and paddy production data with the monthly DataFrame\n",
    "monthly_df['Year'] = pd.to_datetime(monthly_df['Year'])\n",
    "monthly_df = pd.merge(monthly_df, paddy_production, on='Year')\n",
    "\n",
    "\n",
    "def classify_yaha_mala(row):\n",
    "    date = row[\"Date\"]\n",
    "    \n",
    "    if date.month >= 10 or date.month <= 4:\n",
    "        return row[\"Maha\"]\n",
    "    else:\n",
    "        return row[\"Yala\"]\n",
    "    \n",
    "def classify_total_production(row):\n",
    "    return row[\"Total\"]\n",
    "    \n",
    "# Fill the missing values\n",
    "monthly_df[\"Production\"] = monthly_df.apply(classify_yaha_mala, axis=1)\n",
    "monthly_df[\"Production_Total\"] = monthly_df.apply(classify_total_production, axis=1)\n",
    "\n",
    "# Drop unwanted Columns\n",
    "monthly_df.drop(['Year', 'Maha', 'Yala', 'Total'], axis=1, inplace=True)\n",
    "\n",
    "monthly_df.head(50)"
   ],
   "metadata": {
    "execution": {
     "iopub.status.busy": "2023-02-22T15:01:04.538474Z",
     "iopub.execute_input": "2023-02-22T15:01:04.539245Z",
     "iopub.status.idle": "2023-02-22T15:01:04.606240Z",
     "shell.execute_reply.started": "2023-02-22T15:01:04.539194Z",
     "shell.execute_reply": "2023-02-22T15:01:04.604930Z"
    },
    "trusted": true
   },
   "execution_count": 224,
   "outputs": [
    {
     "data": {
      "text/plain": "         Date  Production  Production_Total\n0  1996-01-01      1333.6            2065.1\n1  1996-02-01      1333.6            2065.1\n2  1996-03-01      1333.6            2065.1\n3  1996-04-01      1333.6            2065.1\n4  1996-05-01       731.5            2065.1\n5  1996-06-01       731.5            2065.1\n6  1996-07-01       731.5            2065.1\n7  1996-08-01       731.5            2065.1\n8  1996-09-01       731.5            2065.1\n9  1996-10-01      1333.6            2065.1\n10 1996-11-01      1333.6            2065.1\n11 1996-12-01      1333.6            2065.1\n12 1997-01-01      1459.6            2243.3\n13 1997-02-01      1459.6            2243.3\n14 1997-03-01      1459.6            2243.3\n15 1997-04-01      1459.6            2243.3\n16 1997-05-01       783.7            2243.3\n17 1997-06-01       783.7            2243.3\n18 1997-07-01       783.7            2243.3\n19 1997-08-01       783.7            2243.3\n20 1997-09-01       783.7            2243.3\n21 1997-10-01      1459.6            2243.3\n22 1997-11-01      1459.6            2243.3\n23 1997-12-01      1459.6            2243.3\n24 1998-01-01      1784.2            2697.0\n25 1998-02-01      1784.2            2697.0\n26 1998-03-01      1784.2            2697.0\n27 1998-04-01      1784.2            2697.0\n28 1998-05-01       912.8            2697.0\n29 1998-06-01       912.8            2697.0\n30 1998-07-01       912.8            2697.0\n31 1998-08-01       912.8            2697.0\n32 1998-09-01       912.8            2697.0\n33 1998-10-01      1784.2            2697.0\n34 1998-11-01      1784.2            2697.0\n35 1998-12-01      1784.2            2697.0\n36 1999-01-01      1738.8            2862.1\n37 1999-02-01      1738.8            2862.1\n38 1999-03-01      1738.8            2862.1\n39 1999-04-01      1738.8            2862.1\n40 1999-05-01      1123.3            2862.1\n41 1999-06-01      1123.3            2862.1\n42 1999-07-01      1123.3            2862.1\n43 1999-08-01      1123.3            2862.1\n44 1999-09-01      1123.3            2862.1\n45 1999-10-01      1738.8            2862.1\n46 1999-11-01      1738.8            2862.1\n47 1999-12-01      1738.8            2862.1\n48 2000-01-01      1781.2            2858.8\n49 2000-02-01      1781.2            2858.8",
      "text/html": "<div>\n<style scoped>\n    .dataframe tbody tr th:only-of-type {\n        vertical-align: middle;\n    }\n\n    .dataframe tbody tr th {\n        vertical-align: top;\n    }\n\n    .dataframe thead th {\n        text-align: right;\n    }\n</style>\n<table border=\"1\" class=\"dataframe\">\n  <thead>\n    <tr style=\"text-align: right;\">\n      <th></th>\n      <th>Date</th>\n      <th>Production</th>\n      <th>Production_Total</th>\n    </tr>\n  </thead>\n  <tbody>\n    <tr>\n      <th>0</th>\n      <td>1996-01-01</td>\n      <td>1333.6</td>\n      <td>2065.1</td>\n    </tr>\n    <tr>\n      <th>1</th>\n      <td>1996-02-01</td>\n      <td>1333.6</td>\n      <td>2065.1</td>\n    </tr>\n    <tr>\n      <th>2</th>\n      <td>1996-03-01</td>\n      <td>1333.6</td>\n      <td>2065.1</td>\n    </tr>\n    <tr>\n      <th>3</th>\n      <td>1996-04-01</td>\n      <td>1333.6</td>\n      <td>2065.1</td>\n    </tr>\n    <tr>\n      <th>4</th>\n      <td>1996-05-01</td>\n      <td>731.5</td>\n      <td>2065.1</td>\n    </tr>\n    <tr>\n      <th>5</th>\n      <td>1996-06-01</td>\n      <td>731.5</td>\n      <td>2065.1</td>\n    </tr>\n    <tr>\n      <th>6</th>\n      <td>1996-07-01</td>\n      <td>731.5</td>\n      <td>2065.1</td>\n    </tr>\n    <tr>\n      <th>7</th>\n      <td>1996-08-01</td>\n      <td>731.5</td>\n      <td>2065.1</td>\n    </tr>\n    <tr>\n      <th>8</th>\n      <td>1996-09-01</td>\n      <td>731.5</td>\n      <td>2065.1</td>\n    </tr>\n    <tr>\n      <th>9</th>\n      <td>1996-10-01</td>\n      <td>1333.6</td>\n      <td>2065.1</td>\n    </tr>\n    <tr>\n      <th>10</th>\n      <td>1996-11-01</td>\n      <td>1333.6</td>\n      <td>2065.1</td>\n    </tr>\n    <tr>\n      <th>11</th>\n      <td>1996-12-01</td>\n      <td>1333.6</td>\n      <td>2065.1</td>\n    </tr>\n    <tr>\n      <th>12</th>\n      <td>1997-01-01</td>\n      <td>1459.6</td>\n      <td>2243.3</td>\n    </tr>\n    <tr>\n      <th>13</th>\n      <td>1997-02-01</td>\n      <td>1459.6</td>\n      <td>2243.3</td>\n    </tr>\n    <tr>\n      <th>14</th>\n      <td>1997-03-01</td>\n      <td>1459.6</td>\n      <td>2243.3</td>\n    </tr>\n    <tr>\n      <th>15</th>\n      <td>1997-04-01</td>\n      <td>1459.6</td>\n      <td>2243.3</td>\n    </tr>\n    <tr>\n      <th>16</th>\n      <td>1997-05-01</td>\n      <td>783.7</td>\n      <td>2243.3</td>\n    </tr>\n    <tr>\n      <th>17</th>\n      <td>1997-06-01</td>\n      <td>783.7</td>\n      <td>2243.3</td>\n    </tr>\n    <tr>\n      <th>18</th>\n      <td>1997-07-01</td>\n      <td>783.7</td>\n      <td>2243.3</td>\n    </tr>\n    <tr>\n      <th>19</th>\n      <td>1997-08-01</td>\n      <td>783.7</td>\n      <td>2243.3</td>\n    </tr>\n    <tr>\n      <th>20</th>\n      <td>1997-09-01</td>\n      <td>783.7</td>\n      <td>2243.3</td>\n    </tr>\n    <tr>\n      <th>21</th>\n      <td>1997-10-01</td>\n      <td>1459.6</td>\n      <td>2243.3</td>\n    </tr>\n    <tr>\n      <th>22</th>\n      <td>1997-11-01</td>\n      <td>1459.6</td>\n      <td>2243.3</td>\n    </tr>\n    <tr>\n      <th>23</th>\n      <td>1997-12-01</td>\n      <td>1459.6</td>\n      <td>2243.3</td>\n    </tr>\n    <tr>\n      <th>24</th>\n      <td>1998-01-01</td>\n      <td>1784.2</td>\n      <td>2697.0</td>\n    </tr>\n    <tr>\n      <th>25</th>\n      <td>1998-02-01</td>\n      <td>1784.2</td>\n      <td>2697.0</td>\n    </tr>\n    <tr>\n      <th>26</th>\n      <td>1998-03-01</td>\n      <td>1784.2</td>\n      <td>2697.0</td>\n    </tr>\n    <tr>\n      <th>27</th>\n      <td>1998-04-01</td>\n      <td>1784.2</td>\n      <td>2697.0</td>\n    </tr>\n    <tr>\n      <th>28</th>\n      <td>1998-05-01</td>\n      <td>912.8</td>\n      <td>2697.0</td>\n    </tr>\n    <tr>\n      <th>29</th>\n      <td>1998-06-01</td>\n      <td>912.8</td>\n      <td>2697.0</td>\n    </tr>\n    <tr>\n      <th>30</th>\n      <td>1998-07-01</td>\n      <td>912.8</td>\n      <td>2697.0</td>\n    </tr>\n    <tr>\n      <th>31</th>\n      <td>1998-08-01</td>\n      <td>912.8</td>\n      <td>2697.0</td>\n    </tr>\n    <tr>\n      <th>32</th>\n      <td>1998-09-01</td>\n      <td>912.8</td>\n      <td>2697.0</td>\n    </tr>\n    <tr>\n      <th>33</th>\n      <td>1998-10-01</td>\n      <td>1784.2</td>\n      <td>2697.0</td>\n    </tr>\n    <tr>\n      <th>34</th>\n      <td>1998-11-01</td>\n      <td>1784.2</td>\n      <td>2697.0</td>\n    </tr>\n    <tr>\n      <th>35</th>\n      <td>1998-12-01</td>\n      <td>1784.2</td>\n      <td>2697.0</td>\n    </tr>\n    <tr>\n      <th>36</th>\n      <td>1999-01-01</td>\n      <td>1738.8</td>\n      <td>2862.1</td>\n    </tr>\n    <tr>\n      <th>37</th>\n      <td>1999-02-01</td>\n      <td>1738.8</td>\n      <td>2862.1</td>\n    </tr>\n    <tr>\n      <th>38</th>\n      <td>1999-03-01</td>\n      <td>1738.8</td>\n      <td>2862.1</td>\n    </tr>\n    <tr>\n      <th>39</th>\n      <td>1999-04-01</td>\n      <td>1738.8</td>\n      <td>2862.1</td>\n    </tr>\n    <tr>\n      <th>40</th>\n      <td>1999-05-01</td>\n      <td>1123.3</td>\n      <td>2862.1</td>\n    </tr>\n    <tr>\n      <th>41</th>\n      <td>1999-06-01</td>\n      <td>1123.3</td>\n      <td>2862.1</td>\n    </tr>\n    <tr>\n      <th>42</th>\n      <td>1999-07-01</td>\n      <td>1123.3</td>\n      <td>2862.1</td>\n    </tr>\n    <tr>\n      <th>43</th>\n      <td>1999-08-01</td>\n      <td>1123.3</td>\n      <td>2862.1</td>\n    </tr>\n    <tr>\n      <th>44</th>\n      <td>1999-09-01</td>\n      <td>1123.3</td>\n      <td>2862.1</td>\n    </tr>\n    <tr>\n      <th>45</th>\n      <td>1999-10-01</td>\n      <td>1738.8</td>\n      <td>2862.1</td>\n    </tr>\n    <tr>\n      <th>46</th>\n      <td>1999-11-01</td>\n      <td>1738.8</td>\n      <td>2862.1</td>\n    </tr>\n    <tr>\n      <th>47</th>\n      <td>1999-12-01</td>\n      <td>1738.8</td>\n      <td>2862.1</td>\n    </tr>\n    <tr>\n      <th>48</th>\n      <td>2000-01-01</td>\n      <td>1781.2</td>\n      <td>2858.8</td>\n    </tr>\n    <tr>\n      <th>49</th>\n      <td>2000-02-01</td>\n      <td>1781.2</td>\n      <td>2858.8</td>\n    </tr>\n  </tbody>\n</table>\n</div>"
     },
     "execution_count": 224,
     "metadata": {},
     "output_type": "execute_result"
    }
   ]
  },
  {
   "cell_type": "markdown",
   "source": [
    "## Exchange Rate (USD to LKR)\n"
   ],
   "metadata": {}
  },
  {
   "cell_type": "code",
   "source": [
    "exchange_rate = pd.read_csv('dataset/unprocessed/exchange_rate.csv')\n",
    "exchange_rate"
   ],
   "metadata": {
    "execution": {
     "iopub.status.busy": "2023-02-22T15:01:04.607910Z",
     "iopub.execute_input": "2023-02-22T15:01:04.608415Z",
     "iopub.status.idle": "2023-02-22T15:01:04.637166Z",
     "shell.execute_reply.started": "2023-02-22T15:01:04.608358Z",
     "shell.execute_reply": "2023-02-22T15:01:04.635845Z"
    },
    "trusted": true
   },
   "execution_count": 225,
   "outputs": [
    {
     "data": {
      "text/plain": "           Date    Price     Open     High     Low  Vol. Change %\n0    02/01/2023  366.000  364.000  368.500  360.50   NaN   -0.41%\n1    01/01/2023  367.500  367.500  369.000  360.50   NaN    0.00%\n2    12/01/2022  367.500  368.500  370.380  362.00   NaN   -0.27%\n3    11/01/2022  368.500  365.500  370.500  360.50   NaN    1.52%\n4    10/01/2022  363.000  365.495  370.635  355.78   NaN   -0.68%\n..          ...      ...      ...      ...     ...   ...      ...\n321  05/01/1996   54.950   54.800   54.950   54.80   NaN    0.39%\n322  04/01/1996   54.735   54.700   54.735   54.70   NaN    1.96%\n323  03/01/1996   53.685   53.650   53.685   53.65   NaN    0.00%\n324  02/01/1996   53.685   53.650   53.685   53.65   NaN    0.00%\n325  01/01/1996   53.685   53.650   53.685   53.65   NaN   -0.68%\n\n[326 rows x 7 columns]",
      "text/html": "<div>\n<style scoped>\n    .dataframe tbody tr th:only-of-type {\n        vertical-align: middle;\n    }\n\n    .dataframe tbody tr th {\n        vertical-align: top;\n    }\n\n    .dataframe thead th {\n        text-align: right;\n    }\n</style>\n<table border=\"1\" class=\"dataframe\">\n  <thead>\n    <tr style=\"text-align: right;\">\n      <th></th>\n      <th>Date</th>\n      <th>Price</th>\n      <th>Open</th>\n      <th>High</th>\n      <th>Low</th>\n      <th>Vol.</th>\n      <th>Change %</th>\n    </tr>\n  </thead>\n  <tbody>\n    <tr>\n      <th>0</th>\n      <td>02/01/2023</td>\n      <td>366.000</td>\n      <td>364.000</td>\n      <td>368.500</td>\n      <td>360.50</td>\n      <td>NaN</td>\n      <td>-0.41%</td>\n    </tr>\n    <tr>\n      <th>1</th>\n      <td>01/01/2023</td>\n      <td>367.500</td>\n      <td>367.500</td>\n      <td>369.000</td>\n      <td>360.50</td>\n      <td>NaN</td>\n      <td>0.00%</td>\n    </tr>\n    <tr>\n      <th>2</th>\n      <td>12/01/2022</td>\n      <td>367.500</td>\n      <td>368.500</td>\n      <td>370.380</td>\n      <td>362.00</td>\n      <td>NaN</td>\n      <td>-0.27%</td>\n    </tr>\n    <tr>\n      <th>3</th>\n      <td>11/01/2022</td>\n      <td>368.500</td>\n      <td>365.500</td>\n      <td>370.500</td>\n      <td>360.50</td>\n      <td>NaN</td>\n      <td>1.52%</td>\n    </tr>\n    <tr>\n      <th>4</th>\n      <td>10/01/2022</td>\n      <td>363.000</td>\n      <td>365.495</td>\n      <td>370.635</td>\n      <td>355.78</td>\n      <td>NaN</td>\n      <td>-0.68%</td>\n    </tr>\n    <tr>\n      <th>...</th>\n      <td>...</td>\n      <td>...</td>\n      <td>...</td>\n      <td>...</td>\n      <td>...</td>\n      <td>...</td>\n      <td>...</td>\n    </tr>\n    <tr>\n      <th>321</th>\n      <td>05/01/1996</td>\n      <td>54.950</td>\n      <td>54.800</td>\n      <td>54.950</td>\n      <td>54.80</td>\n      <td>NaN</td>\n      <td>0.39%</td>\n    </tr>\n    <tr>\n      <th>322</th>\n      <td>04/01/1996</td>\n      <td>54.735</td>\n      <td>54.700</td>\n      <td>54.735</td>\n      <td>54.70</td>\n      <td>NaN</td>\n      <td>1.96%</td>\n    </tr>\n    <tr>\n      <th>323</th>\n      <td>03/01/1996</td>\n      <td>53.685</td>\n      <td>53.650</td>\n      <td>53.685</td>\n      <td>53.65</td>\n      <td>NaN</td>\n      <td>0.00%</td>\n    </tr>\n    <tr>\n      <th>324</th>\n      <td>02/01/1996</td>\n      <td>53.685</td>\n      <td>53.650</td>\n      <td>53.685</td>\n      <td>53.65</td>\n      <td>NaN</td>\n      <td>0.00%</td>\n    </tr>\n    <tr>\n      <th>325</th>\n      <td>01/01/1996</td>\n      <td>53.685</td>\n      <td>53.650</td>\n      <td>53.685</td>\n      <td>53.65</td>\n      <td>NaN</td>\n      <td>-0.68%</td>\n    </tr>\n  </tbody>\n</table>\n<p>326 rows × 7 columns</p>\n</div>"
     },
     "execution_count": 225,
     "metadata": {},
     "output_type": "execute_result"
    }
   ]
  },
  {
   "cell_type": "code",
   "source": [
    "# Convert 'Date' into datetime\n",
    "exchange_rate['Date'] = pd.to_datetime(exchange_rate['Date'], format='%m/%d/%Y')\n",
    "\n",
    "# Sort the values based on the date\n",
    "exchange_rate = exchange_rate.sort_values(by='Date').reset_index(drop=True)\n",
    "\n",
    "# Set 'Date' column as index\n",
    "exchange_rate = exchange_rate.set_index('Date')\n",
    "\n",
    "# Convert column to float from string  \n",
    "exchange_rate['Exchange_Rate'] = exchange_rate['Price'].astype(float)\n",
    "\n",
    "exchange_rate = exchange_rate.drop(['Price', 'Open', 'High', 'Low', 'Vol.', 'Change %'], axis=1)\n",
    "exchange_rate"
   ],
   "metadata": {
    "execution": {
     "iopub.status.busy": "2023-02-22T15:01:04.638611Z",
     "iopub.execute_input": "2023-02-22T15:01:04.638973Z",
     "iopub.status.idle": "2023-02-22T15:01:04.663035Z",
     "shell.execute_reply.started": "2023-02-22T15:01:04.638941Z",
     "shell.execute_reply": "2023-02-22T15:01:04.661440Z"
    },
    "trusted": true
   },
   "execution_count": 226,
   "outputs": [
    {
     "data": {
      "text/plain": "            Exchange_Rate\nDate                     \n1996-01-01         53.685\n1996-02-01         53.685\n1996-03-01         53.685\n1996-04-01         54.735\n1996-05-01         54.950\n...                   ...\n2022-10-01        363.000\n2022-11-01        368.500\n2022-12-01        367.500\n2023-01-01        367.500\n2023-02-01        366.000\n\n[326 rows x 1 columns]",
      "text/html": "<div>\n<style scoped>\n    .dataframe tbody tr th:only-of-type {\n        vertical-align: middle;\n    }\n\n    .dataframe tbody tr th {\n        vertical-align: top;\n    }\n\n    .dataframe thead th {\n        text-align: right;\n    }\n</style>\n<table border=\"1\" class=\"dataframe\">\n  <thead>\n    <tr style=\"text-align: right;\">\n      <th></th>\n      <th>Exchange_Rate</th>\n    </tr>\n    <tr>\n      <th>Date</th>\n      <th></th>\n    </tr>\n  </thead>\n  <tbody>\n    <tr>\n      <th>1996-01-01</th>\n      <td>53.685</td>\n    </tr>\n    <tr>\n      <th>1996-02-01</th>\n      <td>53.685</td>\n    </tr>\n    <tr>\n      <th>1996-03-01</th>\n      <td>53.685</td>\n    </tr>\n    <tr>\n      <th>1996-04-01</th>\n      <td>54.735</td>\n    </tr>\n    <tr>\n      <th>1996-05-01</th>\n      <td>54.950</td>\n    </tr>\n    <tr>\n      <th>...</th>\n      <td>...</td>\n    </tr>\n    <tr>\n      <th>2022-10-01</th>\n      <td>363.000</td>\n    </tr>\n    <tr>\n      <th>2022-11-01</th>\n      <td>368.500</td>\n    </tr>\n    <tr>\n      <th>2022-12-01</th>\n      <td>367.500</td>\n    </tr>\n    <tr>\n      <th>2023-01-01</th>\n      <td>367.500</td>\n    </tr>\n    <tr>\n      <th>2023-02-01</th>\n      <td>366.000</td>\n    </tr>\n  </tbody>\n</table>\n<p>326 rows × 1 columns</p>\n</div>"
     },
     "execution_count": 226,
     "metadata": {},
     "output_type": "execute_result"
    }
   ]
  },
  {
   "cell_type": "markdown",
   "source": [
    "## **Scraped Data**\n",
    "\n",
    "**Scraped data are already preprocessed in the notebooks that scraped the data in the *data_scrapes* dir**\n",
    "\n",
    "Data was scraped from the following websites:\n",
    "[**Fuel Prices**](www.ceypetco.gov.lk)"
   ],
   "metadata": {
    "collapsed": false
   }
  },
  {
   "cell_type": "markdown",
   "source": [
    "### **Fuel Prices (CEYPETCO)**"
   ],
   "metadata": {
    "collapsed": false
   }
  },
  {
   "cell_type": "code",
   "execution_count": 227,
   "outputs": [
    {
     "data": {
      "text/plain": "           Date    LAD\n0    1990-03-01    9.6\n1    1990-04-01    9.6\n2    1990-05-01    9.6\n3    1990-06-01    9.6\n4    1990-07-01    9.6\n..          ...    ...\n391  2022-10-01  430.0\n392  2022-11-01  430.0\n393  2022-12-01  420.0\n394  2023-01-01  405.0\n395  2023-02-01  405.0\n\n[396 rows x 2 columns]",
      "text/html": "<div>\n<style scoped>\n    .dataframe tbody tr th:only-of-type {\n        vertical-align: middle;\n    }\n\n    .dataframe tbody tr th {\n        vertical-align: top;\n    }\n\n    .dataframe thead th {\n        text-align: right;\n    }\n</style>\n<table border=\"1\" class=\"dataframe\">\n  <thead>\n    <tr style=\"text-align: right;\">\n      <th></th>\n      <th>Date</th>\n      <th>LAD</th>\n    </tr>\n  </thead>\n  <tbody>\n    <tr>\n      <th>0</th>\n      <td>1990-03-01</td>\n      <td>9.6</td>\n    </tr>\n    <tr>\n      <th>1</th>\n      <td>1990-04-01</td>\n      <td>9.6</td>\n    </tr>\n    <tr>\n      <th>2</th>\n      <td>1990-05-01</td>\n      <td>9.6</td>\n    </tr>\n    <tr>\n      <th>3</th>\n      <td>1990-06-01</td>\n      <td>9.6</td>\n    </tr>\n    <tr>\n      <th>4</th>\n      <td>1990-07-01</td>\n      <td>9.6</td>\n    </tr>\n    <tr>\n      <th>...</th>\n      <td>...</td>\n      <td>...</td>\n    </tr>\n    <tr>\n      <th>391</th>\n      <td>2022-10-01</td>\n      <td>430.0</td>\n    </tr>\n    <tr>\n      <th>392</th>\n      <td>2022-11-01</td>\n      <td>430.0</td>\n    </tr>\n    <tr>\n      <th>393</th>\n      <td>2022-12-01</td>\n      <td>420.0</td>\n    </tr>\n    <tr>\n      <th>394</th>\n      <td>2023-01-01</td>\n      <td>405.0</td>\n    </tr>\n    <tr>\n      <th>395</th>\n      <td>2023-02-01</td>\n      <td>405.0</td>\n    </tr>\n  </tbody>\n</table>\n<p>396 rows × 2 columns</p>\n</div>"
     },
     "execution_count": 227,
     "metadata": {},
     "output_type": "execute_result"
    }
   ],
   "source": [
    "fuel_prices = pd.read_csv('dataset/unprocessed/fuel_prices.csv')\n",
    "fuel_prices"
   ],
   "metadata": {
    "collapsed": false
   }
  },
  {
   "cell_type": "code",
   "execution_count": 228,
   "outputs": [],
   "source": [
    "fuel_prices['Date'] = pd.to_datetime(fuel_prices['Date'], format='%Y-%m-%d')\n",
    "fuel_prices.rename(columns={'LAD': 'Fuel_Price'}, inplace=True)"
   ],
   "metadata": {
    "collapsed": false
   }
  },
  {
   "cell_type": "markdown",
   "source": [
    "## Merge the processed data"
   ],
   "metadata": {}
  },
  {
   "cell_type": "code",
   "source": [
    "# Lets now merge the different dataframes into one for our multivariate analysis\n",
    "\n",
    "df = pd.merge(df, anuradhapura_producer_prices, on='Date')\n",
    "df = pd.merge(df, kurunegala_producer_prices, on='Date')\n",
    "df = pd.merge(df, polonnaruwa_producer_prices, on='Date')\n",
    "df = pd.merge(df, combined_producer_prices, on='Date')\n",
    "df = pd.merge(df, monthly_df, on='Date')\n",
    "df = pd.merge(df, exchange_rate, on='Date')\n",
    "df = pd.merge(df, fuel_prices, on='Date')\n",
    "\n",
    "# df = pd.merge(df, exchange_rate, on='Date')\n",
    "df.head()"
   ],
   "metadata": {
    "execution": {
     "iopub.status.busy": "2023-02-22T15:01:04.664422Z",
     "iopub.execute_input": "2023-02-22T15:01:04.664763Z",
     "iopub.status.idle": "2023-02-22T15:01:04.704582Z",
     "shell.execute_reply.started": "2023-02-22T15:01:04.664733Z",
     "shell.execute_reply": "2023-02-22T15:01:04.703380Z"
    },
    "trusted": true
   },
   "execution_count": 229,
   "outputs": [
    {
     "data": {
      "text/plain": "        Date  Price  Anuradhapura_Producer_Price  Kurunegala_Producer_Price  \\\n0 1996-01-01  18.07                         7.75                       7.90   \n1 1996-02-01  18.70                         8.17                       8.26   \n2 1996-03-01  18.49                         7.95                       7.85   \n3 1996-04-01  18.52                         8.25                       8.01   \n4 1996-05-01  19.02                         8.38                       8.50   \n\n   Polonnaruwa_Producer_Price  Producer_Price  Production  Production_Total  \\\n0                        8.18        7.943333      1333.6            2065.1   \n1                        8.76        8.396667      1333.6            2065.1   \n2                        7.99        7.930000      1333.6            2065.1   \n3                        8.29        8.183333      1333.6            2065.1   \n4                        8.34        8.406667       731.5            2065.1   \n\n   Exchange_Rate  Fuel_Price  \n0         53.685        12.4  \n1         53.685        12.4  \n2         53.685        12.4  \n3         54.735        12.4  \n4         54.950        12.4  ",
      "text/html": "<div>\n<style scoped>\n    .dataframe tbody tr th:only-of-type {\n        vertical-align: middle;\n    }\n\n    .dataframe tbody tr th {\n        vertical-align: top;\n    }\n\n    .dataframe thead th {\n        text-align: right;\n    }\n</style>\n<table border=\"1\" class=\"dataframe\">\n  <thead>\n    <tr style=\"text-align: right;\">\n      <th></th>\n      <th>Date</th>\n      <th>Price</th>\n      <th>Anuradhapura_Producer_Price</th>\n      <th>Kurunegala_Producer_Price</th>\n      <th>Polonnaruwa_Producer_Price</th>\n      <th>Producer_Price</th>\n      <th>Production</th>\n      <th>Production_Total</th>\n      <th>Exchange_Rate</th>\n      <th>Fuel_Price</th>\n    </tr>\n  </thead>\n  <tbody>\n    <tr>\n      <th>0</th>\n      <td>1996-01-01</td>\n      <td>18.07</td>\n      <td>7.75</td>\n      <td>7.90</td>\n      <td>8.18</td>\n      <td>7.943333</td>\n      <td>1333.6</td>\n      <td>2065.1</td>\n      <td>53.685</td>\n      <td>12.4</td>\n    </tr>\n    <tr>\n      <th>1</th>\n      <td>1996-02-01</td>\n      <td>18.70</td>\n      <td>8.17</td>\n      <td>8.26</td>\n      <td>8.76</td>\n      <td>8.396667</td>\n      <td>1333.6</td>\n      <td>2065.1</td>\n      <td>53.685</td>\n      <td>12.4</td>\n    </tr>\n    <tr>\n      <th>2</th>\n      <td>1996-03-01</td>\n      <td>18.49</td>\n      <td>7.95</td>\n      <td>7.85</td>\n      <td>7.99</td>\n      <td>7.930000</td>\n      <td>1333.6</td>\n      <td>2065.1</td>\n      <td>53.685</td>\n      <td>12.4</td>\n    </tr>\n    <tr>\n      <th>3</th>\n      <td>1996-04-01</td>\n      <td>18.52</td>\n      <td>8.25</td>\n      <td>8.01</td>\n      <td>8.29</td>\n      <td>8.183333</td>\n      <td>1333.6</td>\n      <td>2065.1</td>\n      <td>54.735</td>\n      <td>12.4</td>\n    </tr>\n    <tr>\n      <th>4</th>\n      <td>1996-05-01</td>\n      <td>19.02</td>\n      <td>8.38</td>\n      <td>8.50</td>\n      <td>8.34</td>\n      <td>8.406667</td>\n      <td>731.5</td>\n      <td>2065.1</td>\n      <td>54.950</td>\n      <td>12.4</td>\n    </tr>\n  </tbody>\n</table>\n</div>"
     },
     "execution_count": 229,
     "metadata": {},
     "output_type": "execute_result"
    }
   ]
  },
  {
   "cell_type": "markdown",
   "source": [
    "## Filling Missing Values"
   ],
   "metadata": {}
  },
  {
   "cell_type": "code",
   "source": [
    "df.isna().sum()"
   ],
   "metadata": {
    "execution": {
     "iopub.status.busy": "2023-02-22T15:01:04.706424Z",
     "iopub.execute_input": "2023-02-22T15:01:04.707154Z",
     "iopub.status.idle": "2023-02-22T15:01:04.718983Z",
     "shell.execute_reply.started": "2023-02-22T15:01:04.707108Z",
     "shell.execute_reply": "2023-02-22T15:01:04.717757Z"
    },
    "trusted": true
   },
   "execution_count": 230,
   "outputs": [
    {
     "data": {
      "text/plain": "Date                            0\nPrice                           8\nAnuradhapura_Producer_Price    15\nKurunegala_Producer_Price      13\nPolonnaruwa_Producer_Price     23\nProducer_Price                  5\nProduction                      0\nProduction_Total                0\nExchange_Rate                   0\nFuel_Price                      0\ndtype: int64"
     },
     "execution_count": 230,
     "metadata": {},
     "output_type": "execute_result"
    }
   ]
  },
  {
   "cell_type": "markdown",
   "source": [
    "### Missing values in Retail Prices"
   ],
   "metadata": {}
  },
  {
   "cell_type": "code",
   "source": [
    "df['Missing_Values_Retail'] = (df.groupby('Date')['Price'].apply(lambda x: x.isna().sum())).values"
   ],
   "metadata": {
    "execution": {
     "iopub.status.busy": "2023-02-22T15:01:04.720277Z",
     "iopub.execute_input": "2023-02-22T15:01:04.720695Z",
     "iopub.status.idle": "2023-02-22T15:01:04.783803Z",
     "shell.execute_reply.started": "2023-02-22T15:01:04.720666Z",
     "shell.execute_reply": "2023-02-22T15:01:04.782516Z"
    },
    "trusted": true
   },
   "execution_count": 231,
   "outputs": []
  },
  {
   "cell_type": "code",
   "source": [
    "# iterate through each row in avg_df\n",
    "for index, row in df.iterrows():\n",
    "    # check if the 'Average Price' value is greater than 200\n",
    "    if row['Missing_Values_Retail'] > 0:\n",
    "        # print the date and average price\n",
    "        print(f\"Date: {row['Date']}, Missing_Values_Retail: {row['Missing_Values_Retail']}\")"
   ],
   "metadata": {
    "execution": {
     "iopub.status.busy": "2023-02-22T15:01:04.785365Z",
     "iopub.execute_input": "2023-02-22T15:01:04.785831Z",
     "iopub.status.idle": "2023-02-22T15:01:04.814093Z",
     "shell.execute_reply.started": "2023-02-22T15:01:04.785797Z",
     "shell.execute_reply": "2023-02-22T15:01:04.812545Z"
    },
    "trusted": true
   },
   "execution_count": 232,
   "outputs": [
    {
     "name": "stdout",
     "output_type": "stream",
     "text": [
      "Date: 2017-10-01 00:00:00, Missing_Values_Retail: 1\n",
      "Date: 2020-04-01 00:00:00, Missing_Values_Retail: 1\n",
      "Date: 2020-05-01 00:00:00, Missing_Values_Retail: 1\n",
      "Date: 2020-10-01 00:00:00, Missing_Values_Retail: 1\n",
      "Date: 2020-11-01 00:00:00, Missing_Values_Retail: 1\n",
      "Date: 2020-12-01 00:00:00, Missing_Values_Retail: 1\n",
      "Date: 2022-11-01 00:00:00, Missing_Values_Retail: 1\n",
      "Date: 2022-12-01 00:00:00, Missing_Values_Retail: 1\n"
     ]
    }
   ]
  },
  {
   "cell_type": "markdown",
   "source": [
    "### Missing values in Producer Prices"
   ],
   "metadata": {}
  },
  {
   "cell_type": "code",
   "source": [
    "df['Missing_Values_Producer'] = (combined_producer_prices.groupby('Date')['Producer_Price'].apply(lambda x: x.isna().sum())).values"
   ],
   "metadata": {
    "execution": {
     "iopub.status.busy": "2023-02-22T15:01:04.816312Z",
     "iopub.execute_input": "2023-02-22T15:01:04.817149Z",
     "iopub.status.idle": "2023-02-22T15:01:04.878404Z",
     "shell.execute_reply.started": "2023-02-22T15:01:04.817086Z",
     "shell.execute_reply": "2023-02-22T15:01:04.877256Z"
    },
    "trusted": true
   },
   "execution_count": 233,
   "outputs": []
  },
  {
   "cell_type": "code",
   "source": [
    "# iterate through each row in avg_df\n",
    "for index, row in df.iterrows():\n",
    "    # check if the 'Average Price' value is greater than 200\n",
    "    if row['Missing_Values_Producer'] > 0:\n",
    "        # print the date and average price\n",
    "        print(f\"Date: {row['Date']}, Missing_Values_Producer: {row['Missing_Values_Producer']}\")"
   ],
   "metadata": {
    "execution": {
     "iopub.status.busy": "2023-02-22T15:01:04.880041Z",
     "iopub.execute_input": "2023-02-22T15:01:04.880419Z",
     "iopub.status.idle": "2023-02-22T15:01:04.910018Z",
     "shell.execute_reply.started": "2023-02-22T15:01:04.880384Z",
     "shell.execute_reply": "2023-02-22T15:01:04.908763Z"
    },
    "trusted": true
   },
   "execution_count": 234,
   "outputs": [
    {
     "name": "stdout",
     "output_type": "stream",
     "text": [
      "Date: 2020-04-01 00:00:00, Missing_Values_Producer: 1\n",
      "Date: 2020-09-01 00:00:00, Missing_Values_Producer: 1\n",
      "Date: 2022-10-01 00:00:00, Missing_Values_Producer: 1\n",
      "Date: 2022-11-01 00:00:00, Missing_Values_Producer: 1\n",
      "Date: 2022-12-01 00:00:00, Missing_Values_Producer: 1\n"
     ]
    }
   ]
  },
  {
   "cell_type": "code",
   "source": [
    "df['Price'] = df['Price'].interpolate(option='spline')\n",
    "df['Anuradhapura_Producer_Price'] = df['Anuradhapura_Producer_Price'].interpolate(option='spline')\n",
    "df['Kurunegala_Producer_Price'] = df['Kurunegala_Producer_Price'].interpolate(option='spline')\n",
    "df['Polonnaruwa_Producer_Price']= df['Polonnaruwa_Producer_Price'].interpolate(option='spline')\n",
    "df['Producer_Price']= df['Polonnaruwa_Producer_Price'].interpolate(option='spline')"
   ],
   "metadata": {
    "execution": {
     "iopub.status.busy": "2023-02-22T15:01:04.911553Z",
     "iopub.execute_input": "2023-02-22T15:01:04.911996Z",
     "iopub.status.idle": "2023-02-22T15:01:04.923898Z",
     "shell.execute_reply.started": "2023-02-22T15:01:04.911961Z",
     "shell.execute_reply": "2023-02-22T15:01:04.922841Z"
    },
    "trusted": true
   },
   "execution_count": 235,
   "outputs": []
  },
  {
   "cell_type": "markdown",
   "source": [
    "Using a mathematical function, the method of **spline interpolation** estimates values that minimize overall curvature, thus obtaining a smooth surface passing through the input points."
   ],
   "metadata": {}
  },
  {
   "cell_type": "code",
   "source": [
    "df.isna().sum()"
   ],
   "metadata": {
    "execution": {
     "iopub.status.busy": "2023-02-22T15:01:04.929971Z",
     "iopub.execute_input": "2023-02-22T15:01:04.930405Z",
     "iopub.status.idle": "2023-02-22T15:01:04.944663Z",
     "shell.execute_reply.started": "2023-02-22T15:01:04.930369Z",
     "shell.execute_reply": "2023-02-22T15:01:04.943461Z"
    },
    "trusted": true
   },
   "execution_count": 236,
   "outputs": [
    {
     "data": {
      "text/plain": "Date                           0\nPrice                          0\nAnuradhapura_Producer_Price    0\nKurunegala_Producer_Price      0\nPolonnaruwa_Producer_Price     0\nProducer_Price                 0\nProduction                     0\nProduction_Total               0\nExchange_Rate                  0\nFuel_Price                     0\nMissing_Values_Retail          0\nMissing_Values_Producer        0\ndtype: int64"
     },
     "execution_count": 236,
     "metadata": {},
     "output_type": "execute_result"
    }
   ]
  },
  {
   "cell_type": "code",
   "source": [
    "df['Year'] = df['Date'].dt.year\n",
    "df['Month'] = df['Date'].dt.month\n",
    "\n",
    "df.shape"
   ],
   "metadata": {
    "execution": {
     "iopub.status.busy": "2023-02-22T15:01:04.946660Z",
     "iopub.execute_input": "2023-02-22T15:01:04.947344Z",
     "iopub.status.idle": "2023-02-22T15:01:04.961241Z",
     "shell.execute_reply.started": "2023-02-22T15:01:04.947307Z",
     "shell.execute_reply": "2023-02-22T15:01:04.959686Z"
    },
    "trusted": true
   },
   "execution_count": 237,
   "outputs": [
    {
     "data": {
      "text/plain": "(324, 14)"
     },
     "execution_count": 237,
     "metadata": {},
     "output_type": "execute_result"
    }
   ]
  },
  {
   "cell_type": "code",
   "source": [
    "df"
   ],
   "metadata": {
    "execution": {
     "iopub.status.busy": "2023-02-22T15:01:04.962857Z",
     "iopub.execute_input": "2023-02-22T15:01:04.963282Z",
     "iopub.status.idle": "2023-02-22T15:01:04.995776Z",
     "shell.execute_reply.started": "2023-02-22T15:01:04.963245Z",
     "shell.execute_reply": "2023-02-22T15:01:04.994265Z"
    },
    "trusted": true
   },
   "execution_count": 238,
   "outputs": [
    {
     "data": {
      "text/plain": "          Date   Price  Anuradhapura_Producer_Price  \\\n0   1996-01-01   18.07                         7.75   \n1   1996-02-01   18.70                         8.17   \n2   1996-03-01   18.49                         7.95   \n3   1996-04-01   18.52                         8.25   \n4   1996-05-01   19.02                         8.38   \n..         ...     ...                          ...   \n319 2022-08-01  239.24                       112.60   \n320 2022-09-01  228.44                       110.50   \n321 2022-10-01  224.78                       110.50   \n322 2022-11-01  224.78                       110.50   \n323 2022-12-01  224.78                       110.50   \n\n     Kurunegala_Producer_Price  Polonnaruwa_Producer_Price  Producer_Price  \\\n0                        7.900                        8.18            8.18   \n1                        8.260                        8.76            8.76   \n2                        7.850                        7.99            7.99   \n3                        8.010                        8.29            8.29   \n4                        8.500                        8.34            8.34   \n..                         ...                         ...             ...   \n319                    113.863                      122.93          122.93   \n320                    108.008                      117.00          117.00   \n321                    108.008                      117.00          117.00   \n322                    108.008                      117.00          117.00   \n323                    108.008                      117.00          117.00   \n\n     Production  Production_Total  Exchange_Rate  Fuel_Price  \\\n0      1333.600          2065.100         53.685        12.4   \n1      1333.600          2065.100         53.685        12.4   \n2      1333.600          2065.100         53.685        12.4   \n3      1333.600          2065.100         54.735        12.4   \n4       731.500          2065.100         54.950        12.4   \n..          ...               ...            ...         ...   \n319    1461.675          3392.875        357.880       430.0   \n320    1461.675          3392.875        365.500       430.0   \n321    1931.200          3392.875        363.000       430.0   \n322    1931.200          3392.875        368.500       430.0   \n323    1931.200          3392.875        367.500       420.0   \n\n     Missing_Values_Retail  Missing_Values_Producer  Year  Month  \n0                        0                        0  1996      1  \n1                        0                        0  1996      2  \n2                        0                        0  1996      3  \n3                        0                        0  1996      4  \n4                        0                        0  1996      5  \n..                     ...                      ...   ...    ...  \n319                      0                        0  2022      8  \n320                      0                        0  2022      9  \n321                      0                        1  2022     10  \n322                      1                        1  2022     11  \n323                      1                        1  2022     12  \n\n[324 rows x 14 columns]",
      "text/html": "<div>\n<style scoped>\n    .dataframe tbody tr th:only-of-type {\n        vertical-align: middle;\n    }\n\n    .dataframe tbody tr th {\n        vertical-align: top;\n    }\n\n    .dataframe thead th {\n        text-align: right;\n    }\n</style>\n<table border=\"1\" class=\"dataframe\">\n  <thead>\n    <tr style=\"text-align: right;\">\n      <th></th>\n      <th>Date</th>\n      <th>Price</th>\n      <th>Anuradhapura_Producer_Price</th>\n      <th>Kurunegala_Producer_Price</th>\n      <th>Polonnaruwa_Producer_Price</th>\n      <th>Producer_Price</th>\n      <th>Production</th>\n      <th>Production_Total</th>\n      <th>Exchange_Rate</th>\n      <th>Fuel_Price</th>\n      <th>Missing_Values_Retail</th>\n      <th>Missing_Values_Producer</th>\n      <th>Year</th>\n      <th>Month</th>\n    </tr>\n  </thead>\n  <tbody>\n    <tr>\n      <th>0</th>\n      <td>1996-01-01</td>\n      <td>18.07</td>\n      <td>7.75</td>\n      <td>7.900</td>\n      <td>8.18</td>\n      <td>8.18</td>\n      <td>1333.600</td>\n      <td>2065.100</td>\n      <td>53.685</td>\n      <td>12.4</td>\n      <td>0</td>\n      <td>0</td>\n      <td>1996</td>\n      <td>1</td>\n    </tr>\n    <tr>\n      <th>1</th>\n      <td>1996-02-01</td>\n      <td>18.70</td>\n      <td>8.17</td>\n      <td>8.260</td>\n      <td>8.76</td>\n      <td>8.76</td>\n      <td>1333.600</td>\n      <td>2065.100</td>\n      <td>53.685</td>\n      <td>12.4</td>\n      <td>0</td>\n      <td>0</td>\n      <td>1996</td>\n      <td>2</td>\n    </tr>\n    <tr>\n      <th>2</th>\n      <td>1996-03-01</td>\n      <td>18.49</td>\n      <td>7.95</td>\n      <td>7.850</td>\n      <td>7.99</td>\n      <td>7.99</td>\n      <td>1333.600</td>\n      <td>2065.100</td>\n      <td>53.685</td>\n      <td>12.4</td>\n      <td>0</td>\n      <td>0</td>\n      <td>1996</td>\n      <td>3</td>\n    </tr>\n    <tr>\n      <th>3</th>\n      <td>1996-04-01</td>\n      <td>18.52</td>\n      <td>8.25</td>\n      <td>8.010</td>\n      <td>8.29</td>\n      <td>8.29</td>\n      <td>1333.600</td>\n      <td>2065.100</td>\n      <td>54.735</td>\n      <td>12.4</td>\n      <td>0</td>\n      <td>0</td>\n      <td>1996</td>\n      <td>4</td>\n    </tr>\n    <tr>\n      <th>4</th>\n      <td>1996-05-01</td>\n      <td>19.02</td>\n      <td>8.38</td>\n      <td>8.500</td>\n      <td>8.34</td>\n      <td>8.34</td>\n      <td>731.500</td>\n      <td>2065.100</td>\n      <td>54.950</td>\n      <td>12.4</td>\n      <td>0</td>\n      <td>0</td>\n      <td>1996</td>\n      <td>5</td>\n    </tr>\n    <tr>\n      <th>...</th>\n      <td>...</td>\n      <td>...</td>\n      <td>...</td>\n      <td>...</td>\n      <td>...</td>\n      <td>...</td>\n      <td>...</td>\n      <td>...</td>\n      <td>...</td>\n      <td>...</td>\n      <td>...</td>\n      <td>...</td>\n      <td>...</td>\n      <td>...</td>\n    </tr>\n    <tr>\n      <th>319</th>\n      <td>2022-08-01</td>\n      <td>239.24</td>\n      <td>112.60</td>\n      <td>113.863</td>\n      <td>122.93</td>\n      <td>122.93</td>\n      <td>1461.675</td>\n      <td>3392.875</td>\n      <td>357.880</td>\n      <td>430.0</td>\n      <td>0</td>\n      <td>0</td>\n      <td>2022</td>\n      <td>8</td>\n    </tr>\n    <tr>\n      <th>320</th>\n      <td>2022-09-01</td>\n      <td>228.44</td>\n      <td>110.50</td>\n      <td>108.008</td>\n      <td>117.00</td>\n      <td>117.00</td>\n      <td>1461.675</td>\n      <td>3392.875</td>\n      <td>365.500</td>\n      <td>430.0</td>\n      <td>0</td>\n      <td>0</td>\n      <td>2022</td>\n      <td>9</td>\n    </tr>\n    <tr>\n      <th>321</th>\n      <td>2022-10-01</td>\n      <td>224.78</td>\n      <td>110.50</td>\n      <td>108.008</td>\n      <td>117.00</td>\n      <td>117.00</td>\n      <td>1931.200</td>\n      <td>3392.875</td>\n      <td>363.000</td>\n      <td>430.0</td>\n      <td>0</td>\n      <td>1</td>\n      <td>2022</td>\n      <td>10</td>\n    </tr>\n    <tr>\n      <th>322</th>\n      <td>2022-11-01</td>\n      <td>224.78</td>\n      <td>110.50</td>\n      <td>108.008</td>\n      <td>117.00</td>\n      <td>117.00</td>\n      <td>1931.200</td>\n      <td>3392.875</td>\n      <td>368.500</td>\n      <td>430.0</td>\n      <td>1</td>\n      <td>1</td>\n      <td>2022</td>\n      <td>11</td>\n    </tr>\n    <tr>\n      <th>323</th>\n      <td>2022-12-01</td>\n      <td>224.78</td>\n      <td>110.50</td>\n      <td>108.008</td>\n      <td>117.00</td>\n      <td>117.00</td>\n      <td>1931.200</td>\n      <td>3392.875</td>\n      <td>367.500</td>\n      <td>420.0</td>\n      <td>1</td>\n      <td>1</td>\n      <td>2022</td>\n      <td>12</td>\n    </tr>\n  </tbody>\n</table>\n<p>324 rows × 14 columns</p>\n</div>"
     },
     "execution_count": 238,
     "metadata": {},
     "output_type": "execute_result"
    }
   ]
  },
  {
   "cell_type": "markdown",
   "source": [
    "# **EDA**"
   ],
   "metadata": {}
  },
  {
   "cell_type": "code",
   "source": [
    "from plotly.offline import plot, iplot, init_notebook_mode\n",
    "import plotly.graph_objs as go\n",
    "init_notebook_mode(connected=True)\n",
    "\n",
    "# Create Line plot\n",
    "fig = px.line(df, x='Date', y='Price')\n",
    "\n",
    "# Add legend\n",
    "fig.update_layout(showlegend=True)\n",
    "\n",
    "# Display the plot\n",
    "fig.show()"
   ],
   "metadata": {
    "execution": {
     "iopub.status.busy": "2023-02-22T15:01:04.997417Z",
     "iopub.execute_input": "2023-02-22T15:01:04.997819Z",
     "iopub.status.idle": "2023-02-22T15:01:05.074765Z",
     "shell.execute_reply.started": "2023-02-22T15:01:04.997786Z",
     "shell.execute_reply": "2023-02-22T15:01:05.073414Z"
    },
    "trusted": true
   },
   "execution_count": 239,
   "outputs": [
    {
     "data": {
      "text/html": "        <script type=\"text/javascript\">\n        window.PlotlyConfig = {MathJaxConfig: 'local'};\n        if (window.MathJax && window.MathJax.Hub && window.MathJax.Hub.Config) {window.MathJax.Hub.Config({SVG: {font: \"STIX-Web\"}});}\n        if (typeof require !== 'undefined') {\n        require.undef(\"plotly\");\n        requirejs.config({\n            paths: {\n                'plotly': ['https://cdn.plot.ly/plotly-2.12.1.min']\n            }\n        });\n        require(['plotly'], function(Plotly) {\n            window._Plotly = Plotly;\n        });\n        }\n        </script>\n        "
     },
     "metadata": {},
     "output_type": "display_data"
    },
    {
     "data": {
      "application/vnd.plotly.v1+json": {
       "data": [
        {
         "hovertemplate": "Date=%{x}<br>Price=%{y}<extra></extra>",
         "legendgroup": "",
         "line": {
          "color": "#636efa",
          "dash": "solid"
         },
         "marker": {
          "symbol": "circle"
         },
         "mode": "lines",
         "name": "",
         "orientation": "v",
         "showlegend": false,
         "x": [
          "1996-01-01T00:00:00",
          "1996-02-01T00:00:00",
          "1996-03-01T00:00:00",
          "1996-04-01T00:00:00",
          "1996-05-01T00:00:00",
          "1996-06-01T00:00:00",
          "1996-07-01T00:00:00",
          "1996-08-01T00:00:00",
          "1996-09-01T00:00:00",
          "1996-10-01T00:00:00",
          "1996-11-01T00:00:00",
          "1996-12-01T00:00:00",
          "1997-01-01T00:00:00",
          "1997-02-01T00:00:00",
          "1997-03-01T00:00:00",
          "1997-04-01T00:00:00",
          "1997-05-01T00:00:00",
          "1997-06-01T00:00:00",
          "1997-07-01T00:00:00",
          "1997-08-01T00:00:00",
          "1997-09-01T00:00:00",
          "1997-10-01T00:00:00",
          "1997-11-01T00:00:00",
          "1997-12-01T00:00:00",
          "1998-01-01T00:00:00",
          "1998-02-01T00:00:00",
          "1998-03-01T00:00:00",
          "1998-04-01T00:00:00",
          "1998-05-01T00:00:00",
          "1998-06-01T00:00:00",
          "1998-07-01T00:00:00",
          "1998-08-01T00:00:00",
          "1998-09-01T00:00:00",
          "1998-10-01T00:00:00",
          "1998-11-01T00:00:00",
          "1998-12-01T00:00:00",
          "1999-01-01T00:00:00",
          "1999-02-01T00:00:00",
          "1999-03-01T00:00:00",
          "1999-04-01T00:00:00",
          "1999-05-01T00:00:00",
          "1999-06-01T00:00:00",
          "1999-07-01T00:00:00",
          "1999-08-01T00:00:00",
          "1999-09-01T00:00:00",
          "1999-10-01T00:00:00",
          "1999-11-01T00:00:00",
          "1999-12-01T00:00:00",
          "2000-01-01T00:00:00",
          "2000-02-01T00:00:00",
          "2000-03-01T00:00:00",
          "2000-04-01T00:00:00",
          "2000-05-01T00:00:00",
          "2000-06-01T00:00:00",
          "2000-07-01T00:00:00",
          "2000-08-01T00:00:00",
          "2000-09-01T00:00:00",
          "2000-10-01T00:00:00",
          "2000-11-01T00:00:00",
          "2000-12-01T00:00:00",
          "2001-01-01T00:00:00",
          "2001-02-01T00:00:00",
          "2001-03-01T00:00:00",
          "2001-04-01T00:00:00",
          "2001-05-01T00:00:00",
          "2001-06-01T00:00:00",
          "2001-07-01T00:00:00",
          "2001-08-01T00:00:00",
          "2001-09-01T00:00:00",
          "2001-10-01T00:00:00",
          "2001-11-01T00:00:00",
          "2001-12-01T00:00:00",
          "2002-01-01T00:00:00",
          "2002-02-01T00:00:00",
          "2002-03-01T00:00:00",
          "2002-04-01T00:00:00",
          "2002-05-01T00:00:00",
          "2002-06-01T00:00:00",
          "2002-07-01T00:00:00",
          "2002-08-01T00:00:00",
          "2002-09-01T00:00:00",
          "2002-10-01T00:00:00",
          "2002-11-01T00:00:00",
          "2002-12-01T00:00:00",
          "2003-01-01T00:00:00",
          "2003-02-01T00:00:00",
          "2003-03-01T00:00:00",
          "2003-04-01T00:00:00",
          "2003-05-01T00:00:00",
          "2003-06-01T00:00:00",
          "2003-07-01T00:00:00",
          "2003-08-01T00:00:00",
          "2003-09-01T00:00:00",
          "2003-10-01T00:00:00",
          "2003-11-01T00:00:00",
          "2003-12-01T00:00:00",
          "2004-01-01T00:00:00",
          "2004-02-01T00:00:00",
          "2004-03-01T00:00:00",
          "2004-04-01T00:00:00",
          "2004-05-01T00:00:00",
          "2004-06-01T00:00:00",
          "2004-07-01T00:00:00",
          "2004-08-01T00:00:00",
          "2004-09-01T00:00:00",
          "2004-10-01T00:00:00",
          "2004-11-01T00:00:00",
          "2004-12-01T00:00:00",
          "2005-01-01T00:00:00",
          "2005-02-01T00:00:00",
          "2005-03-01T00:00:00",
          "2005-04-01T00:00:00",
          "2005-05-01T00:00:00",
          "2005-06-01T00:00:00",
          "2005-07-01T00:00:00",
          "2005-08-01T00:00:00",
          "2005-09-01T00:00:00",
          "2005-10-01T00:00:00",
          "2005-11-01T00:00:00",
          "2005-12-01T00:00:00",
          "2006-01-01T00:00:00",
          "2006-02-01T00:00:00",
          "2006-03-01T00:00:00",
          "2006-04-01T00:00:00",
          "2006-05-01T00:00:00",
          "2006-06-01T00:00:00",
          "2006-07-01T00:00:00",
          "2006-08-01T00:00:00",
          "2006-09-01T00:00:00",
          "2006-10-01T00:00:00",
          "2006-11-01T00:00:00",
          "2006-12-01T00:00:00",
          "2007-01-01T00:00:00",
          "2007-02-01T00:00:00",
          "2007-03-01T00:00:00",
          "2007-04-01T00:00:00",
          "2007-05-01T00:00:00",
          "2007-06-01T00:00:00",
          "2007-07-01T00:00:00",
          "2007-08-01T00:00:00",
          "2007-09-01T00:00:00",
          "2007-10-01T00:00:00",
          "2007-11-01T00:00:00",
          "2007-12-01T00:00:00",
          "2008-01-01T00:00:00",
          "2008-02-01T00:00:00",
          "2008-03-01T00:00:00",
          "2008-04-01T00:00:00",
          "2008-05-01T00:00:00",
          "2008-06-01T00:00:00",
          "2008-07-01T00:00:00",
          "2008-08-01T00:00:00",
          "2008-09-01T00:00:00",
          "2008-10-01T00:00:00",
          "2008-11-01T00:00:00",
          "2008-12-01T00:00:00",
          "2009-01-01T00:00:00",
          "2009-02-01T00:00:00",
          "2009-03-01T00:00:00",
          "2009-04-01T00:00:00",
          "2009-05-01T00:00:00",
          "2009-06-01T00:00:00",
          "2009-07-01T00:00:00",
          "2009-08-01T00:00:00",
          "2009-09-01T00:00:00",
          "2009-10-01T00:00:00",
          "2009-11-01T00:00:00",
          "2009-12-01T00:00:00",
          "2010-01-01T00:00:00",
          "2010-02-01T00:00:00",
          "2010-03-01T00:00:00",
          "2010-04-01T00:00:00",
          "2010-05-01T00:00:00",
          "2010-06-01T00:00:00",
          "2010-07-01T00:00:00",
          "2010-08-01T00:00:00",
          "2010-09-01T00:00:00",
          "2010-10-01T00:00:00",
          "2010-11-01T00:00:00",
          "2010-12-01T00:00:00",
          "2011-01-01T00:00:00",
          "2011-02-01T00:00:00",
          "2011-03-01T00:00:00",
          "2011-04-01T00:00:00",
          "2011-05-01T00:00:00",
          "2011-06-01T00:00:00",
          "2011-07-01T00:00:00",
          "2011-08-01T00:00:00",
          "2011-09-01T00:00:00",
          "2011-10-01T00:00:00",
          "2011-11-01T00:00:00",
          "2011-12-01T00:00:00",
          "2012-01-01T00:00:00",
          "2012-02-01T00:00:00",
          "2012-03-01T00:00:00",
          "2012-04-01T00:00:00",
          "2012-05-01T00:00:00",
          "2012-06-01T00:00:00",
          "2012-07-01T00:00:00",
          "2012-08-01T00:00:00",
          "2012-09-01T00:00:00",
          "2012-10-01T00:00:00",
          "2012-11-01T00:00:00",
          "2012-12-01T00:00:00",
          "2013-01-01T00:00:00",
          "2013-02-01T00:00:00",
          "2013-03-01T00:00:00",
          "2013-04-01T00:00:00",
          "2013-05-01T00:00:00",
          "2013-06-01T00:00:00",
          "2013-07-01T00:00:00",
          "2013-08-01T00:00:00",
          "2013-09-01T00:00:00",
          "2013-10-01T00:00:00",
          "2013-11-01T00:00:00",
          "2013-12-01T00:00:00",
          "2014-01-01T00:00:00",
          "2014-02-01T00:00:00",
          "2014-03-01T00:00:00",
          "2014-04-01T00:00:00",
          "2014-05-01T00:00:00",
          "2014-06-01T00:00:00",
          "2014-07-01T00:00:00",
          "2014-08-01T00:00:00",
          "2014-09-01T00:00:00",
          "2014-10-01T00:00:00",
          "2014-11-01T00:00:00",
          "2014-12-01T00:00:00",
          "2015-01-01T00:00:00",
          "2015-02-01T00:00:00",
          "2015-03-01T00:00:00",
          "2015-04-01T00:00:00",
          "2015-05-01T00:00:00",
          "2015-06-01T00:00:00",
          "2015-07-01T00:00:00",
          "2015-08-01T00:00:00",
          "2015-09-01T00:00:00",
          "2015-10-01T00:00:00",
          "2015-11-01T00:00:00",
          "2015-12-01T00:00:00",
          "2016-01-01T00:00:00",
          "2016-02-01T00:00:00",
          "2016-03-01T00:00:00",
          "2016-04-01T00:00:00",
          "2016-05-01T00:00:00",
          "2016-06-01T00:00:00",
          "2016-07-01T00:00:00",
          "2016-08-01T00:00:00",
          "2016-09-01T00:00:00",
          "2016-10-01T00:00:00",
          "2016-11-01T00:00:00",
          "2016-12-01T00:00:00",
          "2017-01-01T00:00:00",
          "2017-02-01T00:00:00",
          "2017-03-01T00:00:00",
          "2017-04-01T00:00:00",
          "2017-05-01T00:00:00",
          "2017-06-01T00:00:00",
          "2017-07-01T00:00:00",
          "2017-08-01T00:00:00",
          "2017-09-01T00:00:00",
          "2017-10-01T00:00:00",
          "2017-11-01T00:00:00",
          "2017-12-01T00:00:00",
          "2018-01-01T00:00:00",
          "2018-02-01T00:00:00",
          "2018-03-01T00:00:00",
          "2018-04-01T00:00:00",
          "2018-05-01T00:00:00",
          "2018-06-01T00:00:00",
          "2018-07-01T00:00:00",
          "2018-08-01T00:00:00",
          "2018-09-01T00:00:00",
          "2018-10-01T00:00:00",
          "2018-11-01T00:00:00",
          "2018-12-01T00:00:00",
          "2019-01-01T00:00:00",
          "2019-02-01T00:00:00",
          "2019-03-01T00:00:00",
          "2019-04-01T00:00:00",
          "2019-05-01T00:00:00",
          "2019-06-01T00:00:00",
          "2019-07-01T00:00:00",
          "2019-08-01T00:00:00",
          "2019-09-01T00:00:00",
          "2019-10-01T00:00:00",
          "2019-11-01T00:00:00",
          "2019-12-01T00:00:00",
          "2020-01-01T00:00:00",
          "2020-02-01T00:00:00",
          "2020-03-01T00:00:00",
          "2020-04-01T00:00:00",
          "2020-05-01T00:00:00",
          "2020-06-01T00:00:00",
          "2020-07-01T00:00:00",
          "2020-08-01T00:00:00",
          "2020-09-01T00:00:00",
          "2020-10-01T00:00:00",
          "2020-11-01T00:00:00",
          "2020-12-01T00:00:00",
          "2021-01-01T00:00:00",
          "2021-02-01T00:00:00",
          "2021-03-01T00:00:00",
          "2021-04-01T00:00:00",
          "2021-05-01T00:00:00",
          "2021-06-01T00:00:00",
          "2021-07-01T00:00:00",
          "2021-08-01T00:00:00",
          "2021-09-01T00:00:00",
          "2021-10-01T00:00:00",
          "2021-11-01T00:00:00",
          "2021-12-01T00:00:00",
          "2022-01-01T00:00:00",
          "2022-02-01T00:00:00",
          "2022-03-01T00:00:00",
          "2022-04-01T00:00:00",
          "2022-05-01T00:00:00",
          "2022-06-01T00:00:00",
          "2022-07-01T00:00:00",
          "2022-08-01T00:00:00",
          "2022-09-01T00:00:00",
          "2022-10-01T00:00:00",
          "2022-11-01T00:00:00",
          "2022-12-01T00:00:00"
         ],
         "xaxis": "x",
         "y": [
          18.07,
          18.7,
          18.49,
          18.52,
          19.02,
          20.57,
          21.9,
          22.34,
          23.43,
          22.17,
          22.89,
          22.95,
          22.27,
          20.24,
          18.71,
          19.21,
          20.65,
          20.5,
          20.94,
          21.92,
          23.23,
          24.08,
          26.33,
          26.55,
          28.75,
          31.47,
          29.06,
          28.24,
          28.17,
          27.54,
          27.32,
          26.81,
          26.41,
          26.75,
          26.71,
          27.36,
          28.75,
          31.47,
          29.06,
          28.24,
          28.17,
          27.54,
          27.32,
          26.81,
          26.41,
          26.75,
          26.71,
          27.36,
          26.94,
          25.0,
          23.09,
          22.13,
          21.71,
          21.2,
          20.61,
          21.68,
          22.56,
          22.18,
          24.16,
          25.36,
          26.3,
          26.62,
          25.27,
          25.19,
          25.59,
          25.47,
          26.08,
          26.61,
          26.81,
          26.96,
          28.57,
          31.05,
          33.52,
          34.74,
          31.38,
          28.8,
          29.0,
          28.95,
          28.59,
          28.21,
          28.0,
          28.34,
          28.74,
          29.3,
          30.41,
          29.7,
          27.74,
          27.02,
          27.0,
          28.18,
          27.21,
          26.69,
          26.76,
          26.85,
          29.52,
          31.61,
          32.33,
          33.19,
          32.03,
          32.44,
          33.64,
          33.69,
          34.82,
          35.25,
          36.47,
          36.66,
          39.07,
          38.37,
          38.49,
          35.92,
          31.81,
          31.28,
          30.67,
          30.59,
          29.47,
          29.01,
          29.66,
          29.8,
          31.77,
          35.24,
          34.07,
          31.86,
          29.26,
          29.72,
          29.91,
          30.47,
          30.88,
          30.1,
          31.34,
          31.75,
          33.42,
          36.31,
          37.04,
          38.04,
          36.12,
          35.03,
          37.24,
          37.79,
          38.37,
          39.37,
          39.92,
          41.63,
          53.6,
          56.83,
          66.37,
          64.01,
          65.98,
          71.48,
          66.56,
          66.75,
          65.69,
          63.38,
          63.52,
          64.88,
          66.37,
          67.48,
          68.76,
          68.18,
          63.58,
          61.17,
          62.41,
          63.21,
          62.8,
          62.76,
          62.9,
          63.53,
          65.51,
          72.01,
          77.38,
          75.42,
          63.12,
          59.03,
          58.14,
          56.84,
          55.73,
          54.74,
          53.46,
          55.57,
          60.35,
          62.18,
          60.95,
          63.03,
          62.6,
          62.35,
          62.33,
          62.26,
          61.88,
          60.83,
          58.39,
          58.78,
          60.51,
          62.54,
          61.54,
          59.53,
          58.66,
          57.64,
          57.07,
          58.04,
          59.48,
          58.91,
          61.44,
          61.98,
          62.72,
          63.58,
          63.81,
          63.15,
          62.88,
          63.3,
          63.64,
          63.01,
          62.92,
          62.61,
          62.69,
          63.29,
          64.65,
          66.34,
          68.09,
          69.91,
          70.27,
          72.99,
          74.74,
          75.8,
          77.74,
          79.79,
          85.46,
          86.74,
          88.83,
          88.31,
          88.05,
          85.41,
          81.34,
          79.12,
          78.49,
          76.38,
          75.01,
          72.59,
          73.31,
          73.89,
          77.35,
          78.5,
          77.95,
          76.67,
          75.75,
          76.16,
          77.85,
          77.9,
          77.43,
          76.19,
          76.49,
          79.15,
          83.92,
          91.29,
          96.09,
          95.8,
          85.58,
          87.81,
          90.29,
          95.48,
          96.01,
          95.76,
          98.19,
          101.485,
          104.78,
          103.61,
          101.72,
          96.29,
          94.49,
          96.13,
          100.09,
          97.27,
          94.48,
          92.09,
          91.46,
          91.97,
          89.27,
          89.9,
          93.0,
          91.33,
          91.36,
          88.48,
          90.15,
          88.56,
          87.99,
          89.06,
          92.08,
          96.74,
          99.21,
          103.29,
          98.0,
          98.0,
          98.0,
          98.73,
          99.46,
          100.19,
          98.97,
          99.16,
          99.85,
          102.62,
          105.39,
          108.16,
          110.93,
          107.15,
          108.65,
          113.84,
          117.56,
          127.5,
          121.77,
          119.95,
          110.22,
          124.68,
          139.03,
          138.5,
          158.14,
          161.16,
          173.79,
          211.24,
          217.29,
          247.14,
          250.07,
          239.24,
          228.44,
          224.78,
          224.78,
          224.78
         ],
         "yaxis": "y",
         "type": "scatter"
        }
       ],
       "layout": {
        "template": {
         "data": {
          "histogram2dcontour": [
           {
            "type": "histogram2dcontour",
            "colorbar": {
             "outlinewidth": 0,
             "ticks": ""
            },
            "colorscale": [
             [
              0.0,
              "#0d0887"
             ],
             [
              0.1111111111111111,
              "#46039f"
             ],
             [
              0.2222222222222222,
              "#7201a8"
             ],
             [
              0.3333333333333333,
              "#9c179e"
             ],
             [
              0.4444444444444444,
              "#bd3786"
             ],
             [
              0.5555555555555556,
              "#d8576b"
             ],
             [
              0.6666666666666666,
              "#ed7953"
             ],
             [
              0.7777777777777778,
              "#fb9f3a"
             ],
             [
              0.8888888888888888,
              "#fdca26"
             ],
             [
              1.0,
              "#f0f921"
             ]
            ]
           }
          ],
          "choropleth": [
           {
            "type": "choropleth",
            "colorbar": {
             "outlinewidth": 0,
             "ticks": ""
            }
           }
          ],
          "histogram2d": [
           {
            "type": "histogram2d",
            "colorbar": {
             "outlinewidth": 0,
             "ticks": ""
            },
            "colorscale": [
             [
              0.0,
              "#0d0887"
             ],
             [
              0.1111111111111111,
              "#46039f"
             ],
             [
              0.2222222222222222,
              "#7201a8"
             ],
             [
              0.3333333333333333,
              "#9c179e"
             ],
             [
              0.4444444444444444,
              "#bd3786"
             ],
             [
              0.5555555555555556,
              "#d8576b"
             ],
             [
              0.6666666666666666,
              "#ed7953"
             ],
             [
              0.7777777777777778,
              "#fb9f3a"
             ],
             [
              0.8888888888888888,
              "#fdca26"
             ],
             [
              1.0,
              "#f0f921"
             ]
            ]
           }
          ],
          "heatmap": [
           {
            "type": "heatmap",
            "colorbar": {
             "outlinewidth": 0,
             "ticks": ""
            },
            "colorscale": [
             [
              0.0,
              "#0d0887"
             ],
             [
              0.1111111111111111,
              "#46039f"
             ],
             [
              0.2222222222222222,
              "#7201a8"
             ],
             [
              0.3333333333333333,
              "#9c179e"
             ],
             [
              0.4444444444444444,
              "#bd3786"
             ],
             [
              0.5555555555555556,
              "#d8576b"
             ],
             [
              0.6666666666666666,
              "#ed7953"
             ],
             [
              0.7777777777777778,
              "#fb9f3a"
             ],
             [
              0.8888888888888888,
              "#fdca26"
             ],
             [
              1.0,
              "#f0f921"
             ]
            ]
           }
          ],
          "heatmapgl": [
           {
            "type": "heatmapgl",
            "colorbar": {
             "outlinewidth": 0,
             "ticks": ""
            },
            "colorscale": [
             [
              0.0,
              "#0d0887"
             ],
             [
              0.1111111111111111,
              "#46039f"
             ],
             [
              0.2222222222222222,
              "#7201a8"
             ],
             [
              0.3333333333333333,
              "#9c179e"
             ],
             [
              0.4444444444444444,
              "#bd3786"
             ],
             [
              0.5555555555555556,
              "#d8576b"
             ],
             [
              0.6666666666666666,
              "#ed7953"
             ],
             [
              0.7777777777777778,
              "#fb9f3a"
             ],
             [
              0.8888888888888888,
              "#fdca26"
             ],
             [
              1.0,
              "#f0f921"
             ]
            ]
           }
          ],
          "contourcarpet": [
           {
            "type": "contourcarpet",
            "colorbar": {
             "outlinewidth": 0,
             "ticks": ""
            }
           }
          ],
          "contour": [
           {
            "type": "contour",
            "colorbar": {
             "outlinewidth": 0,
             "ticks": ""
            },
            "colorscale": [
             [
              0.0,
              "#0d0887"
             ],
             [
              0.1111111111111111,
              "#46039f"
             ],
             [
              0.2222222222222222,
              "#7201a8"
             ],
             [
              0.3333333333333333,
              "#9c179e"
             ],
             [
              0.4444444444444444,
              "#bd3786"
             ],
             [
              0.5555555555555556,
              "#d8576b"
             ],
             [
              0.6666666666666666,
              "#ed7953"
             ],
             [
              0.7777777777777778,
              "#fb9f3a"
             ],
             [
              0.8888888888888888,
              "#fdca26"
             ],
             [
              1.0,
              "#f0f921"
             ]
            ]
           }
          ],
          "surface": [
           {
            "type": "surface",
            "colorbar": {
             "outlinewidth": 0,
             "ticks": ""
            },
            "colorscale": [
             [
              0.0,
              "#0d0887"
             ],
             [
              0.1111111111111111,
              "#46039f"
             ],
             [
              0.2222222222222222,
              "#7201a8"
             ],
             [
              0.3333333333333333,
              "#9c179e"
             ],
             [
              0.4444444444444444,
              "#bd3786"
             ],
             [
              0.5555555555555556,
              "#d8576b"
             ],
             [
              0.6666666666666666,
              "#ed7953"
             ],
             [
              0.7777777777777778,
              "#fb9f3a"
             ],
             [
              0.8888888888888888,
              "#fdca26"
             ],
             [
              1.0,
              "#f0f921"
             ]
            ]
           }
          ],
          "mesh3d": [
           {
            "type": "mesh3d",
            "colorbar": {
             "outlinewidth": 0,
             "ticks": ""
            }
           }
          ],
          "scatter": [
           {
            "fillpattern": {
             "fillmode": "overlay",
             "size": 10,
             "solidity": 0.2
            },
            "type": "scatter"
           }
          ],
          "parcoords": [
           {
            "type": "parcoords",
            "line": {
             "colorbar": {
              "outlinewidth": 0,
              "ticks": ""
             }
            }
           }
          ],
          "scatterpolargl": [
           {
            "type": "scatterpolargl",
            "marker": {
             "colorbar": {
              "outlinewidth": 0,
              "ticks": ""
             }
            }
           }
          ],
          "bar": [
           {
            "error_x": {
             "color": "#2a3f5f"
            },
            "error_y": {
             "color": "#2a3f5f"
            },
            "marker": {
             "line": {
              "color": "#E5ECF6",
              "width": 0.5
             },
             "pattern": {
              "fillmode": "overlay",
              "size": 10,
              "solidity": 0.2
             }
            },
            "type": "bar"
           }
          ],
          "scattergeo": [
           {
            "type": "scattergeo",
            "marker": {
             "colorbar": {
              "outlinewidth": 0,
              "ticks": ""
             }
            }
           }
          ],
          "scatterpolar": [
           {
            "type": "scatterpolar",
            "marker": {
             "colorbar": {
              "outlinewidth": 0,
              "ticks": ""
             }
            }
           }
          ],
          "histogram": [
           {
            "marker": {
             "pattern": {
              "fillmode": "overlay",
              "size": 10,
              "solidity": 0.2
             }
            },
            "type": "histogram"
           }
          ],
          "scattergl": [
           {
            "type": "scattergl",
            "marker": {
             "colorbar": {
              "outlinewidth": 0,
              "ticks": ""
             }
            }
           }
          ],
          "scatter3d": [
           {
            "type": "scatter3d",
            "line": {
             "colorbar": {
              "outlinewidth": 0,
              "ticks": ""
             }
            },
            "marker": {
             "colorbar": {
              "outlinewidth": 0,
              "ticks": ""
             }
            }
           }
          ],
          "scattermapbox": [
           {
            "type": "scattermapbox",
            "marker": {
             "colorbar": {
              "outlinewidth": 0,
              "ticks": ""
             }
            }
           }
          ],
          "scatterternary": [
           {
            "type": "scatterternary",
            "marker": {
             "colorbar": {
              "outlinewidth": 0,
              "ticks": ""
             }
            }
           }
          ],
          "scattercarpet": [
           {
            "type": "scattercarpet",
            "marker": {
             "colorbar": {
              "outlinewidth": 0,
              "ticks": ""
             }
            }
           }
          ],
          "carpet": [
           {
            "aaxis": {
             "endlinecolor": "#2a3f5f",
             "gridcolor": "white",
             "linecolor": "white",
             "minorgridcolor": "white",
             "startlinecolor": "#2a3f5f"
            },
            "baxis": {
             "endlinecolor": "#2a3f5f",
             "gridcolor": "white",
             "linecolor": "white",
             "minorgridcolor": "white",
             "startlinecolor": "#2a3f5f"
            },
            "type": "carpet"
           }
          ],
          "table": [
           {
            "cells": {
             "fill": {
              "color": "#EBF0F8"
             },
             "line": {
              "color": "white"
             }
            },
            "header": {
             "fill": {
              "color": "#C8D4E3"
             },
             "line": {
              "color": "white"
             }
            },
            "type": "table"
           }
          ],
          "barpolar": [
           {
            "marker": {
             "line": {
              "color": "#E5ECF6",
              "width": 0.5
             },
             "pattern": {
              "fillmode": "overlay",
              "size": 10,
              "solidity": 0.2
             }
            },
            "type": "barpolar"
           }
          ],
          "pie": [
           {
            "automargin": true,
            "type": "pie"
           }
          ]
         },
         "layout": {
          "autotypenumbers": "strict",
          "colorway": [
           "#636efa",
           "#EF553B",
           "#00cc96",
           "#ab63fa",
           "#FFA15A",
           "#19d3f3",
           "#FF6692",
           "#B6E880",
           "#FF97FF",
           "#FECB52"
          ],
          "font": {
           "color": "#2a3f5f"
          },
          "hovermode": "closest",
          "hoverlabel": {
           "align": "left"
          },
          "paper_bgcolor": "white",
          "plot_bgcolor": "#E5ECF6",
          "polar": {
           "bgcolor": "#E5ECF6",
           "angularaxis": {
            "gridcolor": "white",
            "linecolor": "white",
            "ticks": ""
           },
           "radialaxis": {
            "gridcolor": "white",
            "linecolor": "white",
            "ticks": ""
           }
          },
          "ternary": {
           "bgcolor": "#E5ECF6",
           "aaxis": {
            "gridcolor": "white",
            "linecolor": "white",
            "ticks": ""
           },
           "baxis": {
            "gridcolor": "white",
            "linecolor": "white",
            "ticks": ""
           },
           "caxis": {
            "gridcolor": "white",
            "linecolor": "white",
            "ticks": ""
           }
          },
          "coloraxis": {
           "colorbar": {
            "outlinewidth": 0,
            "ticks": ""
           }
          },
          "colorscale": {
           "sequential": [
            [
             0.0,
             "#0d0887"
            ],
            [
             0.1111111111111111,
             "#46039f"
            ],
            [
             0.2222222222222222,
             "#7201a8"
            ],
            [
             0.3333333333333333,
             "#9c179e"
            ],
            [
             0.4444444444444444,
             "#bd3786"
            ],
            [
             0.5555555555555556,
             "#d8576b"
            ],
            [
             0.6666666666666666,
             "#ed7953"
            ],
            [
             0.7777777777777778,
             "#fb9f3a"
            ],
            [
             0.8888888888888888,
             "#fdca26"
            ],
            [
             1.0,
             "#f0f921"
            ]
           ],
           "sequentialminus": [
            [
             0.0,
             "#0d0887"
            ],
            [
             0.1111111111111111,
             "#46039f"
            ],
            [
             0.2222222222222222,
             "#7201a8"
            ],
            [
             0.3333333333333333,
             "#9c179e"
            ],
            [
             0.4444444444444444,
             "#bd3786"
            ],
            [
             0.5555555555555556,
             "#d8576b"
            ],
            [
             0.6666666666666666,
             "#ed7953"
            ],
            [
             0.7777777777777778,
             "#fb9f3a"
            ],
            [
             0.8888888888888888,
             "#fdca26"
            ],
            [
             1.0,
             "#f0f921"
            ]
           ],
           "diverging": [
            [
             0,
             "#8e0152"
            ],
            [
             0.1,
             "#c51b7d"
            ],
            [
             0.2,
             "#de77ae"
            ],
            [
             0.3,
             "#f1b6da"
            ],
            [
             0.4,
             "#fde0ef"
            ],
            [
             0.5,
             "#f7f7f7"
            ],
            [
             0.6,
             "#e6f5d0"
            ],
            [
             0.7,
             "#b8e186"
            ],
            [
             0.8,
             "#7fbc41"
            ],
            [
             0.9,
             "#4d9221"
            ],
            [
             1,
             "#276419"
            ]
           ]
          },
          "xaxis": {
           "gridcolor": "white",
           "linecolor": "white",
           "ticks": "",
           "title": {
            "standoff": 15
           },
           "zerolinecolor": "white",
           "automargin": true,
           "zerolinewidth": 2
          },
          "yaxis": {
           "gridcolor": "white",
           "linecolor": "white",
           "ticks": "",
           "title": {
            "standoff": 15
           },
           "zerolinecolor": "white",
           "automargin": true,
           "zerolinewidth": 2
          },
          "scene": {
           "xaxis": {
            "backgroundcolor": "#E5ECF6",
            "gridcolor": "white",
            "linecolor": "white",
            "showbackground": true,
            "ticks": "",
            "zerolinecolor": "white",
            "gridwidth": 2
           },
           "yaxis": {
            "backgroundcolor": "#E5ECF6",
            "gridcolor": "white",
            "linecolor": "white",
            "showbackground": true,
            "ticks": "",
            "zerolinecolor": "white",
            "gridwidth": 2
           },
           "zaxis": {
            "backgroundcolor": "#E5ECF6",
            "gridcolor": "white",
            "linecolor": "white",
            "showbackground": true,
            "ticks": "",
            "zerolinecolor": "white",
            "gridwidth": 2
           }
          },
          "shapedefaults": {
           "line": {
            "color": "#2a3f5f"
           }
          },
          "annotationdefaults": {
           "arrowcolor": "#2a3f5f",
           "arrowhead": 0,
           "arrowwidth": 1
          },
          "geo": {
           "bgcolor": "white",
           "landcolor": "#E5ECF6",
           "subunitcolor": "white",
           "showland": true,
           "showlakes": true,
           "lakecolor": "white"
          },
          "title": {
           "x": 0.05
          },
          "mapbox": {
           "style": "light"
          }
         }
        },
        "xaxis": {
         "anchor": "y",
         "domain": [
          0.0,
          1.0
         ],
         "title": {
          "text": "Date"
         }
        },
        "yaxis": {
         "anchor": "x",
         "domain": [
          0.0,
          1.0
         ],
         "title": {
          "text": "Price"
         }
        },
        "legend": {
         "tracegroupgap": 0
        },
        "margin": {
         "t": 60
        },
        "showlegend": true
       },
       "config": {
        "plotlyServerURL": "https://plot.ly"
       }
      },
      "text/html": "<div>                            <div id=\"da2f5356-0482-4f8f-9ecd-d13238e299df\" class=\"plotly-graph-div\" style=\"height:525px; width:100%;\"></div>            <script type=\"text/javascript\">                require([\"plotly\"], function(Plotly) {                    window.PLOTLYENV=window.PLOTLYENV || {};                                    if (document.getElementById(\"da2f5356-0482-4f8f-9ecd-d13238e299df\")) {                    Plotly.newPlot(                        \"da2f5356-0482-4f8f-9ecd-d13238e299df\",                        [{\"hovertemplate\":\"Date=%{x}<br>Price=%{y}<extra></extra>\",\"legendgroup\":\"\",\"line\":{\"color\":\"#636efa\",\"dash\":\"solid\"},\"marker\":{\"symbol\":\"circle\"},\"mode\":\"lines\",\"name\":\"\",\"orientation\":\"v\",\"showlegend\":false,\"x\":[\"1996-01-01T00:00:00\",\"1996-02-01T00:00:00\",\"1996-03-01T00:00:00\",\"1996-04-01T00:00:00\",\"1996-05-01T00:00:00\",\"1996-06-01T00:00:00\",\"1996-07-01T00:00:00\",\"1996-08-01T00:00:00\",\"1996-09-01T00:00:00\",\"1996-10-01T00:00:00\",\"1996-11-01T00:00:00\",\"1996-12-01T00:00:00\",\"1997-01-01T00:00:00\",\"1997-02-01T00:00:00\",\"1997-03-01T00:00:00\",\"1997-04-01T00:00:00\",\"1997-05-01T00:00:00\",\"1997-06-01T00:00:00\",\"1997-07-01T00:00:00\",\"1997-08-01T00:00:00\",\"1997-09-01T00:00:00\",\"1997-10-01T00:00:00\",\"1997-11-01T00:00:00\",\"1997-12-01T00:00:00\",\"1998-01-01T00:00:00\",\"1998-02-01T00:00:00\",\"1998-03-01T00:00:00\",\"1998-04-01T00:00:00\",\"1998-05-01T00:00:00\",\"1998-06-01T00:00:00\",\"1998-07-01T00:00:00\",\"1998-08-01T00:00:00\",\"1998-09-01T00:00:00\",\"1998-10-01T00:00:00\",\"1998-11-01T00:00:00\",\"1998-12-01T00:00:00\",\"1999-01-01T00:00:00\",\"1999-02-01T00:00:00\",\"1999-03-01T00:00:00\",\"1999-04-01T00:00:00\",\"1999-05-01T00:00:00\",\"1999-06-01T00:00:00\",\"1999-07-01T00:00:00\",\"1999-08-01T00:00:00\",\"1999-09-01T00:00:00\",\"1999-10-01T00:00:00\",\"1999-11-01T00:00:00\",\"1999-12-01T00:00:00\",\"2000-01-01T00:00:00\",\"2000-02-01T00:00:00\",\"2000-03-01T00:00:00\",\"2000-04-01T00:00:00\",\"2000-05-01T00:00:00\",\"2000-06-01T00:00:00\",\"2000-07-01T00:00:00\",\"2000-08-01T00:00:00\",\"2000-09-01T00:00:00\",\"2000-10-01T00:00:00\",\"2000-11-01T00:00:00\",\"2000-12-01T00:00:00\",\"2001-01-01T00:00:00\",\"2001-02-01T00:00:00\",\"2001-03-01T00:00:00\",\"2001-04-01T00:00:00\",\"2001-05-01T00:00:00\",\"2001-06-01T00:00:00\",\"2001-07-01T00:00:00\",\"2001-08-01T00:00:00\",\"2001-09-01T00:00:00\",\"2001-10-01T00:00:00\",\"2001-11-01T00:00:00\",\"2001-12-01T00:00:00\",\"2002-01-01T00:00:00\",\"2002-02-01T00:00:00\",\"2002-03-01T00:00:00\",\"2002-04-01T00:00:00\",\"2002-05-01T00:00:00\",\"2002-06-01T00:00:00\",\"2002-07-01T00:00:00\",\"2002-08-01T00:00:00\",\"2002-09-01T00:00:00\",\"2002-10-01T00:00:00\",\"2002-11-01T00:00:00\",\"2002-12-01T00:00:00\",\"2003-01-01T00:00:00\",\"2003-02-01T00:00:00\",\"2003-03-01T00:00:00\",\"2003-04-01T00:00:00\",\"2003-05-01T00:00:00\",\"2003-06-01T00:00:00\",\"2003-07-01T00:00:00\",\"2003-08-01T00:00:00\",\"2003-09-01T00:00:00\",\"2003-10-01T00:00:00\",\"2003-11-01T00:00:00\",\"2003-12-01T00:00:00\",\"2004-01-01T00:00:00\",\"2004-02-01T00:00:00\",\"2004-03-01T00:00:00\",\"2004-04-01T00:00:00\",\"2004-05-01T00:00:00\",\"2004-06-01T00:00:00\",\"2004-07-01T00:00:00\",\"2004-08-01T00:00:00\",\"2004-09-01T00:00:00\",\"2004-10-01T00:00:00\",\"2004-11-01T00:00:00\",\"2004-12-01T00:00:00\",\"2005-01-01T00:00:00\",\"2005-02-01T00:00:00\",\"2005-03-01T00:00:00\",\"2005-04-01T00:00:00\",\"2005-05-01T00:00:00\",\"2005-06-01T00:00:00\",\"2005-07-01T00:00:00\",\"2005-08-01T00:00:00\",\"2005-09-01T00:00:00\",\"2005-10-01T00:00:00\",\"2005-11-01T00:00:00\",\"2005-12-01T00:00:00\",\"2006-01-01T00:00:00\",\"2006-02-01T00:00:00\",\"2006-03-01T00:00:00\",\"2006-04-01T00:00:00\",\"2006-05-01T00:00:00\",\"2006-06-01T00:00:00\",\"2006-07-01T00:00:00\",\"2006-08-01T00:00:00\",\"2006-09-01T00:00:00\",\"2006-10-01T00:00:00\",\"2006-11-01T00:00:00\",\"2006-12-01T00:00:00\",\"2007-01-01T00:00:00\",\"2007-02-01T00:00:00\",\"2007-03-01T00:00:00\",\"2007-04-01T00:00:00\",\"2007-05-01T00:00:00\",\"2007-06-01T00:00:00\",\"2007-07-01T00:00:00\",\"2007-08-01T00:00:00\",\"2007-09-01T00:00:00\",\"2007-10-01T00:00:00\",\"2007-11-01T00:00:00\",\"2007-12-01T00:00:00\",\"2008-01-01T00:00:00\",\"2008-02-01T00:00:00\",\"2008-03-01T00:00:00\",\"2008-04-01T00:00:00\",\"2008-05-01T00:00:00\",\"2008-06-01T00:00:00\",\"2008-07-01T00:00:00\",\"2008-08-01T00:00:00\",\"2008-09-01T00:00:00\",\"2008-10-01T00:00:00\",\"2008-11-01T00:00:00\",\"2008-12-01T00:00:00\",\"2009-01-01T00:00:00\",\"2009-02-01T00:00:00\",\"2009-03-01T00:00:00\",\"2009-04-01T00:00:00\",\"2009-05-01T00:00:00\",\"2009-06-01T00:00:00\",\"2009-07-01T00:00:00\",\"2009-08-01T00:00:00\",\"2009-09-01T00:00:00\",\"2009-10-01T00:00:00\",\"2009-11-01T00:00:00\",\"2009-12-01T00:00:00\",\"2010-01-01T00:00:00\",\"2010-02-01T00:00:00\",\"2010-03-01T00:00:00\",\"2010-04-01T00:00:00\",\"2010-05-01T00:00:00\",\"2010-06-01T00:00:00\",\"2010-07-01T00:00:00\",\"2010-08-01T00:00:00\",\"2010-09-01T00:00:00\",\"2010-10-01T00:00:00\",\"2010-11-01T00:00:00\",\"2010-12-01T00:00:00\",\"2011-01-01T00:00:00\",\"2011-02-01T00:00:00\",\"2011-03-01T00:00:00\",\"2011-04-01T00:00:00\",\"2011-05-01T00:00:00\",\"2011-06-01T00:00:00\",\"2011-07-01T00:00:00\",\"2011-08-01T00:00:00\",\"2011-09-01T00:00:00\",\"2011-10-01T00:00:00\",\"2011-11-01T00:00:00\",\"2011-12-01T00:00:00\",\"2012-01-01T00:00:00\",\"2012-02-01T00:00:00\",\"2012-03-01T00:00:00\",\"2012-04-01T00:00:00\",\"2012-05-01T00:00:00\",\"2012-06-01T00:00:00\",\"2012-07-01T00:00:00\",\"2012-08-01T00:00:00\",\"2012-09-01T00:00:00\",\"2012-10-01T00:00:00\",\"2012-11-01T00:00:00\",\"2012-12-01T00:00:00\",\"2013-01-01T00:00:00\",\"2013-02-01T00:00:00\",\"2013-03-01T00:00:00\",\"2013-04-01T00:00:00\",\"2013-05-01T00:00:00\",\"2013-06-01T00:00:00\",\"2013-07-01T00:00:00\",\"2013-08-01T00:00:00\",\"2013-09-01T00:00:00\",\"2013-10-01T00:00:00\",\"2013-11-01T00:00:00\",\"2013-12-01T00:00:00\",\"2014-01-01T00:00:00\",\"2014-02-01T00:00:00\",\"2014-03-01T00:00:00\",\"2014-04-01T00:00:00\",\"2014-05-01T00:00:00\",\"2014-06-01T00:00:00\",\"2014-07-01T00:00:00\",\"2014-08-01T00:00:00\",\"2014-09-01T00:00:00\",\"2014-10-01T00:00:00\",\"2014-11-01T00:00:00\",\"2014-12-01T00:00:00\",\"2015-01-01T00:00:00\",\"2015-02-01T00:00:00\",\"2015-03-01T00:00:00\",\"2015-04-01T00:00:00\",\"2015-05-01T00:00:00\",\"2015-06-01T00:00:00\",\"2015-07-01T00:00:00\",\"2015-08-01T00:00:00\",\"2015-09-01T00:00:00\",\"2015-10-01T00:00:00\",\"2015-11-01T00:00:00\",\"2015-12-01T00:00:00\",\"2016-01-01T00:00:00\",\"2016-02-01T00:00:00\",\"2016-03-01T00:00:00\",\"2016-04-01T00:00:00\",\"2016-05-01T00:00:00\",\"2016-06-01T00:00:00\",\"2016-07-01T00:00:00\",\"2016-08-01T00:00:00\",\"2016-09-01T00:00:00\",\"2016-10-01T00:00:00\",\"2016-11-01T00:00:00\",\"2016-12-01T00:00:00\",\"2017-01-01T00:00:00\",\"2017-02-01T00:00:00\",\"2017-03-01T00:00:00\",\"2017-04-01T00:00:00\",\"2017-05-01T00:00:00\",\"2017-06-01T00:00:00\",\"2017-07-01T00:00:00\",\"2017-08-01T00:00:00\",\"2017-09-01T00:00:00\",\"2017-10-01T00:00:00\",\"2017-11-01T00:00:00\",\"2017-12-01T00:00:00\",\"2018-01-01T00:00:00\",\"2018-02-01T00:00:00\",\"2018-03-01T00:00:00\",\"2018-04-01T00:00:00\",\"2018-05-01T00:00:00\",\"2018-06-01T00:00:00\",\"2018-07-01T00:00:00\",\"2018-08-01T00:00:00\",\"2018-09-01T00:00:00\",\"2018-10-01T00:00:00\",\"2018-11-01T00:00:00\",\"2018-12-01T00:00:00\",\"2019-01-01T00:00:00\",\"2019-02-01T00:00:00\",\"2019-03-01T00:00:00\",\"2019-04-01T00:00:00\",\"2019-05-01T00:00:00\",\"2019-06-01T00:00:00\",\"2019-07-01T00:00:00\",\"2019-08-01T00:00:00\",\"2019-09-01T00:00:00\",\"2019-10-01T00:00:00\",\"2019-11-01T00:00:00\",\"2019-12-01T00:00:00\",\"2020-01-01T00:00:00\",\"2020-02-01T00:00:00\",\"2020-03-01T00:00:00\",\"2020-04-01T00:00:00\",\"2020-05-01T00:00:00\",\"2020-06-01T00:00:00\",\"2020-07-01T00:00:00\",\"2020-08-01T00:00:00\",\"2020-09-01T00:00:00\",\"2020-10-01T00:00:00\",\"2020-11-01T00:00:00\",\"2020-12-01T00:00:00\",\"2021-01-01T00:00:00\",\"2021-02-01T00:00:00\",\"2021-03-01T00:00:00\",\"2021-04-01T00:00:00\",\"2021-05-01T00:00:00\",\"2021-06-01T00:00:00\",\"2021-07-01T00:00:00\",\"2021-08-01T00:00:00\",\"2021-09-01T00:00:00\",\"2021-10-01T00:00:00\",\"2021-11-01T00:00:00\",\"2021-12-01T00:00:00\",\"2022-01-01T00:00:00\",\"2022-02-01T00:00:00\",\"2022-03-01T00:00:00\",\"2022-04-01T00:00:00\",\"2022-05-01T00:00:00\",\"2022-06-01T00:00:00\",\"2022-07-01T00:00:00\",\"2022-08-01T00:00:00\",\"2022-09-01T00:00:00\",\"2022-10-01T00:00:00\",\"2022-11-01T00:00:00\",\"2022-12-01T00:00:00\"],\"xaxis\":\"x\",\"y\":[18.07,18.7,18.49,18.52,19.02,20.57,21.9,22.34,23.43,22.17,22.89,22.95,22.27,20.24,18.71,19.21,20.65,20.5,20.94,21.92,23.23,24.08,26.33,26.55,28.75,31.47,29.06,28.24,28.17,27.54,27.32,26.81,26.41,26.75,26.71,27.36,28.75,31.47,29.06,28.24,28.17,27.54,27.32,26.81,26.41,26.75,26.71,27.36,26.94,25.0,23.09,22.13,21.71,21.2,20.61,21.68,22.56,22.18,24.16,25.36,26.3,26.62,25.27,25.19,25.59,25.47,26.08,26.61,26.81,26.96,28.57,31.05,33.52,34.74,31.38,28.8,29.0,28.95,28.59,28.21,28.0,28.34,28.74,29.3,30.41,29.7,27.74,27.02,27.0,28.18,27.21,26.69,26.76,26.85,29.52,31.61,32.33,33.19,32.03,32.44,33.64,33.69,34.82,35.25,36.47,36.66,39.07,38.37,38.49,35.92,31.81,31.28,30.67,30.59,29.47,29.01,29.66,29.8,31.77,35.24,34.07,31.86,29.26,29.72,29.91,30.47,30.88,30.1,31.34,31.75,33.42,36.31,37.04,38.04,36.12,35.03,37.24,37.79,38.37,39.37,39.92,41.63,53.6,56.83,66.37,64.01,65.98,71.48,66.56,66.75,65.69,63.38,63.52,64.88,66.37,67.48,68.76,68.18,63.58,61.17,62.41,63.21,62.8,62.76,62.9,63.53,65.51,72.01,77.38,75.42,63.12,59.03,58.14,56.84,55.73,54.74,53.46,55.57,60.35,62.18,60.95,63.03,62.6,62.35,62.33,62.26,61.88,60.83,58.39,58.78,60.51,62.54,61.54,59.53,58.66,57.64,57.07,58.04,59.48,58.91,61.44,61.98,62.72,63.58,63.81,63.15,62.88,63.3,63.64,63.01,62.92,62.61,62.69,63.29,64.65,66.34,68.09,69.91,70.27,72.99,74.74,75.8,77.74,79.79,85.46,86.74,88.83,88.31,88.05,85.41,81.34,79.12,78.49,76.38,75.01,72.59,73.31,73.89,77.35,78.5,77.95,76.67,75.75,76.16,77.85,77.9,77.43,76.19,76.49,79.15,83.92,91.29,96.09,95.8,85.58,87.81,90.29,95.48,96.01,95.76,98.19,101.485,104.78,103.61,101.72,96.29,94.49,96.13,100.09,97.27,94.48,92.09,91.46,91.97,89.27,89.9,93.0,91.33,91.36,88.48,90.15,88.56,87.99,89.06,92.08,96.74,99.21,103.29,98.0,98.0,98.0,98.73,99.46,100.19,98.97,99.16,99.85,102.62,105.39,108.16,110.93,107.15,108.65,113.84,117.56,127.5,121.77,119.95,110.22,124.68,139.03,138.5,158.14,161.16,173.79,211.24,217.29,247.14,250.07,239.24,228.44,224.78,224.78,224.78],\"yaxis\":\"y\",\"type\":\"scatter\"}],                        {\"template\":{\"data\":{\"histogram2dcontour\":[{\"type\":\"histogram2dcontour\",\"colorbar\":{\"outlinewidth\":0,\"ticks\":\"\"},\"colorscale\":[[0.0,\"#0d0887\"],[0.1111111111111111,\"#46039f\"],[0.2222222222222222,\"#7201a8\"],[0.3333333333333333,\"#9c179e\"],[0.4444444444444444,\"#bd3786\"],[0.5555555555555556,\"#d8576b\"],[0.6666666666666666,\"#ed7953\"],[0.7777777777777778,\"#fb9f3a\"],[0.8888888888888888,\"#fdca26\"],[1.0,\"#f0f921\"]]}],\"choropleth\":[{\"type\":\"choropleth\",\"colorbar\":{\"outlinewidth\":0,\"ticks\":\"\"}}],\"histogram2d\":[{\"type\":\"histogram2d\",\"colorbar\":{\"outlinewidth\":0,\"ticks\":\"\"},\"colorscale\":[[0.0,\"#0d0887\"],[0.1111111111111111,\"#46039f\"],[0.2222222222222222,\"#7201a8\"],[0.3333333333333333,\"#9c179e\"],[0.4444444444444444,\"#bd3786\"],[0.5555555555555556,\"#d8576b\"],[0.6666666666666666,\"#ed7953\"],[0.7777777777777778,\"#fb9f3a\"],[0.8888888888888888,\"#fdca26\"],[1.0,\"#f0f921\"]]}],\"heatmap\":[{\"type\":\"heatmap\",\"colorbar\":{\"outlinewidth\":0,\"ticks\":\"\"},\"colorscale\":[[0.0,\"#0d0887\"],[0.1111111111111111,\"#46039f\"],[0.2222222222222222,\"#7201a8\"],[0.3333333333333333,\"#9c179e\"],[0.4444444444444444,\"#bd3786\"],[0.5555555555555556,\"#d8576b\"],[0.6666666666666666,\"#ed7953\"],[0.7777777777777778,\"#fb9f3a\"],[0.8888888888888888,\"#fdca26\"],[1.0,\"#f0f921\"]]}],\"heatmapgl\":[{\"type\":\"heatmapgl\",\"colorbar\":{\"outlinewidth\":0,\"ticks\":\"\"},\"colorscale\":[[0.0,\"#0d0887\"],[0.1111111111111111,\"#46039f\"],[0.2222222222222222,\"#7201a8\"],[0.3333333333333333,\"#9c179e\"],[0.4444444444444444,\"#bd3786\"],[0.5555555555555556,\"#d8576b\"],[0.6666666666666666,\"#ed7953\"],[0.7777777777777778,\"#fb9f3a\"],[0.8888888888888888,\"#fdca26\"],[1.0,\"#f0f921\"]]}],\"contourcarpet\":[{\"type\":\"contourcarpet\",\"colorbar\":{\"outlinewidth\":0,\"ticks\":\"\"}}],\"contour\":[{\"type\":\"contour\",\"colorbar\":{\"outlinewidth\":0,\"ticks\":\"\"},\"colorscale\":[[0.0,\"#0d0887\"],[0.1111111111111111,\"#46039f\"],[0.2222222222222222,\"#7201a8\"],[0.3333333333333333,\"#9c179e\"],[0.4444444444444444,\"#bd3786\"],[0.5555555555555556,\"#d8576b\"],[0.6666666666666666,\"#ed7953\"],[0.7777777777777778,\"#fb9f3a\"],[0.8888888888888888,\"#fdca26\"],[1.0,\"#f0f921\"]]}],\"surface\":[{\"type\":\"surface\",\"colorbar\":{\"outlinewidth\":0,\"ticks\":\"\"},\"colorscale\":[[0.0,\"#0d0887\"],[0.1111111111111111,\"#46039f\"],[0.2222222222222222,\"#7201a8\"],[0.3333333333333333,\"#9c179e\"],[0.4444444444444444,\"#bd3786\"],[0.5555555555555556,\"#d8576b\"],[0.6666666666666666,\"#ed7953\"],[0.7777777777777778,\"#fb9f3a\"],[0.8888888888888888,\"#fdca26\"],[1.0,\"#f0f921\"]]}],\"mesh3d\":[{\"type\":\"mesh3d\",\"colorbar\":{\"outlinewidth\":0,\"ticks\":\"\"}}],\"scatter\":[{\"fillpattern\":{\"fillmode\":\"overlay\",\"size\":10,\"solidity\":0.2},\"type\":\"scatter\"}],\"parcoords\":[{\"type\":\"parcoords\",\"line\":{\"colorbar\":{\"outlinewidth\":0,\"ticks\":\"\"}}}],\"scatterpolargl\":[{\"type\":\"scatterpolargl\",\"marker\":{\"colorbar\":{\"outlinewidth\":0,\"ticks\":\"\"}}}],\"bar\":[{\"error_x\":{\"color\":\"#2a3f5f\"},\"error_y\":{\"color\":\"#2a3f5f\"},\"marker\":{\"line\":{\"color\":\"#E5ECF6\",\"width\":0.5},\"pattern\":{\"fillmode\":\"overlay\",\"size\":10,\"solidity\":0.2}},\"type\":\"bar\"}],\"scattergeo\":[{\"type\":\"scattergeo\",\"marker\":{\"colorbar\":{\"outlinewidth\":0,\"ticks\":\"\"}}}],\"scatterpolar\":[{\"type\":\"scatterpolar\",\"marker\":{\"colorbar\":{\"outlinewidth\":0,\"ticks\":\"\"}}}],\"histogram\":[{\"marker\":{\"pattern\":{\"fillmode\":\"overlay\",\"size\":10,\"solidity\":0.2}},\"type\":\"histogram\"}],\"scattergl\":[{\"type\":\"scattergl\",\"marker\":{\"colorbar\":{\"outlinewidth\":0,\"ticks\":\"\"}}}],\"scatter3d\":[{\"type\":\"scatter3d\",\"line\":{\"colorbar\":{\"outlinewidth\":0,\"ticks\":\"\"}},\"marker\":{\"colorbar\":{\"outlinewidth\":0,\"ticks\":\"\"}}}],\"scattermapbox\":[{\"type\":\"scattermapbox\",\"marker\":{\"colorbar\":{\"outlinewidth\":0,\"ticks\":\"\"}}}],\"scatterternary\":[{\"type\":\"scatterternary\",\"marker\":{\"colorbar\":{\"outlinewidth\":0,\"ticks\":\"\"}}}],\"scattercarpet\":[{\"type\":\"scattercarpet\",\"marker\":{\"colorbar\":{\"outlinewidth\":0,\"ticks\":\"\"}}}],\"carpet\":[{\"aaxis\":{\"endlinecolor\":\"#2a3f5f\",\"gridcolor\":\"white\",\"linecolor\":\"white\",\"minorgridcolor\":\"white\",\"startlinecolor\":\"#2a3f5f\"},\"baxis\":{\"endlinecolor\":\"#2a3f5f\",\"gridcolor\":\"white\",\"linecolor\":\"white\",\"minorgridcolor\":\"white\",\"startlinecolor\":\"#2a3f5f\"},\"type\":\"carpet\"}],\"table\":[{\"cells\":{\"fill\":{\"color\":\"#EBF0F8\"},\"line\":{\"color\":\"white\"}},\"header\":{\"fill\":{\"color\":\"#C8D4E3\"},\"line\":{\"color\":\"white\"}},\"type\":\"table\"}],\"barpolar\":[{\"marker\":{\"line\":{\"color\":\"#E5ECF6\",\"width\":0.5},\"pattern\":{\"fillmode\":\"overlay\",\"size\":10,\"solidity\":0.2}},\"type\":\"barpolar\"}],\"pie\":[{\"automargin\":true,\"type\":\"pie\"}]},\"layout\":{\"autotypenumbers\":\"strict\",\"colorway\":[\"#636efa\",\"#EF553B\",\"#00cc96\",\"#ab63fa\",\"#FFA15A\",\"#19d3f3\",\"#FF6692\",\"#B6E880\",\"#FF97FF\",\"#FECB52\"],\"font\":{\"color\":\"#2a3f5f\"},\"hovermode\":\"closest\",\"hoverlabel\":{\"align\":\"left\"},\"paper_bgcolor\":\"white\",\"plot_bgcolor\":\"#E5ECF6\",\"polar\":{\"bgcolor\":\"#E5ECF6\",\"angularaxis\":{\"gridcolor\":\"white\",\"linecolor\":\"white\",\"ticks\":\"\"},\"radialaxis\":{\"gridcolor\":\"white\",\"linecolor\":\"white\",\"ticks\":\"\"}},\"ternary\":{\"bgcolor\":\"#E5ECF6\",\"aaxis\":{\"gridcolor\":\"white\",\"linecolor\":\"white\",\"ticks\":\"\"},\"baxis\":{\"gridcolor\":\"white\",\"linecolor\":\"white\",\"ticks\":\"\"},\"caxis\":{\"gridcolor\":\"white\",\"linecolor\":\"white\",\"ticks\":\"\"}},\"coloraxis\":{\"colorbar\":{\"outlinewidth\":0,\"ticks\":\"\"}},\"colorscale\":{\"sequential\":[[0.0,\"#0d0887\"],[0.1111111111111111,\"#46039f\"],[0.2222222222222222,\"#7201a8\"],[0.3333333333333333,\"#9c179e\"],[0.4444444444444444,\"#bd3786\"],[0.5555555555555556,\"#d8576b\"],[0.6666666666666666,\"#ed7953\"],[0.7777777777777778,\"#fb9f3a\"],[0.8888888888888888,\"#fdca26\"],[1.0,\"#f0f921\"]],\"sequentialminus\":[[0.0,\"#0d0887\"],[0.1111111111111111,\"#46039f\"],[0.2222222222222222,\"#7201a8\"],[0.3333333333333333,\"#9c179e\"],[0.4444444444444444,\"#bd3786\"],[0.5555555555555556,\"#d8576b\"],[0.6666666666666666,\"#ed7953\"],[0.7777777777777778,\"#fb9f3a\"],[0.8888888888888888,\"#fdca26\"],[1.0,\"#f0f921\"]],\"diverging\":[[0,\"#8e0152\"],[0.1,\"#c51b7d\"],[0.2,\"#de77ae\"],[0.3,\"#f1b6da\"],[0.4,\"#fde0ef\"],[0.5,\"#f7f7f7\"],[0.6,\"#e6f5d0\"],[0.7,\"#b8e186\"],[0.8,\"#7fbc41\"],[0.9,\"#4d9221\"],[1,\"#276419\"]]},\"xaxis\":{\"gridcolor\":\"white\",\"linecolor\":\"white\",\"ticks\":\"\",\"title\":{\"standoff\":15},\"zerolinecolor\":\"white\",\"automargin\":true,\"zerolinewidth\":2},\"yaxis\":{\"gridcolor\":\"white\",\"linecolor\":\"white\",\"ticks\":\"\",\"title\":{\"standoff\":15},\"zerolinecolor\":\"white\",\"automargin\":true,\"zerolinewidth\":2},\"scene\":{\"xaxis\":{\"backgroundcolor\":\"#E5ECF6\",\"gridcolor\":\"white\",\"linecolor\":\"white\",\"showbackground\":true,\"ticks\":\"\",\"zerolinecolor\":\"white\",\"gridwidth\":2},\"yaxis\":{\"backgroundcolor\":\"#E5ECF6\",\"gridcolor\":\"white\",\"linecolor\":\"white\",\"showbackground\":true,\"ticks\":\"\",\"zerolinecolor\":\"white\",\"gridwidth\":2},\"zaxis\":{\"backgroundcolor\":\"#E5ECF6\",\"gridcolor\":\"white\",\"linecolor\":\"white\",\"showbackground\":true,\"ticks\":\"\",\"zerolinecolor\":\"white\",\"gridwidth\":2}},\"shapedefaults\":{\"line\":{\"color\":\"#2a3f5f\"}},\"annotationdefaults\":{\"arrowcolor\":\"#2a3f5f\",\"arrowhead\":0,\"arrowwidth\":1},\"geo\":{\"bgcolor\":\"white\",\"landcolor\":\"#E5ECF6\",\"subunitcolor\":\"white\",\"showland\":true,\"showlakes\":true,\"lakecolor\":\"white\"},\"title\":{\"x\":0.05},\"mapbox\":{\"style\":\"light\"}}},\"xaxis\":{\"anchor\":\"y\",\"domain\":[0.0,1.0],\"title\":{\"text\":\"Date\"}},\"yaxis\":{\"anchor\":\"x\",\"domain\":[0.0,1.0],\"title\":{\"text\":\"Price\"}},\"legend\":{\"tracegroupgap\":0},\"margin\":{\"t\":60},\"showlegend\":true},                        {\"responsive\": true}                    ).then(function(){\n                            \nvar gd = document.getElementById('da2f5356-0482-4f8f-9ecd-d13238e299df');\nvar x = new MutationObserver(function (mutations, observer) {{\n        var display = window.getComputedStyle(gd).display;\n        if (!display || display === 'none') {{\n            console.log([gd, 'removed!']);\n            Plotly.purge(gd);\n            observer.disconnect();\n        }}\n}});\n\n// Listen for the removal of the full notebook cells\nvar notebookContainer = gd.closest('#notebook-container');\nif (notebookContainer) {{\n    x.observe(notebookContainer, {childList: true});\n}}\n\n// Listen for the clearing of the current output cell\nvar outputEl = gd.closest('.output');\nif (outputEl) {{\n    x.observe(outputEl, {childList: true});\n}}\n\n                        })                };                });            </script>        </div>"
     },
     "metadata": {},
     "output_type": "display_data"
    }
   ]
  },
  {
   "cell_type": "code",
   "source": [
    "# Create Line plot\n",
    "fig = px.line(df, x='Date', y='Production')\n",
    "fig.add_scatter(x=df['Date'], y=df['Production_Total'], name='Production_Total')\n",
    "\n",
    "# Add legend\n",
    "fig.update_layout(showlegend=True)\n",
    "\n",
    "# Display the plot\n",
    "fig.show()"
   ],
   "metadata": {
    "execution": {
     "iopub.status.busy": "2023-02-22T15:01:05.076433Z",
     "iopub.execute_input": "2023-02-22T15:01:05.076883Z",
     "iopub.status.idle": "2023-02-22T15:01:05.161878Z",
     "shell.execute_reply.started": "2023-02-22T15:01:05.076839Z",
     "shell.execute_reply": "2023-02-22T15:01:05.160476Z"
    },
    "trusted": true
   },
   "execution_count": 240,
   "outputs": [
    {
     "data": {
      "application/vnd.plotly.v1+json": {
       "data": [
        {
         "hovertemplate": "Date=%{x}<br>Production=%{y}<extra></extra>",
         "legendgroup": "",
         "line": {
          "color": "#636efa",
          "dash": "solid"
         },
         "marker": {
          "symbol": "circle"
         },
         "mode": "lines",
         "name": "",
         "orientation": "v",
         "showlegend": false,
         "x": [
          "1996-01-01T00:00:00",
          "1996-02-01T00:00:00",
          "1996-03-01T00:00:00",
          "1996-04-01T00:00:00",
          "1996-05-01T00:00:00",
          "1996-06-01T00:00:00",
          "1996-07-01T00:00:00",
          "1996-08-01T00:00:00",
          "1996-09-01T00:00:00",
          "1996-10-01T00:00:00",
          "1996-11-01T00:00:00",
          "1996-12-01T00:00:00",
          "1997-01-01T00:00:00",
          "1997-02-01T00:00:00",
          "1997-03-01T00:00:00",
          "1997-04-01T00:00:00",
          "1997-05-01T00:00:00",
          "1997-06-01T00:00:00",
          "1997-07-01T00:00:00",
          "1997-08-01T00:00:00",
          "1997-09-01T00:00:00",
          "1997-10-01T00:00:00",
          "1997-11-01T00:00:00",
          "1997-12-01T00:00:00",
          "1998-01-01T00:00:00",
          "1998-02-01T00:00:00",
          "1998-03-01T00:00:00",
          "1998-04-01T00:00:00",
          "1998-05-01T00:00:00",
          "1998-06-01T00:00:00",
          "1998-07-01T00:00:00",
          "1998-08-01T00:00:00",
          "1998-09-01T00:00:00",
          "1998-10-01T00:00:00",
          "1998-11-01T00:00:00",
          "1998-12-01T00:00:00",
          "1999-01-01T00:00:00",
          "1999-02-01T00:00:00",
          "1999-03-01T00:00:00",
          "1999-04-01T00:00:00",
          "1999-05-01T00:00:00",
          "1999-06-01T00:00:00",
          "1999-07-01T00:00:00",
          "1999-08-01T00:00:00",
          "1999-09-01T00:00:00",
          "1999-10-01T00:00:00",
          "1999-11-01T00:00:00",
          "1999-12-01T00:00:00",
          "2000-01-01T00:00:00",
          "2000-02-01T00:00:00",
          "2000-03-01T00:00:00",
          "2000-04-01T00:00:00",
          "2000-05-01T00:00:00",
          "2000-06-01T00:00:00",
          "2000-07-01T00:00:00",
          "2000-08-01T00:00:00",
          "2000-09-01T00:00:00",
          "2000-10-01T00:00:00",
          "2000-11-01T00:00:00",
          "2000-12-01T00:00:00",
          "2001-01-01T00:00:00",
          "2001-02-01T00:00:00",
          "2001-03-01T00:00:00",
          "2001-04-01T00:00:00",
          "2001-05-01T00:00:00",
          "2001-06-01T00:00:00",
          "2001-07-01T00:00:00",
          "2001-08-01T00:00:00",
          "2001-09-01T00:00:00",
          "2001-10-01T00:00:00",
          "2001-11-01T00:00:00",
          "2001-12-01T00:00:00",
          "2002-01-01T00:00:00",
          "2002-02-01T00:00:00",
          "2002-03-01T00:00:00",
          "2002-04-01T00:00:00",
          "2002-05-01T00:00:00",
          "2002-06-01T00:00:00",
          "2002-07-01T00:00:00",
          "2002-08-01T00:00:00",
          "2002-09-01T00:00:00",
          "2002-10-01T00:00:00",
          "2002-11-01T00:00:00",
          "2002-12-01T00:00:00",
          "2003-01-01T00:00:00",
          "2003-02-01T00:00:00",
          "2003-03-01T00:00:00",
          "2003-04-01T00:00:00",
          "2003-05-01T00:00:00",
          "2003-06-01T00:00:00",
          "2003-07-01T00:00:00",
          "2003-08-01T00:00:00",
          "2003-09-01T00:00:00",
          "2003-10-01T00:00:00",
          "2003-11-01T00:00:00",
          "2003-12-01T00:00:00",
          "2004-01-01T00:00:00",
          "2004-02-01T00:00:00",
          "2004-03-01T00:00:00",
          "2004-04-01T00:00:00",
          "2004-05-01T00:00:00",
          "2004-06-01T00:00:00",
          "2004-07-01T00:00:00",
          "2004-08-01T00:00:00",
          "2004-09-01T00:00:00",
          "2004-10-01T00:00:00",
          "2004-11-01T00:00:00",
          "2004-12-01T00:00:00",
          "2005-01-01T00:00:00",
          "2005-02-01T00:00:00",
          "2005-03-01T00:00:00",
          "2005-04-01T00:00:00",
          "2005-05-01T00:00:00",
          "2005-06-01T00:00:00",
          "2005-07-01T00:00:00",
          "2005-08-01T00:00:00",
          "2005-09-01T00:00:00",
          "2005-10-01T00:00:00",
          "2005-11-01T00:00:00",
          "2005-12-01T00:00:00",
          "2006-01-01T00:00:00",
          "2006-02-01T00:00:00",
          "2006-03-01T00:00:00",
          "2006-04-01T00:00:00",
          "2006-05-01T00:00:00",
          "2006-06-01T00:00:00",
          "2006-07-01T00:00:00",
          "2006-08-01T00:00:00",
          "2006-09-01T00:00:00",
          "2006-10-01T00:00:00",
          "2006-11-01T00:00:00",
          "2006-12-01T00:00:00",
          "2007-01-01T00:00:00",
          "2007-02-01T00:00:00",
          "2007-03-01T00:00:00",
          "2007-04-01T00:00:00",
          "2007-05-01T00:00:00",
          "2007-06-01T00:00:00",
          "2007-07-01T00:00:00",
          "2007-08-01T00:00:00",
          "2007-09-01T00:00:00",
          "2007-10-01T00:00:00",
          "2007-11-01T00:00:00",
          "2007-12-01T00:00:00",
          "2008-01-01T00:00:00",
          "2008-02-01T00:00:00",
          "2008-03-01T00:00:00",
          "2008-04-01T00:00:00",
          "2008-05-01T00:00:00",
          "2008-06-01T00:00:00",
          "2008-07-01T00:00:00",
          "2008-08-01T00:00:00",
          "2008-09-01T00:00:00",
          "2008-10-01T00:00:00",
          "2008-11-01T00:00:00",
          "2008-12-01T00:00:00",
          "2009-01-01T00:00:00",
          "2009-02-01T00:00:00",
          "2009-03-01T00:00:00",
          "2009-04-01T00:00:00",
          "2009-05-01T00:00:00",
          "2009-06-01T00:00:00",
          "2009-07-01T00:00:00",
          "2009-08-01T00:00:00",
          "2009-09-01T00:00:00",
          "2009-10-01T00:00:00",
          "2009-11-01T00:00:00",
          "2009-12-01T00:00:00",
          "2010-01-01T00:00:00",
          "2010-02-01T00:00:00",
          "2010-03-01T00:00:00",
          "2010-04-01T00:00:00",
          "2010-05-01T00:00:00",
          "2010-06-01T00:00:00",
          "2010-07-01T00:00:00",
          "2010-08-01T00:00:00",
          "2010-09-01T00:00:00",
          "2010-10-01T00:00:00",
          "2010-11-01T00:00:00",
          "2010-12-01T00:00:00",
          "2011-01-01T00:00:00",
          "2011-02-01T00:00:00",
          "2011-03-01T00:00:00",
          "2011-04-01T00:00:00",
          "2011-05-01T00:00:00",
          "2011-06-01T00:00:00",
          "2011-07-01T00:00:00",
          "2011-08-01T00:00:00",
          "2011-09-01T00:00:00",
          "2011-10-01T00:00:00",
          "2011-11-01T00:00:00",
          "2011-12-01T00:00:00",
          "2012-01-01T00:00:00",
          "2012-02-01T00:00:00",
          "2012-03-01T00:00:00",
          "2012-04-01T00:00:00",
          "2012-05-01T00:00:00",
          "2012-06-01T00:00:00",
          "2012-07-01T00:00:00",
          "2012-08-01T00:00:00",
          "2012-09-01T00:00:00",
          "2012-10-01T00:00:00",
          "2012-11-01T00:00:00",
          "2012-12-01T00:00:00",
          "2013-01-01T00:00:00",
          "2013-02-01T00:00:00",
          "2013-03-01T00:00:00",
          "2013-04-01T00:00:00",
          "2013-05-01T00:00:00",
          "2013-06-01T00:00:00",
          "2013-07-01T00:00:00",
          "2013-08-01T00:00:00",
          "2013-09-01T00:00:00",
          "2013-10-01T00:00:00",
          "2013-11-01T00:00:00",
          "2013-12-01T00:00:00",
          "2014-01-01T00:00:00",
          "2014-02-01T00:00:00",
          "2014-03-01T00:00:00",
          "2014-04-01T00:00:00",
          "2014-05-01T00:00:00",
          "2014-06-01T00:00:00",
          "2014-07-01T00:00:00",
          "2014-08-01T00:00:00",
          "2014-09-01T00:00:00",
          "2014-10-01T00:00:00",
          "2014-11-01T00:00:00",
          "2014-12-01T00:00:00",
          "2015-01-01T00:00:00",
          "2015-02-01T00:00:00",
          "2015-03-01T00:00:00",
          "2015-04-01T00:00:00",
          "2015-05-01T00:00:00",
          "2015-06-01T00:00:00",
          "2015-07-01T00:00:00",
          "2015-08-01T00:00:00",
          "2015-09-01T00:00:00",
          "2015-10-01T00:00:00",
          "2015-11-01T00:00:00",
          "2015-12-01T00:00:00",
          "2016-01-01T00:00:00",
          "2016-02-01T00:00:00",
          "2016-03-01T00:00:00",
          "2016-04-01T00:00:00",
          "2016-05-01T00:00:00",
          "2016-06-01T00:00:00",
          "2016-07-01T00:00:00",
          "2016-08-01T00:00:00",
          "2016-09-01T00:00:00",
          "2016-10-01T00:00:00",
          "2016-11-01T00:00:00",
          "2016-12-01T00:00:00",
          "2017-01-01T00:00:00",
          "2017-02-01T00:00:00",
          "2017-03-01T00:00:00",
          "2017-04-01T00:00:00",
          "2017-05-01T00:00:00",
          "2017-06-01T00:00:00",
          "2017-07-01T00:00:00",
          "2017-08-01T00:00:00",
          "2017-09-01T00:00:00",
          "2017-10-01T00:00:00",
          "2017-11-01T00:00:00",
          "2017-12-01T00:00:00",
          "2018-01-01T00:00:00",
          "2018-02-01T00:00:00",
          "2018-03-01T00:00:00",
          "2018-04-01T00:00:00",
          "2018-05-01T00:00:00",
          "2018-06-01T00:00:00",
          "2018-07-01T00:00:00",
          "2018-08-01T00:00:00",
          "2018-09-01T00:00:00",
          "2018-10-01T00:00:00",
          "2018-11-01T00:00:00",
          "2018-12-01T00:00:00",
          "2019-01-01T00:00:00",
          "2019-02-01T00:00:00",
          "2019-03-01T00:00:00",
          "2019-04-01T00:00:00",
          "2019-05-01T00:00:00",
          "2019-06-01T00:00:00",
          "2019-07-01T00:00:00",
          "2019-08-01T00:00:00",
          "2019-09-01T00:00:00",
          "2019-10-01T00:00:00",
          "2019-11-01T00:00:00",
          "2019-12-01T00:00:00",
          "2020-01-01T00:00:00",
          "2020-02-01T00:00:00",
          "2020-03-01T00:00:00",
          "2020-04-01T00:00:00",
          "2020-05-01T00:00:00",
          "2020-06-01T00:00:00",
          "2020-07-01T00:00:00",
          "2020-08-01T00:00:00",
          "2020-09-01T00:00:00",
          "2020-10-01T00:00:00",
          "2020-11-01T00:00:00",
          "2020-12-01T00:00:00",
          "2021-01-01T00:00:00",
          "2021-02-01T00:00:00",
          "2021-03-01T00:00:00",
          "2021-04-01T00:00:00",
          "2021-05-01T00:00:00",
          "2021-06-01T00:00:00",
          "2021-07-01T00:00:00",
          "2021-08-01T00:00:00",
          "2021-09-01T00:00:00",
          "2021-10-01T00:00:00",
          "2021-11-01T00:00:00",
          "2021-12-01T00:00:00",
          "2022-01-01T00:00:00",
          "2022-02-01T00:00:00",
          "2022-03-01T00:00:00",
          "2022-04-01T00:00:00",
          "2022-05-01T00:00:00",
          "2022-06-01T00:00:00",
          "2022-07-01T00:00:00",
          "2022-08-01T00:00:00",
          "2022-09-01T00:00:00",
          "2022-10-01T00:00:00",
          "2022-11-01T00:00:00",
          "2022-12-01T00:00:00"
         ],
         "xaxis": "x",
         "y": [
          1333.6,
          1333.6,
          1333.6,
          1333.6,
          731.5,
          731.5,
          731.5,
          731.5,
          731.5,
          1333.6,
          1333.6,
          1333.6,
          1459.6,
          1459.6,
          1459.6,
          1459.6,
          783.7,
          783.7,
          783.7,
          783.7,
          783.7,
          1459.6,
          1459.6,
          1459.6,
          1784.2,
          1784.2,
          1784.2,
          1784.2,
          912.8,
          912.8,
          912.8,
          912.8,
          912.8,
          1784.2,
          1784.2,
          1784.2,
          1738.8,
          1738.8,
          1738.8,
          1738.8,
          1123.3,
          1123.3,
          1123.3,
          1123.3,
          1123.3,
          1738.8,
          1738.8,
          1738.8,
          1781.2,
          1781.2,
          1781.2,
          1781.2,
          1077.6,
          1077.6,
          1077.6,
          1077.6,
          1077.6,
          1781.2,
          1781.2,
          1781.2,
          1614.0,
          1614.0,
          1614.0,
          1614.0,
          1083.0,
          1083.0,
          1083.0,
          1083.0,
          1083.0,
          1614.0,
          1614.0,
          1614.0,
          1774.5,
          1774.5,
          1774.5,
          1774.5,
          1089.1,
          1089.1,
          1089.1,
          1089.1,
          1089.1,
          1774.5,
          1774.5,
          1774.5,
          1896.8,
          1896.8,
          1896.8,
          1896.8,
          1172.2,
          1172.2,
          1172.2,
          1172.2,
          1172.2,
          1896.8,
          1896.8,
          1896.8,
          1669.7,
          1669.7,
          1669.7,
          1669.7,
          958.2,
          958.2,
          958.2,
          958.2,
          958.2,
          1669.7,
          1669.7,
          1669.7,
          2012.7,
          2012.7,
          2012.7,
          2012.7,
          1233.5,
          1233.5,
          1233.5,
          1233.5,
          1233.5,
          2012.7,
          2012.7,
          2012.7,
          2135.6,
          2135.6,
          2135.6,
          2135.6,
          1206.3,
          1206.3,
          1206.3,
          1206.3,
          1206.3,
          2135.6,
          2135.6,
          2135.6,
          1973.1,
          1973.1,
          1973.1,
          1973.1,
          1158.2,
          1158.2,
          1158.2,
          1158.2,
          1158.2,
          1973.1,
          1973.1,
          1973.1,
          2126.0,
          2126.0,
          2126.0,
          2126.0,
          1750.4,
          1750.4,
          1750.4,
          1750.4,
          1750.4,
          2126.0,
          2126.0,
          2126.0,
          2384.0,
          2384.0,
          2384.0,
          2384.0,
          1267.7,
          1267.7,
          1267.7,
          1267.7,
          1267.7,
          2384.0,
          2384.0,
          2384.0,
          2629.6,
          2629.6,
          2629.6,
          2629.6,
          1671.1,
          1671.1,
          1671.1,
          1671.1,
          1671.1,
          2629.6,
          2629.6,
          2629.6,
          1996.2,
          1996.2,
          1996.2,
          1996.2,
          1898.0,
          1898.0,
          1898.0,
          1898.0,
          1898.0,
          1996.2,
          1996.2,
          1996.2,
          2717.0,
          2717.0,
          2717.0,
          2717.0,
          1129.0,
          1129.0,
          1129.0,
          1129.0,
          1129.0,
          2717.0,
          2717.0,
          2717.0,
          2846.3,
          2846.3,
          2846.3,
          2846.3,
          1774.5,
          1774.5,
          1774.5,
          1774.5,
          1774.5,
          2846.3,
          2846.3,
          2846.3,
          2235.9,
          2235.9,
          2235.9,
          2235.9,
          1144.9,
          1144.9,
          1144.9,
          1144.9,
          1144.9,
          2235.9,
          2235.9,
          2235.9,
          2877.0,
          2877.0,
          2877.0,
          2877.0,
          1942.4,
          1942.4,
          1942.4,
          1942.4,
          1942.4,
          2877.0,
          2877.0,
          2877.0,
          2902.69,
          2902.69,
          2902.69,
          2902.69,
          1517.39,
          1517.39,
          1517.39,
          1517.39,
          1517.39,
          2902.69,
          2902.69,
          2902.69,
          1473.83,
          1473.83,
          1473.83,
          1473.83,
          909.32,
          909.32,
          909.32,
          909.32,
          909.32,
          1473.83,
          1473.83,
          1473.83,
          2396.93,
          2396.93,
          2396.93,
          2396.93,
          1532.91,
          1532.91,
          1532.91,
          1532.91,
          1532.91,
          2396.93,
          2396.93,
          2396.93,
          3072.58,
          3072.58,
          3072.58,
          3072.58,
          1519.48,
          1519.48,
          1519.48,
          1519.48,
          1519.48,
          3072.58,
          3072.58,
          3072.58,
          3196.75,
          3196.75,
          3196.75,
          3196.75,
          1924.17,
          1924.17,
          1924.17,
          1924.17,
          1924.17,
          3196.75,
          3196.75,
          3196.75,
          3061.39,
          3061.39,
          3061.39,
          3061.39,
          2088.2,
          2088.2,
          2088.2,
          2088.2,
          2088.2,
          3061.39,
          3061.39,
          3061.39,
          1931.2,
          1931.2,
          1931.2,
          1931.2,
          1461.675,
          1461.675,
          1461.675,
          1461.675,
          1461.675,
          1931.2,
          1931.2,
          1931.2
         ],
         "yaxis": "y",
         "type": "scatter"
        },
        {
         "name": "Production_Total",
         "x": [
          "1996-01-01T00:00:00",
          "1996-02-01T00:00:00",
          "1996-03-01T00:00:00",
          "1996-04-01T00:00:00",
          "1996-05-01T00:00:00",
          "1996-06-01T00:00:00",
          "1996-07-01T00:00:00",
          "1996-08-01T00:00:00",
          "1996-09-01T00:00:00",
          "1996-10-01T00:00:00",
          "1996-11-01T00:00:00",
          "1996-12-01T00:00:00",
          "1997-01-01T00:00:00",
          "1997-02-01T00:00:00",
          "1997-03-01T00:00:00",
          "1997-04-01T00:00:00",
          "1997-05-01T00:00:00",
          "1997-06-01T00:00:00",
          "1997-07-01T00:00:00",
          "1997-08-01T00:00:00",
          "1997-09-01T00:00:00",
          "1997-10-01T00:00:00",
          "1997-11-01T00:00:00",
          "1997-12-01T00:00:00",
          "1998-01-01T00:00:00",
          "1998-02-01T00:00:00",
          "1998-03-01T00:00:00",
          "1998-04-01T00:00:00",
          "1998-05-01T00:00:00",
          "1998-06-01T00:00:00",
          "1998-07-01T00:00:00",
          "1998-08-01T00:00:00",
          "1998-09-01T00:00:00",
          "1998-10-01T00:00:00",
          "1998-11-01T00:00:00",
          "1998-12-01T00:00:00",
          "1999-01-01T00:00:00",
          "1999-02-01T00:00:00",
          "1999-03-01T00:00:00",
          "1999-04-01T00:00:00",
          "1999-05-01T00:00:00",
          "1999-06-01T00:00:00",
          "1999-07-01T00:00:00",
          "1999-08-01T00:00:00",
          "1999-09-01T00:00:00",
          "1999-10-01T00:00:00",
          "1999-11-01T00:00:00",
          "1999-12-01T00:00:00",
          "2000-01-01T00:00:00",
          "2000-02-01T00:00:00",
          "2000-03-01T00:00:00",
          "2000-04-01T00:00:00",
          "2000-05-01T00:00:00",
          "2000-06-01T00:00:00",
          "2000-07-01T00:00:00",
          "2000-08-01T00:00:00",
          "2000-09-01T00:00:00",
          "2000-10-01T00:00:00",
          "2000-11-01T00:00:00",
          "2000-12-01T00:00:00",
          "2001-01-01T00:00:00",
          "2001-02-01T00:00:00",
          "2001-03-01T00:00:00",
          "2001-04-01T00:00:00",
          "2001-05-01T00:00:00",
          "2001-06-01T00:00:00",
          "2001-07-01T00:00:00",
          "2001-08-01T00:00:00",
          "2001-09-01T00:00:00",
          "2001-10-01T00:00:00",
          "2001-11-01T00:00:00",
          "2001-12-01T00:00:00",
          "2002-01-01T00:00:00",
          "2002-02-01T00:00:00",
          "2002-03-01T00:00:00",
          "2002-04-01T00:00:00",
          "2002-05-01T00:00:00",
          "2002-06-01T00:00:00",
          "2002-07-01T00:00:00",
          "2002-08-01T00:00:00",
          "2002-09-01T00:00:00",
          "2002-10-01T00:00:00",
          "2002-11-01T00:00:00",
          "2002-12-01T00:00:00",
          "2003-01-01T00:00:00",
          "2003-02-01T00:00:00",
          "2003-03-01T00:00:00",
          "2003-04-01T00:00:00",
          "2003-05-01T00:00:00",
          "2003-06-01T00:00:00",
          "2003-07-01T00:00:00",
          "2003-08-01T00:00:00",
          "2003-09-01T00:00:00",
          "2003-10-01T00:00:00",
          "2003-11-01T00:00:00",
          "2003-12-01T00:00:00",
          "2004-01-01T00:00:00",
          "2004-02-01T00:00:00",
          "2004-03-01T00:00:00",
          "2004-04-01T00:00:00",
          "2004-05-01T00:00:00",
          "2004-06-01T00:00:00",
          "2004-07-01T00:00:00",
          "2004-08-01T00:00:00",
          "2004-09-01T00:00:00",
          "2004-10-01T00:00:00",
          "2004-11-01T00:00:00",
          "2004-12-01T00:00:00",
          "2005-01-01T00:00:00",
          "2005-02-01T00:00:00",
          "2005-03-01T00:00:00",
          "2005-04-01T00:00:00",
          "2005-05-01T00:00:00",
          "2005-06-01T00:00:00",
          "2005-07-01T00:00:00",
          "2005-08-01T00:00:00",
          "2005-09-01T00:00:00",
          "2005-10-01T00:00:00",
          "2005-11-01T00:00:00",
          "2005-12-01T00:00:00",
          "2006-01-01T00:00:00",
          "2006-02-01T00:00:00",
          "2006-03-01T00:00:00",
          "2006-04-01T00:00:00",
          "2006-05-01T00:00:00",
          "2006-06-01T00:00:00",
          "2006-07-01T00:00:00",
          "2006-08-01T00:00:00",
          "2006-09-01T00:00:00",
          "2006-10-01T00:00:00",
          "2006-11-01T00:00:00",
          "2006-12-01T00:00:00",
          "2007-01-01T00:00:00",
          "2007-02-01T00:00:00",
          "2007-03-01T00:00:00",
          "2007-04-01T00:00:00",
          "2007-05-01T00:00:00",
          "2007-06-01T00:00:00",
          "2007-07-01T00:00:00",
          "2007-08-01T00:00:00",
          "2007-09-01T00:00:00",
          "2007-10-01T00:00:00",
          "2007-11-01T00:00:00",
          "2007-12-01T00:00:00",
          "2008-01-01T00:00:00",
          "2008-02-01T00:00:00",
          "2008-03-01T00:00:00",
          "2008-04-01T00:00:00",
          "2008-05-01T00:00:00",
          "2008-06-01T00:00:00",
          "2008-07-01T00:00:00",
          "2008-08-01T00:00:00",
          "2008-09-01T00:00:00",
          "2008-10-01T00:00:00",
          "2008-11-01T00:00:00",
          "2008-12-01T00:00:00",
          "2009-01-01T00:00:00",
          "2009-02-01T00:00:00",
          "2009-03-01T00:00:00",
          "2009-04-01T00:00:00",
          "2009-05-01T00:00:00",
          "2009-06-01T00:00:00",
          "2009-07-01T00:00:00",
          "2009-08-01T00:00:00",
          "2009-09-01T00:00:00",
          "2009-10-01T00:00:00",
          "2009-11-01T00:00:00",
          "2009-12-01T00:00:00",
          "2010-01-01T00:00:00",
          "2010-02-01T00:00:00",
          "2010-03-01T00:00:00",
          "2010-04-01T00:00:00",
          "2010-05-01T00:00:00",
          "2010-06-01T00:00:00",
          "2010-07-01T00:00:00",
          "2010-08-01T00:00:00",
          "2010-09-01T00:00:00",
          "2010-10-01T00:00:00",
          "2010-11-01T00:00:00",
          "2010-12-01T00:00:00",
          "2011-01-01T00:00:00",
          "2011-02-01T00:00:00",
          "2011-03-01T00:00:00",
          "2011-04-01T00:00:00",
          "2011-05-01T00:00:00",
          "2011-06-01T00:00:00",
          "2011-07-01T00:00:00",
          "2011-08-01T00:00:00",
          "2011-09-01T00:00:00",
          "2011-10-01T00:00:00",
          "2011-11-01T00:00:00",
          "2011-12-01T00:00:00",
          "2012-01-01T00:00:00",
          "2012-02-01T00:00:00",
          "2012-03-01T00:00:00",
          "2012-04-01T00:00:00",
          "2012-05-01T00:00:00",
          "2012-06-01T00:00:00",
          "2012-07-01T00:00:00",
          "2012-08-01T00:00:00",
          "2012-09-01T00:00:00",
          "2012-10-01T00:00:00",
          "2012-11-01T00:00:00",
          "2012-12-01T00:00:00",
          "2013-01-01T00:00:00",
          "2013-02-01T00:00:00",
          "2013-03-01T00:00:00",
          "2013-04-01T00:00:00",
          "2013-05-01T00:00:00",
          "2013-06-01T00:00:00",
          "2013-07-01T00:00:00",
          "2013-08-01T00:00:00",
          "2013-09-01T00:00:00",
          "2013-10-01T00:00:00",
          "2013-11-01T00:00:00",
          "2013-12-01T00:00:00",
          "2014-01-01T00:00:00",
          "2014-02-01T00:00:00",
          "2014-03-01T00:00:00",
          "2014-04-01T00:00:00",
          "2014-05-01T00:00:00",
          "2014-06-01T00:00:00",
          "2014-07-01T00:00:00",
          "2014-08-01T00:00:00",
          "2014-09-01T00:00:00",
          "2014-10-01T00:00:00",
          "2014-11-01T00:00:00",
          "2014-12-01T00:00:00",
          "2015-01-01T00:00:00",
          "2015-02-01T00:00:00",
          "2015-03-01T00:00:00",
          "2015-04-01T00:00:00",
          "2015-05-01T00:00:00",
          "2015-06-01T00:00:00",
          "2015-07-01T00:00:00",
          "2015-08-01T00:00:00",
          "2015-09-01T00:00:00",
          "2015-10-01T00:00:00",
          "2015-11-01T00:00:00",
          "2015-12-01T00:00:00",
          "2016-01-01T00:00:00",
          "2016-02-01T00:00:00",
          "2016-03-01T00:00:00",
          "2016-04-01T00:00:00",
          "2016-05-01T00:00:00",
          "2016-06-01T00:00:00",
          "2016-07-01T00:00:00",
          "2016-08-01T00:00:00",
          "2016-09-01T00:00:00",
          "2016-10-01T00:00:00",
          "2016-11-01T00:00:00",
          "2016-12-01T00:00:00",
          "2017-01-01T00:00:00",
          "2017-02-01T00:00:00",
          "2017-03-01T00:00:00",
          "2017-04-01T00:00:00",
          "2017-05-01T00:00:00",
          "2017-06-01T00:00:00",
          "2017-07-01T00:00:00",
          "2017-08-01T00:00:00",
          "2017-09-01T00:00:00",
          "2017-10-01T00:00:00",
          "2017-11-01T00:00:00",
          "2017-12-01T00:00:00",
          "2018-01-01T00:00:00",
          "2018-02-01T00:00:00",
          "2018-03-01T00:00:00",
          "2018-04-01T00:00:00",
          "2018-05-01T00:00:00",
          "2018-06-01T00:00:00",
          "2018-07-01T00:00:00",
          "2018-08-01T00:00:00",
          "2018-09-01T00:00:00",
          "2018-10-01T00:00:00",
          "2018-11-01T00:00:00",
          "2018-12-01T00:00:00",
          "2019-01-01T00:00:00",
          "2019-02-01T00:00:00",
          "2019-03-01T00:00:00",
          "2019-04-01T00:00:00",
          "2019-05-01T00:00:00",
          "2019-06-01T00:00:00",
          "2019-07-01T00:00:00",
          "2019-08-01T00:00:00",
          "2019-09-01T00:00:00",
          "2019-10-01T00:00:00",
          "2019-11-01T00:00:00",
          "2019-12-01T00:00:00",
          "2020-01-01T00:00:00",
          "2020-02-01T00:00:00",
          "2020-03-01T00:00:00",
          "2020-04-01T00:00:00",
          "2020-05-01T00:00:00",
          "2020-06-01T00:00:00",
          "2020-07-01T00:00:00",
          "2020-08-01T00:00:00",
          "2020-09-01T00:00:00",
          "2020-10-01T00:00:00",
          "2020-11-01T00:00:00",
          "2020-12-01T00:00:00",
          "2021-01-01T00:00:00",
          "2021-02-01T00:00:00",
          "2021-03-01T00:00:00",
          "2021-04-01T00:00:00",
          "2021-05-01T00:00:00",
          "2021-06-01T00:00:00",
          "2021-07-01T00:00:00",
          "2021-08-01T00:00:00",
          "2021-09-01T00:00:00",
          "2021-10-01T00:00:00",
          "2021-11-01T00:00:00",
          "2021-12-01T00:00:00",
          "2022-01-01T00:00:00",
          "2022-02-01T00:00:00",
          "2022-03-01T00:00:00",
          "2022-04-01T00:00:00",
          "2022-05-01T00:00:00",
          "2022-06-01T00:00:00",
          "2022-07-01T00:00:00",
          "2022-08-01T00:00:00",
          "2022-09-01T00:00:00",
          "2022-10-01T00:00:00",
          "2022-11-01T00:00:00",
          "2022-12-01T00:00:00"
         ],
         "y": [
          2065.1,
          2065.1,
          2065.1,
          2065.1,
          2065.1,
          2065.1,
          2065.1,
          2065.1,
          2065.1,
          2065.1,
          2065.1,
          2065.1,
          2243.3,
          2243.3,
          2243.3,
          2243.3,
          2243.3,
          2243.3,
          2243.3,
          2243.3,
          2243.3,
          2243.3,
          2243.3,
          2243.3,
          2697.0,
          2697.0,
          2697.0,
          2697.0,
          2697.0,
          2697.0,
          2697.0,
          2697.0,
          2697.0,
          2697.0,
          2697.0,
          2697.0,
          2862.1,
          2862.1,
          2862.1,
          2862.1,
          2862.1,
          2862.1,
          2862.1,
          2862.1,
          2862.1,
          2862.1,
          2862.1,
          2862.1,
          2858.8,
          2858.8,
          2858.8,
          2858.8,
          2858.8,
          2858.8,
          2858.8,
          2858.8,
          2858.8,
          2858.8,
          2858.8,
          2858.8,
          2696.9,
          2696.9,
          2696.9,
          2696.9,
          2696.9,
          2696.9,
          2696.9,
          2696.9,
          2696.9,
          2696.9,
          2696.9,
          2696.9,
          2863.7,
          2863.7,
          2863.7,
          2863.7,
          2863.7,
          2863.7,
          2863.7,
          2863.7,
          2863.7,
          2863.7,
          2863.7,
          2863.7,
          3069.0,
          3069.0,
          3069.0,
          3069.0,
          3069.0,
          3069.0,
          3069.0,
          3069.0,
          3069.0,
          3069.0,
          3069.0,
          3069.0,
          2627.8,
          2627.8,
          2627.8,
          2627.8,
          2627.8,
          2627.8,
          2627.8,
          2627.8,
          2627.8,
          2627.8,
          2627.8,
          2627.8,
          3246.2,
          3246.2,
          3246.2,
          3246.2,
          3246.2,
          3246.2,
          3246.2,
          3246.2,
          3246.2,
          3246.2,
          3246.2,
          3246.2,
          3341.9,
          3341.9,
          3341.9,
          3341.9,
          3341.9,
          3341.9,
          3341.9,
          3341.9,
          3341.9,
          3341.9,
          3341.9,
          3341.9,
          3131.3,
          3131.3,
          3131.3,
          3131.3,
          3131.3,
          3131.3,
          3131.3,
          3131.3,
          3131.3,
          3131.3,
          3131.3,
          3131.3,
          3876.4,
          3876.4,
          3876.4,
          3876.4,
          3876.4,
          3876.4,
          3876.4,
          3876.4,
          3876.4,
          3876.4,
          3876.4,
          3876.4,
          3651.7,
          3651.7,
          3651.7,
          3651.7,
          3651.7,
          3651.7,
          3651.7,
          3651.7,
          3651.7,
          3651.7,
          3651.7,
          3651.7,
          4300.6,
          4300.6,
          4300.6,
          4300.6,
          4300.6,
          4300.6,
          4300.6,
          4300.6,
          4300.6,
          4300.6,
          4300.6,
          4300.6,
          3894.2,
          3894.2,
          3894.2,
          3894.2,
          3894.2,
          3894.2,
          3894.2,
          3894.2,
          3894.2,
          3894.2,
          3894.2,
          3894.2,
          3845.9,
          3845.9,
          3845.9,
          3845.9,
          3845.9,
          3845.9,
          3845.9,
          3845.9,
          3845.9,
          3845.9,
          3845.9,
          3845.9,
          4620.7,
          4620.7,
          4620.7,
          4620.7,
          4620.7,
          4620.7,
          4620.7,
          4620.7,
          4620.7,
          4620.7,
          4620.7,
          4620.7,
          3380.8,
          3380.8,
          3380.8,
          3380.8,
          3380.8,
          3380.8,
          3380.8,
          3380.8,
          3380.8,
          3380.8,
          3380.8,
          3380.8,
          4819.4,
          4819.4,
          4819.4,
          4819.4,
          4819.4,
          4819.4,
          4819.4,
          4819.4,
          4819.4,
          4819.4,
          4819.4,
          4819.4,
          4420.09,
          4420.09,
          4420.09,
          4420.09,
          4420.09,
          4420.09,
          4420.09,
          4420.09,
          4420.09,
          4420.09,
          4420.09,
          4420.09,
          2383.15,
          2383.15,
          2383.15,
          2383.15,
          2383.15,
          2383.15,
          2383.15,
          2383.15,
          2383.15,
          2383.15,
          2383.15,
          2383.15,
          3929.83,
          3929.83,
          3929.83,
          3929.83,
          3929.83,
          3929.83,
          3929.83,
          3929.83,
          3929.83,
          3929.83,
          3929.83,
          3929.83,
          4592.06,
          4592.06,
          4592.06,
          4592.06,
          4592.06,
          4592.06,
          4592.06,
          4592.06,
          4592.06,
          4592.06,
          4592.06,
          4592.06,
          5120.92,
          5120.92,
          5120.92,
          5120.92,
          5120.92,
          5120.92,
          5120.92,
          5120.92,
          5120.92,
          5120.92,
          5120.92,
          5120.92,
          5149.6,
          5149.6,
          5149.6,
          5149.6,
          5149.6,
          5149.6,
          5149.6,
          5149.6,
          5149.6,
          5149.6,
          5149.6,
          5149.6,
          3392.875,
          3392.875,
          3392.875,
          3392.875,
          3392.875,
          3392.875,
          3392.875,
          3392.875,
          3392.875,
          3392.875,
          3392.875,
          3392.875
         ],
         "type": "scatter"
        }
       ],
       "layout": {
        "template": {
         "data": {
          "histogram2dcontour": [
           {
            "type": "histogram2dcontour",
            "colorbar": {
             "outlinewidth": 0,
             "ticks": ""
            },
            "colorscale": [
             [
              0.0,
              "#0d0887"
             ],
             [
              0.1111111111111111,
              "#46039f"
             ],
             [
              0.2222222222222222,
              "#7201a8"
             ],
             [
              0.3333333333333333,
              "#9c179e"
             ],
             [
              0.4444444444444444,
              "#bd3786"
             ],
             [
              0.5555555555555556,
              "#d8576b"
             ],
             [
              0.6666666666666666,
              "#ed7953"
             ],
             [
              0.7777777777777778,
              "#fb9f3a"
             ],
             [
              0.8888888888888888,
              "#fdca26"
             ],
             [
              1.0,
              "#f0f921"
             ]
            ]
           }
          ],
          "choropleth": [
           {
            "type": "choropleth",
            "colorbar": {
             "outlinewidth": 0,
             "ticks": ""
            }
           }
          ],
          "histogram2d": [
           {
            "type": "histogram2d",
            "colorbar": {
             "outlinewidth": 0,
             "ticks": ""
            },
            "colorscale": [
             [
              0.0,
              "#0d0887"
             ],
             [
              0.1111111111111111,
              "#46039f"
             ],
             [
              0.2222222222222222,
              "#7201a8"
             ],
             [
              0.3333333333333333,
              "#9c179e"
             ],
             [
              0.4444444444444444,
              "#bd3786"
             ],
             [
              0.5555555555555556,
              "#d8576b"
             ],
             [
              0.6666666666666666,
              "#ed7953"
             ],
             [
              0.7777777777777778,
              "#fb9f3a"
             ],
             [
              0.8888888888888888,
              "#fdca26"
             ],
             [
              1.0,
              "#f0f921"
             ]
            ]
           }
          ],
          "heatmap": [
           {
            "type": "heatmap",
            "colorbar": {
             "outlinewidth": 0,
             "ticks": ""
            },
            "colorscale": [
             [
              0.0,
              "#0d0887"
             ],
             [
              0.1111111111111111,
              "#46039f"
             ],
             [
              0.2222222222222222,
              "#7201a8"
             ],
             [
              0.3333333333333333,
              "#9c179e"
             ],
             [
              0.4444444444444444,
              "#bd3786"
             ],
             [
              0.5555555555555556,
              "#d8576b"
             ],
             [
              0.6666666666666666,
              "#ed7953"
             ],
             [
              0.7777777777777778,
              "#fb9f3a"
             ],
             [
              0.8888888888888888,
              "#fdca26"
             ],
             [
              1.0,
              "#f0f921"
             ]
            ]
           }
          ],
          "heatmapgl": [
           {
            "type": "heatmapgl",
            "colorbar": {
             "outlinewidth": 0,
             "ticks": ""
            },
            "colorscale": [
             [
              0.0,
              "#0d0887"
             ],
             [
              0.1111111111111111,
              "#46039f"
             ],
             [
              0.2222222222222222,
              "#7201a8"
             ],
             [
              0.3333333333333333,
              "#9c179e"
             ],
             [
              0.4444444444444444,
              "#bd3786"
             ],
             [
              0.5555555555555556,
              "#d8576b"
             ],
             [
              0.6666666666666666,
              "#ed7953"
             ],
             [
              0.7777777777777778,
              "#fb9f3a"
             ],
             [
              0.8888888888888888,
              "#fdca26"
             ],
             [
              1.0,
              "#f0f921"
             ]
            ]
           }
          ],
          "contourcarpet": [
           {
            "type": "contourcarpet",
            "colorbar": {
             "outlinewidth": 0,
             "ticks": ""
            }
           }
          ],
          "contour": [
           {
            "type": "contour",
            "colorbar": {
             "outlinewidth": 0,
             "ticks": ""
            },
            "colorscale": [
             [
              0.0,
              "#0d0887"
             ],
             [
              0.1111111111111111,
              "#46039f"
             ],
             [
              0.2222222222222222,
              "#7201a8"
             ],
             [
              0.3333333333333333,
              "#9c179e"
             ],
             [
              0.4444444444444444,
              "#bd3786"
             ],
             [
              0.5555555555555556,
              "#d8576b"
             ],
             [
              0.6666666666666666,
              "#ed7953"
             ],
             [
              0.7777777777777778,
              "#fb9f3a"
             ],
             [
              0.8888888888888888,
              "#fdca26"
             ],
             [
              1.0,
              "#f0f921"
             ]
            ]
           }
          ],
          "surface": [
           {
            "type": "surface",
            "colorbar": {
             "outlinewidth": 0,
             "ticks": ""
            },
            "colorscale": [
             [
              0.0,
              "#0d0887"
             ],
             [
              0.1111111111111111,
              "#46039f"
             ],
             [
              0.2222222222222222,
              "#7201a8"
             ],
             [
              0.3333333333333333,
              "#9c179e"
             ],
             [
              0.4444444444444444,
              "#bd3786"
             ],
             [
              0.5555555555555556,
              "#d8576b"
             ],
             [
              0.6666666666666666,
              "#ed7953"
             ],
             [
              0.7777777777777778,
              "#fb9f3a"
             ],
             [
              0.8888888888888888,
              "#fdca26"
             ],
             [
              1.0,
              "#f0f921"
             ]
            ]
           }
          ],
          "mesh3d": [
           {
            "type": "mesh3d",
            "colorbar": {
             "outlinewidth": 0,
             "ticks": ""
            }
           }
          ],
          "scatter": [
           {
            "fillpattern": {
             "fillmode": "overlay",
             "size": 10,
             "solidity": 0.2
            },
            "type": "scatter"
           }
          ],
          "parcoords": [
           {
            "type": "parcoords",
            "line": {
             "colorbar": {
              "outlinewidth": 0,
              "ticks": ""
             }
            }
           }
          ],
          "scatterpolargl": [
           {
            "type": "scatterpolargl",
            "marker": {
             "colorbar": {
              "outlinewidth": 0,
              "ticks": ""
             }
            }
           }
          ],
          "bar": [
           {
            "error_x": {
             "color": "#2a3f5f"
            },
            "error_y": {
             "color": "#2a3f5f"
            },
            "marker": {
             "line": {
              "color": "#E5ECF6",
              "width": 0.5
             },
             "pattern": {
              "fillmode": "overlay",
              "size": 10,
              "solidity": 0.2
             }
            },
            "type": "bar"
           }
          ],
          "scattergeo": [
           {
            "type": "scattergeo",
            "marker": {
             "colorbar": {
              "outlinewidth": 0,
              "ticks": ""
             }
            }
           }
          ],
          "scatterpolar": [
           {
            "type": "scatterpolar",
            "marker": {
             "colorbar": {
              "outlinewidth": 0,
              "ticks": ""
             }
            }
           }
          ],
          "histogram": [
           {
            "marker": {
             "pattern": {
              "fillmode": "overlay",
              "size": 10,
              "solidity": 0.2
             }
            },
            "type": "histogram"
           }
          ],
          "scattergl": [
           {
            "type": "scattergl",
            "marker": {
             "colorbar": {
              "outlinewidth": 0,
              "ticks": ""
             }
            }
           }
          ],
          "scatter3d": [
           {
            "type": "scatter3d",
            "line": {
             "colorbar": {
              "outlinewidth": 0,
              "ticks": ""
             }
            },
            "marker": {
             "colorbar": {
              "outlinewidth": 0,
              "ticks": ""
             }
            }
           }
          ],
          "scattermapbox": [
           {
            "type": "scattermapbox",
            "marker": {
             "colorbar": {
              "outlinewidth": 0,
              "ticks": ""
             }
            }
           }
          ],
          "scatterternary": [
           {
            "type": "scatterternary",
            "marker": {
             "colorbar": {
              "outlinewidth": 0,
              "ticks": ""
             }
            }
           }
          ],
          "scattercarpet": [
           {
            "type": "scattercarpet",
            "marker": {
             "colorbar": {
              "outlinewidth": 0,
              "ticks": ""
             }
            }
           }
          ],
          "carpet": [
           {
            "aaxis": {
             "endlinecolor": "#2a3f5f",
             "gridcolor": "white",
             "linecolor": "white",
             "minorgridcolor": "white",
             "startlinecolor": "#2a3f5f"
            },
            "baxis": {
             "endlinecolor": "#2a3f5f",
             "gridcolor": "white",
             "linecolor": "white",
             "minorgridcolor": "white",
             "startlinecolor": "#2a3f5f"
            },
            "type": "carpet"
           }
          ],
          "table": [
           {
            "cells": {
             "fill": {
              "color": "#EBF0F8"
             },
             "line": {
              "color": "white"
             }
            },
            "header": {
             "fill": {
              "color": "#C8D4E3"
             },
             "line": {
              "color": "white"
             }
            },
            "type": "table"
           }
          ],
          "barpolar": [
           {
            "marker": {
             "line": {
              "color": "#E5ECF6",
              "width": 0.5
             },
             "pattern": {
              "fillmode": "overlay",
              "size": 10,
              "solidity": 0.2
             }
            },
            "type": "barpolar"
           }
          ],
          "pie": [
           {
            "automargin": true,
            "type": "pie"
           }
          ]
         },
         "layout": {
          "autotypenumbers": "strict",
          "colorway": [
           "#636efa",
           "#EF553B",
           "#00cc96",
           "#ab63fa",
           "#FFA15A",
           "#19d3f3",
           "#FF6692",
           "#B6E880",
           "#FF97FF",
           "#FECB52"
          ],
          "font": {
           "color": "#2a3f5f"
          },
          "hovermode": "closest",
          "hoverlabel": {
           "align": "left"
          },
          "paper_bgcolor": "white",
          "plot_bgcolor": "#E5ECF6",
          "polar": {
           "bgcolor": "#E5ECF6",
           "angularaxis": {
            "gridcolor": "white",
            "linecolor": "white",
            "ticks": ""
           },
           "radialaxis": {
            "gridcolor": "white",
            "linecolor": "white",
            "ticks": ""
           }
          },
          "ternary": {
           "bgcolor": "#E5ECF6",
           "aaxis": {
            "gridcolor": "white",
            "linecolor": "white",
            "ticks": ""
           },
           "baxis": {
            "gridcolor": "white",
            "linecolor": "white",
            "ticks": ""
           },
           "caxis": {
            "gridcolor": "white",
            "linecolor": "white",
            "ticks": ""
           }
          },
          "coloraxis": {
           "colorbar": {
            "outlinewidth": 0,
            "ticks": ""
           }
          },
          "colorscale": {
           "sequential": [
            [
             0.0,
             "#0d0887"
            ],
            [
             0.1111111111111111,
             "#46039f"
            ],
            [
             0.2222222222222222,
             "#7201a8"
            ],
            [
             0.3333333333333333,
             "#9c179e"
            ],
            [
             0.4444444444444444,
             "#bd3786"
            ],
            [
             0.5555555555555556,
             "#d8576b"
            ],
            [
             0.6666666666666666,
             "#ed7953"
            ],
            [
             0.7777777777777778,
             "#fb9f3a"
            ],
            [
             0.8888888888888888,
             "#fdca26"
            ],
            [
             1.0,
             "#f0f921"
            ]
           ],
           "sequentialminus": [
            [
             0.0,
             "#0d0887"
            ],
            [
             0.1111111111111111,
             "#46039f"
            ],
            [
             0.2222222222222222,
             "#7201a8"
            ],
            [
             0.3333333333333333,
             "#9c179e"
            ],
            [
             0.4444444444444444,
             "#bd3786"
            ],
            [
             0.5555555555555556,
             "#d8576b"
            ],
            [
             0.6666666666666666,
             "#ed7953"
            ],
            [
             0.7777777777777778,
             "#fb9f3a"
            ],
            [
             0.8888888888888888,
             "#fdca26"
            ],
            [
             1.0,
             "#f0f921"
            ]
           ],
           "diverging": [
            [
             0,
             "#8e0152"
            ],
            [
             0.1,
             "#c51b7d"
            ],
            [
             0.2,
             "#de77ae"
            ],
            [
             0.3,
             "#f1b6da"
            ],
            [
             0.4,
             "#fde0ef"
            ],
            [
             0.5,
             "#f7f7f7"
            ],
            [
             0.6,
             "#e6f5d0"
            ],
            [
             0.7,
             "#b8e186"
            ],
            [
             0.8,
             "#7fbc41"
            ],
            [
             0.9,
             "#4d9221"
            ],
            [
             1,
             "#276419"
            ]
           ]
          },
          "xaxis": {
           "gridcolor": "white",
           "linecolor": "white",
           "ticks": "",
           "title": {
            "standoff": 15
           },
           "zerolinecolor": "white",
           "automargin": true,
           "zerolinewidth": 2
          },
          "yaxis": {
           "gridcolor": "white",
           "linecolor": "white",
           "ticks": "",
           "title": {
            "standoff": 15
           },
           "zerolinecolor": "white",
           "automargin": true,
           "zerolinewidth": 2
          },
          "scene": {
           "xaxis": {
            "backgroundcolor": "#E5ECF6",
            "gridcolor": "white",
            "linecolor": "white",
            "showbackground": true,
            "ticks": "",
            "zerolinecolor": "white",
            "gridwidth": 2
           },
           "yaxis": {
            "backgroundcolor": "#E5ECF6",
            "gridcolor": "white",
            "linecolor": "white",
            "showbackground": true,
            "ticks": "",
            "zerolinecolor": "white",
            "gridwidth": 2
           },
           "zaxis": {
            "backgroundcolor": "#E5ECF6",
            "gridcolor": "white",
            "linecolor": "white",
            "showbackground": true,
            "ticks": "",
            "zerolinecolor": "white",
            "gridwidth": 2
           }
          },
          "shapedefaults": {
           "line": {
            "color": "#2a3f5f"
           }
          },
          "annotationdefaults": {
           "arrowcolor": "#2a3f5f",
           "arrowhead": 0,
           "arrowwidth": 1
          },
          "geo": {
           "bgcolor": "white",
           "landcolor": "#E5ECF6",
           "subunitcolor": "white",
           "showland": true,
           "showlakes": true,
           "lakecolor": "white"
          },
          "title": {
           "x": 0.05
          },
          "mapbox": {
           "style": "light"
          }
         }
        },
        "xaxis": {
         "anchor": "y",
         "domain": [
          0.0,
          1.0
         ],
         "title": {
          "text": "Date"
         }
        },
        "yaxis": {
         "anchor": "x",
         "domain": [
          0.0,
          1.0
         ],
         "title": {
          "text": "Production"
         }
        },
        "legend": {
         "tracegroupgap": 0
        },
        "margin": {
         "t": 60
        },
        "showlegend": true
       },
       "config": {
        "plotlyServerURL": "https://plot.ly"
       }
      },
      "text/html": "<div>                            <div id=\"d84de1c3-3320-4999-b8f6-cbfa939d7180\" class=\"plotly-graph-div\" style=\"height:525px; width:100%;\"></div>            <script type=\"text/javascript\">                require([\"plotly\"], function(Plotly) {                    window.PLOTLYENV=window.PLOTLYENV || {};                                    if (document.getElementById(\"d84de1c3-3320-4999-b8f6-cbfa939d7180\")) {                    Plotly.newPlot(                        \"d84de1c3-3320-4999-b8f6-cbfa939d7180\",                        [{\"hovertemplate\":\"Date=%{x}<br>Production=%{y}<extra></extra>\",\"legendgroup\":\"\",\"line\":{\"color\":\"#636efa\",\"dash\":\"solid\"},\"marker\":{\"symbol\":\"circle\"},\"mode\":\"lines\",\"name\":\"\",\"orientation\":\"v\",\"showlegend\":false,\"x\":[\"1996-01-01T00:00:00\",\"1996-02-01T00:00:00\",\"1996-03-01T00:00:00\",\"1996-04-01T00:00:00\",\"1996-05-01T00:00:00\",\"1996-06-01T00:00:00\",\"1996-07-01T00:00:00\",\"1996-08-01T00:00:00\",\"1996-09-01T00:00:00\",\"1996-10-01T00:00:00\",\"1996-11-01T00:00:00\",\"1996-12-01T00:00:00\",\"1997-01-01T00:00:00\",\"1997-02-01T00:00:00\",\"1997-03-01T00:00:00\",\"1997-04-01T00:00:00\",\"1997-05-01T00:00:00\",\"1997-06-01T00:00:00\",\"1997-07-01T00:00:00\",\"1997-08-01T00:00:00\",\"1997-09-01T00:00:00\",\"1997-10-01T00:00:00\",\"1997-11-01T00:00:00\",\"1997-12-01T00:00:00\",\"1998-01-01T00:00:00\",\"1998-02-01T00:00:00\",\"1998-03-01T00:00:00\",\"1998-04-01T00:00:00\",\"1998-05-01T00:00:00\",\"1998-06-01T00:00:00\",\"1998-07-01T00:00:00\",\"1998-08-01T00:00:00\",\"1998-09-01T00:00:00\",\"1998-10-01T00:00:00\",\"1998-11-01T00:00:00\",\"1998-12-01T00:00:00\",\"1999-01-01T00:00:00\",\"1999-02-01T00:00:00\",\"1999-03-01T00:00:00\",\"1999-04-01T00:00:00\",\"1999-05-01T00:00:00\",\"1999-06-01T00:00:00\",\"1999-07-01T00:00:00\",\"1999-08-01T00:00:00\",\"1999-09-01T00:00:00\",\"1999-10-01T00:00:00\",\"1999-11-01T00:00:00\",\"1999-12-01T00:00:00\",\"2000-01-01T00:00:00\",\"2000-02-01T00:00:00\",\"2000-03-01T00:00:00\",\"2000-04-01T00:00:00\",\"2000-05-01T00:00:00\",\"2000-06-01T00:00:00\",\"2000-07-01T00:00:00\",\"2000-08-01T00:00:00\",\"2000-09-01T00:00:00\",\"2000-10-01T00:00:00\",\"2000-11-01T00:00:00\",\"2000-12-01T00:00:00\",\"2001-01-01T00:00:00\",\"2001-02-01T00:00:00\",\"2001-03-01T00:00:00\",\"2001-04-01T00:00:00\",\"2001-05-01T00:00:00\",\"2001-06-01T00:00:00\",\"2001-07-01T00:00:00\",\"2001-08-01T00:00:00\",\"2001-09-01T00:00:00\",\"2001-10-01T00:00:00\",\"2001-11-01T00:00:00\",\"2001-12-01T00:00:00\",\"2002-01-01T00:00:00\",\"2002-02-01T00:00:00\",\"2002-03-01T00:00:00\",\"2002-04-01T00:00:00\",\"2002-05-01T00:00:00\",\"2002-06-01T00:00:00\",\"2002-07-01T00:00:00\",\"2002-08-01T00:00:00\",\"2002-09-01T00:00:00\",\"2002-10-01T00:00:00\",\"2002-11-01T00:00:00\",\"2002-12-01T00:00:00\",\"2003-01-01T00:00:00\",\"2003-02-01T00:00:00\",\"2003-03-01T00:00:00\",\"2003-04-01T00:00:00\",\"2003-05-01T00:00:00\",\"2003-06-01T00:00:00\",\"2003-07-01T00:00:00\",\"2003-08-01T00:00:00\",\"2003-09-01T00:00:00\",\"2003-10-01T00:00:00\",\"2003-11-01T00:00:00\",\"2003-12-01T00:00:00\",\"2004-01-01T00:00:00\",\"2004-02-01T00:00:00\",\"2004-03-01T00:00:00\",\"2004-04-01T00:00:00\",\"2004-05-01T00:00:00\",\"2004-06-01T00:00:00\",\"2004-07-01T00:00:00\",\"2004-08-01T00:00:00\",\"2004-09-01T00:00:00\",\"2004-10-01T00:00:00\",\"2004-11-01T00:00:00\",\"2004-12-01T00:00:00\",\"2005-01-01T00:00:00\",\"2005-02-01T00:00:00\",\"2005-03-01T00:00:00\",\"2005-04-01T00:00:00\",\"2005-05-01T00:00:00\",\"2005-06-01T00:00:00\",\"2005-07-01T00:00:00\",\"2005-08-01T00:00:00\",\"2005-09-01T00:00:00\",\"2005-10-01T00:00:00\",\"2005-11-01T00:00:00\",\"2005-12-01T00:00:00\",\"2006-01-01T00:00:00\",\"2006-02-01T00:00:00\",\"2006-03-01T00:00:00\",\"2006-04-01T00:00:00\",\"2006-05-01T00:00:00\",\"2006-06-01T00:00:00\",\"2006-07-01T00:00:00\",\"2006-08-01T00:00:00\",\"2006-09-01T00:00:00\",\"2006-10-01T00:00:00\",\"2006-11-01T00:00:00\",\"2006-12-01T00:00:00\",\"2007-01-01T00:00:00\",\"2007-02-01T00:00:00\",\"2007-03-01T00:00:00\",\"2007-04-01T00:00:00\",\"2007-05-01T00:00:00\",\"2007-06-01T00:00:00\",\"2007-07-01T00:00:00\",\"2007-08-01T00:00:00\",\"2007-09-01T00:00:00\",\"2007-10-01T00:00:00\",\"2007-11-01T00:00:00\",\"2007-12-01T00:00:00\",\"2008-01-01T00:00:00\",\"2008-02-01T00:00:00\",\"2008-03-01T00:00:00\",\"2008-04-01T00:00:00\",\"2008-05-01T00:00:00\",\"2008-06-01T00:00:00\",\"2008-07-01T00:00:00\",\"2008-08-01T00:00:00\",\"2008-09-01T00:00:00\",\"2008-10-01T00:00:00\",\"2008-11-01T00:00:00\",\"2008-12-01T00:00:00\",\"2009-01-01T00:00:00\",\"2009-02-01T00:00:00\",\"2009-03-01T00:00:00\",\"2009-04-01T00:00:00\",\"2009-05-01T00:00:00\",\"2009-06-01T00:00:00\",\"2009-07-01T00:00:00\",\"2009-08-01T00:00:00\",\"2009-09-01T00:00:00\",\"2009-10-01T00:00:00\",\"2009-11-01T00:00:00\",\"2009-12-01T00:00:00\",\"2010-01-01T00:00:00\",\"2010-02-01T00:00:00\",\"2010-03-01T00:00:00\",\"2010-04-01T00:00:00\",\"2010-05-01T00:00:00\",\"2010-06-01T00:00:00\",\"2010-07-01T00:00:00\",\"2010-08-01T00:00:00\",\"2010-09-01T00:00:00\",\"2010-10-01T00:00:00\",\"2010-11-01T00:00:00\",\"2010-12-01T00:00:00\",\"2011-01-01T00:00:00\",\"2011-02-01T00:00:00\",\"2011-03-01T00:00:00\",\"2011-04-01T00:00:00\",\"2011-05-01T00:00:00\",\"2011-06-01T00:00:00\",\"2011-07-01T00:00:00\",\"2011-08-01T00:00:00\",\"2011-09-01T00:00:00\",\"2011-10-01T00:00:00\",\"2011-11-01T00:00:00\",\"2011-12-01T00:00:00\",\"2012-01-01T00:00:00\",\"2012-02-01T00:00:00\",\"2012-03-01T00:00:00\",\"2012-04-01T00:00:00\",\"2012-05-01T00:00:00\",\"2012-06-01T00:00:00\",\"2012-07-01T00:00:00\",\"2012-08-01T00:00:00\",\"2012-09-01T00:00:00\",\"2012-10-01T00:00:00\",\"2012-11-01T00:00:00\",\"2012-12-01T00:00:00\",\"2013-01-01T00:00:00\",\"2013-02-01T00:00:00\",\"2013-03-01T00:00:00\",\"2013-04-01T00:00:00\",\"2013-05-01T00:00:00\",\"2013-06-01T00:00:00\",\"2013-07-01T00:00:00\",\"2013-08-01T00:00:00\",\"2013-09-01T00:00:00\",\"2013-10-01T00:00:00\",\"2013-11-01T00:00:00\",\"2013-12-01T00:00:00\",\"2014-01-01T00:00:00\",\"2014-02-01T00:00:00\",\"2014-03-01T00:00:00\",\"2014-04-01T00:00:00\",\"2014-05-01T00:00:00\",\"2014-06-01T00:00:00\",\"2014-07-01T00:00:00\",\"2014-08-01T00:00:00\",\"2014-09-01T00:00:00\",\"2014-10-01T00:00:00\",\"2014-11-01T00:00:00\",\"2014-12-01T00:00:00\",\"2015-01-01T00:00:00\",\"2015-02-01T00:00:00\",\"2015-03-01T00:00:00\",\"2015-04-01T00:00:00\",\"2015-05-01T00:00:00\",\"2015-06-01T00:00:00\",\"2015-07-01T00:00:00\",\"2015-08-01T00:00:00\",\"2015-09-01T00:00:00\",\"2015-10-01T00:00:00\",\"2015-11-01T00:00:00\",\"2015-12-01T00:00:00\",\"2016-01-01T00:00:00\",\"2016-02-01T00:00:00\",\"2016-03-01T00:00:00\",\"2016-04-01T00:00:00\",\"2016-05-01T00:00:00\",\"2016-06-01T00:00:00\",\"2016-07-01T00:00:00\",\"2016-08-01T00:00:00\",\"2016-09-01T00:00:00\",\"2016-10-01T00:00:00\",\"2016-11-01T00:00:00\",\"2016-12-01T00:00:00\",\"2017-01-01T00:00:00\",\"2017-02-01T00:00:00\",\"2017-03-01T00:00:00\",\"2017-04-01T00:00:00\",\"2017-05-01T00:00:00\",\"2017-06-01T00:00:00\",\"2017-07-01T00:00:00\",\"2017-08-01T00:00:00\",\"2017-09-01T00:00:00\",\"2017-10-01T00:00:00\",\"2017-11-01T00:00:00\",\"2017-12-01T00:00:00\",\"2018-01-01T00:00:00\",\"2018-02-01T00:00:00\",\"2018-03-01T00:00:00\",\"2018-04-01T00:00:00\",\"2018-05-01T00:00:00\",\"2018-06-01T00:00:00\",\"2018-07-01T00:00:00\",\"2018-08-01T00:00:00\",\"2018-09-01T00:00:00\",\"2018-10-01T00:00:00\",\"2018-11-01T00:00:00\",\"2018-12-01T00:00:00\",\"2019-01-01T00:00:00\",\"2019-02-01T00:00:00\",\"2019-03-01T00:00:00\",\"2019-04-01T00:00:00\",\"2019-05-01T00:00:00\",\"2019-06-01T00:00:00\",\"2019-07-01T00:00:00\",\"2019-08-01T00:00:00\",\"2019-09-01T00:00:00\",\"2019-10-01T00:00:00\",\"2019-11-01T00:00:00\",\"2019-12-01T00:00:00\",\"2020-01-01T00:00:00\",\"2020-02-01T00:00:00\",\"2020-03-01T00:00:00\",\"2020-04-01T00:00:00\",\"2020-05-01T00:00:00\",\"2020-06-01T00:00:00\",\"2020-07-01T00:00:00\",\"2020-08-01T00:00:00\",\"2020-09-01T00:00:00\",\"2020-10-01T00:00:00\",\"2020-11-01T00:00:00\",\"2020-12-01T00:00:00\",\"2021-01-01T00:00:00\",\"2021-02-01T00:00:00\",\"2021-03-01T00:00:00\",\"2021-04-01T00:00:00\",\"2021-05-01T00:00:00\",\"2021-06-01T00:00:00\",\"2021-07-01T00:00:00\",\"2021-08-01T00:00:00\",\"2021-09-01T00:00:00\",\"2021-10-01T00:00:00\",\"2021-11-01T00:00:00\",\"2021-12-01T00:00:00\",\"2022-01-01T00:00:00\",\"2022-02-01T00:00:00\",\"2022-03-01T00:00:00\",\"2022-04-01T00:00:00\",\"2022-05-01T00:00:00\",\"2022-06-01T00:00:00\",\"2022-07-01T00:00:00\",\"2022-08-01T00:00:00\",\"2022-09-01T00:00:00\",\"2022-10-01T00:00:00\",\"2022-11-01T00:00:00\",\"2022-12-01T00:00:00\"],\"xaxis\":\"x\",\"y\":[1333.6,1333.6,1333.6,1333.6,731.5,731.5,731.5,731.5,731.5,1333.6,1333.6,1333.6,1459.6,1459.6,1459.6,1459.6,783.7,783.7,783.7,783.7,783.7,1459.6,1459.6,1459.6,1784.2,1784.2,1784.2,1784.2,912.8,912.8,912.8,912.8,912.8,1784.2,1784.2,1784.2,1738.8,1738.8,1738.8,1738.8,1123.3,1123.3,1123.3,1123.3,1123.3,1738.8,1738.8,1738.8,1781.2,1781.2,1781.2,1781.2,1077.6,1077.6,1077.6,1077.6,1077.6,1781.2,1781.2,1781.2,1614.0,1614.0,1614.0,1614.0,1083.0,1083.0,1083.0,1083.0,1083.0,1614.0,1614.0,1614.0,1774.5,1774.5,1774.5,1774.5,1089.1,1089.1,1089.1,1089.1,1089.1,1774.5,1774.5,1774.5,1896.8,1896.8,1896.8,1896.8,1172.2,1172.2,1172.2,1172.2,1172.2,1896.8,1896.8,1896.8,1669.7,1669.7,1669.7,1669.7,958.2,958.2,958.2,958.2,958.2,1669.7,1669.7,1669.7,2012.7,2012.7,2012.7,2012.7,1233.5,1233.5,1233.5,1233.5,1233.5,2012.7,2012.7,2012.7,2135.6,2135.6,2135.6,2135.6,1206.3,1206.3,1206.3,1206.3,1206.3,2135.6,2135.6,2135.6,1973.1,1973.1,1973.1,1973.1,1158.2,1158.2,1158.2,1158.2,1158.2,1973.1,1973.1,1973.1,2126.0,2126.0,2126.0,2126.0,1750.4,1750.4,1750.4,1750.4,1750.4,2126.0,2126.0,2126.0,2384.0,2384.0,2384.0,2384.0,1267.7,1267.7,1267.7,1267.7,1267.7,2384.0,2384.0,2384.0,2629.6,2629.6,2629.6,2629.6,1671.1,1671.1,1671.1,1671.1,1671.1,2629.6,2629.6,2629.6,1996.2,1996.2,1996.2,1996.2,1898.0,1898.0,1898.0,1898.0,1898.0,1996.2,1996.2,1996.2,2717.0,2717.0,2717.0,2717.0,1129.0,1129.0,1129.0,1129.0,1129.0,2717.0,2717.0,2717.0,2846.3,2846.3,2846.3,2846.3,1774.5,1774.5,1774.5,1774.5,1774.5,2846.3,2846.3,2846.3,2235.9,2235.9,2235.9,2235.9,1144.9,1144.9,1144.9,1144.9,1144.9,2235.9,2235.9,2235.9,2877.0,2877.0,2877.0,2877.0,1942.4,1942.4,1942.4,1942.4,1942.4,2877.0,2877.0,2877.0,2902.69,2902.69,2902.69,2902.69,1517.39,1517.39,1517.39,1517.39,1517.39,2902.69,2902.69,2902.69,1473.83,1473.83,1473.83,1473.83,909.32,909.32,909.32,909.32,909.32,1473.83,1473.83,1473.83,2396.93,2396.93,2396.93,2396.93,1532.91,1532.91,1532.91,1532.91,1532.91,2396.93,2396.93,2396.93,3072.58,3072.58,3072.58,3072.58,1519.48,1519.48,1519.48,1519.48,1519.48,3072.58,3072.58,3072.58,3196.75,3196.75,3196.75,3196.75,1924.17,1924.17,1924.17,1924.17,1924.17,3196.75,3196.75,3196.75,3061.39,3061.39,3061.39,3061.39,2088.2,2088.2,2088.2,2088.2,2088.2,3061.39,3061.39,3061.39,1931.2,1931.2,1931.2,1931.2,1461.675,1461.675,1461.675,1461.675,1461.675,1931.2,1931.2,1931.2],\"yaxis\":\"y\",\"type\":\"scatter\"},{\"name\":\"Production_Total\",\"x\":[\"1996-01-01T00:00:00\",\"1996-02-01T00:00:00\",\"1996-03-01T00:00:00\",\"1996-04-01T00:00:00\",\"1996-05-01T00:00:00\",\"1996-06-01T00:00:00\",\"1996-07-01T00:00:00\",\"1996-08-01T00:00:00\",\"1996-09-01T00:00:00\",\"1996-10-01T00:00:00\",\"1996-11-01T00:00:00\",\"1996-12-01T00:00:00\",\"1997-01-01T00:00:00\",\"1997-02-01T00:00:00\",\"1997-03-01T00:00:00\",\"1997-04-01T00:00:00\",\"1997-05-01T00:00:00\",\"1997-06-01T00:00:00\",\"1997-07-01T00:00:00\",\"1997-08-01T00:00:00\",\"1997-09-01T00:00:00\",\"1997-10-01T00:00:00\",\"1997-11-01T00:00:00\",\"1997-12-01T00:00:00\",\"1998-01-01T00:00:00\",\"1998-02-01T00:00:00\",\"1998-03-01T00:00:00\",\"1998-04-01T00:00:00\",\"1998-05-01T00:00:00\",\"1998-06-01T00:00:00\",\"1998-07-01T00:00:00\",\"1998-08-01T00:00:00\",\"1998-09-01T00:00:00\",\"1998-10-01T00:00:00\",\"1998-11-01T00:00:00\",\"1998-12-01T00:00:00\",\"1999-01-01T00:00:00\",\"1999-02-01T00:00:00\",\"1999-03-01T00:00:00\",\"1999-04-01T00:00:00\",\"1999-05-01T00:00:00\",\"1999-06-01T00:00:00\",\"1999-07-01T00:00:00\",\"1999-08-01T00:00:00\",\"1999-09-01T00:00:00\",\"1999-10-01T00:00:00\",\"1999-11-01T00:00:00\",\"1999-12-01T00:00:00\",\"2000-01-01T00:00:00\",\"2000-02-01T00:00:00\",\"2000-03-01T00:00:00\",\"2000-04-01T00:00:00\",\"2000-05-01T00:00:00\",\"2000-06-01T00:00:00\",\"2000-07-01T00:00:00\",\"2000-08-01T00:00:00\",\"2000-09-01T00:00:00\",\"2000-10-01T00:00:00\",\"2000-11-01T00:00:00\",\"2000-12-01T00:00:00\",\"2001-01-01T00:00:00\",\"2001-02-01T00:00:00\",\"2001-03-01T00:00:00\",\"2001-04-01T00:00:00\",\"2001-05-01T00:00:00\",\"2001-06-01T00:00:00\",\"2001-07-01T00:00:00\",\"2001-08-01T00:00:00\",\"2001-09-01T00:00:00\",\"2001-10-01T00:00:00\",\"2001-11-01T00:00:00\",\"2001-12-01T00:00:00\",\"2002-01-01T00:00:00\",\"2002-02-01T00:00:00\",\"2002-03-01T00:00:00\",\"2002-04-01T00:00:00\",\"2002-05-01T00:00:00\",\"2002-06-01T00:00:00\",\"2002-07-01T00:00:00\",\"2002-08-01T00:00:00\",\"2002-09-01T00:00:00\",\"2002-10-01T00:00:00\",\"2002-11-01T00:00:00\",\"2002-12-01T00:00:00\",\"2003-01-01T00:00:00\",\"2003-02-01T00:00:00\",\"2003-03-01T00:00:00\",\"2003-04-01T00:00:00\",\"2003-05-01T00:00:00\",\"2003-06-01T00:00:00\",\"2003-07-01T00:00:00\",\"2003-08-01T00:00:00\",\"2003-09-01T00:00:00\",\"2003-10-01T00:00:00\",\"2003-11-01T00:00:00\",\"2003-12-01T00:00:00\",\"2004-01-01T00:00:00\",\"2004-02-01T00:00:00\",\"2004-03-01T00:00:00\",\"2004-04-01T00:00:00\",\"2004-05-01T00:00:00\",\"2004-06-01T00:00:00\",\"2004-07-01T00:00:00\",\"2004-08-01T00:00:00\",\"2004-09-01T00:00:00\",\"2004-10-01T00:00:00\",\"2004-11-01T00:00:00\",\"2004-12-01T00:00:00\",\"2005-01-01T00:00:00\",\"2005-02-01T00:00:00\",\"2005-03-01T00:00:00\",\"2005-04-01T00:00:00\",\"2005-05-01T00:00:00\",\"2005-06-01T00:00:00\",\"2005-07-01T00:00:00\",\"2005-08-01T00:00:00\",\"2005-09-01T00:00:00\",\"2005-10-01T00:00:00\",\"2005-11-01T00:00:00\",\"2005-12-01T00:00:00\",\"2006-01-01T00:00:00\",\"2006-02-01T00:00:00\",\"2006-03-01T00:00:00\",\"2006-04-01T00:00:00\",\"2006-05-01T00:00:00\",\"2006-06-01T00:00:00\",\"2006-07-01T00:00:00\",\"2006-08-01T00:00:00\",\"2006-09-01T00:00:00\",\"2006-10-01T00:00:00\",\"2006-11-01T00:00:00\",\"2006-12-01T00:00:00\",\"2007-01-01T00:00:00\",\"2007-02-01T00:00:00\",\"2007-03-01T00:00:00\",\"2007-04-01T00:00:00\",\"2007-05-01T00:00:00\",\"2007-06-01T00:00:00\",\"2007-07-01T00:00:00\",\"2007-08-01T00:00:00\",\"2007-09-01T00:00:00\",\"2007-10-01T00:00:00\",\"2007-11-01T00:00:00\",\"2007-12-01T00:00:00\",\"2008-01-01T00:00:00\",\"2008-02-01T00:00:00\",\"2008-03-01T00:00:00\",\"2008-04-01T00:00:00\",\"2008-05-01T00:00:00\",\"2008-06-01T00:00:00\",\"2008-07-01T00:00:00\",\"2008-08-01T00:00:00\",\"2008-09-01T00:00:00\",\"2008-10-01T00:00:00\",\"2008-11-01T00:00:00\",\"2008-12-01T00:00:00\",\"2009-01-01T00:00:00\",\"2009-02-01T00:00:00\",\"2009-03-01T00:00:00\",\"2009-04-01T00:00:00\",\"2009-05-01T00:00:00\",\"2009-06-01T00:00:00\",\"2009-07-01T00:00:00\",\"2009-08-01T00:00:00\",\"2009-09-01T00:00:00\",\"2009-10-01T00:00:00\",\"2009-11-01T00:00:00\",\"2009-12-01T00:00:00\",\"2010-01-01T00:00:00\",\"2010-02-01T00:00:00\",\"2010-03-01T00:00:00\",\"2010-04-01T00:00:00\",\"2010-05-01T00:00:00\",\"2010-06-01T00:00:00\",\"2010-07-01T00:00:00\",\"2010-08-01T00:00:00\",\"2010-09-01T00:00:00\",\"2010-10-01T00:00:00\",\"2010-11-01T00:00:00\",\"2010-12-01T00:00:00\",\"2011-01-01T00:00:00\",\"2011-02-01T00:00:00\",\"2011-03-01T00:00:00\",\"2011-04-01T00:00:00\",\"2011-05-01T00:00:00\",\"2011-06-01T00:00:00\",\"2011-07-01T00:00:00\",\"2011-08-01T00:00:00\",\"2011-09-01T00:00:00\",\"2011-10-01T00:00:00\",\"2011-11-01T00:00:00\",\"2011-12-01T00:00:00\",\"2012-01-01T00:00:00\",\"2012-02-01T00:00:00\",\"2012-03-01T00:00:00\",\"2012-04-01T00:00:00\",\"2012-05-01T00:00:00\",\"2012-06-01T00:00:00\",\"2012-07-01T00:00:00\",\"2012-08-01T00:00:00\",\"2012-09-01T00:00:00\",\"2012-10-01T00:00:00\",\"2012-11-01T00:00:00\",\"2012-12-01T00:00:00\",\"2013-01-01T00:00:00\",\"2013-02-01T00:00:00\",\"2013-03-01T00:00:00\",\"2013-04-01T00:00:00\",\"2013-05-01T00:00:00\",\"2013-06-01T00:00:00\",\"2013-07-01T00:00:00\",\"2013-08-01T00:00:00\",\"2013-09-01T00:00:00\",\"2013-10-01T00:00:00\",\"2013-11-01T00:00:00\",\"2013-12-01T00:00:00\",\"2014-01-01T00:00:00\",\"2014-02-01T00:00:00\",\"2014-03-01T00:00:00\",\"2014-04-01T00:00:00\",\"2014-05-01T00:00:00\",\"2014-06-01T00:00:00\",\"2014-07-01T00:00:00\",\"2014-08-01T00:00:00\",\"2014-09-01T00:00:00\",\"2014-10-01T00:00:00\",\"2014-11-01T00:00:00\",\"2014-12-01T00:00:00\",\"2015-01-01T00:00:00\",\"2015-02-01T00:00:00\",\"2015-03-01T00:00:00\",\"2015-04-01T00:00:00\",\"2015-05-01T00:00:00\",\"2015-06-01T00:00:00\",\"2015-07-01T00:00:00\",\"2015-08-01T00:00:00\",\"2015-09-01T00:00:00\",\"2015-10-01T00:00:00\",\"2015-11-01T00:00:00\",\"2015-12-01T00:00:00\",\"2016-01-01T00:00:00\",\"2016-02-01T00:00:00\",\"2016-03-01T00:00:00\",\"2016-04-01T00:00:00\",\"2016-05-01T00:00:00\",\"2016-06-01T00:00:00\",\"2016-07-01T00:00:00\",\"2016-08-01T00:00:00\",\"2016-09-01T00:00:00\",\"2016-10-01T00:00:00\",\"2016-11-01T00:00:00\",\"2016-12-01T00:00:00\",\"2017-01-01T00:00:00\",\"2017-02-01T00:00:00\",\"2017-03-01T00:00:00\",\"2017-04-01T00:00:00\",\"2017-05-01T00:00:00\",\"2017-06-01T00:00:00\",\"2017-07-01T00:00:00\",\"2017-08-01T00:00:00\",\"2017-09-01T00:00:00\",\"2017-10-01T00:00:00\",\"2017-11-01T00:00:00\",\"2017-12-01T00:00:00\",\"2018-01-01T00:00:00\",\"2018-02-01T00:00:00\",\"2018-03-01T00:00:00\",\"2018-04-01T00:00:00\",\"2018-05-01T00:00:00\",\"2018-06-01T00:00:00\",\"2018-07-01T00:00:00\",\"2018-08-01T00:00:00\",\"2018-09-01T00:00:00\",\"2018-10-01T00:00:00\",\"2018-11-01T00:00:00\",\"2018-12-01T00:00:00\",\"2019-01-01T00:00:00\",\"2019-02-01T00:00:00\",\"2019-03-01T00:00:00\",\"2019-04-01T00:00:00\",\"2019-05-01T00:00:00\",\"2019-06-01T00:00:00\",\"2019-07-01T00:00:00\",\"2019-08-01T00:00:00\",\"2019-09-01T00:00:00\",\"2019-10-01T00:00:00\",\"2019-11-01T00:00:00\",\"2019-12-01T00:00:00\",\"2020-01-01T00:00:00\",\"2020-02-01T00:00:00\",\"2020-03-01T00:00:00\",\"2020-04-01T00:00:00\",\"2020-05-01T00:00:00\",\"2020-06-01T00:00:00\",\"2020-07-01T00:00:00\",\"2020-08-01T00:00:00\",\"2020-09-01T00:00:00\",\"2020-10-01T00:00:00\",\"2020-11-01T00:00:00\",\"2020-12-01T00:00:00\",\"2021-01-01T00:00:00\",\"2021-02-01T00:00:00\",\"2021-03-01T00:00:00\",\"2021-04-01T00:00:00\",\"2021-05-01T00:00:00\",\"2021-06-01T00:00:00\",\"2021-07-01T00:00:00\",\"2021-08-01T00:00:00\",\"2021-09-01T00:00:00\",\"2021-10-01T00:00:00\",\"2021-11-01T00:00:00\",\"2021-12-01T00:00:00\",\"2022-01-01T00:00:00\",\"2022-02-01T00:00:00\",\"2022-03-01T00:00:00\",\"2022-04-01T00:00:00\",\"2022-05-01T00:00:00\",\"2022-06-01T00:00:00\",\"2022-07-01T00:00:00\",\"2022-08-01T00:00:00\",\"2022-09-01T00:00:00\",\"2022-10-01T00:00:00\",\"2022-11-01T00:00:00\",\"2022-12-01T00:00:00\"],\"y\":[2065.1,2065.1,2065.1,2065.1,2065.1,2065.1,2065.1,2065.1,2065.1,2065.1,2065.1,2065.1,2243.3,2243.3,2243.3,2243.3,2243.3,2243.3,2243.3,2243.3,2243.3,2243.3,2243.3,2243.3,2697.0,2697.0,2697.0,2697.0,2697.0,2697.0,2697.0,2697.0,2697.0,2697.0,2697.0,2697.0,2862.1,2862.1,2862.1,2862.1,2862.1,2862.1,2862.1,2862.1,2862.1,2862.1,2862.1,2862.1,2858.8,2858.8,2858.8,2858.8,2858.8,2858.8,2858.8,2858.8,2858.8,2858.8,2858.8,2858.8,2696.9,2696.9,2696.9,2696.9,2696.9,2696.9,2696.9,2696.9,2696.9,2696.9,2696.9,2696.9,2863.7,2863.7,2863.7,2863.7,2863.7,2863.7,2863.7,2863.7,2863.7,2863.7,2863.7,2863.7,3069.0,3069.0,3069.0,3069.0,3069.0,3069.0,3069.0,3069.0,3069.0,3069.0,3069.0,3069.0,2627.8,2627.8,2627.8,2627.8,2627.8,2627.8,2627.8,2627.8,2627.8,2627.8,2627.8,2627.8,3246.2,3246.2,3246.2,3246.2,3246.2,3246.2,3246.2,3246.2,3246.2,3246.2,3246.2,3246.2,3341.9,3341.9,3341.9,3341.9,3341.9,3341.9,3341.9,3341.9,3341.9,3341.9,3341.9,3341.9,3131.3,3131.3,3131.3,3131.3,3131.3,3131.3,3131.3,3131.3,3131.3,3131.3,3131.3,3131.3,3876.4,3876.4,3876.4,3876.4,3876.4,3876.4,3876.4,3876.4,3876.4,3876.4,3876.4,3876.4,3651.7,3651.7,3651.7,3651.7,3651.7,3651.7,3651.7,3651.7,3651.7,3651.7,3651.7,3651.7,4300.6,4300.6,4300.6,4300.6,4300.6,4300.6,4300.6,4300.6,4300.6,4300.6,4300.6,4300.6,3894.2,3894.2,3894.2,3894.2,3894.2,3894.2,3894.2,3894.2,3894.2,3894.2,3894.2,3894.2,3845.9,3845.9,3845.9,3845.9,3845.9,3845.9,3845.9,3845.9,3845.9,3845.9,3845.9,3845.9,4620.7,4620.7,4620.7,4620.7,4620.7,4620.7,4620.7,4620.7,4620.7,4620.7,4620.7,4620.7,3380.8,3380.8,3380.8,3380.8,3380.8,3380.8,3380.8,3380.8,3380.8,3380.8,3380.8,3380.8,4819.4,4819.4,4819.4,4819.4,4819.4,4819.4,4819.4,4819.4,4819.4,4819.4,4819.4,4819.4,4420.09,4420.09,4420.09,4420.09,4420.09,4420.09,4420.09,4420.09,4420.09,4420.09,4420.09,4420.09,2383.15,2383.15,2383.15,2383.15,2383.15,2383.15,2383.15,2383.15,2383.15,2383.15,2383.15,2383.15,3929.83,3929.83,3929.83,3929.83,3929.83,3929.83,3929.83,3929.83,3929.83,3929.83,3929.83,3929.83,4592.06,4592.06,4592.06,4592.06,4592.06,4592.06,4592.06,4592.06,4592.06,4592.06,4592.06,4592.06,5120.92,5120.92,5120.92,5120.92,5120.92,5120.92,5120.92,5120.92,5120.92,5120.92,5120.92,5120.92,5149.6,5149.6,5149.6,5149.6,5149.6,5149.6,5149.6,5149.6,5149.6,5149.6,5149.6,5149.6,3392.875,3392.875,3392.875,3392.875,3392.875,3392.875,3392.875,3392.875,3392.875,3392.875,3392.875,3392.875],\"type\":\"scatter\"}],                        {\"template\":{\"data\":{\"histogram2dcontour\":[{\"type\":\"histogram2dcontour\",\"colorbar\":{\"outlinewidth\":0,\"ticks\":\"\"},\"colorscale\":[[0.0,\"#0d0887\"],[0.1111111111111111,\"#46039f\"],[0.2222222222222222,\"#7201a8\"],[0.3333333333333333,\"#9c179e\"],[0.4444444444444444,\"#bd3786\"],[0.5555555555555556,\"#d8576b\"],[0.6666666666666666,\"#ed7953\"],[0.7777777777777778,\"#fb9f3a\"],[0.8888888888888888,\"#fdca26\"],[1.0,\"#f0f921\"]]}],\"choropleth\":[{\"type\":\"choropleth\",\"colorbar\":{\"outlinewidth\":0,\"ticks\":\"\"}}],\"histogram2d\":[{\"type\":\"histogram2d\",\"colorbar\":{\"outlinewidth\":0,\"ticks\":\"\"},\"colorscale\":[[0.0,\"#0d0887\"],[0.1111111111111111,\"#46039f\"],[0.2222222222222222,\"#7201a8\"],[0.3333333333333333,\"#9c179e\"],[0.4444444444444444,\"#bd3786\"],[0.5555555555555556,\"#d8576b\"],[0.6666666666666666,\"#ed7953\"],[0.7777777777777778,\"#fb9f3a\"],[0.8888888888888888,\"#fdca26\"],[1.0,\"#f0f921\"]]}],\"heatmap\":[{\"type\":\"heatmap\",\"colorbar\":{\"outlinewidth\":0,\"ticks\":\"\"},\"colorscale\":[[0.0,\"#0d0887\"],[0.1111111111111111,\"#46039f\"],[0.2222222222222222,\"#7201a8\"],[0.3333333333333333,\"#9c179e\"],[0.4444444444444444,\"#bd3786\"],[0.5555555555555556,\"#d8576b\"],[0.6666666666666666,\"#ed7953\"],[0.7777777777777778,\"#fb9f3a\"],[0.8888888888888888,\"#fdca26\"],[1.0,\"#f0f921\"]]}],\"heatmapgl\":[{\"type\":\"heatmapgl\",\"colorbar\":{\"outlinewidth\":0,\"ticks\":\"\"},\"colorscale\":[[0.0,\"#0d0887\"],[0.1111111111111111,\"#46039f\"],[0.2222222222222222,\"#7201a8\"],[0.3333333333333333,\"#9c179e\"],[0.4444444444444444,\"#bd3786\"],[0.5555555555555556,\"#d8576b\"],[0.6666666666666666,\"#ed7953\"],[0.7777777777777778,\"#fb9f3a\"],[0.8888888888888888,\"#fdca26\"],[1.0,\"#f0f921\"]]}],\"contourcarpet\":[{\"type\":\"contourcarpet\",\"colorbar\":{\"outlinewidth\":0,\"ticks\":\"\"}}],\"contour\":[{\"type\":\"contour\",\"colorbar\":{\"outlinewidth\":0,\"ticks\":\"\"},\"colorscale\":[[0.0,\"#0d0887\"],[0.1111111111111111,\"#46039f\"],[0.2222222222222222,\"#7201a8\"],[0.3333333333333333,\"#9c179e\"],[0.4444444444444444,\"#bd3786\"],[0.5555555555555556,\"#d8576b\"],[0.6666666666666666,\"#ed7953\"],[0.7777777777777778,\"#fb9f3a\"],[0.8888888888888888,\"#fdca26\"],[1.0,\"#f0f921\"]]}],\"surface\":[{\"type\":\"surface\",\"colorbar\":{\"outlinewidth\":0,\"ticks\":\"\"},\"colorscale\":[[0.0,\"#0d0887\"],[0.1111111111111111,\"#46039f\"],[0.2222222222222222,\"#7201a8\"],[0.3333333333333333,\"#9c179e\"],[0.4444444444444444,\"#bd3786\"],[0.5555555555555556,\"#d8576b\"],[0.6666666666666666,\"#ed7953\"],[0.7777777777777778,\"#fb9f3a\"],[0.8888888888888888,\"#fdca26\"],[1.0,\"#f0f921\"]]}],\"mesh3d\":[{\"type\":\"mesh3d\",\"colorbar\":{\"outlinewidth\":0,\"ticks\":\"\"}}],\"scatter\":[{\"fillpattern\":{\"fillmode\":\"overlay\",\"size\":10,\"solidity\":0.2},\"type\":\"scatter\"}],\"parcoords\":[{\"type\":\"parcoords\",\"line\":{\"colorbar\":{\"outlinewidth\":0,\"ticks\":\"\"}}}],\"scatterpolargl\":[{\"type\":\"scatterpolargl\",\"marker\":{\"colorbar\":{\"outlinewidth\":0,\"ticks\":\"\"}}}],\"bar\":[{\"error_x\":{\"color\":\"#2a3f5f\"},\"error_y\":{\"color\":\"#2a3f5f\"},\"marker\":{\"line\":{\"color\":\"#E5ECF6\",\"width\":0.5},\"pattern\":{\"fillmode\":\"overlay\",\"size\":10,\"solidity\":0.2}},\"type\":\"bar\"}],\"scattergeo\":[{\"type\":\"scattergeo\",\"marker\":{\"colorbar\":{\"outlinewidth\":0,\"ticks\":\"\"}}}],\"scatterpolar\":[{\"type\":\"scatterpolar\",\"marker\":{\"colorbar\":{\"outlinewidth\":0,\"ticks\":\"\"}}}],\"histogram\":[{\"marker\":{\"pattern\":{\"fillmode\":\"overlay\",\"size\":10,\"solidity\":0.2}},\"type\":\"histogram\"}],\"scattergl\":[{\"type\":\"scattergl\",\"marker\":{\"colorbar\":{\"outlinewidth\":0,\"ticks\":\"\"}}}],\"scatter3d\":[{\"type\":\"scatter3d\",\"line\":{\"colorbar\":{\"outlinewidth\":0,\"ticks\":\"\"}},\"marker\":{\"colorbar\":{\"outlinewidth\":0,\"ticks\":\"\"}}}],\"scattermapbox\":[{\"type\":\"scattermapbox\",\"marker\":{\"colorbar\":{\"outlinewidth\":0,\"ticks\":\"\"}}}],\"scatterternary\":[{\"type\":\"scatterternary\",\"marker\":{\"colorbar\":{\"outlinewidth\":0,\"ticks\":\"\"}}}],\"scattercarpet\":[{\"type\":\"scattercarpet\",\"marker\":{\"colorbar\":{\"outlinewidth\":0,\"ticks\":\"\"}}}],\"carpet\":[{\"aaxis\":{\"endlinecolor\":\"#2a3f5f\",\"gridcolor\":\"white\",\"linecolor\":\"white\",\"minorgridcolor\":\"white\",\"startlinecolor\":\"#2a3f5f\"},\"baxis\":{\"endlinecolor\":\"#2a3f5f\",\"gridcolor\":\"white\",\"linecolor\":\"white\",\"minorgridcolor\":\"white\",\"startlinecolor\":\"#2a3f5f\"},\"type\":\"carpet\"}],\"table\":[{\"cells\":{\"fill\":{\"color\":\"#EBF0F8\"},\"line\":{\"color\":\"white\"}},\"header\":{\"fill\":{\"color\":\"#C8D4E3\"},\"line\":{\"color\":\"white\"}},\"type\":\"table\"}],\"barpolar\":[{\"marker\":{\"line\":{\"color\":\"#E5ECF6\",\"width\":0.5},\"pattern\":{\"fillmode\":\"overlay\",\"size\":10,\"solidity\":0.2}},\"type\":\"barpolar\"}],\"pie\":[{\"automargin\":true,\"type\":\"pie\"}]},\"layout\":{\"autotypenumbers\":\"strict\",\"colorway\":[\"#636efa\",\"#EF553B\",\"#00cc96\",\"#ab63fa\",\"#FFA15A\",\"#19d3f3\",\"#FF6692\",\"#B6E880\",\"#FF97FF\",\"#FECB52\"],\"font\":{\"color\":\"#2a3f5f\"},\"hovermode\":\"closest\",\"hoverlabel\":{\"align\":\"left\"},\"paper_bgcolor\":\"white\",\"plot_bgcolor\":\"#E5ECF6\",\"polar\":{\"bgcolor\":\"#E5ECF6\",\"angularaxis\":{\"gridcolor\":\"white\",\"linecolor\":\"white\",\"ticks\":\"\"},\"radialaxis\":{\"gridcolor\":\"white\",\"linecolor\":\"white\",\"ticks\":\"\"}},\"ternary\":{\"bgcolor\":\"#E5ECF6\",\"aaxis\":{\"gridcolor\":\"white\",\"linecolor\":\"white\",\"ticks\":\"\"},\"baxis\":{\"gridcolor\":\"white\",\"linecolor\":\"white\",\"ticks\":\"\"},\"caxis\":{\"gridcolor\":\"white\",\"linecolor\":\"white\",\"ticks\":\"\"}},\"coloraxis\":{\"colorbar\":{\"outlinewidth\":0,\"ticks\":\"\"}},\"colorscale\":{\"sequential\":[[0.0,\"#0d0887\"],[0.1111111111111111,\"#46039f\"],[0.2222222222222222,\"#7201a8\"],[0.3333333333333333,\"#9c179e\"],[0.4444444444444444,\"#bd3786\"],[0.5555555555555556,\"#d8576b\"],[0.6666666666666666,\"#ed7953\"],[0.7777777777777778,\"#fb9f3a\"],[0.8888888888888888,\"#fdca26\"],[1.0,\"#f0f921\"]],\"sequentialminus\":[[0.0,\"#0d0887\"],[0.1111111111111111,\"#46039f\"],[0.2222222222222222,\"#7201a8\"],[0.3333333333333333,\"#9c179e\"],[0.4444444444444444,\"#bd3786\"],[0.5555555555555556,\"#d8576b\"],[0.6666666666666666,\"#ed7953\"],[0.7777777777777778,\"#fb9f3a\"],[0.8888888888888888,\"#fdca26\"],[1.0,\"#f0f921\"]],\"diverging\":[[0,\"#8e0152\"],[0.1,\"#c51b7d\"],[0.2,\"#de77ae\"],[0.3,\"#f1b6da\"],[0.4,\"#fde0ef\"],[0.5,\"#f7f7f7\"],[0.6,\"#e6f5d0\"],[0.7,\"#b8e186\"],[0.8,\"#7fbc41\"],[0.9,\"#4d9221\"],[1,\"#276419\"]]},\"xaxis\":{\"gridcolor\":\"white\",\"linecolor\":\"white\",\"ticks\":\"\",\"title\":{\"standoff\":15},\"zerolinecolor\":\"white\",\"automargin\":true,\"zerolinewidth\":2},\"yaxis\":{\"gridcolor\":\"white\",\"linecolor\":\"white\",\"ticks\":\"\",\"title\":{\"standoff\":15},\"zerolinecolor\":\"white\",\"automargin\":true,\"zerolinewidth\":2},\"scene\":{\"xaxis\":{\"backgroundcolor\":\"#E5ECF6\",\"gridcolor\":\"white\",\"linecolor\":\"white\",\"showbackground\":true,\"ticks\":\"\",\"zerolinecolor\":\"white\",\"gridwidth\":2},\"yaxis\":{\"backgroundcolor\":\"#E5ECF6\",\"gridcolor\":\"white\",\"linecolor\":\"white\",\"showbackground\":true,\"ticks\":\"\",\"zerolinecolor\":\"white\",\"gridwidth\":2},\"zaxis\":{\"backgroundcolor\":\"#E5ECF6\",\"gridcolor\":\"white\",\"linecolor\":\"white\",\"showbackground\":true,\"ticks\":\"\",\"zerolinecolor\":\"white\",\"gridwidth\":2}},\"shapedefaults\":{\"line\":{\"color\":\"#2a3f5f\"}},\"annotationdefaults\":{\"arrowcolor\":\"#2a3f5f\",\"arrowhead\":0,\"arrowwidth\":1},\"geo\":{\"bgcolor\":\"white\",\"landcolor\":\"#E5ECF6\",\"subunitcolor\":\"white\",\"showland\":true,\"showlakes\":true,\"lakecolor\":\"white\"},\"title\":{\"x\":0.05},\"mapbox\":{\"style\":\"light\"}}},\"xaxis\":{\"anchor\":\"y\",\"domain\":[0.0,1.0],\"title\":{\"text\":\"Date\"}},\"yaxis\":{\"anchor\":\"x\",\"domain\":[0.0,1.0],\"title\":{\"text\":\"Production\"}},\"legend\":{\"tracegroupgap\":0},\"margin\":{\"t\":60},\"showlegend\":true},                        {\"responsive\": true}                    ).then(function(){\n                            \nvar gd = document.getElementById('d84de1c3-3320-4999-b8f6-cbfa939d7180');\nvar x = new MutationObserver(function (mutations, observer) {{\n        var display = window.getComputedStyle(gd).display;\n        if (!display || display === 'none') {{\n            console.log([gd, 'removed!']);\n            Plotly.purge(gd);\n            observer.disconnect();\n        }}\n}});\n\n// Listen for the removal of the full notebook cells\nvar notebookContainer = gd.closest('#notebook-container');\nif (notebookContainer) {{\n    x.observe(notebookContainer, {childList: true});\n}}\n\n// Listen for the clearing of the current output cell\nvar outputEl = gd.closest('.output');\nif (outputEl) {{\n    x.observe(outputEl, {childList: true});\n}}\n\n                        })                };                });            </script>        </div>"
     },
     "metadata": {},
     "output_type": "display_data"
    }
   ]
  },
  {
   "cell_type": "code",
   "source": [
    "# Group the data by Year and calculate the mean price for each year\n",
    "df_grouped = df.groupby('Year')['Price'].mean()\n",
    "\n",
    "# Plot the mean prices as a bar plot using seaborn\n",
    "plt.figure(figsize=(12,8))\n",
    "plt.bar(df_grouped.index, df_grouped.values)\n",
    "\n",
    "# Set the x-axis label, y-axis label, and title\n",
    "plt.xlabel('Year', fontsize=15)\n",
    "plt.ylabel('Average Price', fontsize=15)\n",
    "plt.title('Average Price by Year', fontsize=20)\n",
    "\n",
    "# Set the font for the x-tick labels and the y-tick labels\n",
    "plt.xticks(fontsize=12)\n",
    "plt.yticks(fontsize=12)\n",
    "\n",
    "# Show the plot\n",
    "plt.show()"
   ],
   "metadata": {
    "execution": {
     "iopub.status.busy": "2023-02-22T15:01:05.163521Z",
     "iopub.execute_input": "2023-02-22T15:01:05.163954Z",
     "iopub.status.idle": "2023-02-22T15:01:05.453518Z",
     "shell.execute_reply.started": "2023-02-22T15:01:05.163915Z",
     "shell.execute_reply": "2023-02-22T15:01:05.452286Z"
    },
    "trusted": true
   },
   "execution_count": 241,
   "outputs": [
    {
     "data": {
      "text/plain": "<Figure size 1200x800 with 1 Axes>",
      "image/png": "[encoded data removed]"
     },
     "metadata": {},
     "output_type": "display_data"
    }
   ]
  },
  {
   "cell_type": "code",
   "source": [
    "# Group the data by Year and calculate the mean price for each year\n",
    "df_grouped = df.groupby('Month')['Price'].mean()\n",
    "\n",
    "plt.figure(figsize=(12,8))\n",
    "plt.bar(df_grouped.index, df_grouped.values)\n",
    "\n",
    "# Set the x-axis label, y-axis label, and title\n",
    "plt.xlabel('Month', fontsize=15)\n",
    "plt.ylabel('Average Price', fontsize=15)\n",
    "plt.title('Average Price by Month', fontsize=20)\n",
    "\n",
    "# Set the font for the x-tick labels and the y-tick labels\n",
    "plt.xticks(fontsize=12)\n",
    "plt.yticks(fontsize=12)\n",
    "\n",
    "# Show the plot\n",
    "plt.show()"
   ],
   "metadata": {
    "execution": {
     "iopub.status.busy": "2023-02-22T15:01:05.455619Z",
     "iopub.execute_input": "2023-02-22T15:01:05.456404Z",
     "iopub.status.idle": "2023-02-22T15:01:05.715198Z",
     "shell.execute_reply.started": "2023-02-22T15:01:05.456355Z",
     "shell.execute_reply": "2023-02-22T15:01:05.713950Z"
    },
    "trusted": true
   },
   "execution_count": 242,
   "outputs": [
    {
     "data": {
      "text/plain": "<Figure size 1200x800 with 1 Axes>",
      "image/png": "[encoded data removed]"
     },
     "metadata": {},
     "output_type": "display_data"
    }
   ]
  },
  {
   "cell_type": "markdown",
   "source": [
    "The rice market has a delicate system of price determination that is associated with availability in the market. It is connected to seasonal harvests of Maha and Yala leading to high fluctuation of prices over certain months of the year. From January, the prices of paddy and rice decline gradually and reach their lowest in March with the major Maha harvest. It increases slightly from April and undergoes a minor slump during July-August when the minor Yala harvest reaches the market. The rise of the prices of all types of rice is quite sharp from September onwards reaching the peak in December and begin to decline again in January continuing the cycle. The difficulties faced by consumers due to a sharp rise in rice prices during September-January is one of the most politically sensitive issues in the country."
   ],
   "metadata": {}
  },
  {
   "cell_type": "markdown",
   "source": [
    "https://www.ips.lk/talkingeconomics/2021/10/07/rising-price-of-rice-in-sri-lanka-the-roots-and-remedies/"
   ],
   "metadata": {}
  },
  {
   "cell_type": "code",
   "execution_count": 243,
   "outputs": [
    {
     "data": {
      "application/vnd.plotly.v1+json": {
       "data": [
        {
         "hovertemplate": "Date=%{x}<br>Exchange_Rate=%{y}<extra></extra>",
         "legendgroup": "",
         "line": {
          "color": "#636efa",
          "dash": "solid"
         },
         "marker": {
          "symbol": "circle"
         },
         "mode": "lines",
         "name": "",
         "orientation": "v",
         "showlegend": false,
         "x": [
          "1996-01-01T00:00:00",
          "1996-02-01T00:00:00",
          "1996-03-01T00:00:00",
          "1996-04-01T00:00:00",
          "1996-05-01T00:00:00",
          "1996-06-01T00:00:00",
          "1996-07-01T00:00:00",
          "1996-08-01T00:00:00",
          "1996-09-01T00:00:00",
          "1996-10-01T00:00:00",
          "1996-11-01T00:00:00",
          "1996-12-01T00:00:00",
          "1997-01-01T00:00:00",
          "1997-02-01T00:00:00",
          "1997-03-01T00:00:00",
          "1997-04-01T00:00:00",
          "1997-05-01T00:00:00",
          "1997-06-01T00:00:00",
          "1997-07-01T00:00:00",
          "1997-08-01T00:00:00",
          "1997-09-01T00:00:00",
          "1997-10-01T00:00:00",
          "1997-11-01T00:00:00",
          "1997-12-01T00:00:00",
          "1998-01-01T00:00:00",
          "1998-02-01T00:00:00",
          "1998-03-01T00:00:00",
          "1998-04-01T00:00:00",
          "1998-05-01T00:00:00",
          "1998-06-01T00:00:00",
          "1998-07-01T00:00:00",
          "1998-08-01T00:00:00",
          "1998-09-01T00:00:00",
          "1998-10-01T00:00:00",
          "1998-11-01T00:00:00",
          "1998-12-01T00:00:00",
          "1999-01-01T00:00:00",
          "1999-02-01T00:00:00",
          "1999-03-01T00:00:00",
          "1999-04-01T00:00:00",
          "1999-05-01T00:00:00",
          "1999-06-01T00:00:00",
          "1999-07-01T00:00:00",
          "1999-08-01T00:00:00",
          "1999-09-01T00:00:00",
          "1999-10-01T00:00:00",
          "1999-11-01T00:00:00",
          "1999-12-01T00:00:00",
          "2000-01-01T00:00:00",
          "2000-02-01T00:00:00",
          "2000-03-01T00:00:00",
          "2000-04-01T00:00:00",
          "2000-05-01T00:00:00",
          "2000-06-01T00:00:00",
          "2000-07-01T00:00:00",
          "2000-08-01T00:00:00",
          "2000-09-01T00:00:00",
          "2000-10-01T00:00:00",
          "2000-11-01T00:00:00",
          "2000-12-01T00:00:00",
          "2001-01-01T00:00:00",
          "2001-02-01T00:00:00",
          "2001-03-01T00:00:00",
          "2001-04-01T00:00:00",
          "2001-05-01T00:00:00",
          "2001-06-01T00:00:00",
          "2001-07-01T00:00:00",
          "2001-08-01T00:00:00",
          "2001-09-01T00:00:00",
          "2001-10-01T00:00:00",
          "2001-11-01T00:00:00",
          "2001-12-01T00:00:00",
          "2002-01-01T00:00:00",
          "2002-02-01T00:00:00",
          "2002-03-01T00:00:00",
          "2002-04-01T00:00:00",
          "2002-05-01T00:00:00",
          "2002-06-01T00:00:00",
          "2002-07-01T00:00:00",
          "2002-08-01T00:00:00",
          "2002-09-01T00:00:00",
          "2002-10-01T00:00:00",
          "2002-11-01T00:00:00",
          "2002-12-01T00:00:00",
          "2003-01-01T00:00:00",
          "2003-02-01T00:00:00",
          "2003-03-01T00:00:00",
          "2003-04-01T00:00:00",
          "2003-05-01T00:00:00",
          "2003-06-01T00:00:00",
          "2003-07-01T00:00:00",
          "2003-08-01T00:00:00",
          "2003-09-01T00:00:00",
          "2003-10-01T00:00:00",
          "2003-11-01T00:00:00",
          "2003-12-01T00:00:00",
          "2004-01-01T00:00:00",
          "2004-02-01T00:00:00",
          "2004-03-01T00:00:00",
          "2004-04-01T00:00:00",
          "2004-05-01T00:00:00",
          "2004-06-01T00:00:00",
          "2004-07-01T00:00:00",
          "2004-08-01T00:00:00",
          "2004-09-01T00:00:00",
          "2004-10-01T00:00:00",
          "2004-11-01T00:00:00",
          "2004-12-01T00:00:00",
          "2005-01-01T00:00:00",
          "2005-02-01T00:00:00",
          "2005-03-01T00:00:00",
          "2005-04-01T00:00:00",
          "2005-05-01T00:00:00",
          "2005-06-01T00:00:00",
          "2005-07-01T00:00:00",
          "2005-08-01T00:00:00",
          "2005-09-01T00:00:00",
          "2005-10-01T00:00:00",
          "2005-11-01T00:00:00",
          "2005-12-01T00:00:00",
          "2006-01-01T00:00:00",
          "2006-02-01T00:00:00",
          "2006-03-01T00:00:00",
          "2006-04-01T00:00:00",
          "2006-05-01T00:00:00",
          "2006-06-01T00:00:00",
          "2006-07-01T00:00:00",
          "2006-08-01T00:00:00",
          "2006-09-01T00:00:00",
          "2006-10-01T00:00:00",
          "2006-11-01T00:00:00",
          "2006-12-01T00:00:00",
          "2007-01-01T00:00:00",
          "2007-02-01T00:00:00",
          "2007-03-01T00:00:00",
          "2007-04-01T00:00:00",
          "2007-05-01T00:00:00",
          "2007-06-01T00:00:00",
          "2007-07-01T00:00:00",
          "2007-08-01T00:00:00",
          "2007-09-01T00:00:00",
          "2007-10-01T00:00:00",
          "2007-11-01T00:00:00",
          "2007-12-01T00:00:00",
          "2008-01-01T00:00:00",
          "2008-02-01T00:00:00",
          "2008-03-01T00:00:00",
          "2008-04-01T00:00:00",
          "2008-05-01T00:00:00",
          "2008-06-01T00:00:00",
          "2008-07-01T00:00:00",
          "2008-08-01T00:00:00",
          "2008-09-01T00:00:00",
          "2008-10-01T00:00:00",
          "2008-11-01T00:00:00",
          "2008-12-01T00:00:00",
          "2009-01-01T00:00:00",
          "2009-02-01T00:00:00",
          "2009-03-01T00:00:00",
          "2009-04-01T00:00:00",
          "2009-05-01T00:00:00",
          "2009-06-01T00:00:00",
          "2009-07-01T00:00:00",
          "2009-08-01T00:00:00",
          "2009-09-01T00:00:00",
          "2009-10-01T00:00:00",
          "2009-11-01T00:00:00",
          "2009-12-01T00:00:00",
          "2010-01-01T00:00:00",
          "2010-02-01T00:00:00",
          "2010-03-01T00:00:00",
          "2010-04-01T00:00:00",
          "2010-05-01T00:00:00",
          "2010-06-01T00:00:00",
          "2010-07-01T00:00:00",
          "2010-08-01T00:00:00",
          "2010-09-01T00:00:00",
          "2010-10-01T00:00:00",
          "2010-11-01T00:00:00",
          "2010-12-01T00:00:00",
          "2011-01-01T00:00:00",
          "2011-02-01T00:00:00",
          "2011-03-01T00:00:00",
          "2011-04-01T00:00:00",
          "2011-05-01T00:00:00",
          "2011-06-01T00:00:00",
          "2011-07-01T00:00:00",
          "2011-08-01T00:00:00",
          "2011-09-01T00:00:00",
          "2011-10-01T00:00:00",
          "2011-11-01T00:00:00",
          "2011-12-01T00:00:00",
          "2012-01-01T00:00:00",
          "2012-02-01T00:00:00",
          "2012-03-01T00:00:00",
          "2012-04-01T00:00:00",
          "2012-05-01T00:00:00",
          "2012-06-01T00:00:00",
          "2012-07-01T00:00:00",
          "2012-08-01T00:00:00",
          "2012-09-01T00:00:00",
          "2012-10-01T00:00:00",
          "2012-11-01T00:00:00",
          "2012-12-01T00:00:00",
          "2013-01-01T00:00:00",
          "2013-02-01T00:00:00",
          "2013-03-01T00:00:00",
          "2013-04-01T00:00:00",
          "2013-05-01T00:00:00",
          "2013-06-01T00:00:00",
          "2013-07-01T00:00:00",
          "2013-08-01T00:00:00",
          "2013-09-01T00:00:00",
          "2013-10-01T00:00:00",
          "2013-11-01T00:00:00",
          "2013-12-01T00:00:00",
          "2014-01-01T00:00:00",
          "2014-02-01T00:00:00",
          "2014-03-01T00:00:00",
          "2014-04-01T00:00:00",
          "2014-05-01T00:00:00",
          "2014-06-01T00:00:00",
          "2014-07-01T00:00:00",
          "2014-08-01T00:00:00",
          "2014-09-01T00:00:00",
          "2014-10-01T00:00:00",
          "2014-11-01T00:00:00",
          "2014-12-01T00:00:00",
          "2015-01-01T00:00:00",
          "2015-02-01T00:00:00",
          "2015-03-01T00:00:00",
          "2015-04-01T00:00:00",
          "2015-05-01T00:00:00",
          "2015-06-01T00:00:00",
          "2015-07-01T00:00:00",
          "2015-08-01T00:00:00",
          "2015-09-01T00:00:00",
          "2015-10-01T00:00:00",
          "2015-11-01T00:00:00",
          "2015-12-01T00:00:00",
          "2016-01-01T00:00:00",
          "2016-02-01T00:00:00",
          "2016-03-01T00:00:00",
          "2016-04-01T00:00:00",
          "2016-05-01T00:00:00",
          "2016-06-01T00:00:00",
          "2016-07-01T00:00:00",
          "2016-08-01T00:00:00",
          "2016-09-01T00:00:00",
          "2016-10-01T00:00:00",
          "2016-11-01T00:00:00",
          "2016-12-01T00:00:00",
          "2017-01-01T00:00:00",
          "2017-02-01T00:00:00",
          "2017-03-01T00:00:00",
          "2017-04-01T00:00:00",
          "2017-05-01T00:00:00",
          "2017-06-01T00:00:00",
          "2017-07-01T00:00:00",
          "2017-08-01T00:00:00",
          "2017-09-01T00:00:00",
          "2017-10-01T00:00:00",
          "2017-11-01T00:00:00",
          "2017-12-01T00:00:00",
          "2018-01-01T00:00:00",
          "2018-02-01T00:00:00",
          "2018-03-01T00:00:00",
          "2018-04-01T00:00:00",
          "2018-05-01T00:00:00",
          "2018-06-01T00:00:00",
          "2018-07-01T00:00:00",
          "2018-08-01T00:00:00",
          "2018-09-01T00:00:00",
          "2018-10-01T00:00:00",
          "2018-11-01T00:00:00",
          "2018-12-01T00:00:00",
          "2019-01-01T00:00:00",
          "2019-02-01T00:00:00",
          "2019-03-01T00:00:00",
          "2019-04-01T00:00:00",
          "2019-05-01T00:00:00",
          "2019-06-01T00:00:00",
          "2019-07-01T00:00:00",
          "2019-08-01T00:00:00",
          "2019-09-01T00:00:00",
          "2019-10-01T00:00:00",
          "2019-11-01T00:00:00",
          "2019-12-01T00:00:00",
          "2020-01-01T00:00:00",
          "2020-02-01T00:00:00",
          "2020-03-01T00:00:00",
          "2020-04-01T00:00:00",
          "2020-05-01T00:00:00",
          "2020-06-01T00:00:00",
          "2020-07-01T00:00:00",
          "2020-08-01T00:00:00",
          "2020-09-01T00:00:00",
          "2020-10-01T00:00:00",
          "2020-11-01T00:00:00",
          "2020-12-01T00:00:00",
          "2021-01-01T00:00:00",
          "2021-02-01T00:00:00",
          "2021-03-01T00:00:00",
          "2021-04-01T00:00:00",
          "2021-05-01T00:00:00",
          "2021-06-01T00:00:00",
          "2021-07-01T00:00:00",
          "2021-08-01T00:00:00",
          "2021-09-01T00:00:00",
          "2021-10-01T00:00:00",
          "2021-11-01T00:00:00",
          "2021-12-01T00:00:00",
          "2022-01-01T00:00:00",
          "2022-02-01T00:00:00",
          "2022-03-01T00:00:00",
          "2022-04-01T00:00:00",
          "2022-05-01T00:00:00",
          "2022-06-01T00:00:00",
          "2022-07-01T00:00:00",
          "2022-08-01T00:00:00",
          "2022-09-01T00:00:00",
          "2022-10-01T00:00:00",
          "2022-11-01T00:00:00",
          "2022-12-01T00:00:00",
          "2023-01-01T00:00:00",
          "2023-02-01T00:00:00"
         ],
         "xaxis": "x",
         "y": [
          53.685,
          53.685,
          53.685,
          54.735,
          54.95,
          55.505,
          55.12,
          55.6,
          56.6,
          57.05,
          56.63,
          56.73,
          57.69,
          57.5,
          58.33,
          59.2,
          58.305,
          58.49,
          58.85,
          59.285,
          59.75,
          59.775,
          60.75,
          61.75,
          62.25,
          61.675,
          62.375,
          63.305,
          65.0,
          65.4,
          65.925,
          66.525,
          65.985,
          67.075,
          67.9,
          68.43,
          68.825,
          69.53,
          69.425,
          69.625,
          70.85,
          71.55,
          71.6,
          71.8,
          71.73,
          71.55,
          72.1,
          71.5,
          73.15,
          73.475,
          73.75,
          74.3,
          74.735,
          78.9,
          78.35,
          78.05,
          79.15,
          79.41,
          81.45,
          82.7,
          89.5,
          86.5,
          86.35,
          90.45,
          91.825,
          90.625,
          89.9,
          89.875,
          90.05,
          91.75,
          93.15,
          93.0,
          93.45,
          93.6,
          95.6,
          96.05,
          96.15,
          96.15,
          96.08,
          96.2,
          96.25,
          96.25,
          96.275,
          96.6,
          96.8,
          96.89,
          96.945,
          97.13,
          97.23,
          97.155,
          97.14,
          96.83,
          94.36,
          94.76,
          96.425,
          96.55,
          97.28,
          98.585,
          97.6,
          98.3,
          99.2,
          102.35,
          103.625,
          103.125,
          103.58,
          104.15,
          104.825,
          104.475,
          99.05,
          99.5,
          99.7,
          99.775,
          99.925,
          100.15,
          100.7,
          101.25,
          101.33,
          101.88,
          102.0,
          102.11,
          102.12,
          102.58,
          102.575,
          102.8,
          103.0,
          103.97,
          103.97,
          102.19,
          103.76,
          108.025,
          108.1,
          107.45,
          108.58,
          108.79,
          108.65,
          110.6,
          110.87,
          111.385,
          111.78,
          113.025,
          113.44,
          110.95,
          110.475,
          108.65,
          107.84,
          107.85,
          107.8,
          107.875,
          107.885,
          107.7,
          107.6,
          107.87,
          108.15,
          110.25,
          110.05,
          113.0,
          113.92,
          114.23,
          115.8,
          120.1,
          114.9,
          114.92,
          114.85,
          114.7,
          114.82,
          114.8,
          114.41,
          114.4,
          114.65,
          114.625,
          114.05,
          113.95,
          113.8,
          113.55,
          112.75,
          112.7,
          111.7,
          111.6,
          111.35,
          110.92,
          110.85,
          110.75,
          110.37,
          109.85,
          109.65,
          109.45,
          109.4,
          109.65,
          109.96,
          110.06,
          113.82,
          113.85,
          113.85,
          121.8,
          128.1,
          129.21,
          131.11,
          132.86,
          131.7,
          132.3,
          129.35,
          130.1,
          130.1,
          127.5,
          126.2,
          127.45,
          126.7,
          126.7,
          126.45,
          130.4,
          131.65,
          132.8,
          131.9,
          130.85,
          131.2,
          130.75,
          130.7,
          130.7,
          130.65,
          130.63,
          130.35,
          130.3,
          130.2,
          130.21,
          130.26,
          130.75,
          131.0,
          131.15,
          132.15,
          133.0,
          132.95,
          133.1,
          133.9,
          133.8,
          133.66,
          134.5,
          140.89,
          140.95,
          142.48,
          144.15,
          143.81,
          144.17,
          145.35,
          145.85,
          147.35,
          145.35,
          144.76,
          145.3,
          146.3,
          147.4,
          148.55,
          149.6,
          149.95,
          152.34,
          151.72,
          151.95,
          152.45,
          153.0,
          153.5,
          152.7,
          152.98,
          153.55,
          153.55,
          153.4,
          153.9,
          154.95,
          155.6,
          157.6,
          158.15,
          158.2,
          159.55,
          161.4,
          169.0,
          175.3,
          178.5,
          182.6,
          178.15,
          179.9,
          175.35,
          176.0,
          176.2,
          176.4,
          176.3,
          179.2,
          182.0,
          181.05,
          180.85,
          181.3,
          181.35,
          181.85,
          189.0,
          190.0,
          186.2,
          186.15,
          185.55,
          185.8,
          184.9,
          184.25,
          185.5,
          185.0,
          190.5,
          194.0,
          198.5,
          197.0,
          197.0,
          199.0,
          199.0,
          199.0,
          199.0,
          200.0,
          202.5,
          202.75,
          201.2,
          200.92,
          294.0,
          355.0,
          360.0,
          356.0,
          357.0,
          357.88,
          365.5,
          363.0,
          368.5,
          367.5,
          367.5,
          366.0
         ],
         "yaxis": "y",
         "type": "scatter"
        }
       ],
       "layout": {
        "template": {
         "data": {
          "histogram2dcontour": [
           {
            "type": "histogram2dcontour",
            "colorbar": {
             "outlinewidth": 0,
             "ticks": ""
            },
            "colorscale": [
             [
              0.0,
              "#0d0887"
             ],
             [
              0.1111111111111111,
              "#46039f"
             ],
             [
              0.2222222222222222,
              "#7201a8"
             ],
             [
              0.3333333333333333,
              "#9c179e"
             ],
             [
              0.4444444444444444,
              "#bd3786"
             ],
             [
              0.5555555555555556,
              "#d8576b"
             ],
             [
              0.6666666666666666,
              "#ed7953"
             ],
             [
              0.7777777777777778,
              "#fb9f3a"
             ],
             [
              0.8888888888888888,
              "#fdca26"
             ],
             [
              1.0,
              "#f0f921"
             ]
            ]
           }
          ],
          "choropleth": [
           {
            "type": "choropleth",
            "colorbar": {
             "outlinewidth": 0,
             "ticks": ""
            }
           }
          ],
          "histogram2d": [
           {
            "type": "histogram2d",
            "colorbar": {
             "outlinewidth": 0,
             "ticks": ""
            },
            "colorscale": [
             [
              0.0,
              "#0d0887"
             ],
             [
              0.1111111111111111,
              "#46039f"
             ],
             [
              0.2222222222222222,
              "#7201a8"
             ],
             [
              0.3333333333333333,
              "#9c179e"
             ],
             [
              0.4444444444444444,
              "#bd3786"
             ],
             [
              0.5555555555555556,
              "#d8576b"
             ],
             [
              0.6666666666666666,
              "#ed7953"
             ],
             [
              0.7777777777777778,
              "#fb9f3a"
             ],
             [
              0.8888888888888888,
              "#fdca26"
             ],
             [
              1.0,
              "#f0f921"
             ]
            ]
           }
          ],
          "heatmap": [
           {
            "type": "heatmap",
            "colorbar": {
             "outlinewidth": 0,
             "ticks": ""
            },
            "colorscale": [
             [
              0.0,
              "#0d0887"
             ],
             [
              0.1111111111111111,
              "#46039f"
             ],
             [
              0.2222222222222222,
              "#7201a8"
             ],
             [
              0.3333333333333333,
              "#9c179e"
             ],
             [
              0.4444444444444444,
              "#bd3786"
             ],
             [
              0.5555555555555556,
              "#d8576b"
             ],
             [
              0.6666666666666666,
              "#ed7953"
             ],
             [
              0.7777777777777778,
              "#fb9f3a"
             ],
             [
              0.8888888888888888,
              "#fdca26"
             ],
             [
              1.0,
              "#f0f921"
             ]
            ]
           }
          ],
          "heatmapgl": [
           {
            "type": "heatmapgl",
            "colorbar": {
             "outlinewidth": 0,
             "ticks": ""
            },
            "colorscale": [
             [
              0.0,
              "#0d0887"
             ],
             [
              0.1111111111111111,
              "#46039f"
             ],
             [
              0.2222222222222222,
              "#7201a8"
             ],
             [
              0.3333333333333333,
              "#9c179e"
             ],
             [
              0.4444444444444444,
              "#bd3786"
             ],
             [
              0.5555555555555556,
              "#d8576b"
             ],
             [
              0.6666666666666666,
              "#ed7953"
             ],
             [
              0.7777777777777778,
              "#fb9f3a"
             ],
             [
              0.8888888888888888,
              "#fdca26"
             ],
             [
              1.0,
              "#f0f921"
             ]
            ]
           }
          ],
          "contourcarpet": [
           {
            "type": "contourcarpet",
            "colorbar": {
             "outlinewidth": 0,
             "ticks": ""
            }
           }
          ],
          "contour": [
           {
            "type": "contour",
            "colorbar": {
             "outlinewidth": 0,
             "ticks": ""
            },
            "colorscale": [
             [
              0.0,
              "#0d0887"
             ],
             [
              0.1111111111111111,
              "#46039f"
             ],
             [
              0.2222222222222222,
              "#7201a8"
             ],
             [
              0.3333333333333333,
              "#9c179e"
             ],
             [
              0.4444444444444444,
              "#bd3786"
             ],
             [
              0.5555555555555556,
              "#d8576b"
             ],
             [
              0.6666666666666666,
              "#ed7953"
             ],
             [
              0.7777777777777778,
              "#fb9f3a"
             ],
             [
              0.8888888888888888,
              "#fdca26"
             ],
             [
              1.0,
              "#f0f921"
             ]
            ]
           }
          ],
          "surface": [
           {
            "type": "surface",
            "colorbar": {
             "outlinewidth": 0,
             "ticks": ""
            },
            "colorscale": [
             [
              0.0,
              "#0d0887"
             ],
             [
              0.1111111111111111,
              "#46039f"
             ],
             [
              0.2222222222222222,
              "#7201a8"
             ],
             [
              0.3333333333333333,
              "#9c179e"
             ],
             [
              0.4444444444444444,
              "#bd3786"
             ],
             [
              0.5555555555555556,
              "#d8576b"
             ],
             [
              0.6666666666666666,
              "#ed7953"
             ],
             [
              0.7777777777777778,
              "#fb9f3a"
             ],
             [
              0.8888888888888888,
              "#fdca26"
             ],
             [
              1.0,
              "#f0f921"
             ]
            ]
           }
          ],
          "mesh3d": [
           {
            "type": "mesh3d",
            "colorbar": {
             "outlinewidth": 0,
             "ticks": ""
            }
           }
          ],
          "scatter": [
           {
            "fillpattern": {
             "fillmode": "overlay",
             "size": 10,
             "solidity": 0.2
            },
            "type": "scatter"
           }
          ],
          "parcoords": [
           {
            "type": "parcoords",
            "line": {
             "colorbar": {
              "outlinewidth": 0,
              "ticks": ""
             }
            }
           }
          ],
          "scatterpolargl": [
           {
            "type": "scatterpolargl",
            "marker": {
             "colorbar": {
              "outlinewidth": 0,
              "ticks": ""
             }
            }
           }
          ],
          "bar": [
           {
            "error_x": {
             "color": "#2a3f5f"
            },
            "error_y": {
             "color": "#2a3f5f"
            },
            "marker": {
             "line": {
              "color": "#E5ECF6",
              "width": 0.5
             },
             "pattern": {
              "fillmode": "overlay",
              "size": 10,
              "solidity": 0.2
             }
            },
            "type": "bar"
           }
          ],
          "scattergeo": [
           {
            "type": "scattergeo",
            "marker": {
             "colorbar": {
              "outlinewidth": 0,
              "ticks": ""
             }
            }
           }
          ],
          "scatterpolar": [
           {
            "type": "scatterpolar",
            "marker": {
             "colorbar": {
              "outlinewidth": 0,
              "ticks": ""
             }
            }
           }
          ],
          "histogram": [
           {
            "marker": {
             "pattern": {
              "fillmode": "overlay",
              "size": 10,
              "solidity": 0.2
             }
            },
            "type": "histogram"
           }
          ],
          "scattergl": [
           {
            "type": "scattergl",
            "marker": {
             "colorbar": {
              "outlinewidth": 0,
              "ticks": ""
             }
            }
           }
          ],
          "scatter3d": [
           {
            "type": "scatter3d",
            "line": {
             "colorbar": {
              "outlinewidth": 0,
              "ticks": ""
             }
            },
            "marker": {
             "colorbar": {
              "outlinewidth": 0,
              "ticks": ""
             }
            }
           }
          ],
          "scattermapbox": [
           {
            "type": "scattermapbox",
            "marker": {
             "colorbar": {
              "outlinewidth": 0,
              "ticks": ""
             }
            }
           }
          ],
          "scatterternary": [
           {
            "type": "scatterternary",
            "marker": {
             "colorbar": {
              "outlinewidth": 0,
              "ticks": ""
             }
            }
           }
          ],
          "scattercarpet": [
           {
            "type": "scattercarpet",
            "marker": {
             "colorbar": {
              "outlinewidth": 0,
              "ticks": ""
             }
            }
           }
          ],
          "carpet": [
           {
            "aaxis": {
             "endlinecolor": "#2a3f5f",
             "gridcolor": "white",
             "linecolor": "white",
             "minorgridcolor": "white",
             "startlinecolor": "#2a3f5f"
            },
            "baxis": {
             "endlinecolor": "#2a3f5f",
             "gridcolor": "white",
             "linecolor": "white",
             "minorgridcolor": "white",
             "startlinecolor": "#2a3f5f"
            },
            "type": "carpet"
           }
          ],
          "table": [
           {
            "cells": {
             "fill": {
              "color": "#EBF0F8"
             },
             "line": {
              "color": "white"
             }
            },
            "header": {
             "fill": {
              "color": "#C8D4E3"
             },
             "line": {
              "color": "white"
             }
            },
            "type": "table"
           }
          ],
          "barpolar": [
           {
            "marker": {
             "line": {
              "color": "#E5ECF6",
              "width": 0.5
             },
             "pattern": {
              "fillmode": "overlay",
              "size": 10,
              "solidity": 0.2
             }
            },
            "type": "barpolar"
           }
          ],
          "pie": [
           {
            "automargin": true,
            "type": "pie"
           }
          ]
         },
         "layout": {
          "autotypenumbers": "strict",
          "colorway": [
           "#636efa",
           "#EF553B",
           "#00cc96",
           "#ab63fa",
           "#FFA15A",
           "#19d3f3",
           "#FF6692",
           "#B6E880",
           "#FF97FF",
           "#FECB52"
          ],
          "font": {
           "color": "#2a3f5f"
          },
          "hovermode": "closest",
          "hoverlabel": {
           "align": "left"
          },
          "paper_bgcolor": "white",
          "plot_bgcolor": "#E5ECF6",
          "polar": {
           "bgcolor": "#E5ECF6",
           "angularaxis": {
            "gridcolor": "white",
            "linecolor": "white",
            "ticks": ""
           },
           "radialaxis": {
            "gridcolor": "white",
            "linecolor": "white",
            "ticks": ""
           }
          },
          "ternary": {
           "bgcolor": "#E5ECF6",
           "aaxis": {
            "gridcolor": "white",
            "linecolor": "white",
            "ticks": ""
           },
           "baxis": {
            "gridcolor": "white",
            "linecolor": "white",
            "ticks": ""
           },
           "caxis": {
            "gridcolor": "white",
            "linecolor": "white",
            "ticks": ""
           }
          },
          "coloraxis": {
           "colorbar": {
            "outlinewidth": 0,
            "ticks": ""
           }
          },
          "colorscale": {
           "sequential": [
            [
             0.0,
             "#0d0887"
            ],
            [
             0.1111111111111111,
             "#46039f"
            ],
            [
             0.2222222222222222,
             "#7201a8"
            ],
            [
             0.3333333333333333,
             "#9c179e"
            ],
            [
             0.4444444444444444,
             "#bd3786"
            ],
            [
             0.5555555555555556,
             "#d8576b"
            ],
            [
             0.6666666666666666,
             "#ed7953"
            ],
            [
             0.7777777777777778,
             "#fb9f3a"
            ],
            [
             0.8888888888888888,
             "#fdca26"
            ],
            [
             1.0,
             "#f0f921"
            ]
           ],
           "sequentialminus": [
            [
             0.0,
             "#0d0887"
            ],
            [
             0.1111111111111111,
             "#46039f"
            ],
            [
             0.2222222222222222,
             "#7201a8"
            ],
            [
             0.3333333333333333,
             "#9c179e"
            ],
            [
             0.4444444444444444,
             "#bd3786"
            ],
            [
             0.5555555555555556,
             "#d8576b"
            ],
            [
             0.6666666666666666,
             "#ed7953"
            ],
            [
             0.7777777777777778,
             "#fb9f3a"
            ],
            [
             0.8888888888888888,
             "#fdca26"
            ],
            [
             1.0,
             "#f0f921"
            ]
           ],
           "diverging": [
            [
             0,
             "#8e0152"
            ],
            [
             0.1,
             "#c51b7d"
            ],
            [
             0.2,
             "#de77ae"
            ],
            [
             0.3,
             "#f1b6da"
            ],
            [
             0.4,
             "#fde0ef"
            ],
            [
             0.5,
             "#f7f7f7"
            ],
            [
             0.6,
             "#e6f5d0"
            ],
            [
             0.7,
             "#b8e186"
            ],
            [
             0.8,
             "#7fbc41"
            ],
            [
             0.9,
             "#4d9221"
            ],
            [
             1,
             "#276419"
            ]
           ]
          },
          "xaxis": {
           "gridcolor": "white",
           "linecolor": "white",
           "ticks": "",
           "title": {
            "standoff": 15
           },
           "zerolinecolor": "white",
           "automargin": true,
           "zerolinewidth": 2
          },
          "yaxis": {
           "gridcolor": "white",
           "linecolor": "white",
           "ticks": "",
           "title": {
            "standoff": 15
           },
           "zerolinecolor": "white",
           "automargin": true,
           "zerolinewidth": 2
          },
          "scene": {
           "xaxis": {
            "backgroundcolor": "#E5ECF6",
            "gridcolor": "white",
            "linecolor": "white",
            "showbackground": true,
            "ticks": "",
            "zerolinecolor": "white",
            "gridwidth": 2
           },
           "yaxis": {
            "backgroundcolor": "#E5ECF6",
            "gridcolor": "white",
            "linecolor": "white",
            "showbackground": true,
            "ticks": "",
            "zerolinecolor": "white",
            "gridwidth": 2
           },
           "zaxis": {
            "backgroundcolor": "#E5ECF6",
            "gridcolor": "white",
            "linecolor": "white",
            "showbackground": true,
            "ticks": "",
            "zerolinecolor": "white",
            "gridwidth": 2
           }
          },
          "shapedefaults": {
           "line": {
            "color": "#2a3f5f"
           }
          },
          "annotationdefaults": {
           "arrowcolor": "#2a3f5f",
           "arrowhead": 0,
           "arrowwidth": 1
          },
          "geo": {
           "bgcolor": "white",
           "landcolor": "#E5ECF6",
           "subunitcolor": "white",
           "showland": true,
           "showlakes": true,
           "lakecolor": "white"
          },
          "title": {
           "x": 0.05
          },
          "mapbox": {
           "style": "light"
          }
         }
        },
        "xaxis": {
         "anchor": "y",
         "domain": [
          0.0,
          1.0
         ],
         "title": {
          "text": "Date"
         }
        },
        "yaxis": {
         "anchor": "x",
         "domain": [
          0.0,
          1.0
         ],
         "title": {
          "text": "Exchange_Rate"
         }
        },
        "legend": {
         "tracegroupgap": 0
        },
        "title": {
         "text": "Exchange Rate (USD to LKR)"
        }
       },
       "config": {
        "plotlyServerURL": "https://plot.ly"
       }
      },
      "text/html": "<div>                            <div id=\"aaccc0ca-4531-4c04-a784-ad73776ac5c5\" class=\"plotly-graph-div\" style=\"height:525px; width:100%;\"></div>            <script type=\"text/javascript\">                require([\"plotly\"], function(Plotly) {                    window.PLOTLYENV=window.PLOTLYENV || {};                                    if (document.getElementById(\"aaccc0ca-4531-4c04-a784-ad73776ac5c5\")) {                    Plotly.newPlot(                        \"aaccc0ca-4531-4c04-a784-ad73776ac5c5\",                        [{\"hovertemplate\":\"Date=%{x}<br>Exchange_Rate=%{y}<extra></extra>\",\"legendgroup\":\"\",\"line\":{\"color\":\"#636efa\",\"dash\":\"solid\"},\"marker\":{\"symbol\":\"circle\"},\"mode\":\"lines\",\"name\":\"\",\"orientation\":\"v\",\"showlegend\":false,\"x\":[\"1996-01-01T00:00:00\",\"1996-02-01T00:00:00\",\"1996-03-01T00:00:00\",\"1996-04-01T00:00:00\",\"1996-05-01T00:00:00\",\"1996-06-01T00:00:00\",\"1996-07-01T00:00:00\",\"1996-08-01T00:00:00\",\"1996-09-01T00:00:00\",\"1996-10-01T00:00:00\",\"1996-11-01T00:00:00\",\"1996-12-01T00:00:00\",\"1997-01-01T00:00:00\",\"1997-02-01T00:00:00\",\"1997-03-01T00:00:00\",\"1997-04-01T00:00:00\",\"1997-05-01T00:00:00\",\"1997-06-01T00:00:00\",\"1997-07-01T00:00:00\",\"1997-08-01T00:00:00\",\"1997-09-01T00:00:00\",\"1997-10-01T00:00:00\",\"1997-11-01T00:00:00\",\"1997-12-01T00:00:00\",\"1998-01-01T00:00:00\",\"1998-02-01T00:00:00\",\"1998-03-01T00:00:00\",\"1998-04-01T00:00:00\",\"1998-05-01T00:00:00\",\"1998-06-01T00:00:00\",\"1998-07-01T00:00:00\",\"1998-08-01T00:00:00\",\"1998-09-01T00:00:00\",\"1998-10-01T00:00:00\",\"1998-11-01T00:00:00\",\"1998-12-01T00:00:00\",\"1999-01-01T00:00:00\",\"1999-02-01T00:00:00\",\"1999-03-01T00:00:00\",\"1999-04-01T00:00:00\",\"1999-05-01T00:00:00\",\"1999-06-01T00:00:00\",\"1999-07-01T00:00:00\",\"1999-08-01T00:00:00\",\"1999-09-01T00:00:00\",\"1999-10-01T00:00:00\",\"1999-11-01T00:00:00\",\"1999-12-01T00:00:00\",\"2000-01-01T00:00:00\",\"2000-02-01T00:00:00\",\"2000-03-01T00:00:00\",\"2000-04-01T00:00:00\",\"2000-05-01T00:00:00\",\"2000-06-01T00:00:00\",\"2000-07-01T00:00:00\",\"2000-08-01T00:00:00\",\"2000-09-01T00:00:00\",\"2000-10-01T00:00:00\",\"2000-11-01T00:00:00\",\"2000-12-01T00:00:00\",\"2001-01-01T00:00:00\",\"2001-02-01T00:00:00\",\"2001-03-01T00:00:00\",\"2001-04-01T00:00:00\",\"2001-05-01T00:00:00\",\"2001-06-01T00:00:00\",\"2001-07-01T00:00:00\",\"2001-08-01T00:00:00\",\"2001-09-01T00:00:00\",\"2001-10-01T00:00:00\",\"2001-11-01T00:00:00\",\"2001-12-01T00:00:00\",\"2002-01-01T00:00:00\",\"2002-02-01T00:00:00\",\"2002-03-01T00:00:00\",\"2002-04-01T00:00:00\",\"2002-05-01T00:00:00\",\"2002-06-01T00:00:00\",\"2002-07-01T00:00:00\",\"2002-08-01T00:00:00\",\"2002-09-01T00:00:00\",\"2002-10-01T00:00:00\",\"2002-11-01T00:00:00\",\"2002-12-01T00:00:00\",\"2003-01-01T00:00:00\",\"2003-02-01T00:00:00\",\"2003-03-01T00:00:00\",\"2003-04-01T00:00:00\",\"2003-05-01T00:00:00\",\"2003-06-01T00:00:00\",\"2003-07-01T00:00:00\",\"2003-08-01T00:00:00\",\"2003-09-01T00:00:00\",\"2003-10-01T00:00:00\",\"2003-11-01T00:00:00\",\"2003-12-01T00:00:00\",\"2004-01-01T00:00:00\",\"2004-02-01T00:00:00\",\"2004-03-01T00:00:00\",\"2004-04-01T00:00:00\",\"2004-05-01T00:00:00\",\"2004-06-01T00:00:00\",\"2004-07-01T00:00:00\",\"2004-08-01T00:00:00\",\"2004-09-01T00:00:00\",\"2004-10-01T00:00:00\",\"2004-11-01T00:00:00\",\"2004-12-01T00:00:00\",\"2005-01-01T00:00:00\",\"2005-02-01T00:00:00\",\"2005-03-01T00:00:00\",\"2005-04-01T00:00:00\",\"2005-05-01T00:00:00\",\"2005-06-01T00:00:00\",\"2005-07-01T00:00:00\",\"2005-08-01T00:00:00\",\"2005-09-01T00:00:00\",\"2005-10-01T00:00:00\",\"2005-11-01T00:00:00\",\"2005-12-01T00:00:00\",\"2006-01-01T00:00:00\",\"2006-02-01T00:00:00\",\"2006-03-01T00:00:00\",\"2006-04-01T00:00:00\",\"2006-05-01T00:00:00\",\"2006-06-01T00:00:00\",\"2006-07-01T00:00:00\",\"2006-08-01T00:00:00\",\"2006-09-01T00:00:00\",\"2006-10-01T00:00:00\",\"2006-11-01T00:00:00\",\"2006-12-01T00:00:00\",\"2007-01-01T00:00:00\",\"2007-02-01T00:00:00\",\"2007-03-01T00:00:00\",\"2007-04-01T00:00:00\",\"2007-05-01T00:00:00\",\"2007-06-01T00:00:00\",\"2007-07-01T00:00:00\",\"2007-08-01T00:00:00\",\"2007-09-01T00:00:00\",\"2007-10-01T00:00:00\",\"2007-11-01T00:00:00\",\"2007-12-01T00:00:00\",\"2008-01-01T00:00:00\",\"2008-02-01T00:00:00\",\"2008-03-01T00:00:00\",\"2008-04-01T00:00:00\",\"2008-05-01T00:00:00\",\"2008-06-01T00:00:00\",\"2008-07-01T00:00:00\",\"2008-08-01T00:00:00\",\"2008-09-01T00:00:00\",\"2008-10-01T00:00:00\",\"2008-11-01T00:00:00\",\"2008-12-01T00:00:00\",\"2009-01-01T00:00:00\",\"2009-02-01T00:00:00\",\"2009-03-01T00:00:00\",\"2009-04-01T00:00:00\",\"2009-05-01T00:00:00\",\"2009-06-01T00:00:00\",\"2009-07-01T00:00:00\",\"2009-08-01T00:00:00\",\"2009-09-01T00:00:00\",\"2009-10-01T00:00:00\",\"2009-11-01T00:00:00\",\"2009-12-01T00:00:00\",\"2010-01-01T00:00:00\",\"2010-02-01T00:00:00\",\"2010-03-01T00:00:00\",\"2010-04-01T00:00:00\",\"2010-05-01T00:00:00\",\"2010-06-01T00:00:00\",\"2010-07-01T00:00:00\",\"2010-08-01T00:00:00\",\"2010-09-01T00:00:00\",\"2010-10-01T00:00:00\",\"2010-11-01T00:00:00\",\"2010-12-01T00:00:00\",\"2011-01-01T00:00:00\",\"2011-02-01T00:00:00\",\"2011-03-01T00:00:00\",\"2011-04-01T00:00:00\",\"2011-05-01T00:00:00\",\"2011-06-01T00:00:00\",\"2011-07-01T00:00:00\",\"2011-08-01T00:00:00\",\"2011-09-01T00:00:00\",\"2011-10-01T00:00:00\",\"2011-11-01T00:00:00\",\"2011-12-01T00:00:00\",\"2012-01-01T00:00:00\",\"2012-02-01T00:00:00\",\"2012-03-01T00:00:00\",\"2012-04-01T00:00:00\",\"2012-05-01T00:00:00\",\"2012-06-01T00:00:00\",\"2012-07-01T00:00:00\",\"2012-08-01T00:00:00\",\"2012-09-01T00:00:00\",\"2012-10-01T00:00:00\",\"2012-11-01T00:00:00\",\"2012-12-01T00:00:00\",\"2013-01-01T00:00:00\",\"2013-02-01T00:00:00\",\"2013-03-01T00:00:00\",\"2013-04-01T00:00:00\",\"2013-05-01T00:00:00\",\"2013-06-01T00:00:00\",\"2013-07-01T00:00:00\",\"2013-08-01T00:00:00\",\"2013-09-01T00:00:00\",\"2013-10-01T00:00:00\",\"2013-11-01T00:00:00\",\"2013-12-01T00:00:00\",\"2014-01-01T00:00:00\",\"2014-02-01T00:00:00\",\"2014-03-01T00:00:00\",\"2014-04-01T00:00:00\",\"2014-05-01T00:00:00\",\"2014-06-01T00:00:00\",\"2014-07-01T00:00:00\",\"2014-08-01T00:00:00\",\"2014-09-01T00:00:00\",\"2014-10-01T00:00:00\",\"2014-11-01T00:00:00\",\"2014-12-01T00:00:00\",\"2015-01-01T00:00:00\",\"2015-02-01T00:00:00\",\"2015-03-01T00:00:00\",\"2015-04-01T00:00:00\",\"2015-05-01T00:00:00\",\"2015-06-01T00:00:00\",\"2015-07-01T00:00:00\",\"2015-08-01T00:00:00\",\"2015-09-01T00:00:00\",\"2015-10-01T00:00:00\",\"2015-11-01T00:00:00\",\"2015-12-01T00:00:00\",\"2016-01-01T00:00:00\",\"2016-02-01T00:00:00\",\"2016-03-01T00:00:00\",\"2016-04-01T00:00:00\",\"2016-05-01T00:00:00\",\"2016-06-01T00:00:00\",\"2016-07-01T00:00:00\",\"2016-08-01T00:00:00\",\"2016-09-01T00:00:00\",\"2016-10-01T00:00:00\",\"2016-11-01T00:00:00\",\"2016-12-01T00:00:00\",\"2017-01-01T00:00:00\",\"2017-02-01T00:00:00\",\"2017-03-01T00:00:00\",\"2017-04-01T00:00:00\",\"2017-05-01T00:00:00\",\"2017-06-01T00:00:00\",\"2017-07-01T00:00:00\",\"2017-08-01T00:00:00\",\"2017-09-01T00:00:00\",\"2017-10-01T00:00:00\",\"2017-11-01T00:00:00\",\"2017-12-01T00:00:00\",\"2018-01-01T00:00:00\",\"2018-02-01T00:00:00\",\"2018-03-01T00:00:00\",\"2018-04-01T00:00:00\",\"2018-05-01T00:00:00\",\"2018-06-01T00:00:00\",\"2018-07-01T00:00:00\",\"2018-08-01T00:00:00\",\"2018-09-01T00:00:00\",\"2018-10-01T00:00:00\",\"2018-11-01T00:00:00\",\"2018-12-01T00:00:00\",\"2019-01-01T00:00:00\",\"2019-02-01T00:00:00\",\"2019-03-01T00:00:00\",\"2019-04-01T00:00:00\",\"2019-05-01T00:00:00\",\"2019-06-01T00:00:00\",\"2019-07-01T00:00:00\",\"2019-08-01T00:00:00\",\"2019-09-01T00:00:00\",\"2019-10-01T00:00:00\",\"2019-11-01T00:00:00\",\"2019-12-01T00:00:00\",\"2020-01-01T00:00:00\",\"2020-02-01T00:00:00\",\"2020-03-01T00:00:00\",\"2020-04-01T00:00:00\",\"2020-05-01T00:00:00\",\"2020-06-01T00:00:00\",\"2020-07-01T00:00:00\",\"2020-08-01T00:00:00\",\"2020-09-01T00:00:00\",\"2020-10-01T00:00:00\",\"2020-11-01T00:00:00\",\"2020-12-01T00:00:00\",\"2021-01-01T00:00:00\",\"2021-02-01T00:00:00\",\"2021-03-01T00:00:00\",\"2021-04-01T00:00:00\",\"2021-05-01T00:00:00\",\"2021-06-01T00:00:00\",\"2021-07-01T00:00:00\",\"2021-08-01T00:00:00\",\"2021-09-01T00:00:00\",\"2021-10-01T00:00:00\",\"2021-11-01T00:00:00\",\"2021-12-01T00:00:00\",\"2022-01-01T00:00:00\",\"2022-02-01T00:00:00\",\"2022-03-01T00:00:00\",\"2022-04-01T00:00:00\",\"2022-05-01T00:00:00\",\"2022-06-01T00:00:00\",\"2022-07-01T00:00:00\",\"2022-08-01T00:00:00\",\"2022-09-01T00:00:00\",\"2022-10-01T00:00:00\",\"2022-11-01T00:00:00\",\"2022-12-01T00:00:00\",\"2023-01-01T00:00:00\",\"2023-02-01T00:00:00\"],\"xaxis\":\"x\",\"y\":[53.685,53.685,53.685,54.735,54.95,55.505,55.12,55.6,56.6,57.05,56.63,56.73,57.69,57.5,58.33,59.2,58.305,58.49,58.85,59.285,59.75,59.775,60.75,61.75,62.25,61.675,62.375,63.305,65.0,65.4,65.925,66.525,65.985,67.075,67.9,68.43,68.825,69.53,69.425,69.625,70.85,71.55,71.6,71.8,71.73,71.55,72.1,71.5,73.15,73.475,73.75,74.3,74.735,78.9,78.35,78.05,79.15,79.41,81.45,82.7,89.5,86.5,86.35,90.45,91.825,90.625,89.9,89.875,90.05,91.75,93.15,93.0,93.45,93.6,95.6,96.05,96.15,96.15,96.08,96.2,96.25,96.25,96.275,96.6,96.8,96.89,96.945,97.13,97.23,97.155,97.14,96.83,94.36,94.76,96.425,96.55,97.28,98.585,97.6,98.3,99.2,102.35,103.625,103.125,103.58,104.15,104.825,104.475,99.05,99.5,99.7,99.775,99.925,100.15,100.7,101.25,101.33,101.88,102.0,102.11,102.12,102.58,102.575,102.8,103.0,103.97,103.97,102.19,103.76,108.025,108.1,107.45,108.58,108.79,108.65,110.6,110.87,111.385,111.78,113.025,113.44,110.95,110.475,108.65,107.84,107.85,107.8,107.875,107.885,107.7,107.6,107.87,108.15,110.25,110.05,113.0,113.92,114.23,115.8,120.1,114.9,114.92,114.85,114.7,114.82,114.8,114.41,114.4,114.65,114.625,114.05,113.95,113.8,113.55,112.75,112.7,111.7,111.6,111.35,110.92,110.85,110.75,110.37,109.85,109.65,109.45,109.4,109.65,109.96,110.06,113.82,113.85,113.85,121.8,128.1,129.21,131.11,132.86,131.7,132.3,129.35,130.1,130.1,127.5,126.2,127.45,126.7,126.7,126.45,130.4,131.65,132.8,131.9,130.85,131.2,130.75,130.7,130.7,130.65,130.63,130.35,130.3,130.2,130.21,130.26,130.75,131.0,131.15,132.15,133.0,132.95,133.1,133.9,133.8,133.66,134.5,140.89,140.95,142.48,144.15,143.81,144.17,145.35,145.85,147.35,145.35,144.76,145.3,146.3,147.4,148.55,149.6,149.95,152.34,151.72,151.95,152.45,153.0,153.5,152.7,152.98,153.55,153.55,153.4,153.9,154.95,155.6,157.6,158.15,158.2,159.55,161.4,169.0,175.3,178.5,182.6,178.15,179.9,175.35,176.0,176.2,176.4,176.3,179.2,182.0,181.05,180.85,181.3,181.35,181.85,189.0,190.0,186.2,186.15,185.55,185.8,184.9,184.25,185.5,185.0,190.5,194.0,198.5,197.0,197.0,199.0,199.0,199.0,199.0,200.0,202.5,202.75,201.2,200.92,294.0,355.0,360.0,356.0,357.0,357.88,365.5,363.0,368.5,367.5,367.5,366.0],\"yaxis\":\"y\",\"type\":\"scatter\"}],                        {\"template\":{\"data\":{\"histogram2dcontour\":[{\"type\":\"histogram2dcontour\",\"colorbar\":{\"outlinewidth\":0,\"ticks\":\"\"},\"colorscale\":[[0.0,\"#0d0887\"],[0.1111111111111111,\"#46039f\"],[0.2222222222222222,\"#7201a8\"],[0.3333333333333333,\"#9c179e\"],[0.4444444444444444,\"#bd3786\"],[0.5555555555555556,\"#d8576b\"],[0.6666666666666666,\"#ed7953\"],[0.7777777777777778,\"#fb9f3a\"],[0.8888888888888888,\"#fdca26\"],[1.0,\"#f0f921\"]]}],\"choropleth\":[{\"type\":\"choropleth\",\"colorbar\":{\"outlinewidth\":0,\"ticks\":\"\"}}],\"histogram2d\":[{\"type\":\"histogram2d\",\"colorbar\":{\"outlinewidth\":0,\"ticks\":\"\"},\"colorscale\":[[0.0,\"#0d0887\"],[0.1111111111111111,\"#46039f\"],[0.2222222222222222,\"#7201a8\"],[0.3333333333333333,\"#9c179e\"],[0.4444444444444444,\"#bd3786\"],[0.5555555555555556,\"#d8576b\"],[0.6666666666666666,\"#ed7953\"],[0.7777777777777778,\"#fb9f3a\"],[0.8888888888888888,\"#fdca26\"],[1.0,\"#f0f921\"]]}],\"heatmap\":[{\"type\":\"heatmap\",\"colorbar\":{\"outlinewidth\":0,\"ticks\":\"\"},\"colorscale\":[[0.0,\"#0d0887\"],[0.1111111111111111,\"#46039f\"],[0.2222222222222222,\"#7201a8\"],[0.3333333333333333,\"#9c179e\"],[0.4444444444444444,\"#bd3786\"],[0.5555555555555556,\"#d8576b\"],[0.6666666666666666,\"#ed7953\"],[0.7777777777777778,\"#fb9f3a\"],[0.8888888888888888,\"#fdca26\"],[1.0,\"#f0f921\"]]}],\"heatmapgl\":[{\"type\":\"heatmapgl\",\"colorbar\":{\"outlinewidth\":0,\"ticks\":\"\"},\"colorscale\":[[0.0,\"#0d0887\"],[0.1111111111111111,\"#46039f\"],[0.2222222222222222,\"#7201a8\"],[0.3333333333333333,\"#9c179e\"],[0.4444444444444444,\"#bd3786\"],[0.5555555555555556,\"#d8576b\"],[0.6666666666666666,\"#ed7953\"],[0.7777777777777778,\"#fb9f3a\"],[0.8888888888888888,\"#fdca26\"],[1.0,\"#f0f921\"]]}],\"contourcarpet\":[{\"type\":\"contourcarpet\",\"colorbar\":{\"outlinewidth\":0,\"ticks\":\"\"}}],\"contour\":[{\"type\":\"contour\",\"colorbar\":{\"outlinewidth\":0,\"ticks\":\"\"},\"colorscale\":[[0.0,\"#0d0887\"],[0.1111111111111111,\"#46039f\"],[0.2222222222222222,\"#7201a8\"],[0.3333333333333333,\"#9c179e\"],[0.4444444444444444,\"#bd3786\"],[0.5555555555555556,\"#d8576b\"],[0.6666666666666666,\"#ed7953\"],[0.7777777777777778,\"#fb9f3a\"],[0.8888888888888888,\"#fdca26\"],[1.0,\"#f0f921\"]]}],\"surface\":[{\"type\":\"surface\",\"colorbar\":{\"outlinewidth\":0,\"ticks\":\"\"},\"colorscale\":[[0.0,\"#0d0887\"],[0.1111111111111111,\"#46039f\"],[0.2222222222222222,\"#7201a8\"],[0.3333333333333333,\"#9c179e\"],[0.4444444444444444,\"#bd3786\"],[0.5555555555555556,\"#d8576b\"],[0.6666666666666666,\"#ed7953\"],[0.7777777777777778,\"#fb9f3a\"],[0.8888888888888888,\"#fdca26\"],[1.0,\"#f0f921\"]]}],\"mesh3d\":[{\"type\":\"mesh3d\",\"colorbar\":{\"outlinewidth\":0,\"ticks\":\"\"}}],\"scatter\":[{\"fillpattern\":{\"fillmode\":\"overlay\",\"size\":10,\"solidity\":0.2},\"type\":\"scatter\"}],\"parcoords\":[{\"type\":\"parcoords\",\"line\":{\"colorbar\":{\"outlinewidth\":0,\"ticks\":\"\"}}}],\"scatterpolargl\":[{\"type\":\"scatterpolargl\",\"marker\":{\"colorbar\":{\"outlinewidth\":0,\"ticks\":\"\"}}}],\"bar\":[{\"error_x\":{\"color\":\"#2a3f5f\"},\"error_y\":{\"color\":\"#2a3f5f\"},\"marker\":{\"line\":{\"color\":\"#E5ECF6\",\"width\":0.5},\"pattern\":{\"fillmode\":\"overlay\",\"size\":10,\"solidity\":0.2}},\"type\":\"bar\"}],\"scattergeo\":[{\"type\":\"scattergeo\",\"marker\":{\"colorbar\":{\"outlinewidth\":0,\"ticks\":\"\"}}}],\"scatterpolar\":[{\"type\":\"scatterpolar\",\"marker\":{\"colorbar\":{\"outlinewidth\":0,\"ticks\":\"\"}}}],\"histogram\":[{\"marker\":{\"pattern\":{\"fillmode\":\"overlay\",\"size\":10,\"solidity\":0.2}},\"type\":\"histogram\"}],\"scattergl\":[{\"type\":\"scattergl\",\"marker\":{\"colorbar\":{\"outlinewidth\":0,\"ticks\":\"\"}}}],\"scatter3d\":[{\"type\":\"scatter3d\",\"line\":{\"colorbar\":{\"outlinewidth\":0,\"ticks\":\"\"}},\"marker\":{\"colorbar\":{\"outlinewidth\":0,\"ticks\":\"\"}}}],\"scattermapbox\":[{\"type\":\"scattermapbox\",\"marker\":{\"colorbar\":{\"outlinewidth\":0,\"ticks\":\"\"}}}],\"scatterternary\":[{\"type\":\"scatterternary\",\"marker\":{\"colorbar\":{\"outlinewidth\":0,\"ticks\":\"\"}}}],\"scattercarpet\":[{\"type\":\"scattercarpet\",\"marker\":{\"colorbar\":{\"outlinewidth\":0,\"ticks\":\"\"}}}],\"carpet\":[{\"aaxis\":{\"endlinecolor\":\"#2a3f5f\",\"gridcolor\":\"white\",\"linecolor\":\"white\",\"minorgridcolor\":\"white\",\"startlinecolor\":\"#2a3f5f\"},\"baxis\":{\"endlinecolor\":\"#2a3f5f\",\"gridcolor\":\"white\",\"linecolor\":\"white\",\"minorgridcolor\":\"white\",\"startlinecolor\":\"#2a3f5f\"},\"type\":\"carpet\"}],\"table\":[{\"cells\":{\"fill\":{\"color\":\"#EBF0F8\"},\"line\":{\"color\":\"white\"}},\"header\":{\"fill\":{\"color\":\"#C8D4E3\"},\"line\":{\"color\":\"white\"}},\"type\":\"table\"}],\"barpolar\":[{\"marker\":{\"line\":{\"color\":\"#E5ECF6\",\"width\":0.5},\"pattern\":{\"fillmode\":\"overlay\",\"size\":10,\"solidity\":0.2}},\"type\":\"barpolar\"}],\"pie\":[{\"automargin\":true,\"type\":\"pie\"}]},\"layout\":{\"autotypenumbers\":\"strict\",\"colorway\":[\"#636efa\",\"#EF553B\",\"#00cc96\",\"#ab63fa\",\"#FFA15A\",\"#19d3f3\",\"#FF6692\",\"#B6E880\",\"#FF97FF\",\"#FECB52\"],\"font\":{\"color\":\"#2a3f5f\"},\"hovermode\":\"closest\",\"hoverlabel\":{\"align\":\"left\"},\"paper_bgcolor\":\"white\",\"plot_bgcolor\":\"#E5ECF6\",\"polar\":{\"bgcolor\":\"#E5ECF6\",\"angularaxis\":{\"gridcolor\":\"white\",\"linecolor\":\"white\",\"ticks\":\"\"},\"radialaxis\":{\"gridcolor\":\"white\",\"linecolor\":\"white\",\"ticks\":\"\"}},\"ternary\":{\"bgcolor\":\"#E5ECF6\",\"aaxis\":{\"gridcolor\":\"white\",\"linecolor\":\"white\",\"ticks\":\"\"},\"baxis\":{\"gridcolor\":\"white\",\"linecolor\":\"white\",\"ticks\":\"\"},\"caxis\":{\"gridcolor\":\"white\",\"linecolor\":\"white\",\"ticks\":\"\"}},\"coloraxis\":{\"colorbar\":{\"outlinewidth\":0,\"ticks\":\"\"}},\"colorscale\":{\"sequential\":[[0.0,\"#0d0887\"],[0.1111111111111111,\"#46039f\"],[0.2222222222222222,\"#7201a8\"],[0.3333333333333333,\"#9c179e\"],[0.4444444444444444,\"#bd3786\"],[0.5555555555555556,\"#d8576b\"],[0.6666666666666666,\"#ed7953\"],[0.7777777777777778,\"#fb9f3a\"],[0.8888888888888888,\"#fdca26\"],[1.0,\"#f0f921\"]],\"sequentialminus\":[[0.0,\"#0d0887\"],[0.1111111111111111,\"#46039f\"],[0.2222222222222222,\"#7201a8\"],[0.3333333333333333,\"#9c179e\"],[0.4444444444444444,\"#bd3786\"],[0.5555555555555556,\"#d8576b\"],[0.6666666666666666,\"#ed7953\"],[0.7777777777777778,\"#fb9f3a\"],[0.8888888888888888,\"#fdca26\"],[1.0,\"#f0f921\"]],\"diverging\":[[0,\"#8e0152\"],[0.1,\"#c51b7d\"],[0.2,\"#de77ae\"],[0.3,\"#f1b6da\"],[0.4,\"#fde0ef\"],[0.5,\"#f7f7f7\"],[0.6,\"#e6f5d0\"],[0.7,\"#b8e186\"],[0.8,\"#7fbc41\"],[0.9,\"#4d9221\"],[1,\"#276419\"]]},\"xaxis\":{\"gridcolor\":\"white\",\"linecolor\":\"white\",\"ticks\":\"\",\"title\":{\"standoff\":15},\"zerolinecolor\":\"white\",\"automargin\":true,\"zerolinewidth\":2},\"yaxis\":{\"gridcolor\":\"white\",\"linecolor\":\"white\",\"ticks\":\"\",\"title\":{\"standoff\":15},\"zerolinecolor\":\"white\",\"automargin\":true,\"zerolinewidth\":2},\"scene\":{\"xaxis\":{\"backgroundcolor\":\"#E5ECF6\",\"gridcolor\":\"white\",\"linecolor\":\"white\",\"showbackground\":true,\"ticks\":\"\",\"zerolinecolor\":\"white\",\"gridwidth\":2},\"yaxis\":{\"backgroundcolor\":\"#E5ECF6\",\"gridcolor\":\"white\",\"linecolor\":\"white\",\"showbackground\":true,\"ticks\":\"\",\"zerolinecolor\":\"white\",\"gridwidth\":2},\"zaxis\":{\"backgroundcolor\":\"#E5ECF6\",\"gridcolor\":\"white\",\"linecolor\":\"white\",\"showbackground\":true,\"ticks\":\"\",\"zerolinecolor\":\"white\",\"gridwidth\":2}},\"shapedefaults\":{\"line\":{\"color\":\"#2a3f5f\"}},\"annotationdefaults\":{\"arrowcolor\":\"#2a3f5f\",\"arrowhead\":0,\"arrowwidth\":1},\"geo\":{\"bgcolor\":\"white\",\"landcolor\":\"#E5ECF6\",\"subunitcolor\":\"white\",\"showland\":true,\"showlakes\":true,\"lakecolor\":\"white\"},\"title\":{\"x\":0.05},\"mapbox\":{\"style\":\"light\"}}},\"xaxis\":{\"anchor\":\"y\",\"domain\":[0.0,1.0],\"title\":{\"text\":\"Date\"}},\"yaxis\":{\"anchor\":\"x\",\"domain\":[0.0,1.0],\"title\":{\"text\":\"Exchange_Rate\"}},\"legend\":{\"tracegroupgap\":0},\"title\":{\"text\":\"Exchange Rate (USD to LKR)\"}},                        {\"responsive\": true}                    ).then(function(){\n                            \nvar gd = document.getElementById('aaccc0ca-4531-4c04-a784-ad73776ac5c5');\nvar x = new MutationObserver(function (mutations, observer) {{\n        var display = window.getComputedStyle(gd).display;\n        if (!display || display === 'none') {{\n            console.log([gd, 'removed!']);\n            Plotly.purge(gd);\n            observer.disconnect();\n        }}\n}});\n\n// Listen for the removal of the full notebook cells\nvar notebookContainer = gd.closest('#notebook-container');\nif (notebookContainer) {{\n    x.observe(notebookContainer, {childList: true});\n}}\n\n// Listen for the clearing of the current output cell\nvar outputEl = gd.closest('.output');\nif (outputEl) {{\n    x.observe(outputEl, {childList: true});\n}}\n\n                        })                };                });            </script>        </div>"
     },
     "metadata": {},
     "output_type": "display_data"
    }
   ],
   "source": [
    "fig = px.line(exchange_rate, x=exchange_rate.index, y='Exchange_Rate', title='Exchange Rate (USD to LKR)')\n",
    "fig.show()"
   ],
   "metadata": {
    "collapsed": false
   }
  },
  {
   "cell_type": "code",
   "execution_count": 244,
   "outputs": [
    {
     "data": {
      "application/vnd.plotly.v1+json": {
       "data": [
        {
         "hovertemplate": "Date=%{x}<br>Fuel_Price=%{y}<extra></extra>",
         "legendgroup": "",
         "line": {
          "color": "#636efa",
          "dash": "solid"
         },
         "marker": {
          "symbol": "circle"
         },
         "mode": "lines",
         "name": "",
         "orientation": "v",
         "showlegend": false,
         "x": [
          "1990-03-01T00:00:00",
          "1990-04-01T00:00:00",
          "1990-05-01T00:00:00",
          "1990-06-01T00:00:00",
          "1990-07-01T00:00:00",
          "1990-08-01T00:00:00",
          "1990-09-01T00:00:00",
          "1990-10-01T00:00:00",
          "1990-11-01T00:00:00",
          "1990-12-01T00:00:00",
          "1991-01-01T00:00:00",
          "1991-02-01T00:00:00",
          "1991-03-01T00:00:00",
          "1991-04-01T00:00:00",
          "1991-05-01T00:00:00",
          "1991-06-01T00:00:00",
          "1991-07-01T00:00:00",
          "1991-08-01T00:00:00",
          "1991-09-01T00:00:00",
          "1991-10-01T00:00:00",
          "1991-11-01T00:00:00",
          "1991-12-01T00:00:00",
          "1992-01-01T00:00:00",
          "1992-02-01T00:00:00",
          "1992-03-01T00:00:00",
          "1992-04-01T00:00:00",
          "1992-05-01T00:00:00",
          "1992-06-01T00:00:00",
          "1992-07-01T00:00:00",
          "1992-08-01T00:00:00",
          "1992-09-01T00:00:00",
          "1992-10-01T00:00:00",
          "1992-11-01T00:00:00",
          "1992-12-01T00:00:00",
          "1993-01-01T00:00:00",
          "1993-02-01T00:00:00",
          "1993-03-01T00:00:00",
          "1993-04-01T00:00:00",
          "1993-05-01T00:00:00",
          "1993-06-01T00:00:00",
          "1993-07-01T00:00:00",
          "1993-08-01T00:00:00",
          "1993-09-01T00:00:00",
          "1993-10-01T00:00:00",
          "1993-11-01T00:00:00",
          "1993-12-01T00:00:00",
          "1994-01-01T00:00:00",
          "1994-02-01T00:00:00",
          "1994-03-01T00:00:00",
          "1994-04-01T00:00:00",
          "1994-05-01T00:00:00",
          "1994-06-01T00:00:00",
          "1994-07-01T00:00:00",
          "1994-08-01T00:00:00",
          "1994-09-01T00:00:00",
          "1994-10-01T00:00:00",
          "1994-11-01T00:00:00",
          "1994-12-01T00:00:00",
          "1995-01-01T00:00:00",
          "1995-02-01T00:00:00",
          "1995-03-01T00:00:00",
          "1995-04-01T00:00:00",
          "1995-05-01T00:00:00",
          "1995-06-01T00:00:00",
          "1995-07-01T00:00:00",
          "1995-08-01T00:00:00",
          "1995-09-01T00:00:00",
          "1995-10-01T00:00:00",
          "1995-11-01T00:00:00",
          "1995-12-01T00:00:00",
          "1996-01-01T00:00:00",
          "1996-02-01T00:00:00",
          "1996-03-01T00:00:00",
          "1996-04-01T00:00:00",
          "1996-05-01T00:00:00",
          "1996-06-01T00:00:00",
          "1996-07-01T00:00:00",
          "1996-08-01T00:00:00",
          "1996-09-01T00:00:00",
          "1996-10-01T00:00:00",
          "1996-11-01T00:00:00",
          "1996-12-01T00:00:00",
          "1997-01-01T00:00:00",
          "1997-02-01T00:00:00",
          "1997-03-01T00:00:00",
          "1997-04-01T00:00:00",
          "1997-05-01T00:00:00",
          "1997-06-01T00:00:00",
          "1997-07-01T00:00:00",
          "1997-08-01T00:00:00",
          "1997-09-01T00:00:00",
          "1997-10-01T00:00:00",
          "1997-11-01T00:00:00",
          "1997-12-01T00:00:00",
          "1998-01-01T00:00:00",
          "1998-02-01T00:00:00",
          "1998-03-01T00:00:00",
          "1998-04-01T00:00:00",
          "1998-05-01T00:00:00",
          "1998-06-01T00:00:00",
          "1998-07-01T00:00:00",
          "1998-08-01T00:00:00",
          "1998-09-01T00:00:00",
          "1998-10-01T00:00:00",
          "1998-11-01T00:00:00",
          "1998-12-01T00:00:00",
          "1999-01-01T00:00:00",
          "1999-02-01T00:00:00",
          "1999-03-01T00:00:00",
          "1999-04-01T00:00:00",
          "1999-05-01T00:00:00",
          "1999-06-01T00:00:00",
          "1999-07-01T00:00:00",
          "1999-08-01T00:00:00",
          "1999-09-01T00:00:00",
          "1999-10-01T00:00:00",
          "1999-11-01T00:00:00",
          "1999-12-01T00:00:00",
          "2000-01-01T00:00:00",
          "2000-02-01T00:00:00",
          "2000-03-01T00:00:00",
          "2000-04-01T00:00:00",
          "2000-05-01T00:00:00",
          "2000-06-01T00:00:00",
          "2000-07-01T00:00:00",
          "2000-08-01T00:00:00",
          "2000-09-01T00:00:00",
          "2000-10-01T00:00:00",
          "2000-11-01T00:00:00",
          "2000-12-01T00:00:00",
          "2001-01-01T00:00:00",
          "2001-02-01T00:00:00",
          "2001-03-01T00:00:00",
          "2001-04-01T00:00:00",
          "2001-05-01T00:00:00",
          "2001-06-01T00:00:00",
          "2001-07-01T00:00:00",
          "2001-08-01T00:00:00",
          "2001-09-01T00:00:00",
          "2001-10-01T00:00:00",
          "2001-11-01T00:00:00",
          "2001-12-01T00:00:00",
          "2002-01-01T00:00:00",
          "2002-02-01T00:00:00",
          "2002-03-01T00:00:00",
          "2002-04-01T00:00:00",
          "2002-05-01T00:00:00",
          "2002-06-01T00:00:00",
          "2002-07-01T00:00:00",
          "2002-08-01T00:00:00",
          "2002-09-01T00:00:00",
          "2002-10-01T00:00:00",
          "2002-11-01T00:00:00",
          "2002-12-01T00:00:00",
          "2003-01-01T00:00:00",
          "2003-02-01T00:00:00",
          "2003-03-01T00:00:00",
          "2003-04-01T00:00:00",
          "2003-05-01T00:00:00",
          "2003-06-01T00:00:00",
          "2003-07-01T00:00:00",
          "2003-08-01T00:00:00",
          "2003-09-01T00:00:00",
          "2003-10-01T00:00:00",
          "2003-11-01T00:00:00",
          "2003-12-01T00:00:00",
          "2004-01-01T00:00:00",
          "2004-02-01T00:00:00",
          "2004-03-01T00:00:00",
          "2004-04-01T00:00:00",
          "2004-05-01T00:00:00",
          "2004-06-01T00:00:00",
          "2004-07-01T00:00:00",
          "2004-08-01T00:00:00",
          "2004-09-01T00:00:00",
          "2004-10-01T00:00:00",
          "2004-11-01T00:00:00",
          "2004-12-01T00:00:00",
          "2005-01-01T00:00:00",
          "2005-02-01T00:00:00",
          "2005-03-01T00:00:00",
          "2005-04-01T00:00:00",
          "2005-05-01T00:00:00",
          "2005-06-01T00:00:00",
          "2005-07-01T00:00:00",
          "2005-08-01T00:00:00",
          "2005-09-01T00:00:00",
          "2005-10-01T00:00:00",
          "2005-11-01T00:00:00",
          "2005-12-01T00:00:00",
          "2006-01-01T00:00:00",
          "2006-02-01T00:00:00",
          "2006-03-01T00:00:00",
          "2006-04-01T00:00:00",
          "2006-05-01T00:00:00",
          "2006-06-01T00:00:00",
          "2006-07-01T00:00:00",
          "2006-08-01T00:00:00",
          "2006-09-01T00:00:00",
          "2006-10-01T00:00:00",
          "2006-11-01T00:00:00",
          "2006-12-01T00:00:00",
          "2007-01-01T00:00:00",
          "2007-02-01T00:00:00",
          "2007-03-01T00:00:00",
          "2007-04-01T00:00:00",
          "2007-05-01T00:00:00",
          "2007-06-01T00:00:00",
          "2007-07-01T00:00:00",
          "2007-08-01T00:00:00",
          "2007-09-01T00:00:00",
          "2007-10-01T00:00:00",
          "2007-11-01T00:00:00",
          "2007-12-01T00:00:00",
          "2008-01-01T00:00:00",
          "2008-02-01T00:00:00",
          "2008-03-01T00:00:00",
          "2008-04-01T00:00:00",
          "2008-05-01T00:00:00",
          "2008-06-01T00:00:00",
          "2008-07-01T00:00:00",
          "2008-08-01T00:00:00",
          "2008-09-01T00:00:00",
          "2008-10-01T00:00:00",
          "2008-11-01T00:00:00",
          "2008-12-01T00:00:00",
          "2009-01-01T00:00:00",
          "2009-02-01T00:00:00",
          "2009-03-01T00:00:00",
          "2009-04-01T00:00:00",
          "2009-05-01T00:00:00",
          "2009-06-01T00:00:00",
          "2009-07-01T00:00:00",
          "2009-08-01T00:00:00",
          "2009-09-01T00:00:00",
          "2009-10-01T00:00:00",
          "2009-11-01T00:00:00",
          "2009-12-01T00:00:00",
          "2010-01-01T00:00:00",
          "2010-02-01T00:00:00",
          "2010-03-01T00:00:00",
          "2010-04-01T00:00:00",
          "2010-05-01T00:00:00",
          "2010-06-01T00:00:00",
          "2010-07-01T00:00:00",
          "2010-08-01T00:00:00",
          "2010-09-01T00:00:00",
          "2010-10-01T00:00:00",
          "2010-11-01T00:00:00",
          "2010-12-01T00:00:00",
          "2011-01-01T00:00:00",
          "2011-02-01T00:00:00",
          "2011-03-01T00:00:00",
          "2011-04-01T00:00:00",
          "2011-05-01T00:00:00",
          "2011-06-01T00:00:00",
          "2011-07-01T00:00:00",
          "2011-08-01T00:00:00",
          "2011-09-01T00:00:00",
          "2011-10-01T00:00:00",
          "2011-11-01T00:00:00",
          "2011-12-01T00:00:00",
          "2012-01-01T00:00:00",
          "2012-02-01T00:00:00",
          "2012-03-01T00:00:00",
          "2012-04-01T00:00:00",
          "2012-05-01T00:00:00",
          "2012-06-01T00:00:00",
          "2012-07-01T00:00:00",
          "2012-08-01T00:00:00",
          "2012-09-01T00:00:00",
          "2012-10-01T00:00:00",
          "2012-11-01T00:00:00",
          "2012-12-01T00:00:00",
          "2013-01-01T00:00:00",
          "2013-02-01T00:00:00",
          "2013-03-01T00:00:00",
          "2013-04-01T00:00:00",
          "2013-05-01T00:00:00",
          "2013-06-01T00:00:00",
          "2013-07-01T00:00:00",
          "2013-08-01T00:00:00",
          "2013-09-01T00:00:00",
          "2013-10-01T00:00:00",
          "2013-11-01T00:00:00",
          "2013-12-01T00:00:00",
          "2014-01-01T00:00:00",
          "2014-02-01T00:00:00",
          "2014-03-01T00:00:00",
          "2014-04-01T00:00:00",
          "2014-05-01T00:00:00",
          "2014-06-01T00:00:00",
          "2014-07-01T00:00:00",
          "2014-08-01T00:00:00",
          "2014-09-01T00:00:00",
          "2014-10-01T00:00:00",
          "2014-11-01T00:00:00",
          "2014-12-01T00:00:00",
          "2015-01-01T00:00:00",
          "2015-02-01T00:00:00",
          "2015-03-01T00:00:00",
          "2015-04-01T00:00:00",
          "2015-05-01T00:00:00",
          "2015-06-01T00:00:00",
          "2015-07-01T00:00:00",
          "2015-08-01T00:00:00",
          "2015-09-01T00:00:00",
          "2015-10-01T00:00:00",
          "2015-11-01T00:00:00",
          "2015-12-01T00:00:00",
          "2016-01-01T00:00:00",
          "2016-02-01T00:00:00",
          "2016-03-01T00:00:00",
          "2016-04-01T00:00:00",
          "2016-05-01T00:00:00",
          "2016-06-01T00:00:00",
          "2016-07-01T00:00:00",
          "2016-08-01T00:00:00",
          "2016-09-01T00:00:00",
          "2016-10-01T00:00:00",
          "2016-11-01T00:00:00",
          "2016-12-01T00:00:00",
          "2017-01-01T00:00:00",
          "2017-02-01T00:00:00",
          "2017-03-01T00:00:00",
          "2017-04-01T00:00:00",
          "2017-05-01T00:00:00",
          "2017-06-01T00:00:00",
          "2017-07-01T00:00:00",
          "2017-08-01T00:00:00",
          "2017-09-01T00:00:00",
          "2017-10-01T00:00:00",
          "2017-11-01T00:00:00",
          "2017-12-01T00:00:00",
          "2018-01-01T00:00:00",
          "2018-02-01T00:00:00",
          "2018-03-01T00:00:00",
          "2018-04-01T00:00:00",
          "2018-05-01T00:00:00",
          "2018-06-01T00:00:00",
          "2018-07-01T00:00:00",
          "2018-08-01T00:00:00",
          "2018-09-01T00:00:00",
          "2018-10-01T00:00:00",
          "2018-11-01T00:00:00",
          "2018-12-01T00:00:00",
          "2019-01-01T00:00:00",
          "2019-02-01T00:00:00",
          "2019-03-01T00:00:00",
          "2019-04-01T00:00:00",
          "2019-05-01T00:00:00",
          "2019-06-01T00:00:00",
          "2019-07-01T00:00:00",
          "2019-08-01T00:00:00",
          "2019-09-01T00:00:00",
          "2019-10-01T00:00:00",
          "2019-11-01T00:00:00",
          "2019-12-01T00:00:00",
          "2020-01-01T00:00:00",
          "2020-02-01T00:00:00",
          "2020-03-01T00:00:00",
          "2020-04-01T00:00:00",
          "2020-05-01T00:00:00",
          "2020-06-01T00:00:00",
          "2020-07-01T00:00:00",
          "2020-08-01T00:00:00",
          "2020-09-01T00:00:00",
          "2020-10-01T00:00:00",
          "2020-11-01T00:00:00",
          "2020-12-01T00:00:00",
          "2021-01-01T00:00:00",
          "2021-02-01T00:00:00",
          "2021-03-01T00:00:00",
          "2021-04-01T00:00:00",
          "2021-05-01T00:00:00",
          "2021-06-01T00:00:00",
          "2021-07-01T00:00:00",
          "2021-08-01T00:00:00",
          "2021-09-01T00:00:00",
          "2021-10-01T00:00:00",
          "2021-11-01T00:00:00",
          "2021-12-01T00:00:00",
          "2022-01-01T00:00:00",
          "2022-02-01T00:00:00",
          "2022-03-01T00:00:00",
          "2022-04-01T00:00:00",
          "2022-05-01T00:00:00",
          "2022-06-01T00:00:00",
          "2022-07-01T00:00:00",
          "2022-08-01T00:00:00",
          "2022-09-01T00:00:00",
          "2022-10-01T00:00:00",
          "2022-11-01T00:00:00",
          "2022-12-01T00:00:00",
          "2023-01-01T00:00:00",
          "2023-02-01T00:00:00"
         ],
         "xaxis": "x",
         "y": [
          9.6,
          9.6,
          9.6,
          9.6,
          9.6,
          11.0,
          11.0,
          11.0,
          13.0,
          11.0,
          11.0,
          11.0,
          11.0,
          11.0,
          11.0,
          11.0,
          11.0,
          11.0,
          11.0,
          11.0,
          11.0,
          11.0,
          11.0,
          11.0,
          11.0,
          11.0,
          11.5,
          11.5,
          11.55,
          11.55,
          11.55,
          11.6,
          11.6,
          11.65,
          11.65,
          11.65,
          11.65,
          11.65,
          11.65,
          11.7,
          11.8,
          11.9,
          11.9,
          12.0,
          12.0,
          12.2,
          12.2,
          12.3,
          12.4,
          12.4,
          12.4,
          11.4,
          11.4,
          11.4,
          11.4,
          11.4,
          11.4,
          11.4,
          11.4,
          12.4,
          12.4,
          12.4,
          12.4,
          12.4,
          12.4,
          12.4,
          12.4,
          12.4,
          12.4,
          12.4,
          12.4,
          12.4,
          12.4,
          12.4,
          12.4,
          12.4,
          12.4,
          12.4,
          13.2,
          13.2,
          13.2,
          13.2,
          13.2,
          13.2,
          13.2,
          13.2,
          13.2,
          13.2,
          13.2,
          13.2,
          13.2,
          13.2,
          13.2,
          13.2,
          13.2,
          13.2,
          13.2,
          13.2,
          13.2,
          13.2,
          13.2,
          13.2,
          13.2,
          13.2,
          13.2,
          13.2,
          13.2,
          13.2,
          13.2,
          13.2,
          13.2,
          13.2,
          13.2,
          13.2,
          13.2,
          13.2,
          13.2,
          13.2,
          13.2,
          16.2,
          16.2,
          16.2,
          16.2,
          19.5,
          19.5,
          19.5,
          19.5,
          19.5,
          21.5,
          24.5,
          24.5,
          24.5,
          24.5,
          27.5,
          27.5,
          27.5,
          27.5,
          27.5,
          27.5,
          27.5,
          27.5,
          16.5,
          16.5,
          26.0,
          26.0,
          28.0,
          30.0,
          30.5,
          27.5,
          28.0,
          28.5,
          30.0,
          30.0,
          30.0,
          30.0,
          30.0,
          30.0,
          30.0,
          30.0,
          30.0,
          30.0,
          30.0,
          31.5,
          30.5,
          31.0,
          32.0,
          32.0,
          32.0,
          32.0,
          32.0,
          32.0,
          32.0,
          32.0,
          36.0,
          44.0,
          44.0,
          44.0,
          44.0,
          44.0,
          44.0,
          44.0,
          44.0,
          46.0,
          50.0,
          50.0,
          50.0,
          50.0,
          50.0,
          50.0,
          50.0,
          50.0,
          50.0,
          50.0,
          58.0,
          58.0,
          61.0,
          61.0,
          64.0,
          64.0,
          60.0,
          60.0,
          60.0,
          60.0,
          60.0,
          60.0,
          65.0,
          67.0,
          71.0,
          75.0,
          75.0,
          75.0,
          75.0,
          75.0,
          75.0,
          80.0,
          80.0,
          80.0,
          80.0,
          110.0,
          110.0,
          110.0,
          110.0,
          110.0,
          110.0,
          80.0,
          70.0,
          70.0,
          70.0,
          70.0,
          70.0,
          70.0,
          70.0,
          73.0,
          73.0,
          73.0,
          73.0,
          73.0,
          73.0,
          73.0,
          73.0,
          73.0,
          73.0,
          73.0,
          73.0,
          73.0,
          73.0,
          73.0,
          73.0,
          73.0,
          73.0,
          73.0,
          73.0,
          73.0,
          76.0,
          76.0,
          76.0,
          76.0,
          76.0,
          76.0,
          84.0,
          84.0,
          84.0,
          84.0,
          115.0,
          115.0,
          115.0,
          115.0,
          115.0,
          115.0,
          115.0,
          115.0,
          115.0,
          115.0,
          115.0,
          115.0,
          121.0,
          121.0,
          121.0,
          121.0,
          121.0,
          121.0,
          121.0,
          121.0,
          121.0,
          121.0,
          121.0,
          121.0,
          121.0,
          121.0,
          121.0,
          121.0,
          121.0,
          121.0,
          121.0,
          118.0,
          118.0,
          118.0,
          111.0,
          95.0,
          95.0,
          95.0,
          95.0,
          95.0,
          95.0,
          95.0,
          95.0,
          95.0,
          95.0,
          95.0,
          95.0,
          95.0,
          95.0,
          95.0,
          95.0,
          95.0,
          95.0,
          95.0,
          95.0,
          95.0,
          95.0,
          95.0,
          95.0,
          95.0,
          95.0,
          95.0,
          95.0,
          95.0,
          95.0,
          95.0,
          95.0,
          95.0,
          95.0,
          95.0,
          95.0,
          95.0,
          95.0,
          95.0,
          95.0,
          109.0,
          109.0,
          118.0,
          118.0,
          123.0,
          123.0,
          111.0,
          101.0,
          99.0,
          103.0,
          104.0,
          104.0,
          104.0,
          104.0,
          104.0,
          104.0,
          104.0,
          104.0,
          104.0,
          104.0,
          104.0,
          104.0,
          104.0,
          104.0,
          104.0,
          104.0,
          104.0,
          104.0,
          104.0,
          104.0,
          104.0,
          104.0,
          104.0,
          104.0,
          104.0,
          104.0,
          104.0,
          111.0,
          111.0,
          111.0,
          111.0,
          111.0,
          111.0,
          121.0,
          121.0,
          121.0,
          176.0,
          289.0,
          400.0,
          460.0,
          440.0,
          430.0,
          430.0,
          430.0,
          430.0,
          420.0,
          405.0,
          405.0
         ],
         "yaxis": "y",
         "type": "scatter"
        }
       ],
       "layout": {
        "template": {
         "data": {
          "histogram2dcontour": [
           {
            "type": "histogram2dcontour",
            "colorbar": {
             "outlinewidth": 0,
             "ticks": ""
            },
            "colorscale": [
             [
              0.0,
              "#0d0887"
             ],
             [
              0.1111111111111111,
              "#46039f"
             ],
             [
              0.2222222222222222,
              "#7201a8"
             ],
             [
              0.3333333333333333,
              "#9c179e"
             ],
             [
              0.4444444444444444,
              "#bd3786"
             ],
             [
              0.5555555555555556,
              "#d8576b"
             ],
             [
              0.6666666666666666,
              "#ed7953"
             ],
             [
              0.7777777777777778,
              "#fb9f3a"
             ],
             [
              0.8888888888888888,
              "#fdca26"
             ],
             [
              1.0,
              "#f0f921"
             ]
            ]
           }
          ],
          "choropleth": [
           {
            "type": "choropleth",
            "colorbar": {
             "outlinewidth": 0,
             "ticks": ""
            }
           }
          ],
          "histogram2d": [
           {
            "type": "histogram2d",
            "colorbar": {
             "outlinewidth": 0,
             "ticks": ""
            },
            "colorscale": [
             [
              0.0,
              "#0d0887"
             ],
             [
              0.1111111111111111,
              "#46039f"
             ],
             [
              0.2222222222222222,
              "#7201a8"
             ],
             [
              0.3333333333333333,
              "#9c179e"
             ],
             [
              0.4444444444444444,
              "#bd3786"
             ],
             [
              0.5555555555555556,
              "#d8576b"
             ],
             [
              0.6666666666666666,
              "#ed7953"
             ],
             [
              0.7777777777777778,
              "#fb9f3a"
             ],
             [
              0.8888888888888888,
              "#fdca26"
             ],
             [
              1.0,
              "#f0f921"
             ]
            ]
           }
          ],
          "heatmap": [
           {
            "type": "heatmap",
            "colorbar": {
             "outlinewidth": 0,
             "ticks": ""
            },
            "colorscale": [
             [
              0.0,
              "#0d0887"
             ],
             [
              0.1111111111111111,
              "#46039f"
             ],
             [
              0.2222222222222222,
              "#7201a8"
             ],
             [
              0.3333333333333333,
              "#9c179e"
             ],
             [
              0.4444444444444444,
              "#bd3786"
             ],
             [
              0.5555555555555556,
              "#d8576b"
             ],
             [
              0.6666666666666666,
              "#ed7953"
             ],
             [
              0.7777777777777778,
              "#fb9f3a"
             ],
             [
              0.8888888888888888,
              "#fdca26"
             ],
             [
              1.0,
              "#f0f921"
             ]
            ]
           }
          ],
          "heatmapgl": [
           {
            "type": "heatmapgl",
            "colorbar": {
             "outlinewidth": 0,
             "ticks": ""
            },
            "colorscale": [
             [
              0.0,
              "#0d0887"
             ],
             [
              0.1111111111111111,
              "#46039f"
             ],
             [
              0.2222222222222222,
              "#7201a8"
             ],
             [
              0.3333333333333333,
              "#9c179e"
             ],
             [
              0.4444444444444444,
              "#bd3786"
             ],
             [
              0.5555555555555556,
              "#d8576b"
             ],
             [
              0.6666666666666666,
              "#ed7953"
             ],
             [
              0.7777777777777778,
              "#fb9f3a"
             ],
             [
              0.8888888888888888,
              "#fdca26"
             ],
             [
              1.0,
              "#f0f921"
             ]
            ]
           }
          ],
          "contourcarpet": [
           {
            "type": "contourcarpet",
            "colorbar": {
             "outlinewidth": 0,
             "ticks": ""
            }
           }
          ],
          "contour": [
           {
            "type": "contour",
            "colorbar": {
             "outlinewidth": 0,
             "ticks": ""
            },
            "colorscale": [
             [
              0.0,
              "#0d0887"
             ],
             [
              0.1111111111111111,
              "#46039f"
             ],
             [
              0.2222222222222222,
              "#7201a8"
             ],
             [
              0.3333333333333333,
              "#9c179e"
             ],
             [
              0.4444444444444444,
              "#bd3786"
             ],
             [
              0.5555555555555556,
              "#d8576b"
             ],
             [
              0.6666666666666666,
              "#ed7953"
             ],
             [
              0.7777777777777778,
              "#fb9f3a"
             ],
             [
              0.8888888888888888,
              "#fdca26"
             ],
             [
              1.0,
              "#f0f921"
             ]
            ]
           }
          ],
          "surface": [
           {
            "type": "surface",
            "colorbar": {
             "outlinewidth": 0,
             "ticks": ""
            },
            "colorscale": [
             [
              0.0,
              "#0d0887"
             ],
             [
              0.1111111111111111,
              "#46039f"
             ],
             [
              0.2222222222222222,
              "#7201a8"
             ],
             [
              0.3333333333333333,
              "#9c179e"
             ],
             [
              0.4444444444444444,
              "#bd3786"
             ],
             [
              0.5555555555555556,
              "#d8576b"
             ],
             [
              0.6666666666666666,
              "#ed7953"
             ],
             [
              0.7777777777777778,
              "#fb9f3a"
             ],
             [
              0.8888888888888888,
              "#fdca26"
             ],
             [
              1.0,
              "#f0f921"
             ]
            ]
           }
          ],
          "mesh3d": [
           {
            "type": "mesh3d",
            "colorbar": {
             "outlinewidth": 0,
             "ticks": ""
            }
           }
          ],
          "scatter": [
           {
            "fillpattern": {
             "fillmode": "overlay",
             "size": 10,
             "solidity": 0.2
            },
            "type": "scatter"
           }
          ],
          "parcoords": [
           {
            "type": "parcoords",
            "line": {
             "colorbar": {
              "outlinewidth": 0,
              "ticks": ""
             }
            }
           }
          ],
          "scatterpolargl": [
           {
            "type": "scatterpolargl",
            "marker": {
             "colorbar": {
              "outlinewidth": 0,
              "ticks": ""
             }
            }
           }
          ],
          "bar": [
           {
            "error_x": {
             "color": "#2a3f5f"
            },
            "error_y": {
             "color": "#2a3f5f"
            },
            "marker": {
             "line": {
              "color": "#E5ECF6",
              "width": 0.5
             },
             "pattern": {
              "fillmode": "overlay",
              "size": 10,
              "solidity": 0.2
             }
            },
            "type": "bar"
           }
          ],
          "scattergeo": [
           {
            "type": "scattergeo",
            "marker": {
             "colorbar": {
              "outlinewidth": 0,
              "ticks": ""
             }
            }
           }
          ],
          "scatterpolar": [
           {
            "type": "scatterpolar",
            "marker": {
             "colorbar": {
              "outlinewidth": 0,
              "ticks": ""
             }
            }
           }
          ],
          "histogram": [
           {
            "marker": {
             "pattern": {
              "fillmode": "overlay",
              "size": 10,
              "solidity": 0.2
             }
            },
            "type": "histogram"
           }
          ],
          "scattergl": [
           {
            "type": "scattergl",
            "marker": {
             "colorbar": {
              "outlinewidth": 0,
              "ticks": ""
             }
            }
           }
          ],
          "scatter3d": [
           {
            "type": "scatter3d",
            "line": {
             "colorbar": {
              "outlinewidth": 0,
              "ticks": ""
             }
            },
            "marker": {
             "colorbar": {
              "outlinewidth": 0,
              "ticks": ""
             }
            }
           }
          ],
          "scattermapbox": [
           {
            "type": "scattermapbox",
            "marker": {
             "colorbar": {
              "outlinewidth": 0,
              "ticks": ""
             }
            }
           }
          ],
          "scatterternary": [
           {
            "type": "scatterternary",
            "marker": {
             "colorbar": {
              "outlinewidth": 0,
              "ticks": ""
             }
            }
           }
          ],
          "scattercarpet": [
           {
            "type": "scattercarpet",
            "marker": {
             "colorbar": {
              "outlinewidth": 0,
              "ticks": ""
             }
            }
           }
          ],
          "carpet": [
           {
            "aaxis": {
             "endlinecolor": "#2a3f5f",
             "gridcolor": "white",
             "linecolor": "white",
             "minorgridcolor": "white",
             "startlinecolor": "#2a3f5f"
            },
            "baxis": {
             "endlinecolor": "#2a3f5f",
             "gridcolor": "white",
             "linecolor": "white",
             "minorgridcolor": "white",
             "startlinecolor": "#2a3f5f"
            },
            "type": "carpet"
           }
          ],
          "table": [
           {
            "cells": {
             "fill": {
              "color": "#EBF0F8"
             },
             "line": {
              "color": "white"
             }
            },
            "header": {
             "fill": {
              "color": "#C8D4E3"
             },
             "line": {
              "color": "white"
             }
            },
            "type": "table"
           }
          ],
          "barpolar": [
           {
            "marker": {
             "line": {
              "color": "#E5ECF6",
              "width": 0.5
             },
             "pattern": {
              "fillmode": "overlay",
              "size": 10,
              "solidity": 0.2
             }
            },
            "type": "barpolar"
           }
          ],
          "pie": [
           {
            "automargin": true,
            "type": "pie"
           }
          ]
         },
         "layout": {
          "autotypenumbers": "strict",
          "colorway": [
           "#636efa",
           "#EF553B",
           "#00cc96",
           "#ab63fa",
           "#FFA15A",
           "#19d3f3",
           "#FF6692",
           "#B6E880",
           "#FF97FF",
           "#FECB52"
          ],
          "font": {
           "color": "#2a3f5f"
          },
          "hovermode": "closest",
          "hoverlabel": {
           "align": "left"
          },
          "paper_bgcolor": "white",
          "plot_bgcolor": "#E5ECF6",
          "polar": {
           "bgcolor": "#E5ECF6",
           "angularaxis": {
            "gridcolor": "white",
            "linecolor": "white",
            "ticks": ""
           },
           "radialaxis": {
            "gridcolor": "white",
            "linecolor": "white",
            "ticks": ""
           }
          },
          "ternary": {
           "bgcolor": "#E5ECF6",
           "aaxis": {
            "gridcolor": "white",
            "linecolor": "white",
            "ticks": ""
           },
           "baxis": {
            "gridcolor": "white",
            "linecolor": "white",
            "ticks": ""
           },
           "caxis": {
            "gridcolor": "white",
            "linecolor": "white",
            "ticks": ""
           }
          },
          "coloraxis": {
           "colorbar": {
            "outlinewidth": 0,
            "ticks": ""
           }
          },
          "colorscale": {
           "sequential": [
            [
             0.0,
             "#0d0887"
            ],
            [
             0.1111111111111111,
             "#46039f"
            ],
            [
             0.2222222222222222,
             "#7201a8"
            ],
            [
             0.3333333333333333,
             "#9c179e"
            ],
            [
             0.4444444444444444,
             "#bd3786"
            ],
            [
             0.5555555555555556,
             "#d8576b"
            ],
            [
             0.6666666666666666,
             "#ed7953"
            ],
            [
             0.7777777777777778,
             "#fb9f3a"
            ],
            [
             0.8888888888888888,
             "#fdca26"
            ],
            [
             1.0,
             "#f0f921"
            ]
           ],
           "sequentialminus": [
            [
             0.0,
             "#0d0887"
            ],
            [
             0.1111111111111111,
             "#46039f"
            ],
            [
             0.2222222222222222,
             "#7201a8"
            ],
            [
             0.3333333333333333,
             "#9c179e"
            ],
            [
             0.4444444444444444,
             "#bd3786"
            ],
            [
             0.5555555555555556,
             "#d8576b"
            ],
            [
             0.6666666666666666,
             "#ed7953"
            ],
            [
             0.7777777777777778,
             "#fb9f3a"
            ],
            [
             0.8888888888888888,
             "#fdca26"
            ],
            [
             1.0,
             "#f0f921"
            ]
           ],
           "diverging": [
            [
             0,
             "#8e0152"
            ],
            [
             0.1,
             "#c51b7d"
            ],
            [
             0.2,
             "#de77ae"
            ],
            [
             0.3,
             "#f1b6da"
            ],
            [
             0.4,
             "#fde0ef"
            ],
            [
             0.5,
             "#f7f7f7"
            ],
            [
             0.6,
             "#e6f5d0"
            ],
            [
             0.7,
             "#b8e186"
            ],
            [
             0.8,
             "#7fbc41"
            ],
            [
             0.9,
             "#4d9221"
            ],
            [
             1,
             "#276419"
            ]
           ]
          },
          "xaxis": {
           "gridcolor": "white",
           "linecolor": "white",
           "ticks": "",
           "title": {
            "standoff": 15
           },
           "zerolinecolor": "white",
           "automargin": true,
           "zerolinewidth": 2
          },
          "yaxis": {
           "gridcolor": "white",
           "linecolor": "white",
           "ticks": "",
           "title": {
            "standoff": 15
           },
           "zerolinecolor": "white",
           "automargin": true,
           "zerolinewidth": 2
          },
          "scene": {
           "xaxis": {
            "backgroundcolor": "#E5ECF6",
            "gridcolor": "white",
            "linecolor": "white",
            "showbackground": true,
            "ticks": "",
            "zerolinecolor": "white",
            "gridwidth": 2
           },
           "yaxis": {
            "backgroundcolor": "#E5ECF6",
            "gridcolor": "white",
            "linecolor": "white",
            "showbackground": true,
            "ticks": "",
            "zerolinecolor": "white",
            "gridwidth": 2
           },
           "zaxis": {
            "backgroundcolor": "#E5ECF6",
            "gridcolor": "white",
            "linecolor": "white",
            "showbackground": true,
            "ticks": "",
            "zerolinecolor": "white",
            "gridwidth": 2
           }
          },
          "shapedefaults": {
           "line": {
            "color": "#2a3f5f"
           }
          },
          "annotationdefaults": {
           "arrowcolor": "#2a3f5f",
           "arrowhead": 0,
           "arrowwidth": 1
          },
          "geo": {
           "bgcolor": "white",
           "landcolor": "#E5ECF6",
           "subunitcolor": "white",
           "showland": true,
           "showlakes": true,
           "lakecolor": "white"
          },
          "title": {
           "x": 0.05
          },
          "mapbox": {
           "style": "light"
          }
         }
        },
        "xaxis": {
         "anchor": "y",
         "domain": [
          0.0,
          1.0
         ],
         "title": {
          "text": "Date"
         }
        },
        "yaxis": {
         "anchor": "x",
         "domain": [
          0.0,
          1.0
         ],
         "title": {
          "text": "Fuel_Price"
         }
        },
        "legend": {
         "tracegroupgap": 0
        },
        "title": {
         "text": "Fuel Prices (CEYPETCO)"
        }
       },
       "config": {
        "plotlyServerURL": "https://plot.ly"
       }
      },
      "text/html": "<div>                            <div id=\"dc7926e2-b4f8-4a1a-90a9-0f1a0c9ab126\" class=\"plotly-graph-div\" style=\"height:525px; width:100%;\"></div>            <script type=\"text/javascript\">                require([\"plotly\"], function(Plotly) {                    window.PLOTLYENV=window.PLOTLYENV || {};                                    if (document.getElementById(\"dc7926e2-b4f8-4a1a-90a9-0f1a0c9ab126\")) {                    Plotly.newPlot(                        \"dc7926e2-b4f8-4a1a-90a9-0f1a0c9ab126\",                        [{\"hovertemplate\":\"Date=%{x}<br>Fuel_Price=%{y}<extra></extra>\",\"legendgroup\":\"\",\"line\":{\"color\":\"#636efa\",\"dash\":\"solid\"},\"marker\":{\"symbol\":\"circle\"},\"mode\":\"lines\",\"name\":\"\",\"orientation\":\"v\",\"showlegend\":false,\"x\":[\"1990-03-01T00:00:00\",\"1990-04-01T00:00:00\",\"1990-05-01T00:00:00\",\"1990-06-01T00:00:00\",\"1990-07-01T00:00:00\",\"1990-08-01T00:00:00\",\"1990-09-01T00:00:00\",\"1990-10-01T00:00:00\",\"1990-11-01T00:00:00\",\"1990-12-01T00:00:00\",\"1991-01-01T00:00:00\",\"1991-02-01T00:00:00\",\"1991-03-01T00:00:00\",\"1991-04-01T00:00:00\",\"1991-05-01T00:00:00\",\"1991-06-01T00:00:00\",\"1991-07-01T00:00:00\",\"1991-08-01T00:00:00\",\"1991-09-01T00:00:00\",\"1991-10-01T00:00:00\",\"1991-11-01T00:00:00\",\"1991-12-01T00:00:00\",\"1992-01-01T00:00:00\",\"1992-02-01T00:00:00\",\"1992-03-01T00:00:00\",\"1992-04-01T00:00:00\",\"1992-05-01T00:00:00\",\"1992-06-01T00:00:00\",\"1992-07-01T00:00:00\",\"1992-08-01T00:00:00\",\"1992-09-01T00:00:00\",\"1992-10-01T00:00:00\",\"1992-11-01T00:00:00\",\"1992-12-01T00:00:00\",\"1993-01-01T00:00:00\",\"1993-02-01T00:00:00\",\"1993-03-01T00:00:00\",\"1993-04-01T00:00:00\",\"1993-05-01T00:00:00\",\"1993-06-01T00:00:00\",\"1993-07-01T00:00:00\",\"1993-08-01T00:00:00\",\"1993-09-01T00:00:00\",\"1993-10-01T00:00:00\",\"1993-11-01T00:00:00\",\"1993-12-01T00:00:00\",\"1994-01-01T00:00:00\",\"1994-02-01T00:00:00\",\"1994-03-01T00:00:00\",\"1994-04-01T00:00:00\",\"1994-05-01T00:00:00\",\"1994-06-01T00:00:00\",\"1994-07-01T00:00:00\",\"1994-08-01T00:00:00\",\"1994-09-01T00:00:00\",\"1994-10-01T00:00:00\",\"1994-11-01T00:00:00\",\"1994-12-01T00:00:00\",\"1995-01-01T00:00:00\",\"1995-02-01T00:00:00\",\"1995-03-01T00:00:00\",\"1995-04-01T00:00:00\",\"1995-05-01T00:00:00\",\"1995-06-01T00:00:00\",\"1995-07-01T00:00:00\",\"1995-08-01T00:00:00\",\"1995-09-01T00:00:00\",\"1995-10-01T00:00:00\",\"1995-11-01T00:00:00\",\"1995-12-01T00:00:00\",\"1996-01-01T00:00:00\",\"1996-02-01T00:00:00\",\"1996-03-01T00:00:00\",\"1996-04-01T00:00:00\",\"1996-05-01T00:00:00\",\"1996-06-01T00:00:00\",\"1996-07-01T00:00:00\",\"1996-08-01T00:00:00\",\"1996-09-01T00:00:00\",\"1996-10-01T00:00:00\",\"1996-11-01T00:00:00\",\"1996-12-01T00:00:00\",\"1997-01-01T00:00:00\",\"1997-02-01T00:00:00\",\"1997-03-01T00:00:00\",\"1997-04-01T00:00:00\",\"1997-05-01T00:00:00\",\"1997-06-01T00:00:00\",\"1997-07-01T00:00:00\",\"1997-08-01T00:00:00\",\"1997-09-01T00:00:00\",\"1997-10-01T00:00:00\",\"1997-11-01T00:00:00\",\"1997-12-01T00:00:00\",\"1998-01-01T00:00:00\",\"1998-02-01T00:00:00\",\"1998-03-01T00:00:00\",\"1998-04-01T00:00:00\",\"1998-05-01T00:00:00\",\"1998-06-01T00:00:00\",\"1998-07-01T00:00:00\",\"1998-08-01T00:00:00\",\"1998-09-01T00:00:00\",\"1998-10-01T00:00:00\",\"1998-11-01T00:00:00\",\"1998-12-01T00:00:00\",\"1999-01-01T00:00:00\",\"1999-02-01T00:00:00\",\"1999-03-01T00:00:00\",\"1999-04-01T00:00:00\",\"1999-05-01T00:00:00\",\"1999-06-01T00:00:00\",\"1999-07-01T00:00:00\",\"1999-08-01T00:00:00\",\"1999-09-01T00:00:00\",\"1999-10-01T00:00:00\",\"1999-11-01T00:00:00\",\"1999-12-01T00:00:00\",\"2000-01-01T00:00:00\",\"2000-02-01T00:00:00\",\"2000-03-01T00:00:00\",\"2000-04-01T00:00:00\",\"2000-05-01T00:00:00\",\"2000-06-01T00:00:00\",\"2000-07-01T00:00:00\",\"2000-08-01T00:00:00\",\"2000-09-01T00:00:00\",\"2000-10-01T00:00:00\",\"2000-11-01T00:00:00\",\"2000-12-01T00:00:00\",\"2001-01-01T00:00:00\",\"2001-02-01T00:00:00\",\"2001-03-01T00:00:00\",\"2001-04-01T00:00:00\",\"2001-05-01T00:00:00\",\"2001-06-01T00:00:00\",\"2001-07-01T00:00:00\",\"2001-08-01T00:00:00\",\"2001-09-01T00:00:00\",\"2001-10-01T00:00:00\",\"2001-11-01T00:00:00\",\"2001-12-01T00:00:00\",\"2002-01-01T00:00:00\",\"2002-02-01T00:00:00\",\"2002-03-01T00:00:00\",\"2002-04-01T00:00:00\",\"2002-05-01T00:00:00\",\"2002-06-01T00:00:00\",\"2002-07-01T00:00:00\",\"2002-08-01T00:00:00\",\"2002-09-01T00:00:00\",\"2002-10-01T00:00:00\",\"2002-11-01T00:00:00\",\"2002-12-01T00:00:00\",\"2003-01-01T00:00:00\",\"2003-02-01T00:00:00\",\"2003-03-01T00:00:00\",\"2003-04-01T00:00:00\",\"2003-05-01T00:00:00\",\"2003-06-01T00:00:00\",\"2003-07-01T00:00:00\",\"2003-08-01T00:00:00\",\"2003-09-01T00:00:00\",\"2003-10-01T00:00:00\",\"2003-11-01T00:00:00\",\"2003-12-01T00:00:00\",\"2004-01-01T00:00:00\",\"2004-02-01T00:00:00\",\"2004-03-01T00:00:00\",\"2004-04-01T00:00:00\",\"2004-05-01T00:00:00\",\"2004-06-01T00:00:00\",\"2004-07-01T00:00:00\",\"2004-08-01T00:00:00\",\"2004-09-01T00:00:00\",\"2004-10-01T00:00:00\",\"2004-11-01T00:00:00\",\"2004-12-01T00:00:00\",\"2005-01-01T00:00:00\",\"2005-02-01T00:00:00\",\"2005-03-01T00:00:00\",\"2005-04-01T00:00:00\",\"2005-05-01T00:00:00\",\"2005-06-01T00:00:00\",\"2005-07-01T00:00:00\",\"2005-08-01T00:00:00\",\"2005-09-01T00:00:00\",\"2005-10-01T00:00:00\",\"2005-11-01T00:00:00\",\"2005-12-01T00:00:00\",\"2006-01-01T00:00:00\",\"2006-02-01T00:00:00\",\"2006-03-01T00:00:00\",\"2006-04-01T00:00:00\",\"2006-05-01T00:00:00\",\"2006-06-01T00:00:00\",\"2006-07-01T00:00:00\",\"2006-08-01T00:00:00\",\"2006-09-01T00:00:00\",\"2006-10-01T00:00:00\",\"2006-11-01T00:00:00\",\"2006-12-01T00:00:00\",\"2007-01-01T00:00:00\",\"2007-02-01T00:00:00\",\"2007-03-01T00:00:00\",\"2007-04-01T00:00:00\",\"2007-05-01T00:00:00\",\"2007-06-01T00:00:00\",\"2007-07-01T00:00:00\",\"2007-08-01T00:00:00\",\"2007-09-01T00:00:00\",\"2007-10-01T00:00:00\",\"2007-11-01T00:00:00\",\"2007-12-01T00:00:00\",\"2008-01-01T00:00:00\",\"2008-02-01T00:00:00\",\"2008-03-01T00:00:00\",\"2008-04-01T00:00:00\",\"2008-05-01T00:00:00\",\"2008-06-01T00:00:00\",\"2008-07-01T00:00:00\",\"2008-08-01T00:00:00\",\"2008-09-01T00:00:00\",\"2008-10-01T00:00:00\",\"2008-11-01T00:00:00\",\"2008-12-01T00:00:00\",\"2009-01-01T00:00:00\",\"2009-02-01T00:00:00\",\"2009-03-01T00:00:00\",\"2009-04-01T00:00:00\",\"2009-05-01T00:00:00\",\"2009-06-01T00:00:00\",\"2009-07-01T00:00:00\",\"2009-08-01T00:00:00\",\"2009-09-01T00:00:00\",\"2009-10-01T00:00:00\",\"2009-11-01T00:00:00\",\"2009-12-01T00:00:00\",\"2010-01-01T00:00:00\",\"2010-02-01T00:00:00\",\"2010-03-01T00:00:00\",\"2010-04-01T00:00:00\",\"2010-05-01T00:00:00\",\"2010-06-01T00:00:00\",\"2010-07-01T00:00:00\",\"2010-08-01T00:00:00\",\"2010-09-01T00:00:00\",\"2010-10-01T00:00:00\",\"2010-11-01T00:00:00\",\"2010-12-01T00:00:00\",\"2011-01-01T00:00:00\",\"2011-02-01T00:00:00\",\"2011-03-01T00:00:00\",\"2011-04-01T00:00:00\",\"2011-05-01T00:00:00\",\"2011-06-01T00:00:00\",\"2011-07-01T00:00:00\",\"2011-08-01T00:00:00\",\"2011-09-01T00:00:00\",\"2011-10-01T00:00:00\",\"2011-11-01T00:00:00\",\"2011-12-01T00:00:00\",\"2012-01-01T00:00:00\",\"2012-02-01T00:00:00\",\"2012-03-01T00:00:00\",\"2012-04-01T00:00:00\",\"2012-05-01T00:00:00\",\"2012-06-01T00:00:00\",\"2012-07-01T00:00:00\",\"2012-08-01T00:00:00\",\"2012-09-01T00:00:00\",\"2012-10-01T00:00:00\",\"2012-11-01T00:00:00\",\"2012-12-01T00:00:00\",\"2013-01-01T00:00:00\",\"2013-02-01T00:00:00\",\"2013-03-01T00:00:00\",\"2013-04-01T00:00:00\",\"2013-05-01T00:00:00\",\"2013-06-01T00:00:00\",\"2013-07-01T00:00:00\",\"2013-08-01T00:00:00\",\"2013-09-01T00:00:00\",\"2013-10-01T00:00:00\",\"2013-11-01T00:00:00\",\"2013-12-01T00:00:00\",\"2014-01-01T00:00:00\",\"2014-02-01T00:00:00\",\"2014-03-01T00:00:00\",\"2014-04-01T00:00:00\",\"2014-05-01T00:00:00\",\"2014-06-01T00:00:00\",\"2014-07-01T00:00:00\",\"2014-08-01T00:00:00\",\"2014-09-01T00:00:00\",\"2014-10-01T00:00:00\",\"2014-11-01T00:00:00\",\"2014-12-01T00:00:00\",\"2015-01-01T00:00:00\",\"2015-02-01T00:00:00\",\"2015-03-01T00:00:00\",\"2015-04-01T00:00:00\",\"2015-05-01T00:00:00\",\"2015-06-01T00:00:00\",\"2015-07-01T00:00:00\",\"2015-08-01T00:00:00\",\"2015-09-01T00:00:00\",\"2015-10-01T00:00:00\",\"2015-11-01T00:00:00\",\"2015-12-01T00:00:00\",\"2016-01-01T00:00:00\",\"2016-02-01T00:00:00\",\"2016-03-01T00:00:00\",\"2016-04-01T00:00:00\",\"2016-05-01T00:00:00\",\"2016-06-01T00:00:00\",\"2016-07-01T00:00:00\",\"2016-08-01T00:00:00\",\"2016-09-01T00:00:00\",\"2016-10-01T00:00:00\",\"2016-11-01T00:00:00\",\"2016-12-01T00:00:00\",\"2017-01-01T00:00:00\",\"2017-02-01T00:00:00\",\"2017-03-01T00:00:00\",\"2017-04-01T00:00:00\",\"2017-05-01T00:00:00\",\"2017-06-01T00:00:00\",\"2017-07-01T00:00:00\",\"2017-08-01T00:00:00\",\"2017-09-01T00:00:00\",\"2017-10-01T00:00:00\",\"2017-11-01T00:00:00\",\"2017-12-01T00:00:00\",\"2018-01-01T00:00:00\",\"2018-02-01T00:00:00\",\"2018-03-01T00:00:00\",\"2018-04-01T00:00:00\",\"2018-05-01T00:00:00\",\"2018-06-01T00:00:00\",\"2018-07-01T00:00:00\",\"2018-08-01T00:00:00\",\"2018-09-01T00:00:00\",\"2018-10-01T00:00:00\",\"2018-11-01T00:00:00\",\"2018-12-01T00:00:00\",\"2019-01-01T00:00:00\",\"2019-02-01T00:00:00\",\"2019-03-01T00:00:00\",\"2019-04-01T00:00:00\",\"2019-05-01T00:00:00\",\"2019-06-01T00:00:00\",\"2019-07-01T00:00:00\",\"2019-08-01T00:00:00\",\"2019-09-01T00:00:00\",\"2019-10-01T00:00:00\",\"2019-11-01T00:00:00\",\"2019-12-01T00:00:00\",\"2020-01-01T00:00:00\",\"2020-02-01T00:00:00\",\"2020-03-01T00:00:00\",\"2020-04-01T00:00:00\",\"2020-05-01T00:00:00\",\"2020-06-01T00:00:00\",\"2020-07-01T00:00:00\",\"2020-08-01T00:00:00\",\"2020-09-01T00:00:00\",\"2020-10-01T00:00:00\",\"2020-11-01T00:00:00\",\"2020-12-01T00:00:00\",\"2021-01-01T00:00:00\",\"2021-02-01T00:00:00\",\"2021-03-01T00:00:00\",\"2021-04-01T00:00:00\",\"2021-05-01T00:00:00\",\"2021-06-01T00:00:00\",\"2021-07-01T00:00:00\",\"2021-08-01T00:00:00\",\"2021-09-01T00:00:00\",\"2021-10-01T00:00:00\",\"2021-11-01T00:00:00\",\"2021-12-01T00:00:00\",\"2022-01-01T00:00:00\",\"2022-02-01T00:00:00\",\"2022-03-01T00:00:00\",\"2022-04-01T00:00:00\",\"2022-05-01T00:00:00\",\"2022-06-01T00:00:00\",\"2022-07-01T00:00:00\",\"2022-08-01T00:00:00\",\"2022-09-01T00:00:00\",\"2022-10-01T00:00:00\",\"2022-11-01T00:00:00\",\"2022-12-01T00:00:00\",\"2023-01-01T00:00:00\",\"2023-02-01T00:00:00\"],\"xaxis\":\"x\",\"y\":[9.6,9.6,9.6,9.6,9.6,11.0,11.0,11.0,13.0,11.0,11.0,11.0,11.0,11.0,11.0,11.0,11.0,11.0,11.0,11.0,11.0,11.0,11.0,11.0,11.0,11.0,11.5,11.5,11.55,11.55,11.55,11.6,11.6,11.65,11.65,11.65,11.65,11.65,11.65,11.7,11.8,11.9,11.9,12.0,12.0,12.2,12.2,12.3,12.4,12.4,12.4,11.4,11.4,11.4,11.4,11.4,11.4,11.4,11.4,12.4,12.4,12.4,12.4,12.4,12.4,12.4,12.4,12.4,12.4,12.4,12.4,12.4,12.4,12.4,12.4,12.4,12.4,12.4,13.2,13.2,13.2,13.2,13.2,13.2,13.2,13.2,13.2,13.2,13.2,13.2,13.2,13.2,13.2,13.2,13.2,13.2,13.2,13.2,13.2,13.2,13.2,13.2,13.2,13.2,13.2,13.2,13.2,13.2,13.2,13.2,13.2,13.2,13.2,13.2,13.2,13.2,13.2,13.2,13.2,16.2,16.2,16.2,16.2,19.5,19.5,19.5,19.5,19.5,21.5,24.5,24.5,24.5,24.5,27.5,27.5,27.5,27.5,27.5,27.5,27.5,27.5,16.5,16.5,26.0,26.0,28.0,30.0,30.5,27.5,28.0,28.5,30.0,30.0,30.0,30.0,30.0,30.0,30.0,30.0,30.0,30.0,30.0,31.5,30.5,31.0,32.0,32.0,32.0,32.0,32.0,32.0,32.0,32.0,36.0,44.0,44.0,44.0,44.0,44.0,44.0,44.0,44.0,46.0,50.0,50.0,50.0,50.0,50.0,50.0,50.0,50.0,50.0,50.0,58.0,58.0,61.0,61.0,64.0,64.0,60.0,60.0,60.0,60.0,60.0,60.0,65.0,67.0,71.0,75.0,75.0,75.0,75.0,75.0,75.0,80.0,80.0,80.0,80.0,110.0,110.0,110.0,110.0,110.0,110.0,80.0,70.0,70.0,70.0,70.0,70.0,70.0,70.0,73.0,73.0,73.0,73.0,73.0,73.0,73.0,73.0,73.0,73.0,73.0,73.0,73.0,73.0,73.0,73.0,73.0,73.0,73.0,73.0,73.0,76.0,76.0,76.0,76.0,76.0,76.0,84.0,84.0,84.0,84.0,115.0,115.0,115.0,115.0,115.0,115.0,115.0,115.0,115.0,115.0,115.0,115.0,121.0,121.0,121.0,121.0,121.0,121.0,121.0,121.0,121.0,121.0,121.0,121.0,121.0,121.0,121.0,121.0,121.0,121.0,121.0,118.0,118.0,118.0,111.0,95.0,95.0,95.0,95.0,95.0,95.0,95.0,95.0,95.0,95.0,95.0,95.0,95.0,95.0,95.0,95.0,95.0,95.0,95.0,95.0,95.0,95.0,95.0,95.0,95.0,95.0,95.0,95.0,95.0,95.0,95.0,95.0,95.0,95.0,95.0,95.0,95.0,95.0,95.0,95.0,109.0,109.0,118.0,118.0,123.0,123.0,111.0,101.0,99.0,103.0,104.0,104.0,104.0,104.0,104.0,104.0,104.0,104.0,104.0,104.0,104.0,104.0,104.0,104.0,104.0,104.0,104.0,104.0,104.0,104.0,104.0,104.0,104.0,104.0,104.0,104.0,104.0,111.0,111.0,111.0,111.0,111.0,111.0,121.0,121.0,121.0,176.0,289.0,400.0,460.0,440.0,430.0,430.0,430.0,430.0,420.0,405.0,405.0],\"yaxis\":\"y\",\"type\":\"scatter\"}],                        {\"template\":{\"data\":{\"histogram2dcontour\":[{\"type\":\"histogram2dcontour\",\"colorbar\":{\"outlinewidth\":0,\"ticks\":\"\"},\"colorscale\":[[0.0,\"#0d0887\"],[0.1111111111111111,\"#46039f\"],[0.2222222222222222,\"#7201a8\"],[0.3333333333333333,\"#9c179e\"],[0.4444444444444444,\"#bd3786\"],[0.5555555555555556,\"#d8576b\"],[0.6666666666666666,\"#ed7953\"],[0.7777777777777778,\"#fb9f3a\"],[0.8888888888888888,\"#fdca26\"],[1.0,\"#f0f921\"]]}],\"choropleth\":[{\"type\":\"choropleth\",\"colorbar\":{\"outlinewidth\":0,\"ticks\":\"\"}}],\"histogram2d\":[{\"type\":\"histogram2d\",\"colorbar\":{\"outlinewidth\":0,\"ticks\":\"\"},\"colorscale\":[[0.0,\"#0d0887\"],[0.1111111111111111,\"#46039f\"],[0.2222222222222222,\"#7201a8\"],[0.3333333333333333,\"#9c179e\"],[0.4444444444444444,\"#bd3786\"],[0.5555555555555556,\"#d8576b\"],[0.6666666666666666,\"#ed7953\"],[0.7777777777777778,\"#fb9f3a\"],[0.8888888888888888,\"#fdca26\"],[1.0,\"#f0f921\"]]}],\"heatmap\":[{\"type\":\"heatmap\",\"colorbar\":{\"outlinewidth\":0,\"ticks\":\"\"},\"colorscale\":[[0.0,\"#0d0887\"],[0.1111111111111111,\"#46039f\"],[0.2222222222222222,\"#7201a8\"],[0.3333333333333333,\"#9c179e\"],[0.4444444444444444,\"#bd3786\"],[0.5555555555555556,\"#d8576b\"],[0.6666666666666666,\"#ed7953\"],[0.7777777777777778,\"#fb9f3a\"],[0.8888888888888888,\"#fdca26\"],[1.0,\"#f0f921\"]]}],\"heatmapgl\":[{\"type\":\"heatmapgl\",\"colorbar\":{\"outlinewidth\":0,\"ticks\":\"\"},\"colorscale\":[[0.0,\"#0d0887\"],[0.1111111111111111,\"#46039f\"],[0.2222222222222222,\"#7201a8\"],[0.3333333333333333,\"#9c179e\"],[0.4444444444444444,\"#bd3786\"],[0.5555555555555556,\"#d8576b\"],[0.6666666666666666,\"#ed7953\"],[0.7777777777777778,\"#fb9f3a\"],[0.8888888888888888,\"#fdca26\"],[1.0,\"#f0f921\"]]}],\"contourcarpet\":[{\"type\":\"contourcarpet\",\"colorbar\":{\"outlinewidth\":0,\"ticks\":\"\"}}],\"contour\":[{\"type\":\"contour\",\"colorbar\":{\"outlinewidth\":0,\"ticks\":\"\"},\"colorscale\":[[0.0,\"#0d0887\"],[0.1111111111111111,\"#46039f\"],[0.2222222222222222,\"#7201a8\"],[0.3333333333333333,\"#9c179e\"],[0.4444444444444444,\"#bd3786\"],[0.5555555555555556,\"#d8576b\"],[0.6666666666666666,\"#ed7953\"],[0.7777777777777778,\"#fb9f3a\"],[0.8888888888888888,\"#fdca26\"],[1.0,\"#f0f921\"]]}],\"surface\":[{\"type\":\"surface\",\"colorbar\":{\"outlinewidth\":0,\"ticks\":\"\"},\"colorscale\":[[0.0,\"#0d0887\"],[0.1111111111111111,\"#46039f\"],[0.2222222222222222,\"#7201a8\"],[0.3333333333333333,\"#9c179e\"],[0.4444444444444444,\"#bd3786\"],[0.5555555555555556,\"#d8576b\"],[0.6666666666666666,\"#ed7953\"],[0.7777777777777778,\"#fb9f3a\"],[0.8888888888888888,\"#fdca26\"],[1.0,\"#f0f921\"]]}],\"mesh3d\":[{\"type\":\"mesh3d\",\"colorbar\":{\"outlinewidth\":0,\"ticks\":\"\"}}],\"scatter\":[{\"fillpattern\":{\"fillmode\":\"overlay\",\"size\":10,\"solidity\":0.2},\"type\":\"scatter\"}],\"parcoords\":[{\"type\":\"parcoords\",\"line\":{\"colorbar\":{\"outlinewidth\":0,\"ticks\":\"\"}}}],\"scatterpolargl\":[{\"type\":\"scatterpolargl\",\"marker\":{\"colorbar\":{\"outlinewidth\":0,\"ticks\":\"\"}}}],\"bar\":[{\"error_x\":{\"color\":\"#2a3f5f\"},\"error_y\":{\"color\":\"#2a3f5f\"},\"marker\":{\"line\":{\"color\":\"#E5ECF6\",\"width\":0.5},\"pattern\":{\"fillmode\":\"overlay\",\"size\":10,\"solidity\":0.2}},\"type\":\"bar\"}],\"scattergeo\":[{\"type\":\"scattergeo\",\"marker\":{\"colorbar\":{\"outlinewidth\":0,\"ticks\":\"\"}}}],\"scatterpolar\":[{\"type\":\"scatterpolar\",\"marker\":{\"colorbar\":{\"outlinewidth\":0,\"ticks\":\"\"}}}],\"histogram\":[{\"marker\":{\"pattern\":{\"fillmode\":\"overlay\",\"size\":10,\"solidity\":0.2}},\"type\":\"histogram\"}],\"scattergl\":[{\"type\":\"scattergl\",\"marker\":{\"colorbar\":{\"outlinewidth\":0,\"ticks\":\"\"}}}],\"scatter3d\":[{\"type\":\"scatter3d\",\"line\":{\"colorbar\":{\"outlinewidth\":0,\"ticks\":\"\"}},\"marker\":{\"colorbar\":{\"outlinewidth\":0,\"ticks\":\"\"}}}],\"scattermapbox\":[{\"type\":\"scattermapbox\",\"marker\":{\"colorbar\":{\"outlinewidth\":0,\"ticks\":\"\"}}}],\"scatterternary\":[{\"type\":\"scatterternary\",\"marker\":{\"colorbar\":{\"outlinewidth\":0,\"ticks\":\"\"}}}],\"scattercarpet\":[{\"type\":\"scattercarpet\",\"marker\":{\"colorbar\":{\"outlinewidth\":0,\"ticks\":\"\"}}}],\"carpet\":[{\"aaxis\":{\"endlinecolor\":\"#2a3f5f\",\"gridcolor\":\"white\",\"linecolor\":\"white\",\"minorgridcolor\":\"white\",\"startlinecolor\":\"#2a3f5f\"},\"baxis\":{\"endlinecolor\":\"#2a3f5f\",\"gridcolor\":\"white\",\"linecolor\":\"white\",\"minorgridcolor\":\"white\",\"startlinecolor\":\"#2a3f5f\"},\"type\":\"carpet\"}],\"table\":[{\"cells\":{\"fill\":{\"color\":\"#EBF0F8\"},\"line\":{\"color\":\"white\"}},\"header\":{\"fill\":{\"color\":\"#C8D4E3\"},\"line\":{\"color\":\"white\"}},\"type\":\"table\"}],\"barpolar\":[{\"marker\":{\"line\":{\"color\":\"#E5ECF6\",\"width\":0.5},\"pattern\":{\"fillmode\":\"overlay\",\"size\":10,\"solidity\":0.2}},\"type\":\"barpolar\"}],\"pie\":[{\"automargin\":true,\"type\":\"pie\"}]},\"layout\":{\"autotypenumbers\":\"strict\",\"colorway\":[\"#636efa\",\"#EF553B\",\"#00cc96\",\"#ab63fa\",\"#FFA15A\",\"#19d3f3\",\"#FF6692\",\"#B6E880\",\"#FF97FF\",\"#FECB52\"],\"font\":{\"color\":\"#2a3f5f\"},\"hovermode\":\"closest\",\"hoverlabel\":{\"align\":\"left\"},\"paper_bgcolor\":\"white\",\"plot_bgcolor\":\"#E5ECF6\",\"polar\":{\"bgcolor\":\"#E5ECF6\",\"angularaxis\":{\"gridcolor\":\"white\",\"linecolor\":\"white\",\"ticks\":\"\"},\"radialaxis\":{\"gridcolor\":\"white\",\"linecolor\":\"white\",\"ticks\":\"\"}},\"ternary\":{\"bgcolor\":\"#E5ECF6\",\"aaxis\":{\"gridcolor\":\"white\",\"linecolor\":\"white\",\"ticks\":\"\"},\"baxis\":{\"gridcolor\":\"white\",\"linecolor\":\"white\",\"ticks\":\"\"},\"caxis\":{\"gridcolor\":\"white\",\"linecolor\":\"white\",\"ticks\":\"\"}},\"coloraxis\":{\"colorbar\":{\"outlinewidth\":0,\"ticks\":\"\"}},\"colorscale\":{\"sequential\":[[0.0,\"#0d0887\"],[0.1111111111111111,\"#46039f\"],[0.2222222222222222,\"#7201a8\"],[0.3333333333333333,\"#9c179e\"],[0.4444444444444444,\"#bd3786\"],[0.5555555555555556,\"#d8576b\"],[0.6666666666666666,\"#ed7953\"],[0.7777777777777778,\"#fb9f3a\"],[0.8888888888888888,\"#fdca26\"],[1.0,\"#f0f921\"]],\"sequentialminus\":[[0.0,\"#0d0887\"],[0.1111111111111111,\"#46039f\"],[0.2222222222222222,\"#7201a8\"],[0.3333333333333333,\"#9c179e\"],[0.4444444444444444,\"#bd3786\"],[0.5555555555555556,\"#d8576b\"],[0.6666666666666666,\"#ed7953\"],[0.7777777777777778,\"#fb9f3a\"],[0.8888888888888888,\"#fdca26\"],[1.0,\"#f0f921\"]],\"diverging\":[[0,\"#8e0152\"],[0.1,\"#c51b7d\"],[0.2,\"#de77ae\"],[0.3,\"#f1b6da\"],[0.4,\"#fde0ef\"],[0.5,\"#f7f7f7\"],[0.6,\"#e6f5d0\"],[0.7,\"#b8e186\"],[0.8,\"#7fbc41\"],[0.9,\"#4d9221\"],[1,\"#276419\"]]},\"xaxis\":{\"gridcolor\":\"white\",\"linecolor\":\"white\",\"ticks\":\"\",\"title\":{\"standoff\":15},\"zerolinecolor\":\"white\",\"automargin\":true,\"zerolinewidth\":2},\"yaxis\":{\"gridcolor\":\"white\",\"linecolor\":\"white\",\"ticks\":\"\",\"title\":{\"standoff\":15},\"zerolinecolor\":\"white\",\"automargin\":true,\"zerolinewidth\":2},\"scene\":{\"xaxis\":{\"backgroundcolor\":\"#E5ECF6\",\"gridcolor\":\"white\",\"linecolor\":\"white\",\"showbackground\":true,\"ticks\":\"\",\"zerolinecolor\":\"white\",\"gridwidth\":2},\"yaxis\":{\"backgroundcolor\":\"#E5ECF6\",\"gridcolor\":\"white\",\"linecolor\":\"white\",\"showbackground\":true,\"ticks\":\"\",\"zerolinecolor\":\"white\",\"gridwidth\":2},\"zaxis\":{\"backgroundcolor\":\"#E5ECF6\",\"gridcolor\":\"white\",\"linecolor\":\"white\",\"showbackground\":true,\"ticks\":\"\",\"zerolinecolor\":\"white\",\"gridwidth\":2}},\"shapedefaults\":{\"line\":{\"color\":\"#2a3f5f\"}},\"annotationdefaults\":{\"arrowcolor\":\"#2a3f5f\",\"arrowhead\":0,\"arrowwidth\":1},\"geo\":{\"bgcolor\":\"white\",\"landcolor\":\"#E5ECF6\",\"subunitcolor\":\"white\",\"showland\":true,\"showlakes\":true,\"lakecolor\":\"white\"},\"title\":{\"x\":0.05},\"mapbox\":{\"style\":\"light\"}}},\"xaxis\":{\"anchor\":\"y\",\"domain\":[0.0,1.0],\"title\":{\"text\":\"Date\"}},\"yaxis\":{\"anchor\":\"x\",\"domain\":[0.0,1.0],\"title\":{\"text\":\"Fuel_Price\"}},\"legend\":{\"tracegroupgap\":0},\"title\":{\"text\":\"Fuel Prices (CEYPETCO)\"}},                        {\"responsive\": true}                    ).then(function(){\n                            \nvar gd = document.getElementById('dc7926e2-b4f8-4a1a-90a9-0f1a0c9ab126');\nvar x = new MutationObserver(function (mutations, observer) {{\n        var display = window.getComputedStyle(gd).display;\n        if (!display || display === 'none') {{\n            console.log([gd, 'removed!']);\n            Plotly.purge(gd);\n            observer.disconnect();\n        }}\n}});\n\n// Listen for the removal of the full notebook cells\nvar notebookContainer = gd.closest('#notebook-container');\nif (notebookContainer) {{\n    x.observe(notebookContainer, {childList: true});\n}}\n\n// Listen for the clearing of the current output cell\nvar outputEl = gd.closest('.output');\nif (outputEl) {{\n    x.observe(outputEl, {childList: true});\n}}\n\n                        })                };                });            </script>        </div>"
     },
     "metadata": {},
     "output_type": "display_data"
    }
   ],
   "source": [
    "fig = px.line(fuel_prices, x='Date', y='Fuel_Price', title='Fuel Prices (CEYPETCO)')\n",
    "fig.show()"
   ],
   "metadata": {
    "collapsed": false
   }
  },
  {
   "cell_type": "code",
   "source": [
    "df.reset_index(drop=False, inplace=True)\n",
    "df.drop(['Year','Month', 'Missing_Values_Retail', 'Missing_Values_Producer'], axis=1, inplace=True)\n",
    "df.to_csv('dataset/processed_data.csv',index=False)"
   ],
   "metadata": {
    "execution": {
     "iopub.status.busy": "2023-02-22T15:01:06.891802Z",
     "iopub.execute_input": "2023-02-22T15:01:06.892154Z",
     "iopub.status.idle": "2023-02-22T15:01:06.906468Z",
     "shell.execute_reply.started": "2023-02-22T15:01:06.892124Z",
     "shell.execute_reply": "2023-02-22T15:01:06.905365Z"
    },
    "trusted": true
   },
   "execution_count": 245,
   "outputs": []
  }
 ]
}
