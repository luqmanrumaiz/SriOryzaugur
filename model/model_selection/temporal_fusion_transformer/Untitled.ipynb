{
 "cells": [
  {
   "cell_type": "code",
   "execution_count": 1,
   "id": "48666a6b",
   "metadata": {
    "scrolled": true
   },
   "outputs": [
    {
     "data": {
      "text/html": [
       "<div>\n",
       "<style scoped>\n",
       "    .dataframe tbody tr th:only-of-type {\n",
       "        vertical-align: middle;\n",
       "    }\n",
       "\n",
       "    .dataframe tbody tr th {\n",
       "        vertical-align: top;\n",
       "    }\n",
       "\n",
       "    .dataframe thead th {\n",
       "        text-align: right;\n",
       "    }\n",
       "</style>\n",
       "<table border=\"1\" class=\"dataframe\">\n",
       "  <thead>\n",
       "    <tr style=\"text-align: right;\">\n",
       "      <th></th>\n",
       "      <th>date</th>\n",
       "      <th>price</th>\n",
       "      <th>anuradhapura_producer_price</th>\n",
       "      <th>kurunegala_producer_price</th>\n",
       "      <th>polonnaruwa_producer_price</th>\n",
       "      <th>production</th>\n",
       "      <th>production_total</th>\n",
       "      <th>exchange_rate</th>\n",
       "      <th>fuel_price</th>\n",
       "      <th>m0</th>\n",
       "      <th>m2</th>\n",
       "      <th>m1</th>\n",
       "      <th>m2b</th>\n",
       "    </tr>\n",
       "  </thead>\n",
       "  <tbody>\n",
       "    <tr>\n",
       "      <th>0</th>\n",
       "      <td>1996-01-01</td>\n",
       "      <td>18.07</td>\n",
       "      <td>7.75</td>\n",
       "      <td>7.900</td>\n",
       "      <td>8.18</td>\n",
       "      <td>1333.600</td>\n",
       "      <td>2065.100</td>\n",
       "      <td>53.685</td>\n",
       "      <td>12.4</td>\n",
       "      <td>77071</td>\n",
       "      <td>228090</td>\n",
       "      <td>73783</td>\n",
       "      <td>260481</td>\n",
       "    </tr>\n",
       "    <tr>\n",
       "      <th>1</th>\n",
       "      <td>1996-02-01</td>\n",
       "      <td>18.70</td>\n",
       "      <td>8.17</td>\n",
       "      <td>8.260</td>\n",
       "      <td>8.76</td>\n",
       "      <td>1333.600</td>\n",
       "      <td>2065.100</td>\n",
       "      <td>53.685</td>\n",
       "      <td>12.4</td>\n",
       "      <td>79586</td>\n",
       "      <td>234199</td>\n",
       "      <td>77440</td>\n",
       "      <td>269496</td>\n",
       "    </tr>\n",
       "    <tr>\n",
       "      <th>2</th>\n",
       "      <td>1996-03-01</td>\n",
       "      <td>18.49</td>\n",
       "      <td>7.95</td>\n",
       "      <td>7.850</td>\n",
       "      <td>7.99</td>\n",
       "      <td>1333.600</td>\n",
       "      <td>2065.100</td>\n",
       "      <td>53.685</td>\n",
       "      <td>12.4</td>\n",
       "      <td>82915</td>\n",
       "      <td>239178</td>\n",
       "      <td>81796</td>\n",
       "      <td>272552</td>\n",
       "    </tr>\n",
       "    <tr>\n",
       "      <th>3</th>\n",
       "      <td>1996-04-01</td>\n",
       "      <td>18.52</td>\n",
       "      <td>8.25</td>\n",
       "      <td>8.010</td>\n",
       "      <td>8.29</td>\n",
       "      <td>1333.600</td>\n",
       "      <td>2065.100</td>\n",
       "      <td>54.735</td>\n",
       "      <td>12.4</td>\n",
       "      <td>80873</td>\n",
       "      <td>241893</td>\n",
       "      <td>79478</td>\n",
       "      <td>278425</td>\n",
       "    </tr>\n",
       "    <tr>\n",
       "      <th>4</th>\n",
       "      <td>1996-05-01</td>\n",
       "      <td>19.02</td>\n",
       "      <td>8.38</td>\n",
       "      <td>8.500</td>\n",
       "      <td>8.34</td>\n",
       "      <td>731.500</td>\n",
       "      <td>2065.100</td>\n",
       "      <td>54.950</td>\n",
       "      <td>12.4</td>\n",
       "      <td>83410</td>\n",
       "      <td>242072</td>\n",
       "      <td>76620</td>\n",
       "      <td>277365</td>\n",
       "    </tr>\n",
       "    <tr>\n",
       "      <th>...</th>\n",
       "      <td>...</td>\n",
       "      <td>...</td>\n",
       "      <td>...</td>\n",
       "      <td>...</td>\n",
       "      <td>...</td>\n",
       "      <td>...</td>\n",
       "      <td>...</td>\n",
       "      <td>...</td>\n",
       "      <td>...</td>\n",
       "      <td>...</td>\n",
       "      <td>...</td>\n",
       "      <td>...</td>\n",
       "      <td>...</td>\n",
       "    </tr>\n",
       "    <tr>\n",
       "      <th>319</th>\n",
       "      <td>2022-08-01</td>\n",
       "      <td>239.24</td>\n",
       "      <td>112.60</td>\n",
       "      <td>113.863</td>\n",
       "      <td>122.93</td>\n",
       "      <td>1461.675</td>\n",
       "      <td>3392.875</td>\n",
       "      <td>357.880</td>\n",
       "      <td>430.0</td>\n",
       "      <td>1386248</td>\n",
       "      <td>10285938</td>\n",
       "      <td>1534114</td>\n",
       "      <td>11986911</td>\n",
       "    </tr>\n",
       "    <tr>\n",
       "      <th>320</th>\n",
       "      <td>2022-09-01</td>\n",
       "      <td>228.44</td>\n",
       "      <td>110.50</td>\n",
       "      <td>108.008</td>\n",
       "      <td>117.00</td>\n",
       "      <td>1461.675</td>\n",
       "      <td>3392.875</td>\n",
       "      <td>365.500</td>\n",
       "      <td>430.0</td>\n",
       "      <td>1378579</td>\n",
       "      <td>10351444</td>\n",
       "      <td>1528595</td>\n",
       "      <td>12051480</td>\n",
       "    </tr>\n",
       "    <tr>\n",
       "      <th>321</th>\n",
       "      <td>2022-10-01</td>\n",
       "      <td>224.78</td>\n",
       "      <td>105.48</td>\n",
       "      <td>106.740</td>\n",
       "      <td>109.50</td>\n",
       "      <td>1931.200</td>\n",
       "      <td>3392.875</td>\n",
       "      <td>363.000</td>\n",
       "      <td>430.0</td>\n",
       "      <td>1341681</td>\n",
       "      <td>10338384</td>\n",
       "      <td>1456688</td>\n",
       "      <td>12045719</td>\n",
       "    </tr>\n",
       "    <tr>\n",
       "      <th>322</th>\n",
       "      <td>2022-11-01</td>\n",
       "      <td>222.28</td>\n",
       "      <td>98.40</td>\n",
       "      <td>101.900</td>\n",
       "      <td>103.48</td>\n",
       "      <td>1931.200</td>\n",
       "      <td>3392.875</td>\n",
       "      <td>368.500</td>\n",
       "      <td>430.0</td>\n",
       "      <td>1318493</td>\n",
       "      <td>10416961</td>\n",
       "      <td>1457977</td>\n",
       "      <td>12162934</td>\n",
       "    </tr>\n",
       "    <tr>\n",
       "      <th>323</th>\n",
       "      <td>2022-12-01</td>\n",
       "      <td>218.20</td>\n",
       "      <td>98.15</td>\n",
       "      <td>101.440</td>\n",
       "      <td>102.53</td>\n",
       "      <td>1931.200</td>\n",
       "      <td>3392.875</td>\n",
       "      <td>367.500</td>\n",
       "      <td>420.0</td>\n",
       "      <td>1349389</td>\n",
       "      <td>10497052</td>\n",
       "      <td>1453597</td>\n",
       "      <td>12289637</td>\n",
       "    </tr>\n",
       "  </tbody>\n",
       "</table>\n",
       "<p>324 rows × 13 columns</p>\n",
       "</div>"
      ],
      "text/plain": [
       "           date   price  anuradhapura_producer_price  \\\n",
       "0    1996-01-01   18.07                         7.75   \n",
       "1    1996-02-01   18.70                         8.17   \n",
       "2    1996-03-01   18.49                         7.95   \n",
       "3    1996-04-01   18.52                         8.25   \n",
       "4    1996-05-01   19.02                         8.38   \n",
       "..          ...     ...                          ...   \n",
       "319  2022-08-01  239.24                       112.60   \n",
       "320  2022-09-01  228.44                       110.50   \n",
       "321  2022-10-01  224.78                       105.48   \n",
       "322  2022-11-01  222.28                        98.40   \n",
       "323  2022-12-01  218.20                        98.15   \n",
       "\n",
       "     kurunegala_producer_price  polonnaruwa_producer_price  production  \\\n",
       "0                        7.900                        8.18    1333.600   \n",
       "1                        8.260                        8.76    1333.600   \n",
       "2                        7.850                        7.99    1333.600   \n",
       "3                        8.010                        8.29    1333.600   \n",
       "4                        8.500                        8.34     731.500   \n",
       "..                         ...                         ...         ...   \n",
       "319                    113.863                      122.93    1461.675   \n",
       "320                    108.008                      117.00    1461.675   \n",
       "321                    106.740                      109.50    1931.200   \n",
       "322                    101.900                      103.48    1931.200   \n",
       "323                    101.440                      102.53    1931.200   \n",
       "\n",
       "     production_total  exchange_rate  fuel_price       m0        m2       m1  \\\n",
       "0            2065.100         53.685        12.4    77071    228090    73783   \n",
       "1            2065.100         53.685        12.4    79586    234199    77440   \n",
       "2            2065.100         53.685        12.4    82915    239178    81796   \n",
       "3            2065.100         54.735        12.4    80873    241893    79478   \n",
       "4            2065.100         54.950        12.4    83410    242072    76620   \n",
       "..                ...            ...         ...      ...       ...      ...   \n",
       "319          3392.875        357.880       430.0  1386248  10285938  1534114   \n",
       "320          3392.875        365.500       430.0  1378579  10351444  1528595   \n",
       "321          3392.875        363.000       430.0  1341681  10338384  1456688   \n",
       "322          3392.875        368.500       430.0  1318493  10416961  1457977   \n",
       "323          3392.875        367.500       420.0  1349389  10497052  1453597   \n",
       "\n",
       "          m2b  \n",
       "0      260481  \n",
       "1      269496  \n",
       "2      272552  \n",
       "3      278425  \n",
       "4      277365  \n",
       "..        ...  \n",
       "319  11986911  \n",
       "320  12051480  \n",
       "321  12045719  \n",
       "322  12162934  \n",
       "323  12289637  \n",
       "\n",
       "[324 rows x 13 columns]"
      ]
     },
     "execution_count": 1,
     "metadata": {},
     "output_type": "execute_result"
    }
   ],
   "source": [
    "import pandas as pd\n",
    "import warnings\n",
    "warnings.filterwarnings(\"ignore\")\n",
    "\n",
    "data = pd.read_csv('../../dataset/final/imputed_processed_data.csv')\n",
    "data"
   ]
  },
  {
   "cell_type": "code",
   "execution_count": 2,
   "id": "a857a8b0",
   "metadata": {},
   "outputs": [],
   "source": [
    "# # Standardize time series data\n",
    "# from pandas import read_csv\n",
    "# from sklearn.preprocessing import StandardScaler\n",
    "# from math import sqrt\n",
    "\n",
    "# # load the dataset and print the first 5 rows\n",
    "# series = read_csv('daily-minimum-temperatures-in-me.csv', header=0, index_col=0)\n",
    "# print(series.head())\n",
    "\n",
    "# # prepare data for standardization\n",
    "# values = series.values\n",
    "# values = values.reshape((len(values), 1))\n",
    "# # train the standardization\n",
    "# scaler = StandardScaler()\n",
    "# scaler = scaler.fit(values)\n",
    "# print('Mean: %f, StandardDeviation: %f' % (scaler.mean_, sqrt(scaler.var_)))\n",
    "# # standardization the dataset and print the first 5 rows\n",
    "# normalized = scaler.transform(values)\n",
    "# for i in range(5):\n",
    "#  print(normalized[i])\n",
    "# # inverse transform and print the first 5 rows\n",
    "# inversed = scaler.inverse_transform(normalized)\n",
    "# for i in range(5):\n",
    "#  print(inversed[i])"
   ]
  },
  {
   "cell_type": "code",
   "execution_count": 3,
   "id": "2eede6f4",
   "metadata": {
    "scrolled": true
   },
   "outputs": [],
   "source": [
    "from temporal_fusion_transformer import TFT\n",
    "\n",
    "tft_model = TFT(data)"
   ]
  },
  {
   "cell_type": "code",
   "execution_count": 4,
   "id": "1470bc91",
   "metadata": {},
   "outputs": [],
   "source": [
    "def classify_yaha_mala(row):\n",
    "    month = row['month']\n",
    "    \n",
    "    if month >= 10 or month <= 4:\n",
    "        return 'maha'\n",
    "    else:\n",
    "        return 'yala'"
   ]
  },
  {
   "cell_type": "code",
   "execution_count": 5,
   "id": "9e639fda",
   "metadata": {},
   "outputs": [],
   "source": [
    "tft_model.preprocess_data(['price', 'exchange_rate'], classify_yaha_mala)"
   ]
  },
  {
   "cell_type": "code",
   "execution_count": 6,
   "id": "137ca1bf",
   "metadata": {},
   "outputs": [],
   "source": [
    "tft_model.create_ts_dataset()\n",
    "tft_model.create_dataloaders()"
   ]
  },
  {
   "cell_type": "code",
   "execution_count": 7,
   "id": "36de29db",
   "metadata": {},
   "outputs": [
    {
     "name": "stderr",
     "output_type": "stream",
     "text": [
      "\u001b[32m[I 2023-04-30 19:29:01,344]\u001b[0m A new study created in memory with name: no-name-7c798c30-0c18-47e0-85cc-f86fcd472278\u001b[0m\n",
      "GPU available: False, used: False\n",
      "TPU available: False, using: 0 TPU cores\n",
      "IPU available: False, using: 0 IPUs\n",
      "HPU available: False, using: 0 HPUs\n",
      "`Trainer.fit` stopped: `max_epochs=3` reached.\n",
      "\u001b[32m[I 2023-04-30 19:29:11,089]\u001b[0m Trial 0 finished with value: 555722.625 and parameters: {'gradient_clip_val': 0.046478377430364065, 'hidden_size': 11, 'dropout': 0.17404616821650415, 'hidden_continuous_size': 10, 'attention_head_size': 1, 'learning_rate': 0.0019526740597429282}. Best is trial 0 with value: 555722.625.\u001b[0m\n",
      "GPU available: False, used: False\n",
      "TPU available: False, using: 0 TPU cores\n",
      "IPU available: False, using: 0 IPUs\n",
      "HPU available: False, using: 0 HPUs\n",
      "`Trainer.fit` stopped: `max_epochs=3` reached.\n",
      "\u001b[32m[I 2023-04-30 19:30:06,076]\u001b[0m Trial 1 finished with value: 503002.5 and parameters: {'gradient_clip_val': 0.6167000159290529, 'hidden_size': 88, 'dropout': 0.12268131340181626, 'hidden_continuous_size': 51, 'attention_head_size': 2, 'learning_rate': 0.004730040432055255}. Best is trial 1 with value: 503002.5.\u001b[0m\n"
     ]
    }
   ],
   "source": [
    "tft_model.optimize_hyperparameters(n_trials=2, max_epochs=3, use_learning_rate_finder=False)"
   ]
  },
  {
   "cell_type": "code",
   "execution_count": 8,
   "id": "b6b16aa4",
   "metadata": {
    "scrolled": true
   },
   "outputs": [
    {
     "name": "stderr",
     "output_type": "stream",
     "text": [
      "GPU available: False, used: False\n",
      "TPU available: False, using: 0 TPU cores\n",
      "IPU available: False, using: 0 IPUs\n",
      "HPU available: False, using: 0 HPUs\n"
     ]
    },
    {
     "name": "stdout",
     "output_type": "stream",
     "text": [
      "Number of parameters in network: 580.4k\n"
     ]
    }
   ],
   "source": [
    "from pytorch_forecasting.metrics import ImplicitQuantileNetworkDistributionLoss\n",
    "\n",
    "tft_model.configure_network_and_trainer(loss=ImplicitQuantileNetworkDistributionLoss(), max_epochs=5)"
   ]
  },
  {
   "cell_type": "code",
   "execution_count": 9,
   "id": "3491c73e",
   "metadata": {},
   "outputs": [
    {
     "name": "stderr",
     "output_type": "stream",
     "text": [
      "\n",
      "   | Name                               | Type                                    | Params\n",
      "------------------------------------------------------------------------------------------------\n",
      "0  | loss                               | ImplicitQuantileNetworkDistributionLoss | 1.9 K \n",
      "1  | logging_metrics                    | ModuleList                              | 0     \n",
      "2  | input_embeddings                   | MultiEmbedding                          | 4     \n",
      "3  | prescalers                         | ModuleDict                              | 816   \n",
      "4  | static_variable_selection          | VariableSelectionNetwork                | 46.4 K\n",
      "5  | encoder_variable_selection         | VariableSelectionNetwork                | 76.8 K\n",
      "6  | decoder_variable_selection         | VariableSelectionNetwork                | 61.2 K\n",
      "7  | static_context_variable_selection  | GatedResidualNetwork                    | 31.5 K\n",
      "8  | static_context_initial_hidden_lstm | GatedResidualNetwork                    | 31.5 K\n",
      "9  | static_context_initial_cell_lstm   | GatedResidualNetwork                    | 31.5 K\n",
      "10 | static_context_enrichment          | GatedResidualNetwork                    | 31.5 K\n",
      "11 | lstm_encoder                       | LSTM                                    | 62.7 K\n",
      "12 | lstm_decoder                       | LSTM                                    | 62.7 K\n",
      "13 | post_lstm_gate_encoder             | GatedLinearUnit                         | 15.7 K\n",
      "14 | post_lstm_add_norm_encoder         | AddNorm                                 | 176   \n",
      "15 | static_enrichment                  | GatedResidualNetwork                    | 39.2 K\n",
      "16 | multihead_attn                     | InterpretableMultiHeadAttention         | 23.5 K\n",
      "17 | post_attn_gate_norm                | GateAddNorm                             | 15.8 K\n",
      "18 | pos_wise_ff                        | GatedResidualNetwork                    | 31.5 K\n",
      "19 | pre_output_gate_norm               | GateAddNorm                             | 15.8 K\n",
      "20 | output_layer                       | Linear                                  | 1.4 K \n",
      "------------------------------------------------------------------------------------------------\n",
      "580 K     Trainable params\n",
      "0         Non-trainable params\n",
      "580 K     Total params\n",
      "2.322     Total estimated model params size (MB)\n"
     ]
    },
    {
     "data": {
      "application/vnd.jupyter.widget-view+json": {
       "model_id": "",
       "version_major": 2,
       "version_minor": 0
      },
      "text/plain": [
       "Sanity Checking: 0it [00:00, ?it/s]"
      ]
     },
     "metadata": {},
     "output_type": "display_data"
    },
    {
     "data": {
      "application/vnd.jupyter.widget-view+json": {
       "model_id": "d7a183da8f424971ae02acb78553cfa4",
       "version_major": 2,
       "version_minor": 0
      },
      "text/plain": [
       "Training: 0it [00:00, ?it/s]"
      ]
     },
     "metadata": {},
     "output_type": "display_data"
    },
    {
     "data": {
      "application/vnd.jupyter.widget-view+json": {
       "model_id": "",
       "version_major": 2,
       "version_minor": 0
      },
      "text/plain": [
       "Validation: 0it [00:00, ?it/s]"
      ]
     },
     "metadata": {},
     "output_type": "display_data"
    },
    {
     "data": {
      "application/vnd.jupyter.widget-view+json": {
       "model_id": "",
       "version_major": 2,
       "version_minor": 0
      },
      "text/plain": [
       "Validation: 0it [00:00, ?it/s]"
      ]
     },
     "metadata": {},
     "output_type": "display_data"
    },
    {
     "data": {
      "application/vnd.jupyter.widget-view+json": {
       "model_id": "",
       "version_major": 2,
       "version_minor": 0
      },
      "text/plain": [
       "Validation: 0it [00:00, ?it/s]"
      ]
     },
     "metadata": {},
     "output_type": "display_data"
    },
    {
     "data": {
      "application/vnd.jupyter.widget-view+json": {
       "model_id": "",
       "version_major": 2,
       "version_minor": 0
      },
      "text/plain": [
       "Validation: 0it [00:00, ?it/s]"
      ]
     },
     "metadata": {},
     "output_type": "display_data"
    },
    {
     "data": {
      "application/vnd.jupyter.widget-view+json": {
       "model_id": "",
       "version_major": 2,
       "version_minor": 0
      },
      "text/plain": [
       "Validation: 0it [00:00, ?it/s]"
      ]
     },
     "metadata": {},
     "output_type": "display_data"
    },
    {
     "name": "stderr",
     "output_type": "stream",
     "text": [
      "`Trainer.fit` stopped: `max_epochs=5` reached.\n"
     ]
    }
   ],
   "source": [
    "tft_model.fit_network()"
   ]
  },
  {
   "cell_type": "code",
   "execution_count": 10,
   "id": "425d735a",
   "metadata": {},
   "outputs": [
    {
     "ename": "AttributeError",
     "evalue": "'DataLoader' object has no attribute 'target_scale'",
     "output_type": "error",
     "traceback": [
      "\u001b[1;31m---------------------------------------------------------------------------\u001b[0m",
      "\u001b[1;31mAttributeError\u001b[0m                            Traceback (most recent call last)",
      "Cell \u001b[1;32mIn[10], line 1\u001b[0m\n\u001b[1;32m----> 1\u001b[0m forecasts, metrics \u001b[38;5;241m=\u001b[39m \u001b[43mtft_model\u001b[49m\u001b[38;5;241;43m.\u001b[39;49m\u001b[43mevaluate\u001b[49m\u001b[43m(\u001b[49m\u001b[43m)\u001b[49m\n\u001b[0;32m      2\u001b[0m forecast\n",
      "File \u001b[1;32m~\\Documents\\Sri-Oryzaugur\\model\\model_selection\\temporal_fusion_transformer\\temporal_fusion_transformer.py:184\u001b[0m, in \u001b[0;36mTFT.evaluate\u001b[1;34m(self)\u001b[0m\n\u001b[0;32m    175\u001b[0m \u001b[38;5;28mself\u001b[39m\u001b[38;5;241m.\u001b[39mforecasts \u001b[38;5;241m=\u001b[39m \u001b[38;5;28mself\u001b[39m\u001b[38;5;241m.\u001b[39mtft\u001b[38;5;241m.\u001b[39mpredict(\u001b[38;5;28mself\u001b[39m\u001b[38;5;241m.\u001b[39mval_dataloader, return_x\u001b[38;5;241m=\u001b[39m\u001b[38;5;28;01mTrue\u001b[39;00m, return_y\u001b[38;5;241m=\u001b[39m\u001b[38;5;28;01mTrue\u001b[39;00m, trainer_kwargs\u001b[38;5;241m=\u001b[39m\u001b[38;5;28mdict\u001b[39m(accelerator\u001b[38;5;241m=\u001b[39m\u001b[38;5;124m\"\u001b[39m\u001b[38;5;124mcpu\u001b[39m\u001b[38;5;124m\"\u001b[39m))\n\u001b[0;32m    177\u001b[0m metrics \u001b[38;5;241m=\u001b[39m {\n\u001b[0;32m    178\u001b[0m     \u001b[38;5;124m'\u001b[39m\u001b[38;5;124mMAE\u001b[39m\u001b[38;5;124m'\u001b[39m: MAE()(\u001b[38;5;28mself\u001b[39m\u001b[38;5;241m.\u001b[39mforecasts\u001b[38;5;241m.\u001b[39moutput, \u001b[38;5;28mself\u001b[39m\u001b[38;5;241m.\u001b[39mforecasts\u001b[38;5;241m.\u001b[39my),\n\u001b[0;32m    179\u001b[0m     \u001b[38;5;124m'\u001b[39m\u001b[38;5;124mMAPE\u001b[39m\u001b[38;5;124m'\u001b[39m: MAPE()(\u001b[38;5;28mself\u001b[39m\u001b[38;5;241m.\u001b[39mforecasts\u001b[38;5;241m.\u001b[39moutput, \u001b[38;5;28mself\u001b[39m\u001b[38;5;241m.\u001b[39mforecasts\u001b[38;5;241m.\u001b[39my),\n\u001b[0;32m    180\u001b[0m     \u001b[38;5;124m'\u001b[39m\u001b[38;5;124mSMAPE\u001b[39m\u001b[38;5;124m'\u001b[39m: SMAPE()(\u001b[38;5;28mself\u001b[39m\u001b[38;5;241m.\u001b[39mforecasts\u001b[38;5;241m.\u001b[39moutput, \u001b[38;5;28mself\u001b[39m\u001b[38;5;241m.\u001b[39mforecasts\u001b[38;5;241m.\u001b[39my),\n\u001b[0;32m    181\u001b[0m     \u001b[38;5;124m'\u001b[39m\u001b[38;5;124mRMSE\u001b[39m\u001b[38;5;124m'\u001b[39m: RMSE()(\u001b[38;5;28mself\u001b[39m\u001b[38;5;241m.\u001b[39mforecasts\u001b[38;5;241m.\u001b[39moutput, \u001b[38;5;28mself\u001b[39m\u001b[38;5;241m.\u001b[39mforecasts\u001b[38;5;241m.\u001b[39my)\n\u001b[0;32m    182\u001b[0m }\n\u001b[1;32m--> 184\u001b[0m target_scale \u001b[38;5;241m=\u001b[39m \u001b[38;5;28;43mself\u001b[39;49m\u001b[38;5;241;43m.\u001b[39;49m\u001b[43mval_dataloader\u001b[49m\u001b[38;5;241;43m.\u001b[39;49m\u001b[43mtarget_scale\u001b[49m\n\u001b[0;32m    185\u001b[0m normalized_predictions, y_normalized \u001b[38;5;241m=\u001b[39m \u001b[38;5;28mself\u001b[39m\u001b[38;5;241m.\u001b[39mtft\u001b[38;5;241m.\u001b[39mpredict(\u001b[38;5;28mself\u001b[39m\u001b[38;5;241m.\u001b[39mval_dataloader)\n\u001b[0;32m    186\u001b[0m group_normalizer \u001b[38;5;241m=\u001b[39m \u001b[38;5;28mself\u001b[39m\u001b[38;5;241m.\u001b[39mtraining\u001b[38;5;241m.\u001b[39mtarget_normalizer\n",
      "\u001b[1;31mAttributeError\u001b[0m: 'DataLoader' object has no attribute 'target_scale'"
     ]
    }
   ],
   "source": [
    "forecasts, metrics = tft_model.evaluate()\n",
    "forecast"
   ]
  },
  {
   "cell_type": "code",
   "execution_count": null,
   "id": "cb87b14a",
   "metadata": {},
   "outputs": [],
   "source": [
    "from pytorch_forecasting.data import GroupNormalizer, NaNLabelEncoder\n",
    "\n",
    " group_normalizer.inverse_transform(normalized_predictions, val_dataloader.X)"
   ]
  },
  {
   "cell_type": "code",
   "execution_count": null,
   "id": "e05fa1c0",
   "metadata": {},
   "outputs": [],
   "source": [
    "metrics"
   ]
  },
  {
   "cell_type": "code",
   "execution_count": null,
   "id": "b629b236",
   "metadata": {},
   "outputs": [],
   "source": [
    "tft_model.plot_forecasts()"
   ]
  },
  {
   "cell_type": "code",
   "execution_count": null,
   "id": "432c448c",
   "metadata": {},
   "outputs": [],
   "source": []
  }
 ],
 "metadata": {
  "kernelspec": {
   "display_name": "Python 3 (ipykernel)",
   "language": "python",
   "name": "python3"
  },
  "language_info": {
   "codemirror_mode": {
    "name": "ipython",
    "version": 3
   },
   "file_extension": ".py",
   "mimetype": "text/x-python",
   "name": "python",
   "nbconvert_exporter": "python",
   "pygments_lexer": "ipython3",
   "version": "3.10.9"
  }
 },
 "nbformat": 4,
 "nbformat_minor": 5
}
